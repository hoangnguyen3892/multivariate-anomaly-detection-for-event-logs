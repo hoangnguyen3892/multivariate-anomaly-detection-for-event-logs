{
 "cells": [
  {
   "cell_type": "code",
   "execution_count": 1,
   "metadata": {
    "collapsed": true
   },
   "outputs": [],
   "source": [
    "import os, sys\n",
    "import argparse\n",
    "import pandas as pd\n",
    "import numpy as np\n",
    "import pickle"
   ]
  },
  {
   "cell_type": "code",
   "execution_count": 2,
   "metadata": {
    "collapsed": true
   },
   "outputs": [],
   "source": [
    "from dateutil.parser import parse\n",
    "from datetime import datetime\n",
    "import time\n",
    "import matplotlib.pyplot as plt\n",
    "import seaborn as sns\n",
    "\n",
    "%matplotlib inline\n",
    "pd.options.mode.chained_assignment = None #to run loop quicker without warnings"
   ]
  },
  {
   "cell_type": "code",
   "execution_count": 3,
   "metadata": {
    "collapsed": true
   },
   "outputs": [],
   "source": [
    "#name = 'bpi_2012'\n",
    "name = 'bpi_2013'\n",
    "#name = 'helpdesk'\n",
    "args = {\n",
    "    'data_dir': '../data/',\n",
    "    'data_file': name + '.csv',\n",
    "    'input_dir': '../input/{}/'.format(name),  \n",
    "    'train_pct': 0.6,\n",
    "    'val_pct': 0.2,\n",
    "    'anomaly_pct': 0.1,\n",
    "    'scaler': 'standardization',\n",
    "}\n",
    "\n",
    "args = argparse.Namespace(**args)"
   ]
  },
  {
   "cell_type": "code",
   "execution_count": 4,
   "metadata": {
    "collapsed": true
   },
   "outputs": [],
   "source": [
    "if not os.path.isdir('../input/'):\n",
    "    os.makedirs('../input/')\n",
    "    \n",
    "if not os.path.isdir(args.input_dir):\n",
    "    os.makedirs(args.input_dir)"
   ]
  },
  {
   "cell_type": "code",
   "execution_count": 5,
   "metadata": {
    "collapsed": true
   },
   "outputs": [],
   "source": [
    "sys.path.insert(0, './../utils/')\n",
    "from utils import *"
   ]
  },
  {
   "cell_type": "code",
   "execution_count": 6,
   "metadata": {
    "collapsed": false
   },
   "outputs": [],
   "source": [
    "preprocessed_data_name = os.path.join(args.input_dir, 'preprocessed_data_{}.pkl'.format(args.anomaly_pct))\n",
    "with open(preprocessed_data_name, 'rb') as f:\n",
    "    input_train = pickle.load(f)\n",
    "    input_val = pickle.load(f)\n",
    "    input_test = pickle.load(f)\n",
    "    pad_index_train = pickle.load(f)\n",
    "    pad_index_val = pickle.load(f)\n",
    "    pad_index_test = pickle.load(f)\n",
    "    activity_label_train = pickle.load(f)\n",
    "    activity_label_val = pickle.load(f)\n",
    "    activity_label_test = pickle.load(f)\n",
    "    time_label_train = pickle.load(f)\n",
    "    time_label_val = pickle.load(f)\n",
    "    time_label_test = pickle.load(f)\n",
    "    train_case_num = pickle.load(f)\n",
    "    val_case_num = pickle.load(f)\n",
    "    test_case_num = pickle.load(f)\n",
    "    train_row_num = pickle.load(f)\n",
    "    val_row_num = pickle.load(f)\n",
    "    test_row_num = pickle.load(f)\n",
    "    min_value = pickle.load(f)\n",
    "    max_value = pickle.load(f)\n",
    "    mean_value = pickle.load(f)\n",
    "    std_value = pickle.load(f)\n",
    "    cols = pickle.load(f)\n",
    "    statistics_storage = pickle.load(f)"
   ]
  },
  {
   "cell_type": "markdown",
   "metadata": {},
   "source": [
    "# Load data"
   ]
  },
  {
   "cell_type": "code",
   "execution_count": 8,
   "metadata": {
    "collapsed": false
   },
   "outputs": [],
   "source": [
    "normal_df_name = os.path.join(args.input_dir, 'normal_df_{}.csv'.format(args.anomaly_pct))\n",
    "normal_df = pd.read_csv(normal_df_name)\n",
    "\n",
    "anomalous_df_name = os.path.join(args.input_dir, 'anomolous_df_{}.csv'.format(args.anomaly_pct))\n",
    "anomalous_df = pd.read_csv(anomalous_df_name)"
   ]
  },
  {
   "cell_type": "code",
   "execution_count": 9,
   "metadata": {
    "collapsed": false
   },
   "outputs": [
    {
     "data": {
      "text/html": [
       "<div>\n",
       "<style>\n",
       "    .dataframe thead tr:only-child th {\n",
       "        text-align: right;\n",
       "    }\n",
       "\n",
       "    .dataframe thead th {\n",
       "        text-align: left;\n",
       "    }\n",
       "\n",
       "    .dataframe tbody tr th {\n",
       "        vertical-align: top;\n",
       "    }\n",
       "</style>\n",
       "<table border=\"1\" class=\"dataframe\">\n",
       "  <thead>\n",
       "    <tr style=\"text-align: right;\">\n",
       "      <th></th>\n",
       "      <th>CaseID</th>\n",
       "      <th>Activity</th>\n",
       "      <th>CompleteTimestamp</th>\n",
       "      <th>Duration</th>\n",
       "      <th>CumDuration</th>\n",
       "    </tr>\n",
       "  </thead>\n",
       "  <tbody>\n",
       "    <tr>\n",
       "      <th>0</th>\n",
       "      <td>1</td>\n",
       "      <td>Queued-Awaiting Assignment</td>\n",
       "      <td>2006-01-11 23:49:42</td>\n",
       "      <td>0.0</td>\n",
       "      <td>0.0</td>\n",
       "    </tr>\n",
       "    <tr>\n",
       "      <th>1</th>\n",
       "      <td>1</td>\n",
       "      <td>Accepted-In Progress</td>\n",
       "      <td>2012-03-15 19:53:52</td>\n",
       "      <td>194817850.0</td>\n",
       "      <td>194817850.0</td>\n",
       "    </tr>\n",
       "    <tr>\n",
       "      <th>2</th>\n",
       "      <td>1</td>\n",
       "      <td>Accepted-Assigned</td>\n",
       "      <td>2012-03-15 19:56:17</td>\n",
       "      <td>145.0</td>\n",
       "      <td>194817995.0</td>\n",
       "    </tr>\n",
       "    <tr>\n",
       "      <th>3</th>\n",
       "      <td>1</td>\n",
       "      <td>Accepted-In Progress</td>\n",
       "      <td>2012-03-15 20:09:05</td>\n",
       "      <td>768.0</td>\n",
       "      <td>194818763.0</td>\n",
       "    </tr>\n",
       "    <tr>\n",
       "      <th>4</th>\n",
       "      <td>1</td>\n",
       "      <td>Completed-Closed</td>\n",
       "      <td>2012-03-15 20:11:33</td>\n",
       "      <td>148.0</td>\n",
       "      <td>194818911.0</td>\n",
       "    </tr>\n",
       "  </tbody>\n",
       "</table>\n",
       "</div>"
      ],
      "text/plain": [
       "   CaseID                    Activity    CompleteTimestamp     Duration  \\\n",
       "0       1  Queued-Awaiting Assignment  2006-01-11 23:49:42          0.0   \n",
       "1       1        Accepted-In Progress  2012-03-15 19:53:52  194817850.0   \n",
       "2       1           Accepted-Assigned  2012-03-15 19:56:17        145.0   \n",
       "3       1        Accepted-In Progress  2012-03-15 20:09:05        768.0   \n",
       "4       1            Completed-Closed  2012-03-15 20:11:33        148.0   \n",
       "\n",
       "   CumDuration  \n",
       "0          0.0  \n",
       "1  194817850.0  \n",
       "2  194817995.0  \n",
       "3  194818763.0  \n",
       "4  194818911.0  "
      ]
     },
     "execution_count": 9,
     "metadata": {},
     "output_type": "execute_result"
    }
   ],
   "source": [
    "normal_df.head()"
   ]
  },
  {
   "cell_type": "code",
   "execution_count": 10,
   "metadata": {
    "collapsed": false
   },
   "outputs": [
    {
     "data": {
      "text/html": [
       "<div>\n",
       "<style>\n",
       "    .dataframe thead tr:only-child th {\n",
       "        text-align: right;\n",
       "    }\n",
       "\n",
       "    .dataframe thead th {\n",
       "        text-align: left;\n",
       "    }\n",
       "\n",
       "    .dataframe tbody tr th {\n",
       "        vertical-align: top;\n",
       "    }\n",
       "</style>\n",
       "<table border=\"1\" class=\"dataframe\">\n",
       "  <thead>\n",
       "    <tr style=\"text-align: right;\">\n",
       "      <th></th>\n",
       "      <th>CaseID</th>\n",
       "      <th>AnomalousActivity</th>\n",
       "      <th>AnomalousCompleteTimestamp</th>\n",
       "      <th>AnomalousDuration</th>\n",
       "      <th>AnomalousCumDuration</th>\n",
       "      <th>ActivityLabel</th>\n",
       "      <th>TimeLabel</th>\n",
       "    </tr>\n",
       "  </thead>\n",
       "  <tbody>\n",
       "    <tr>\n",
       "      <th>0</th>\n",
       "      <td>1</td>\n",
       "      <td>Queued-Awaiting Assignment</td>\n",
       "      <td>2006-01-11 23:49:42.000000</td>\n",
       "      <td>0.000000e+00</td>\n",
       "      <td>0.000000e+00</td>\n",
       "      <td>0</td>\n",
       "      <td>0</td>\n",
       "    </tr>\n",
       "    <tr>\n",
       "      <th>1</th>\n",
       "      <td>1</td>\n",
       "      <td>Unmatched-Unmatched</td>\n",
       "      <td>2012-03-15 19:53:52.000000</td>\n",
       "      <td>1.948178e+08</td>\n",
       "      <td>1.948178e+08</td>\n",
       "      <td>1</td>\n",
       "      <td>0</td>\n",
       "    </tr>\n",
       "    <tr>\n",
       "      <th>2</th>\n",
       "      <td>1</td>\n",
       "      <td>Accepted-Assigned</td>\n",
       "      <td>2012-09-29 07:22:32.331045</td>\n",
       "      <td>1.706212e+07</td>\n",
       "      <td>2.118800e+08</td>\n",
       "      <td>0</td>\n",
       "      <td>1</td>\n",
       "    </tr>\n",
       "    <tr>\n",
       "      <th>3</th>\n",
       "      <td>1</td>\n",
       "      <td>Accepted-In Progress</td>\n",
       "      <td>2012-03-15 20:09:05.000000</td>\n",
       "      <td>7.680000e+02</td>\n",
       "      <td>1.948188e+08</td>\n",
       "      <td>0</td>\n",
       "      <td>0</td>\n",
       "    </tr>\n",
       "    <tr>\n",
       "      <th>4</th>\n",
       "      <td>1</td>\n",
       "      <td>Completed-Closed</td>\n",
       "      <td>2012-03-15 20:11:33.000000</td>\n",
       "      <td>1.480000e+02</td>\n",
       "      <td>1.948189e+08</td>\n",
       "      <td>0</td>\n",
       "      <td>0</td>\n",
       "    </tr>\n",
       "  </tbody>\n",
       "</table>\n",
       "</div>"
      ],
      "text/plain": [
       "   CaseID           AnomalousActivity  AnomalousCompleteTimestamp  \\\n",
       "0       1  Queued-Awaiting Assignment  2006-01-11 23:49:42.000000   \n",
       "1       1         Unmatched-Unmatched  2012-03-15 19:53:52.000000   \n",
       "2       1           Accepted-Assigned  2012-09-29 07:22:32.331045   \n",
       "3       1        Accepted-In Progress  2012-03-15 20:09:05.000000   \n",
       "4       1            Completed-Closed  2012-03-15 20:11:33.000000   \n",
       "\n",
       "   AnomalousDuration  AnomalousCumDuration  ActivityLabel  TimeLabel  \n",
       "0       0.000000e+00          0.000000e+00              0          0  \n",
       "1       1.948178e+08          1.948178e+08              1          0  \n",
       "2       1.706212e+07          2.118800e+08              0          1  \n",
       "3       7.680000e+02          1.948188e+08              0          0  \n",
       "4       1.480000e+02          1.948189e+08              0          0  "
      ]
     },
     "execution_count": 10,
     "metadata": {},
     "output_type": "execute_result"
    }
   ],
   "source": [
    "anomalous_df.head()"
   ]
  },
  {
   "cell_type": "markdown",
   "metadata": {},
   "source": [
    "# Plot"
   ]
  },
  {
   "cell_type": "code",
   "execution_count": 11,
   "metadata": {
    "collapsed": true
   },
   "outputs": [],
   "source": [
    "def histogram_plot(df, activity):\n",
    "    selected_df = df[df['Activity']==activity]['Duration']\n",
    "    selected_df.hist()\n",
    "    plt.axvline(selected_df.mean(), color='w', linestyle='dashed', linewidth=2)\n",
    "    plt.axvline(selected_df.mean()+selected_df.std(), color='r', linestyle='dashed', linewidth=2)\n",
    "    plt.title('Histogram of '+ act)\n",
    "    plt.savefig(args.input_dir + 'histogram_'+act)\n",
    "    plt.show()\n",
    "    plt.close()"
   ]
  },
  {
   "cell_type": "code",
   "execution_count": 12,
   "metadata": {
    "collapsed": false
   },
   "outputs": [
    {
     "name": "stdout",
     "output_type": "stream",
     "text": [
      "Activity: ['Queued-Awaiting Assignment' 'Accepted-In Progress' 'Accepted-Assigned'\n",
      " 'Completed-Closed' 'Accepted-Wait' 'Unmatched-Unmatched'\n",
      " 'Completed-Cancelled']\n"
     ]
    }
   ],
   "source": [
    "act_list = normal_df['Activity'].unique()\n",
    "print('Activity: {}'.format(act_list))"
   ]
  },
  {
   "cell_type": "code",
   "execution_count": 14,
   "metadata": {
    "collapsed": false
   },
   "outputs": [
    {
     "data": {
      "image/png": "[encoded data removed]",
      "text/plain": [
       "<matplotlib.figure.Figure at 0x110f9c438>"
      ]
     },
     "metadata": {},
     "output_type": "display_data"
    },
    {
     "data": {
      "image/png": "[encoded data removed]",
      "text/plain": [
       "<matplotlib.figure.Figure at 0x1045160b8>"
      ]
     },
     "metadata": {},
     "output_type": "display_data"
    },
    {
     "data": {
      "image/png": "[encoded data removed]",
      "text/plain": [
       "<matplotlib.figure.Figure at 0x104508f98>"
      ]
     },
     "metadata": {},
     "output_type": "display_data"
    },
    {
     "data": {
      "image/png": "[encoded data removed]",
      "text/plain": [
       "<matplotlib.figure.Figure at 0x110238630>"
      ]
     },
     "metadata": {},
     "output_type": "display_data"
    },
    {
     "data": {
      "image/png": "[encoded data removed]",
      "text/plain": [
       "<matplotlib.figure.Figure at 0x11468de10>"
      ]
     },
     "metadata": {},
     "output_type": "display_data"
    },
    {
     "data": {
      "image/png": "[encoded data removed]",
      "text/plain": [
       "<matplotlib.figure.Figure at 0x1110dd9e8>"
      ]
     },
     "metadata": {},
     "output_type": "display_data"
    },
    {
     "data": {
      "image/png": "[encoded data removed]",
      "text/plain": [
       "<matplotlib.figure.Figure at 0x11486fb38>"
      ]
     },
     "metadata": {},
     "output_type": "display_data"
    }
   ],
   "source": [
    "for act in act_list:\n",
    "    histogram_plot(normal_df, act)"
   ]
  },
  {
   "cell_type": "code",
   "execution_count": null,
   "metadata": {
    "collapsed": true
   },
   "outputs": [],
   "source": []
  }
 ],
 "metadata": {
  "kernelspec": {
   "display_name": "Python 3",
   "language": "python",
   "name": "python3"
  },
  "language_info": {
   "codemirror_mode": {
    "name": "ipython",
    "version": 3
   },
   "file_extension": ".py",
   "mimetype": "text/x-python",
   "name": "python",
   "nbconvert_exporter": "python",
   "pygments_lexer": "ipython3",
   "version": "3.5.2"
  },
  "toc": {
   "colors": {
    "hover_highlight": "#DAA520",
    "running_highlight": "#FF0000",
    "selected_highlight": "#FFD700"
   },
   "moveMenuLeft": true,
   "nav_menu": {
    "height": "48px",
    "width": "252px"
   },
   "navigate_menu": true,
   "number_sections": true,
   "sideBar": true,
   "threshold": 4,
   "toc_cell": false,
   "toc_section_display": "block",
   "toc_window_display": false
  }
 },
 "nbformat": 4,
 "nbformat_minor": 2
}
