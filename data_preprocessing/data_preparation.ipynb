{
 "cells": [
  {
   "cell_type": "code",
   "execution_count": 1,
   "metadata": {
    "collapsed": true,
    "deletable": true,
    "editable": true
   },
   "outputs": [],
   "source": [
    "import os, sys\n",
    "import argparse\n",
    "import pandas as pd\n",
    "import numpy as np\n",
    "import pickle"
   ]
  },
  {
   "cell_type": "code",
   "execution_count": 2,
   "metadata": {
    "collapsed": true,
    "deletable": true,
    "editable": true
   },
   "outputs": [],
   "source": [
    "from dateutil.parser import parse\n",
    "from datetime import datetime\n",
    "import time\n",
    "import matplotlib.pyplot as plt\n",
    "import seaborn as sns\n",
    "\n",
    "%matplotlib inline\n",
    "pd.options.mode.chained_assignment = None #to run loop quicker without warnings"
   ]
  },
  {
   "cell_type": "code",
   "execution_count": 3,
   "metadata": {
    "collapsed": true,
    "deletable": true,
    "editable": true
   },
   "outputs": [],
   "source": [
    "#name = 'bpi_2012'\n",
    "name = 'bpi_2013'\n",
    "#name = 'helpdesk'\n",
    "args = {\n",
    "    'data_dir': '../data/',\n",
    "    'data_file': name + '.csv',\n",
    "    'input_dir': '../input/{}/'.format(name),  \n",
    "    'train_pct': 0.6,\n",
    "    'val_pct': 0.2,\n",
    "    'anomaly_pct': 0.1,\n",
    "}\n",
    "\n",
    "args = argparse.Namespace(**args)"
   ]
  },
  {
   "cell_type": "code",
   "execution_count": 4,
   "metadata": {
    "collapsed": true,
    "deletable": true,
    "editable": true
   },
   "outputs": [],
   "source": [
    "if not os.path.isdir('../input/'):\n",
    "    os.makedirs('../input/')\n",
    "    \n",
    "if not os.path.isdir(args.input_dir):\n",
    "    os.makedirs(args.input_dir)"
   ]
  },
  {
   "cell_type": "code",
   "execution_count": 5,
   "metadata": {
    "collapsed": false,
    "deletable": true,
    "editable": true
   },
   "outputs": [],
   "source": [
    "sys.path.insert(0, './../utils/')\n",
    "from utils import *"
   ]
  },
  {
   "cell_type": "markdown",
   "metadata": {
    "deletable": true,
    "editable": true
   },
   "source": [
    "# Load data"
   ]
  },
  {
   "cell_type": "code",
   "execution_count": 6,
   "metadata": {
    "collapsed": true,
    "deletable": true,
    "editable": true
   },
   "outputs": [],
   "source": [
    "# Only consider Case, Activity, Timestamp\n",
    "cols = ['CaseID', 'Activity', 'CompleteTimestamp']\n",
    "\n",
    "# For Timestamp: Convert to time\n",
    "if name == 'helpdesk':\n",
    "    data = pd.read_csv(args.data_dir + args.data_file)\n",
    "else:\n",
    "    data = pd.read_csv(args.data_dir + args.data_file, usecols=['Case ID', 'Activity', 'Complete Timestamp'])\n",
    "    data['Case ID'] = data['Case ID'].apply(lambda x: x.split(' ')[1])\n",
    "    \n",
    "\n",
    "# Format for each column     \n",
    "data.columns = cols\n",
    "data['CompleteTimestamp'] = pd.to_datetime(data['CompleteTimestamp'], errors='coerce')\n",
    "data['CaseID'] = data['CaseID'].apply(pd.to_numeric)"
   ]
  },
  {
   "cell_type": "code",
   "execution_count": 7,
   "metadata": {
    "collapsed": false,
    "deletable": true,
    "editable": true
   },
   "outputs": [
    {
     "data": {
      "text/html": [
       "<div>\n",
       "<style>\n",
       "    .dataframe thead tr:only-child th {\n",
       "        text-align: right;\n",
       "    }\n",
       "\n",
       "    .dataframe thead th {\n",
       "        text-align: left;\n",
       "    }\n",
       "\n",
       "    .dataframe tbody tr th {\n",
       "        vertical-align: top;\n",
       "    }\n",
       "</style>\n",
       "<table border=\"1\" class=\"dataframe\">\n",
       "  <thead>\n",
       "    <tr style=\"text-align: right;\">\n",
       "      <th></th>\n",
       "      <th>CaseID</th>\n",
       "      <th>Activity</th>\n",
       "      <th>CompleteTimestamp</th>\n",
       "    </tr>\n",
       "  </thead>\n",
       "  <tbody>\n",
       "    <tr>\n",
       "      <th>0</th>\n",
       "      <td>1</td>\n",
       "      <td>Queued-Awaiting Assignment</td>\n",
       "      <td>2006-01-11 23:49:42</td>\n",
       "    </tr>\n",
       "    <tr>\n",
       "      <th>1</th>\n",
       "      <td>1</td>\n",
       "      <td>Accepted-In Progress</td>\n",
       "      <td>2012-03-15 19:53:52</td>\n",
       "    </tr>\n",
       "    <tr>\n",
       "      <th>2</th>\n",
       "      <td>1</td>\n",
       "      <td>Accepted-Assigned</td>\n",
       "      <td>2012-03-15 19:56:17</td>\n",
       "    </tr>\n",
       "    <tr>\n",
       "      <th>3</th>\n",
       "      <td>1</td>\n",
       "      <td>Accepted-In Progress</td>\n",
       "      <td>2012-03-15 20:09:05</td>\n",
       "    </tr>\n",
       "    <tr>\n",
       "      <th>4</th>\n",
       "      <td>1</td>\n",
       "      <td>Completed-Closed</td>\n",
       "      <td>2012-03-15 20:11:33</td>\n",
       "    </tr>\n",
       "  </tbody>\n",
       "</table>\n",
       "</div>"
      ],
      "text/plain": [
       "   CaseID                    Activity   CompleteTimestamp\n",
       "0       1  Queued-Awaiting Assignment 2006-01-11 23:49:42\n",
       "1       1        Accepted-In Progress 2012-03-15 19:53:52\n",
       "2       1           Accepted-Assigned 2012-03-15 19:56:17\n",
       "3       1        Accepted-In Progress 2012-03-15 20:09:05\n",
       "4       1            Completed-Closed 2012-03-15 20:11:33"
      ]
     },
     "execution_count": 7,
     "metadata": {},
     "output_type": "execute_result"
    }
   ],
   "source": [
    "data.head()"
   ]
  },
  {
   "cell_type": "code",
   "execution_count": 8,
   "metadata": {
    "collapsed": false,
    "deletable": true,
    "editable": true
   },
   "outputs": [],
   "source": [
    "groupByCase = data.groupby(['CaseID'])\n",
    "duration_df = pd.DataFrame(pd.DataFrame(columns=list(data)+['Duration', 'CumDuration']))\n",
    "                           \n",
    "for case, group in groupByCase:\n",
    "    group = calculateDuration(group)\n",
    "    group = calculateCumDuration(group)\n",
    "    group['Duration'] = group['Duration'].apply(convert2seconds)\n",
    "    group['CumDuration'] = group['CumDuration'].apply(convert2seconds)\n",
    "    duration_df = duration_df.append(group)"
   ]
  },
  {
   "cell_type": "code",
   "execution_count": 9,
   "metadata": {
    "collapsed": false,
    "deletable": true,
    "editable": true
   },
   "outputs": [
    {
     "data": {
      "text/html": [
       "<div>\n",
       "<style>\n",
       "    .dataframe thead tr:only-child th {\n",
       "        text-align: right;\n",
       "    }\n",
       "\n",
       "    .dataframe thead th {\n",
       "        text-align: left;\n",
       "    }\n",
       "\n",
       "    .dataframe tbody tr th {\n",
       "        vertical-align: top;\n",
       "    }\n",
       "</style>\n",
       "<table border=\"1\" class=\"dataframe\">\n",
       "  <thead>\n",
       "    <tr style=\"text-align: right;\">\n",
       "      <th></th>\n",
       "      <th>CaseID</th>\n",
       "      <th>Activity</th>\n",
       "      <th>CompleteTimestamp</th>\n",
       "      <th>Duration</th>\n",
       "      <th>CumDuration</th>\n",
       "    </tr>\n",
       "  </thead>\n",
       "  <tbody>\n",
       "    <tr>\n",
       "      <th>0</th>\n",
       "      <td>1</td>\n",
       "      <td>Queued-Awaiting Assignment</td>\n",
       "      <td>2006-01-11 23:49:42</td>\n",
       "      <td>0.0</td>\n",
       "      <td>0.0</td>\n",
       "    </tr>\n",
       "    <tr>\n",
       "      <th>1</th>\n",
       "      <td>1</td>\n",
       "      <td>Accepted-In Progress</td>\n",
       "      <td>2012-03-15 19:53:52</td>\n",
       "      <td>194817850.0</td>\n",
       "      <td>194817850.0</td>\n",
       "    </tr>\n",
       "    <tr>\n",
       "      <th>2</th>\n",
       "      <td>1</td>\n",
       "      <td>Accepted-Assigned</td>\n",
       "      <td>2012-03-15 19:56:17</td>\n",
       "      <td>145.0</td>\n",
       "      <td>194817995.0</td>\n",
       "    </tr>\n",
       "    <tr>\n",
       "      <th>3</th>\n",
       "      <td>1</td>\n",
       "      <td>Accepted-In Progress</td>\n",
       "      <td>2012-03-15 20:09:05</td>\n",
       "      <td>768.0</td>\n",
       "      <td>194818763.0</td>\n",
       "    </tr>\n",
       "    <tr>\n",
       "      <th>4</th>\n",
       "      <td>1</td>\n",
       "      <td>Completed-Closed</td>\n",
       "      <td>2012-03-15 20:11:33</td>\n",
       "      <td>148.0</td>\n",
       "      <td>194818911.0</td>\n",
       "    </tr>\n",
       "    <tr>\n",
       "      <th>5</th>\n",
       "      <td>2</td>\n",
       "      <td>Accepted-In Progress</td>\n",
       "      <td>2006-11-07 18:00:36</td>\n",
       "      <td>0.0</td>\n",
       "      <td>0.0</td>\n",
       "    </tr>\n",
       "    <tr>\n",
       "      <th>6</th>\n",
       "      <td>2</td>\n",
       "      <td>Accepted-In Progress</td>\n",
       "      <td>2006-11-07 21:05:44</td>\n",
       "      <td>11108.0</td>\n",
       "      <td>11108.0</td>\n",
       "    </tr>\n",
       "    <tr>\n",
       "      <th>7</th>\n",
       "      <td>2</td>\n",
       "      <td>Accepted-Wait</td>\n",
       "      <td>2009-12-02 22:24:32</td>\n",
       "      <td>96859128.0</td>\n",
       "      <td>96870236.0</td>\n",
       "    </tr>\n",
       "    <tr>\n",
       "      <th>8</th>\n",
       "      <td>2</td>\n",
       "      <td>Accepted-In Progress</td>\n",
       "      <td>2011-09-03 14:09:09</td>\n",
       "      <td>55266277.0</td>\n",
       "      <td>152136513.0</td>\n",
       "    </tr>\n",
       "    <tr>\n",
       "      <th>9</th>\n",
       "      <td>2</td>\n",
       "      <td>Accepted-In Progress</td>\n",
       "      <td>2012-01-20 18:23:24</td>\n",
       "      <td>12024855.0</td>\n",
       "      <td>164161368.0</td>\n",
       "    </tr>\n",
       "  </tbody>\n",
       "</table>\n",
       "</div>"
      ],
      "text/plain": [
       "  CaseID                    Activity   CompleteTimestamp     Duration  \\\n",
       "0      1  Queued-Awaiting Assignment 2006-01-11 23:49:42          0.0   \n",
       "1      1        Accepted-In Progress 2012-03-15 19:53:52  194817850.0   \n",
       "2      1           Accepted-Assigned 2012-03-15 19:56:17        145.0   \n",
       "3      1        Accepted-In Progress 2012-03-15 20:09:05        768.0   \n",
       "4      1            Completed-Closed 2012-03-15 20:11:33        148.0   \n",
       "5      2        Accepted-In Progress 2006-11-07 18:00:36          0.0   \n",
       "6      2        Accepted-In Progress 2006-11-07 21:05:44      11108.0   \n",
       "7      2               Accepted-Wait 2009-12-02 22:24:32   96859128.0   \n",
       "8      2        Accepted-In Progress 2011-09-03 14:09:09   55266277.0   \n",
       "9      2        Accepted-In Progress 2012-01-20 18:23:24   12024855.0   \n",
       "\n",
       "   CumDuration  \n",
       "0          0.0  \n",
       "1  194817850.0  \n",
       "2  194817995.0  \n",
       "3  194818763.0  \n",
       "4  194818911.0  \n",
       "5          0.0  \n",
       "6      11108.0  \n",
       "7   96870236.0  \n",
       "8  152136513.0  \n",
       "9  164161368.0  "
      ]
     },
     "execution_count": 9,
     "metadata": {},
     "output_type": "execute_result"
    }
   ],
   "source": [
    "duration_df.head(10)"
   ]
  },
  {
   "cell_type": "code",
   "execution_count": 10,
   "metadata": {
    "collapsed": false,
    "deletable": true,
    "editable": true
   },
   "outputs": [],
   "source": [
    "groupByActivity = duration_df.groupby(['Activity'])\n",
    "statistics_storage = {}\n",
    "\n",
    "for act, act_data in groupByActivity:\n",
    "    act_storage = {}\n",
    "    act_storage[act] = {}\n",
    "    mean_value = act_data['Duration'].mean()\n",
    "    std_value = act_data['Duration'].std()\n",
    "    act_storage[act]['mean'] = mean_value\n",
    "    act_storage[act]['std'] = std_value\n",
    "    statistics_storage.update(act_storage)"
   ]
  },
  {
   "cell_type": "code",
   "execution_count": 11,
   "metadata": {
    "collapsed": false,
    "deletable": true,
    "editable": true
   },
   "outputs": [
    {
     "name": "stdout",
     "output_type": "stream",
     "text": [
      "Descriptive statistics: \n",
      "{'Accepted-Assigned': {'std': 7115575.8771717735, 'mean': 2284207.5146579803}, 'Unmatched-Unmatched': {'std': 1613426.676996954, 'mean': 659730.09999999998}, 'Completed-Closed': {'std': 9756199.0950356536, 'mean': 4487671.0242811497}, 'Accepted-Wait': {'std': 9675577.7800667603, 'mean': 3474376.5730550284}, 'Queued-Awaiting Assignment': {'std': 4089422.3905510097, 'mean': 1000673.2914285715}, 'Accepted-In Progress': {'std': 11479844.398664003, 'mean': 3862876.8098499672}, 'Completed-Cancelled': {'std': 48530.936786068058, 'mean': 28252.333333333332}}\n"
     ]
    }
   ],
   "source": [
    "print('Descriptive statistics: \\n{}'.format(statistics_storage))"
   ]
  },
  {
   "cell_type": "markdown",
   "metadata": {
    "deletable": true,
    "editable": true
   },
   "source": [
    "# Explore data"
   ]
  },
  {
   "cell_type": "code",
   "execution_count": 12,
   "metadata": {
    "collapsed": false,
    "deletable": true,
    "editable": true
   },
   "outputs": [
    {
     "data": {
      "text/html": [
       "<div>\n",
       "<style>\n",
       "    .dataframe thead tr:only-child th {\n",
       "        text-align: right;\n",
       "    }\n",
       "\n",
       "    .dataframe thead th {\n",
       "        text-align: left;\n",
       "    }\n",
       "\n",
       "    .dataframe tbody tr th {\n",
       "        vertical-align: top;\n",
       "    }\n",
       "</style>\n",
       "<table border=\"1\" class=\"dataframe\">\n",
       "  <thead>\n",
       "    <tr style=\"text-align: right;\">\n",
       "      <th></th>\n",
       "      <th>CaseID</th>\n",
       "      <th>Activity</th>\n",
       "      <th>CompleteTimestamp</th>\n",
       "      <th>Duration</th>\n",
       "      <th>CumDuration</th>\n",
       "    </tr>\n",
       "  </thead>\n",
       "  <tbody>\n",
       "    <tr>\n",
       "      <th>0</th>\n",
       "      <td>1</td>\n",
       "      <td>Queued-Awaiting Assignment</td>\n",
       "      <td>2006-01-11 23:49:42</td>\n",
       "      <td>0.0</td>\n",
       "      <td>0.0</td>\n",
       "    </tr>\n",
       "    <tr>\n",
       "      <th>1</th>\n",
       "      <td>1</td>\n",
       "      <td>Accepted-In Progress</td>\n",
       "      <td>2012-03-15 19:53:52</td>\n",
       "      <td>194817850.0</td>\n",
       "      <td>194817850.0</td>\n",
       "    </tr>\n",
       "    <tr>\n",
       "      <th>2</th>\n",
       "      <td>1</td>\n",
       "      <td>Accepted-Assigned</td>\n",
       "      <td>2012-03-15 19:56:17</td>\n",
       "      <td>145.0</td>\n",
       "      <td>194817995.0</td>\n",
       "    </tr>\n",
       "    <tr>\n",
       "      <th>3</th>\n",
       "      <td>1</td>\n",
       "      <td>Accepted-In Progress</td>\n",
       "      <td>2012-03-15 20:09:05</td>\n",
       "      <td>768.0</td>\n",
       "      <td>194818763.0</td>\n",
       "    </tr>\n",
       "    <tr>\n",
       "      <th>4</th>\n",
       "      <td>1</td>\n",
       "      <td>Completed-Closed</td>\n",
       "      <td>2012-03-15 20:11:33</td>\n",
       "      <td>148.0</td>\n",
       "      <td>194818911.0</td>\n",
       "    </tr>\n",
       "    <tr>\n",
       "      <th>5</th>\n",
       "      <td>2</td>\n",
       "      <td>Accepted-In Progress</td>\n",
       "      <td>2006-11-07 18:00:36</td>\n",
       "      <td>0.0</td>\n",
       "      <td>0.0</td>\n",
       "    </tr>\n",
       "    <tr>\n",
       "      <th>6</th>\n",
       "      <td>2</td>\n",
       "      <td>Accepted-In Progress</td>\n",
       "      <td>2006-11-07 21:05:44</td>\n",
       "      <td>11108.0</td>\n",
       "      <td>11108.0</td>\n",
       "    </tr>\n",
       "    <tr>\n",
       "      <th>7</th>\n",
       "      <td>2</td>\n",
       "      <td>Accepted-Wait</td>\n",
       "      <td>2009-12-02 22:24:32</td>\n",
       "      <td>96859128.0</td>\n",
       "      <td>96870236.0</td>\n",
       "    </tr>\n",
       "    <tr>\n",
       "      <th>8</th>\n",
       "      <td>2</td>\n",
       "      <td>Accepted-In Progress</td>\n",
       "      <td>2011-09-03 14:09:09</td>\n",
       "      <td>55266277.0</td>\n",
       "      <td>152136513.0</td>\n",
       "    </tr>\n",
       "    <tr>\n",
       "      <th>9</th>\n",
       "      <td>2</td>\n",
       "      <td>Accepted-In Progress</td>\n",
       "      <td>2012-01-20 18:23:24</td>\n",
       "      <td>12024855.0</td>\n",
       "      <td>164161368.0</td>\n",
       "    </tr>\n",
       "  </tbody>\n",
       "</table>\n",
       "</div>"
      ],
      "text/plain": [
       "  CaseID                    Activity   CompleteTimestamp     Duration  \\\n",
       "0      1  Queued-Awaiting Assignment 2006-01-11 23:49:42          0.0   \n",
       "1      1        Accepted-In Progress 2012-03-15 19:53:52  194817850.0   \n",
       "2      1           Accepted-Assigned 2012-03-15 19:56:17        145.0   \n",
       "3      1        Accepted-In Progress 2012-03-15 20:09:05        768.0   \n",
       "4      1            Completed-Closed 2012-03-15 20:11:33        148.0   \n",
       "5      2        Accepted-In Progress 2006-11-07 18:00:36          0.0   \n",
       "6      2        Accepted-In Progress 2006-11-07 21:05:44      11108.0   \n",
       "7      2               Accepted-Wait 2009-12-02 22:24:32   96859128.0   \n",
       "8      2        Accepted-In Progress 2011-09-03 14:09:09   55266277.0   \n",
       "9      2        Accepted-In Progress 2012-01-20 18:23:24   12024855.0   \n",
       "\n",
       "   CumDuration  \n",
       "0          0.0  \n",
       "1  194817850.0  \n",
       "2  194817995.0  \n",
       "3  194818763.0  \n",
       "4  194818911.0  \n",
       "5          0.0  \n",
       "6      11108.0  \n",
       "7   96870236.0  \n",
       "8  152136513.0  \n",
       "9  164161368.0  "
      ]
     },
     "execution_count": 12,
     "metadata": {},
     "output_type": "execute_result"
    }
   ],
   "source": [
    "duration_df.head(10)"
   ]
  },
  {
   "cell_type": "code",
   "execution_count": 13,
   "metadata": {
    "collapsed": false,
    "deletable": true,
    "editable": true
   },
   "outputs": [
    {
     "name": "stdout",
     "output_type": "stream",
     "text": [
      "Activity: ['Queued-Awaiting Assignment' 'Accepted-In Progress' 'Accepted-Assigned'\n",
      " 'Completed-Closed' 'Accepted-Wait' 'Unmatched-Unmatched'\n",
      " 'Completed-Cancelled']\n"
     ]
    }
   ],
   "source": [
    "act_list = duration_df['Activity'].unique()\n",
    "print('Activity: {}'.format(act_list))"
   ]
  },
  {
   "cell_type": "code",
   "execution_count": 72,
   "metadata": {
    "collapsed": true,
    "deletable": true,
    "editable": true
   },
   "outputs": [],
   "source": [
    "def histogram_plot(activity):\n",
    "    selected_df = duration_df[duration_df['Activity']==activity]['Duration']\n",
    "    selected_df.hist()\n",
    "    plt.axvline(selected_df.mean(), color='w', linestyle='dashed', linewidth=2)\n",
    "    plt.axvline(selected_df.mean()+selected_df.std(), color='r', linestyle='dashed', linewidth=2)\n",
    "    plt.title('Histogram of '+ act)\n",
    "    plt.savefig(args.input_dir + 'histogram_'+act)\n",
    "    plt.show()\n",
    "    plt.close()"
   ]
  },
  {
   "cell_type": "code",
   "execution_count": 73,
   "metadata": {
    "collapsed": false,
    "deletable": true,
    "editable": true
   },
   "outputs": [
    {
     "data": {
      "image/png": "[encoded data removed]",
      "text/plain": [
       "<matplotlib.figure.Figure at 0x7fa25c647d68>"
      ]
     },
     "metadata": {},
     "output_type": "display_data"
    },
    {
     "data": {
      "image/png": "[encoded data removed]",
      "text/plain": [
       "<matplotlib.figure.Figure at 0x7fa25c1de400>"
      ]
     },
     "metadata": {},
     "output_type": "display_data"
    },
    {
     "data": {
      "image/png": "[encoded data removed]",
      "text/plain": [
       "<matplotlib.figure.Figure at 0x7fa25c1c44e0>"
      ]
     },
     "metadata": {},
     "output_type": "display_data"
    },
    {
     "data": {
      "image/png": "[encoded data removed]",
      "text/plain": [
       "<matplotlib.figure.Figure at 0x7fa25c4815c0>"
      ]
     },
     "metadata": {},
     "output_type": "display_data"
    },
    {
     "data": {
      "image/png": "[encoded data removed]",
      "text/plain": [
       "<matplotlib.figure.Figure at 0x7fa25c66cb70>"
      ]
     },
     "metadata": {},
     "output_type": "display_data"
    },
    {
     "data": {
      "image/png": "[encoded data removed]",
      "text/plain": [
       "<matplotlib.figure.Figure at 0x7fa25c481a58>"
      ]
     },
     "metadata": {},
     "output_type": "display_data"
    },
    {
     "data": {
      "image/png": "[encoded data removed]",
      "text/plain": [
       "<matplotlib.figure.Figure at 0x7fa25c66cf98>"
      ]
     },
     "metadata": {},
     "output_type": "display_data"
    }
   ],
   "source": [
    "for act in act_list:\n",
    "    histogram_plot(act)"
   ]
  },
  {
   "cell_type": "markdown",
   "metadata": {
    "deletable": true,
    "editable": true
   },
   "source": [
    "# Introduce anomalous data"
   ]
  },
  {
   "cell_type": "code",
   "execution_count": 16,
   "metadata": {
    "collapsed": false,
    "deletable": true,
    "editable": true
   },
   "outputs": [
    {
     "data": {
      "text/html": [
       "<div>\n",
       "<style>\n",
       "    .dataframe thead tr:only-child th {\n",
       "        text-align: right;\n",
       "    }\n",
       "\n",
       "    .dataframe thead th {\n",
       "        text-align: left;\n",
       "    }\n",
       "\n",
       "    .dataframe tbody tr th {\n",
       "        vertical-align: top;\n",
       "    }\n",
       "</style>\n",
       "<table border=\"1\" class=\"dataframe\">\n",
       "  <thead>\n",
       "    <tr style=\"text-align: right;\">\n",
       "      <th></th>\n",
       "      <th>CaseID</th>\n",
       "      <th>Activity</th>\n",
       "      <th>CompleteTimestamp</th>\n",
       "    </tr>\n",
       "  </thead>\n",
       "  <tbody>\n",
       "    <tr>\n",
       "      <th>0</th>\n",
       "      <td>1</td>\n",
       "      <td>Queued-Awaiting Assignment</td>\n",
       "      <td>2006-01-11 23:49:42</td>\n",
       "    </tr>\n",
       "    <tr>\n",
       "      <th>1</th>\n",
       "      <td>1</td>\n",
       "      <td>Accepted-In Progress</td>\n",
       "      <td>2012-03-15 19:53:52</td>\n",
       "    </tr>\n",
       "    <tr>\n",
       "      <th>2</th>\n",
       "      <td>1</td>\n",
       "      <td>Accepted-Assigned</td>\n",
       "      <td>2012-03-15 19:56:17</td>\n",
       "    </tr>\n",
       "    <tr>\n",
       "      <th>3</th>\n",
       "      <td>1</td>\n",
       "      <td>Accepted-In Progress</td>\n",
       "      <td>2012-03-15 20:09:05</td>\n",
       "    </tr>\n",
       "    <tr>\n",
       "      <th>4</th>\n",
       "      <td>1</td>\n",
       "      <td>Completed-Closed</td>\n",
       "      <td>2012-03-15 20:11:33</td>\n",
       "    </tr>\n",
       "  </tbody>\n",
       "</table>\n",
       "</div>"
      ],
      "text/plain": [
       "   CaseID                    Activity   CompleteTimestamp\n",
       "0       1  Queued-Awaiting Assignment 2006-01-11 23:49:42\n",
       "1       1        Accepted-In Progress 2012-03-15 19:53:52\n",
       "2       1           Accepted-Assigned 2012-03-15 19:56:17\n",
       "3       1        Accepted-In Progress 2012-03-15 20:09:05\n",
       "4       1            Completed-Closed 2012-03-15 20:11:33"
      ]
     },
     "execution_count": 16,
     "metadata": {},
     "output_type": "execute_result"
    }
   ],
   "source": [
    "data.head()"
   ]
  },
  {
   "cell_type": "code",
   "execution_count": 17,
   "metadata": {
    "collapsed": false,
    "deletable": true,
    "editable": true
   },
   "outputs": [
    {
     "data": {
      "text/html": [
       "<div>\n",
       "<style>\n",
       "    .dataframe thead tr:only-child th {\n",
       "        text-align: right;\n",
       "    }\n",
       "\n",
       "    .dataframe thead th {\n",
       "        text-align: left;\n",
       "    }\n",
       "\n",
       "    .dataframe tbody tr th {\n",
       "        vertical-align: top;\n",
       "    }\n",
       "</style>\n",
       "<table border=\"1\" class=\"dataframe\">\n",
       "  <thead>\n",
       "    <tr style=\"text-align: right;\">\n",
       "      <th></th>\n",
       "      <th>CaseID</th>\n",
       "      <th>Activity</th>\n",
       "      <th>CompleteTimestamp</th>\n",
       "      <th>Duration</th>\n",
       "      <th>CumDuration</th>\n",
       "    </tr>\n",
       "  </thead>\n",
       "  <tbody>\n",
       "    <tr>\n",
       "      <th>0</th>\n",
       "      <td>1</td>\n",
       "      <td>Queued-Awaiting Assignment</td>\n",
       "      <td>2006-01-11 23:49:42</td>\n",
       "      <td>0.0</td>\n",
       "      <td>0.0</td>\n",
       "    </tr>\n",
       "    <tr>\n",
       "      <th>1</th>\n",
       "      <td>1</td>\n",
       "      <td>Accepted-In Progress</td>\n",
       "      <td>2012-03-15 19:53:52</td>\n",
       "      <td>194817850.0</td>\n",
       "      <td>194817850.0</td>\n",
       "    </tr>\n",
       "    <tr>\n",
       "      <th>2</th>\n",
       "      <td>1</td>\n",
       "      <td>Accepted-Assigned</td>\n",
       "      <td>2012-03-15 19:56:17</td>\n",
       "      <td>145.0</td>\n",
       "      <td>194817995.0</td>\n",
       "    </tr>\n",
       "    <tr>\n",
       "      <th>3</th>\n",
       "      <td>1</td>\n",
       "      <td>Accepted-In Progress</td>\n",
       "      <td>2012-03-15 20:09:05</td>\n",
       "      <td>768.0</td>\n",
       "      <td>194818763.0</td>\n",
       "    </tr>\n",
       "    <tr>\n",
       "      <th>4</th>\n",
       "      <td>1</td>\n",
       "      <td>Completed-Closed</td>\n",
       "      <td>2012-03-15 20:11:33</td>\n",
       "      <td>148.0</td>\n",
       "      <td>194818911.0</td>\n",
       "    </tr>\n",
       "  </tbody>\n",
       "</table>\n",
       "</div>"
      ],
      "text/plain": [
       "  CaseID                    Activity   CompleteTimestamp     Duration  \\\n",
       "0      1  Queued-Awaiting Assignment 2006-01-11 23:49:42          0.0   \n",
       "1      1        Accepted-In Progress 2012-03-15 19:53:52  194817850.0   \n",
       "2      1           Accepted-Assigned 2012-03-15 19:56:17        145.0   \n",
       "3      1        Accepted-In Progress 2012-03-15 20:09:05        768.0   \n",
       "4      1            Completed-Closed 2012-03-15 20:11:33        148.0   \n",
       "\n",
       "   CumDuration  \n",
       "0          0.0  \n",
       "1  194817850.0  \n",
       "2  194817995.0  \n",
       "3  194818763.0  \n",
       "4  194818911.0  "
      ]
     },
     "execution_count": 17,
     "metadata": {},
     "output_type": "execute_result"
    }
   ],
   "source": [
    "duration_df.head()"
   ]
  },
  {
   "cell_type": "code",
   "execution_count": 18,
   "metadata": {
    "collapsed": false,
    "deletable": true,
    "editable": true
   },
   "outputs": [
    {
     "name": "stdout",
     "output_type": "stream",
     "text": [
      "Number of anomalous values: 1332\n",
      "Number of anomalous activities: 666\n",
      "Number of anomalous time: 666\n"
     ]
    }
   ],
   "source": [
    "anomaly_num = int(data.shape[0]*(data.shape[1]-1)*args.anomaly_pct)\n",
    "anomalous_act_num = int(anomaly_num/2)\n",
    "anomalous_time_num = anomaly_num - anomalous_act_num\n",
    "\n",
    "print('Number of anomalous values: {}'.format(anomaly_num))\n",
    "print('Number of anomalous activities: {}'.format(anomalous_act_num))\n",
    "print('Number of anomalous time: {}'.format(anomalous_time_num))"
   ]
  },
  {
   "cell_type": "markdown",
   "metadata": {
    "deletable": true,
    "editable": true
   },
   "source": [
    "## Activity"
   ]
  },
  {
   "cell_type": "markdown",
   "metadata": {
    "deletable": true,
    "editable": true
   },
   "source": [
    "**Mutation:**\n",
    "- Swap 2 activities within a case\n",
    "- Duplicate 1 activity"
   ]
  },
  {
   "cell_type": "code",
   "execution_count": 19,
   "metadata": {
    "collapsed": true,
    "deletable": true,
    "editable": true
   },
   "outputs": [],
   "source": [
    "groupByCase = duration_df.groupby(['CaseID'])"
   ]
  },
  {
   "cell_type": "code",
   "execution_count": 20,
   "metadata": {
    "collapsed": false,
    "deletable": true,
    "editable": true
   },
   "outputs": [
    {
     "data": {
      "text/plain": [
       "1487"
      ]
     },
     "execution_count": 20,
     "metadata": {},
     "output_type": "execute_result"
    }
   ],
   "source": [
    "len(groupByCase)"
   ]
  },
  {
   "cell_type": "code",
   "execution_count": 21,
   "metadata": {
    "collapsed": false,
    "deletable": true,
    "editable": true
   },
   "outputs": [],
   "source": [
    "anomalous_act_index = []\n",
    "caseid_list = []\n",
    "temp_df = duration_df.copy()\n",
    "temp_df['AnomalousActivity'] = temp_df['Activity'].copy()\n",
    "temp_df['ActivityLabel'] = 0"
   ]
  },
  {
   "cell_type": "code",
   "execution_count": 22,
   "metadata": {
    "collapsed": false,
    "deletable": true,
    "editable": true
   },
   "outputs": [
    {
     "data": {
      "text/html": [
       "<div>\n",
       "<style>\n",
       "    .dataframe thead tr:only-child th {\n",
       "        text-align: right;\n",
       "    }\n",
       "\n",
       "    .dataframe thead th {\n",
       "        text-align: left;\n",
       "    }\n",
       "\n",
       "    .dataframe tbody tr th {\n",
       "        vertical-align: top;\n",
       "    }\n",
       "</style>\n",
       "<table border=\"1\" class=\"dataframe\">\n",
       "  <thead>\n",
       "    <tr style=\"text-align: right;\">\n",
       "      <th></th>\n",
       "      <th>CaseID</th>\n",
       "      <th>Activity</th>\n",
       "      <th>CompleteTimestamp</th>\n",
       "      <th>Duration</th>\n",
       "      <th>CumDuration</th>\n",
       "      <th>AnomalousActivity</th>\n",
       "      <th>ActivityLabel</th>\n",
       "    </tr>\n",
       "  </thead>\n",
       "  <tbody>\n",
       "    <tr>\n",
       "      <th>0</th>\n",
       "      <td>1</td>\n",
       "      <td>Queued-Awaiting Assignment</td>\n",
       "      <td>2006-01-11 23:49:42</td>\n",
       "      <td>0.0</td>\n",
       "      <td>0.0</td>\n",
       "      <td>Queued-Awaiting Assignment</td>\n",
       "      <td>0</td>\n",
       "    </tr>\n",
       "    <tr>\n",
       "      <th>1</th>\n",
       "      <td>1</td>\n",
       "      <td>Accepted-In Progress</td>\n",
       "      <td>2012-03-15 19:53:52</td>\n",
       "      <td>194817850.0</td>\n",
       "      <td>194817850.0</td>\n",
       "      <td>Accepted-In Progress</td>\n",
       "      <td>0</td>\n",
       "    </tr>\n",
       "    <tr>\n",
       "      <th>2</th>\n",
       "      <td>1</td>\n",
       "      <td>Accepted-Assigned</td>\n",
       "      <td>2012-03-15 19:56:17</td>\n",
       "      <td>145.0</td>\n",
       "      <td>194817995.0</td>\n",
       "      <td>Accepted-Assigned</td>\n",
       "      <td>0</td>\n",
       "    </tr>\n",
       "    <tr>\n",
       "      <th>3</th>\n",
       "      <td>1</td>\n",
       "      <td>Accepted-In Progress</td>\n",
       "      <td>2012-03-15 20:09:05</td>\n",
       "      <td>768.0</td>\n",
       "      <td>194818763.0</td>\n",
       "      <td>Accepted-In Progress</td>\n",
       "      <td>0</td>\n",
       "    </tr>\n",
       "    <tr>\n",
       "      <th>4</th>\n",
       "      <td>1</td>\n",
       "      <td>Completed-Closed</td>\n",
       "      <td>2012-03-15 20:11:33</td>\n",
       "      <td>148.0</td>\n",
       "      <td>194818911.0</td>\n",
       "      <td>Completed-Closed</td>\n",
       "      <td>0</td>\n",
       "    </tr>\n",
       "  </tbody>\n",
       "</table>\n",
       "</div>"
      ],
      "text/plain": [
       "  CaseID                    Activity   CompleteTimestamp     Duration  \\\n",
       "0      1  Queued-Awaiting Assignment 2006-01-11 23:49:42          0.0   \n",
       "1      1        Accepted-In Progress 2012-03-15 19:53:52  194817850.0   \n",
       "2      1           Accepted-Assigned 2012-03-15 19:56:17        145.0   \n",
       "3      1        Accepted-In Progress 2012-03-15 20:09:05        768.0   \n",
       "4      1            Completed-Closed 2012-03-15 20:11:33        148.0   \n",
       "\n",
       "   CumDuration           AnomalousActivity  ActivityLabel  \n",
       "0          0.0  Queued-Awaiting Assignment              0  \n",
       "1  194817850.0        Accepted-In Progress              0  \n",
       "2  194817995.0           Accepted-Assigned              0  \n",
       "3  194818763.0        Accepted-In Progress              0  \n",
       "4  194818911.0            Completed-Closed              0  "
      ]
     },
     "execution_count": 22,
     "metadata": {},
     "output_type": "execute_result"
    }
   ],
   "source": [
    "temp_df.head()"
   ]
  },
  {
   "cell_type": "code",
   "execution_count": 23,
   "metadata": {
    "collapsed": false,
    "deletable": true,
    "editable": true
   },
   "outputs": [],
   "source": [
    "while len(anomalous_act_index) < anomalous_act_num:\n",
    "    caseid = np.random.randint(1, len(groupByCase))\n",
    "    if caseid not in caseid_list:\n",
    "        group = groupByCase.get_group(caseid)\n",
    "        row1 = np.random.randint(0, group.shape[0])\n",
    "        row2 = np.random.randint(0, group.shape[0])\n",
    "        index1 = group.index.values[row1]\n",
    "        index2 = group.index.values[row2]\n",
    "        act1 = duration_df['Activity'].iloc[index1]\n",
    "        act2 = duration_df['Activity'].iloc[index2]\n",
    "        if act1 != act2:\n",
    "            anomalous_act_index.append(index1)\n",
    "            anomalous_act_index.append(index2)\n",
    "            temp_df['AnomalousActivity'].iloc[index1] = act2\n",
    "            temp_df['AnomalousActivity'].iloc[index2] = act1\n",
    "            temp_df['ActivityLabel'].iloc[index1] = 1\n",
    "            temp_df['ActivityLabel'].iloc[index2] = 1"
   ]
  },
  {
   "cell_type": "code",
   "execution_count": 24,
   "metadata": {
    "collapsed": false,
    "deletable": true,
    "editable": true
   },
   "outputs": [
    {
     "data": {
      "text/html": [
       "<div>\n",
       "<style>\n",
       "    .dataframe thead tr:only-child th {\n",
       "        text-align: right;\n",
       "    }\n",
       "\n",
       "    .dataframe thead th {\n",
       "        text-align: left;\n",
       "    }\n",
       "\n",
       "    .dataframe tbody tr th {\n",
       "        vertical-align: top;\n",
       "    }\n",
       "</style>\n",
       "<table border=\"1\" class=\"dataframe\">\n",
       "  <thead>\n",
       "    <tr style=\"text-align: right;\">\n",
       "      <th></th>\n",
       "      <th>CaseID</th>\n",
       "      <th>Activity</th>\n",
       "      <th>CompleteTimestamp</th>\n",
       "      <th>Duration</th>\n",
       "      <th>CumDuration</th>\n",
       "      <th>AnomalousActivity</th>\n",
       "      <th>ActivityLabel</th>\n",
       "    </tr>\n",
       "  </thead>\n",
       "  <tbody>\n",
       "    <tr>\n",
       "      <th>0</th>\n",
       "      <td>1</td>\n",
       "      <td>Queued-Awaiting Assignment</td>\n",
       "      <td>2006-01-11 23:49:42</td>\n",
       "      <td>0.0</td>\n",
       "      <td>0.0</td>\n",
       "      <td>Queued-Awaiting Assignment</td>\n",
       "      <td>0</td>\n",
       "    </tr>\n",
       "    <tr>\n",
       "      <th>1</th>\n",
       "      <td>1</td>\n",
       "      <td>Accepted-In Progress</td>\n",
       "      <td>2012-03-15 19:53:52</td>\n",
       "      <td>194817850.0</td>\n",
       "      <td>194817850.0</td>\n",
       "      <td>Accepted-In Progress</td>\n",
       "      <td>0</td>\n",
       "    </tr>\n",
       "    <tr>\n",
       "      <th>2</th>\n",
       "      <td>1</td>\n",
       "      <td>Accepted-Assigned</td>\n",
       "      <td>2012-03-15 19:56:17</td>\n",
       "      <td>145.0</td>\n",
       "      <td>194817995.0</td>\n",
       "      <td>Accepted-In Progress</td>\n",
       "      <td>1</td>\n",
       "    </tr>\n",
       "    <tr>\n",
       "      <th>3</th>\n",
       "      <td>1</td>\n",
       "      <td>Accepted-In Progress</td>\n",
       "      <td>2012-03-15 20:09:05</td>\n",
       "      <td>768.0</td>\n",
       "      <td>194818763.0</td>\n",
       "      <td>Accepted-Assigned</td>\n",
       "      <td>1</td>\n",
       "    </tr>\n",
       "    <tr>\n",
       "      <th>4</th>\n",
       "      <td>1</td>\n",
       "      <td>Completed-Closed</td>\n",
       "      <td>2012-03-15 20:11:33</td>\n",
       "      <td>148.0</td>\n",
       "      <td>194818911.0</td>\n",
       "      <td>Completed-Closed</td>\n",
       "      <td>0</td>\n",
       "    </tr>\n",
       "  </tbody>\n",
       "</table>\n",
       "</div>"
      ],
      "text/plain": [
       "  CaseID                    Activity   CompleteTimestamp     Duration  \\\n",
       "0      1  Queued-Awaiting Assignment 2006-01-11 23:49:42          0.0   \n",
       "1      1        Accepted-In Progress 2012-03-15 19:53:52  194817850.0   \n",
       "2      1           Accepted-Assigned 2012-03-15 19:56:17        145.0   \n",
       "3      1        Accepted-In Progress 2012-03-15 20:09:05        768.0   \n",
       "4      1            Completed-Closed 2012-03-15 20:11:33        148.0   \n",
       "\n",
       "   CumDuration           AnomalousActivity  ActivityLabel  \n",
       "0          0.0  Queued-Awaiting Assignment              0  \n",
       "1  194817850.0        Accepted-In Progress              0  \n",
       "2  194817995.0        Accepted-In Progress              1  \n",
       "3  194818763.0           Accepted-Assigned              1  \n",
       "4  194818911.0            Completed-Closed              0  "
      ]
     },
     "execution_count": 24,
     "metadata": {},
     "output_type": "execute_result"
    }
   ],
   "source": [
    "temp_df.head()"
   ]
  },
  {
   "cell_type": "code",
   "execution_count": 25,
   "metadata": {
    "collapsed": false,
    "deletable": true,
    "editable": true
   },
   "outputs": [],
   "source": [
    "temp_time = temp_df[['AnomalousActivity', 'ActivityLabel']]"
   ]
  },
  {
   "cell_type": "code",
   "execution_count": 26,
   "metadata": {
    "collapsed": false,
    "deletable": true,
    "editable": true
   },
   "outputs": [
    {
     "data": {
      "text/html": [
       "<div>\n",
       "<style>\n",
       "    .dataframe thead tr:only-child th {\n",
       "        text-align: right;\n",
       "    }\n",
       "\n",
       "    .dataframe thead th {\n",
       "        text-align: left;\n",
       "    }\n",
       "\n",
       "    .dataframe tbody tr th {\n",
       "        vertical-align: top;\n",
       "    }\n",
       "</style>\n",
       "<table border=\"1\" class=\"dataframe\">\n",
       "  <thead>\n",
       "    <tr style=\"text-align: right;\">\n",
       "      <th></th>\n",
       "      <th>AnomalousActivity</th>\n",
       "      <th>ActivityLabel</th>\n",
       "    </tr>\n",
       "  </thead>\n",
       "  <tbody>\n",
       "    <tr>\n",
       "      <th>0</th>\n",
       "      <td>Queued-Awaiting Assignment</td>\n",
       "      <td>0</td>\n",
       "    </tr>\n",
       "    <tr>\n",
       "      <th>1</th>\n",
       "      <td>Accepted-In Progress</td>\n",
       "      <td>0</td>\n",
       "    </tr>\n",
       "    <tr>\n",
       "      <th>2</th>\n",
       "      <td>Accepted-In Progress</td>\n",
       "      <td>1</td>\n",
       "    </tr>\n",
       "    <tr>\n",
       "      <th>3</th>\n",
       "      <td>Accepted-Assigned</td>\n",
       "      <td>1</td>\n",
       "    </tr>\n",
       "    <tr>\n",
       "      <th>4</th>\n",
       "      <td>Completed-Closed</td>\n",
       "      <td>0</td>\n",
       "    </tr>\n",
       "  </tbody>\n",
       "</table>\n",
       "</div>"
      ],
      "text/plain": [
       "            AnomalousActivity  ActivityLabel\n",
       "0  Queued-Awaiting Assignment              0\n",
       "1        Accepted-In Progress              0\n",
       "2        Accepted-In Progress              1\n",
       "3           Accepted-Assigned              1\n",
       "4            Completed-Closed              0"
      ]
     },
     "execution_count": 26,
     "metadata": {},
     "output_type": "execute_result"
    }
   ],
   "source": [
    "temp_time.head()"
   ]
  },
  {
   "cell_type": "markdown",
   "metadata": {
    "deletable": true,
    "editable": true
   },
   "source": [
    "## Time"
   ]
  },
  {
   "cell_type": "markdown",
   "metadata": {
    "deletable": true,
    "editable": true
   },
   "source": [
    "**Mutation:**\n",
    "- Extreme duration"
   ]
  },
  {
   "cell_type": "code",
   "execution_count": 27,
   "metadata": {
    "collapsed": true,
    "deletable": true,
    "editable": true
   },
   "outputs": [],
   "source": [
    "anomalous_time_index = []\n",
    "temp_df = duration_df.copy()\n",
    "temp_df['AnomalousDuration'] = temp_df['Duration'].copy()\n",
    "temp_df['TimeLabel'] = 0"
   ]
  },
  {
   "cell_type": "code",
   "execution_count": 28,
   "metadata": {
    "collapsed": false,
    "deletable": true,
    "editable": true
   },
   "outputs": [
    {
     "data": {
      "text/html": [
       "<div>\n",
       "<style>\n",
       "    .dataframe thead tr:only-child th {\n",
       "        text-align: right;\n",
       "    }\n",
       "\n",
       "    .dataframe thead th {\n",
       "        text-align: left;\n",
       "    }\n",
       "\n",
       "    .dataframe tbody tr th {\n",
       "        vertical-align: top;\n",
       "    }\n",
       "</style>\n",
       "<table border=\"1\" class=\"dataframe\">\n",
       "  <thead>\n",
       "    <tr style=\"text-align: right;\">\n",
       "      <th></th>\n",
       "      <th>CaseID</th>\n",
       "      <th>Activity</th>\n",
       "      <th>CompleteTimestamp</th>\n",
       "      <th>Duration</th>\n",
       "      <th>CumDuration</th>\n",
       "      <th>AnomalousDuration</th>\n",
       "      <th>TimeLabel</th>\n",
       "    </tr>\n",
       "  </thead>\n",
       "  <tbody>\n",
       "    <tr>\n",
       "      <th>0</th>\n",
       "      <td>1</td>\n",
       "      <td>Queued-Awaiting Assignment</td>\n",
       "      <td>2006-01-11 23:49:42</td>\n",
       "      <td>0.0</td>\n",
       "      <td>0.0</td>\n",
       "      <td>0.0</td>\n",
       "      <td>0</td>\n",
       "    </tr>\n",
       "    <tr>\n",
       "      <th>1</th>\n",
       "      <td>1</td>\n",
       "      <td>Accepted-In Progress</td>\n",
       "      <td>2012-03-15 19:53:52</td>\n",
       "      <td>194817850.0</td>\n",
       "      <td>194817850.0</td>\n",
       "      <td>194817850.0</td>\n",
       "      <td>0</td>\n",
       "    </tr>\n",
       "    <tr>\n",
       "      <th>2</th>\n",
       "      <td>1</td>\n",
       "      <td>Accepted-Assigned</td>\n",
       "      <td>2012-03-15 19:56:17</td>\n",
       "      <td>145.0</td>\n",
       "      <td>194817995.0</td>\n",
       "      <td>145.0</td>\n",
       "      <td>0</td>\n",
       "    </tr>\n",
       "    <tr>\n",
       "      <th>3</th>\n",
       "      <td>1</td>\n",
       "      <td>Accepted-In Progress</td>\n",
       "      <td>2012-03-15 20:09:05</td>\n",
       "      <td>768.0</td>\n",
       "      <td>194818763.0</td>\n",
       "      <td>768.0</td>\n",
       "      <td>0</td>\n",
       "    </tr>\n",
       "    <tr>\n",
       "      <th>4</th>\n",
       "      <td>1</td>\n",
       "      <td>Completed-Closed</td>\n",
       "      <td>2012-03-15 20:11:33</td>\n",
       "      <td>148.0</td>\n",
       "      <td>194818911.0</td>\n",
       "      <td>148.0</td>\n",
       "      <td>0</td>\n",
       "    </tr>\n",
       "  </tbody>\n",
       "</table>\n",
       "</div>"
      ],
      "text/plain": [
       "  CaseID                    Activity   CompleteTimestamp     Duration  \\\n",
       "0      1  Queued-Awaiting Assignment 2006-01-11 23:49:42          0.0   \n",
       "1      1        Accepted-In Progress 2012-03-15 19:53:52  194817850.0   \n",
       "2      1           Accepted-Assigned 2012-03-15 19:56:17        145.0   \n",
       "3      1        Accepted-In Progress 2012-03-15 20:09:05        768.0   \n",
       "4      1            Completed-Closed 2012-03-15 20:11:33        148.0   \n",
       "\n",
       "   CumDuration  AnomalousDuration  TimeLabel  \n",
       "0          0.0                0.0          0  \n",
       "1  194817850.0        194817850.0          0  \n",
       "2  194817995.0              145.0          0  \n",
       "3  194818763.0              768.0          0  \n",
       "4  194818911.0              148.0          0  "
      ]
     },
     "execution_count": 28,
     "metadata": {},
     "output_type": "execute_result"
    }
   ],
   "source": [
    "temp_df.head()"
   ]
  },
  {
   "cell_type": "code",
   "execution_count": 29,
   "metadata": {
    "collapsed": false,
    "deletable": true,
    "editable": true
   },
   "outputs": [],
   "source": [
    "while len(anomalous_time_index) < anomalous_time_num:\n",
    "    row = np.random.randint(0, duration_df.shape[0])\n",
    "    if row not in anomalous_time_index:\n",
    "        anomalous_time_index.append(row)\n",
    "        act = duration_df.loc[row, 'Activity']\n",
    "        anomalous_value = (np.random.random_sample() + 1)*(statistics_storage[act]['mean'] + statistics_storage[act]['std'])\n",
    "        temp_df.loc[row, 'AnomalousDuration'] = anomalous_value\n",
    "        temp_df.loc[row, 'TimeLabel'] = 1"
   ]
  },
  {
   "cell_type": "code",
   "execution_count": 30,
   "metadata": {
    "collapsed": false,
    "deletable": true,
    "editable": true
   },
   "outputs": [
    {
     "data": {
      "text/html": [
       "<div>\n",
       "<style>\n",
       "    .dataframe thead tr:only-child th {\n",
       "        text-align: right;\n",
       "    }\n",
       "\n",
       "    .dataframe thead th {\n",
       "        text-align: left;\n",
       "    }\n",
       "\n",
       "    .dataframe tbody tr th {\n",
       "        vertical-align: top;\n",
       "    }\n",
       "</style>\n",
       "<table border=\"1\" class=\"dataframe\">\n",
       "  <thead>\n",
       "    <tr style=\"text-align: right;\">\n",
       "      <th></th>\n",
       "      <th>CaseID</th>\n",
       "      <th>Activity</th>\n",
       "      <th>CompleteTimestamp</th>\n",
       "      <th>Duration</th>\n",
       "      <th>CumDuration</th>\n",
       "      <th>AnomalousDuration</th>\n",
       "      <th>TimeLabel</th>\n",
       "    </tr>\n",
       "  </thead>\n",
       "  <tbody>\n",
       "    <tr>\n",
       "      <th>0</th>\n",
       "      <td>1</td>\n",
       "      <td>Queued-Awaiting Assignment</td>\n",
       "      <td>2006-01-11 23:49:42</td>\n",
       "      <td>0.0</td>\n",
       "      <td>0.0</td>\n",
       "      <td>0.0</td>\n",
       "      <td>0</td>\n",
       "    </tr>\n",
       "    <tr>\n",
       "      <th>1</th>\n",
       "      <td>1</td>\n",
       "      <td>Accepted-In Progress</td>\n",
       "      <td>2012-03-15 19:53:52</td>\n",
       "      <td>194817850.0</td>\n",
       "      <td>194817850.0</td>\n",
       "      <td>194817850.0</td>\n",
       "      <td>0</td>\n",
       "    </tr>\n",
       "    <tr>\n",
       "      <th>2</th>\n",
       "      <td>1</td>\n",
       "      <td>Accepted-Assigned</td>\n",
       "      <td>2012-03-15 19:56:17</td>\n",
       "      <td>145.0</td>\n",
       "      <td>194817995.0</td>\n",
       "      <td>145.0</td>\n",
       "      <td>0</td>\n",
       "    </tr>\n",
       "    <tr>\n",
       "      <th>3</th>\n",
       "      <td>1</td>\n",
       "      <td>Accepted-In Progress</td>\n",
       "      <td>2012-03-15 20:09:05</td>\n",
       "      <td>768.0</td>\n",
       "      <td>194818763.0</td>\n",
       "      <td>768.0</td>\n",
       "      <td>0</td>\n",
       "    </tr>\n",
       "    <tr>\n",
       "      <th>4</th>\n",
       "      <td>1</td>\n",
       "      <td>Completed-Closed</td>\n",
       "      <td>2012-03-15 20:11:33</td>\n",
       "      <td>148.0</td>\n",
       "      <td>194818911.0</td>\n",
       "      <td>148.0</td>\n",
       "      <td>0</td>\n",
       "    </tr>\n",
       "    <tr>\n",
       "      <th>5</th>\n",
       "      <td>2</td>\n",
       "      <td>Accepted-In Progress</td>\n",
       "      <td>2006-11-07 18:00:36</td>\n",
       "      <td>0.0</td>\n",
       "      <td>0.0</td>\n",
       "      <td>0.0</td>\n",
       "      <td>0</td>\n",
       "    </tr>\n",
       "    <tr>\n",
       "      <th>6</th>\n",
       "      <td>2</td>\n",
       "      <td>Accepted-In Progress</td>\n",
       "      <td>2006-11-07 21:05:44</td>\n",
       "      <td>11108.0</td>\n",
       "      <td>11108.0</td>\n",
       "      <td>11108.0</td>\n",
       "      <td>0</td>\n",
       "    </tr>\n",
       "    <tr>\n",
       "      <th>7</th>\n",
       "      <td>2</td>\n",
       "      <td>Accepted-Wait</td>\n",
       "      <td>2009-12-02 22:24:32</td>\n",
       "      <td>96859128.0</td>\n",
       "      <td>96870236.0</td>\n",
       "      <td>96859128.0</td>\n",
       "      <td>0</td>\n",
       "    </tr>\n",
       "    <tr>\n",
       "      <th>8</th>\n",
       "      <td>2</td>\n",
       "      <td>Accepted-In Progress</td>\n",
       "      <td>2011-09-03 14:09:09</td>\n",
       "      <td>55266277.0</td>\n",
       "      <td>152136513.0</td>\n",
       "      <td>55266277.0</td>\n",
       "      <td>0</td>\n",
       "    </tr>\n",
       "    <tr>\n",
       "      <th>9</th>\n",
       "      <td>2</td>\n",
       "      <td>Accepted-In Progress</td>\n",
       "      <td>2012-01-20 18:23:24</td>\n",
       "      <td>12024855.0</td>\n",
       "      <td>164161368.0</td>\n",
       "      <td>12024855.0</td>\n",
       "      <td>0</td>\n",
       "    </tr>\n",
       "    <tr>\n",
       "      <th>10</th>\n",
       "      <td>2</td>\n",
       "      <td>Completed-Closed</td>\n",
       "      <td>2012-01-20 18:23:27</td>\n",
       "      <td>3.0</td>\n",
       "      <td>164161371.0</td>\n",
       "      <td>3.0</td>\n",
       "      <td>0</td>\n",
       "    </tr>\n",
       "  </tbody>\n",
       "</table>\n",
       "</div>"
      ],
      "text/plain": [
       "   CaseID                    Activity   CompleteTimestamp     Duration  \\\n",
       "0       1  Queued-Awaiting Assignment 2006-01-11 23:49:42          0.0   \n",
       "1       1        Accepted-In Progress 2012-03-15 19:53:52  194817850.0   \n",
       "2       1           Accepted-Assigned 2012-03-15 19:56:17        145.0   \n",
       "3       1        Accepted-In Progress 2012-03-15 20:09:05        768.0   \n",
       "4       1            Completed-Closed 2012-03-15 20:11:33        148.0   \n",
       "5       2        Accepted-In Progress 2006-11-07 18:00:36          0.0   \n",
       "6       2        Accepted-In Progress 2006-11-07 21:05:44      11108.0   \n",
       "7       2               Accepted-Wait 2009-12-02 22:24:32   96859128.0   \n",
       "8       2        Accepted-In Progress 2011-09-03 14:09:09   55266277.0   \n",
       "9       2        Accepted-In Progress 2012-01-20 18:23:24   12024855.0   \n",
       "10      2            Completed-Closed 2012-01-20 18:23:27          3.0   \n",
       "\n",
       "    CumDuration  AnomalousDuration  TimeLabel  \n",
       "0           0.0                0.0          0  \n",
       "1   194817850.0        194817850.0          0  \n",
       "2   194817995.0              145.0          0  \n",
       "3   194818763.0              768.0          0  \n",
       "4   194818911.0              148.0          0  \n",
       "5           0.0                0.0          0  \n",
       "6       11108.0            11108.0          0  \n",
       "7    96870236.0         96859128.0          0  \n",
       "8   152136513.0         55266277.0          0  \n",
       "9   164161368.0         12024855.0          0  \n",
       "10  164161371.0                3.0          0  "
      ]
     },
     "execution_count": 30,
     "metadata": {},
     "output_type": "execute_result"
    }
   ],
   "source": [
    "temp_df.head(11)"
   ]
  },
  {
   "cell_type": "code",
   "execution_count": 31,
   "metadata": {
    "collapsed": false,
    "deletable": true,
    "editable": true
   },
   "outputs": [],
   "source": [
    "temp_df_1 = pd.DataFrame(columns=list(temp_df)+['AnomalousCompleteTimestamp'])\n",
    "groupByCase = temp_df.groupby(['CaseID'])\n",
    "\n",
    "for case, group in groupByCase:\n",
    "    group['AnomalousCompleteTimestamp'] = group['CompleteTimestamp'].copy()\n",
    "    if group['TimeLabel'].sum() > 0:\n",
    "        for row in range(group.shape[0]-1):\n",
    "            previous_timestamp = group['CompleteTimestamp'].iloc[row]\n",
    "            current_duration = group['AnomalousDuration'].iloc[row+1]\n",
    "            current_timestamp = previous_timestamp + timedelta(seconds=current_duration)\n",
    "            group['AnomalousCompleteTimestamp'].iloc[row+1] = current_timestamp\n",
    "    temp_df_1 = temp_df_1.append(group)"
   ]
  },
  {
   "cell_type": "code",
   "execution_count": 32,
   "metadata": {
    "collapsed": false,
    "deletable": true,
    "editable": true
   },
   "outputs": [
    {
     "data": {
      "text/html": [
       "<div>\n",
       "<style>\n",
       "    .dataframe thead tr:only-child th {\n",
       "        text-align: right;\n",
       "    }\n",
       "\n",
       "    .dataframe thead th {\n",
       "        text-align: left;\n",
       "    }\n",
       "\n",
       "    .dataframe tbody tr th {\n",
       "        vertical-align: top;\n",
       "    }\n",
       "</style>\n",
       "<table border=\"1\" class=\"dataframe\">\n",
       "  <thead>\n",
       "    <tr style=\"text-align: right;\">\n",
       "      <th></th>\n",
       "      <th>CaseID</th>\n",
       "      <th>Activity</th>\n",
       "      <th>CompleteTimestamp</th>\n",
       "      <th>Duration</th>\n",
       "      <th>CumDuration</th>\n",
       "      <th>AnomalousDuration</th>\n",
       "      <th>TimeLabel</th>\n",
       "      <th>AnomalousCompleteTimestamp</th>\n",
       "    </tr>\n",
       "  </thead>\n",
       "  <tbody>\n",
       "    <tr>\n",
       "      <th>0</th>\n",
       "      <td>1</td>\n",
       "      <td>Queued-Awaiting Assignment</td>\n",
       "      <td>2006-01-11 23:49:42</td>\n",
       "      <td>0.0</td>\n",
       "      <td>0.0</td>\n",
       "      <td>0.0</td>\n",
       "      <td>0</td>\n",
       "      <td>2006-01-11 23:49:42</td>\n",
       "    </tr>\n",
       "    <tr>\n",
       "      <th>1</th>\n",
       "      <td>1</td>\n",
       "      <td>Accepted-In Progress</td>\n",
       "      <td>2012-03-15 19:53:52</td>\n",
       "      <td>194817850.0</td>\n",
       "      <td>194817850.0</td>\n",
       "      <td>194817850.0</td>\n",
       "      <td>0</td>\n",
       "      <td>2012-03-15 19:53:52</td>\n",
       "    </tr>\n",
       "    <tr>\n",
       "      <th>2</th>\n",
       "      <td>1</td>\n",
       "      <td>Accepted-Assigned</td>\n",
       "      <td>2012-03-15 19:56:17</td>\n",
       "      <td>145.0</td>\n",
       "      <td>194817995.0</td>\n",
       "      <td>145.0</td>\n",
       "      <td>0</td>\n",
       "      <td>2012-03-15 19:56:17</td>\n",
       "    </tr>\n",
       "    <tr>\n",
       "      <th>3</th>\n",
       "      <td>1</td>\n",
       "      <td>Accepted-In Progress</td>\n",
       "      <td>2012-03-15 20:09:05</td>\n",
       "      <td>768.0</td>\n",
       "      <td>194818763.0</td>\n",
       "      <td>768.0</td>\n",
       "      <td>0</td>\n",
       "      <td>2012-03-15 20:09:05</td>\n",
       "    </tr>\n",
       "    <tr>\n",
       "      <th>4</th>\n",
       "      <td>1</td>\n",
       "      <td>Completed-Closed</td>\n",
       "      <td>2012-03-15 20:11:33</td>\n",
       "      <td>148.0</td>\n",
       "      <td>194818911.0</td>\n",
       "      <td>148.0</td>\n",
       "      <td>0</td>\n",
       "      <td>2012-03-15 20:11:33</td>\n",
       "    </tr>\n",
       "    <tr>\n",
       "      <th>5</th>\n",
       "      <td>2</td>\n",
       "      <td>Accepted-In Progress</td>\n",
       "      <td>2006-11-07 18:00:36</td>\n",
       "      <td>0.0</td>\n",
       "      <td>0.0</td>\n",
       "      <td>0.0</td>\n",
       "      <td>0</td>\n",
       "      <td>2006-11-07 18:00:36</td>\n",
       "    </tr>\n",
       "    <tr>\n",
       "      <th>6</th>\n",
       "      <td>2</td>\n",
       "      <td>Accepted-In Progress</td>\n",
       "      <td>2006-11-07 21:05:44</td>\n",
       "      <td>11108.0</td>\n",
       "      <td>11108.0</td>\n",
       "      <td>11108.0</td>\n",
       "      <td>0</td>\n",
       "      <td>2006-11-07 21:05:44</td>\n",
       "    </tr>\n",
       "    <tr>\n",
       "      <th>7</th>\n",
       "      <td>2</td>\n",
       "      <td>Accepted-Wait</td>\n",
       "      <td>2009-12-02 22:24:32</td>\n",
       "      <td>96859128.0</td>\n",
       "      <td>96870236.0</td>\n",
       "      <td>96859128.0</td>\n",
       "      <td>0</td>\n",
       "      <td>2009-12-02 22:24:32</td>\n",
       "    </tr>\n",
       "    <tr>\n",
       "      <th>8</th>\n",
       "      <td>2</td>\n",
       "      <td>Accepted-In Progress</td>\n",
       "      <td>2011-09-03 14:09:09</td>\n",
       "      <td>55266277.0</td>\n",
       "      <td>152136513.0</td>\n",
       "      <td>55266277.0</td>\n",
       "      <td>0</td>\n",
       "      <td>2011-09-03 14:09:09</td>\n",
       "    </tr>\n",
       "    <tr>\n",
       "      <th>9</th>\n",
       "      <td>2</td>\n",
       "      <td>Accepted-In Progress</td>\n",
       "      <td>2012-01-20 18:23:24</td>\n",
       "      <td>12024855.0</td>\n",
       "      <td>164161368.0</td>\n",
       "      <td>12024855.0</td>\n",
       "      <td>0</td>\n",
       "      <td>2012-01-20 18:23:24</td>\n",
       "    </tr>\n",
       "    <tr>\n",
       "      <th>10</th>\n",
       "      <td>2</td>\n",
       "      <td>Completed-Closed</td>\n",
       "      <td>2012-01-20 18:23:27</td>\n",
       "      <td>3.0</td>\n",
       "      <td>164161371.0</td>\n",
       "      <td>3.0</td>\n",
       "      <td>0</td>\n",
       "      <td>2012-01-20 18:23:27</td>\n",
       "    </tr>\n",
       "  </tbody>\n",
       "</table>\n",
       "</div>"
      ],
      "text/plain": [
       "   CaseID                    Activity   CompleteTimestamp     Duration  \\\n",
       "0       1  Queued-Awaiting Assignment 2006-01-11 23:49:42          0.0   \n",
       "1       1        Accepted-In Progress 2012-03-15 19:53:52  194817850.0   \n",
       "2       1           Accepted-Assigned 2012-03-15 19:56:17        145.0   \n",
       "3       1        Accepted-In Progress 2012-03-15 20:09:05        768.0   \n",
       "4       1            Completed-Closed 2012-03-15 20:11:33        148.0   \n",
       "5       2        Accepted-In Progress 2006-11-07 18:00:36          0.0   \n",
       "6       2        Accepted-In Progress 2006-11-07 21:05:44      11108.0   \n",
       "7       2               Accepted-Wait 2009-12-02 22:24:32   96859128.0   \n",
       "8       2        Accepted-In Progress 2011-09-03 14:09:09   55266277.0   \n",
       "9       2        Accepted-In Progress 2012-01-20 18:23:24   12024855.0   \n",
       "10      2            Completed-Closed 2012-01-20 18:23:27          3.0   \n",
       "\n",
       "    CumDuration  AnomalousDuration TimeLabel AnomalousCompleteTimestamp  \n",
       "0           0.0                0.0         0        2006-01-11 23:49:42  \n",
       "1   194817850.0        194817850.0         0        2012-03-15 19:53:52  \n",
       "2   194817995.0              145.0         0        2012-03-15 19:56:17  \n",
       "3   194818763.0              768.0         0        2012-03-15 20:09:05  \n",
       "4   194818911.0              148.0         0        2012-03-15 20:11:33  \n",
       "5           0.0                0.0         0        2006-11-07 18:00:36  \n",
       "6       11108.0            11108.0         0        2006-11-07 21:05:44  \n",
       "7    96870236.0         96859128.0         0        2009-12-02 22:24:32  \n",
       "8   152136513.0         55266277.0         0        2011-09-03 14:09:09  \n",
       "9   164161368.0         12024855.0         0        2012-01-20 18:23:24  \n",
       "10  164161371.0                3.0         0        2012-01-20 18:23:27  "
      ]
     },
     "execution_count": 32,
     "metadata": {},
     "output_type": "execute_result"
    }
   ],
   "source": [
    "temp_df_1.head(11)"
   ]
  },
  {
   "cell_type": "code",
   "execution_count": 33,
   "metadata": {
    "collapsed": false,
    "deletable": true,
    "editable": true
   },
   "outputs": [],
   "source": [
    "groupByCase = temp_df_1.groupby(['CaseID'])\n",
    "df = pd.DataFrame(pd.DataFrame(columns=list(temp_df_1)+['AnomalousCumDuration']))\n",
    "                           \n",
    "for case, group in groupByCase:\n",
    "    group = calculateAnomalousCumDuration(group)\n",
    "    group['AnomalousCumDuration'] = group['AnomalousCumDuration'].apply(convert2seconds)\n",
    "    df = df.append(group)"
   ]
  },
  {
   "cell_type": "code",
   "execution_count": 34,
   "metadata": {
    "collapsed": false,
    "deletable": true,
    "editable": true
   },
   "outputs": [
    {
     "data": {
      "text/html": [
       "<div>\n",
       "<style>\n",
       "    .dataframe thead tr:only-child th {\n",
       "        text-align: right;\n",
       "    }\n",
       "\n",
       "    .dataframe thead th {\n",
       "        text-align: left;\n",
       "    }\n",
       "\n",
       "    .dataframe tbody tr th {\n",
       "        vertical-align: top;\n",
       "    }\n",
       "</style>\n",
       "<table border=\"1\" class=\"dataframe\">\n",
       "  <thead>\n",
       "    <tr style=\"text-align: right;\">\n",
       "      <th></th>\n",
       "      <th>CaseID</th>\n",
       "      <th>Activity</th>\n",
       "      <th>CompleteTimestamp</th>\n",
       "      <th>Duration</th>\n",
       "      <th>CumDuration</th>\n",
       "      <th>AnomalousDuration</th>\n",
       "      <th>TimeLabel</th>\n",
       "      <th>AnomalousCompleteTimestamp</th>\n",
       "      <th>AnomalousCumDuration</th>\n",
       "    </tr>\n",
       "  </thead>\n",
       "  <tbody>\n",
       "    <tr>\n",
       "      <th>0</th>\n",
       "      <td>1</td>\n",
       "      <td>Queued-Awaiting Assignment</td>\n",
       "      <td>2006-01-11 23:49:42</td>\n",
       "      <td>0.0</td>\n",
       "      <td>0.0</td>\n",
       "      <td>0.0</td>\n",
       "      <td>0</td>\n",
       "      <td>2006-01-11 23:49:42</td>\n",
       "      <td>0.0</td>\n",
       "    </tr>\n",
       "    <tr>\n",
       "      <th>1</th>\n",
       "      <td>1</td>\n",
       "      <td>Accepted-In Progress</td>\n",
       "      <td>2012-03-15 19:53:52</td>\n",
       "      <td>194817850.0</td>\n",
       "      <td>194817850.0</td>\n",
       "      <td>194817850.0</td>\n",
       "      <td>0</td>\n",
       "      <td>2012-03-15 19:53:52</td>\n",
       "      <td>194817850.0</td>\n",
       "    </tr>\n",
       "    <tr>\n",
       "      <th>2</th>\n",
       "      <td>1</td>\n",
       "      <td>Accepted-Assigned</td>\n",
       "      <td>2012-03-15 19:56:17</td>\n",
       "      <td>145.0</td>\n",
       "      <td>194817995.0</td>\n",
       "      <td>145.0</td>\n",
       "      <td>0</td>\n",
       "      <td>2012-03-15 19:56:17</td>\n",
       "      <td>194817995.0</td>\n",
       "    </tr>\n",
       "    <tr>\n",
       "      <th>3</th>\n",
       "      <td>1</td>\n",
       "      <td>Accepted-In Progress</td>\n",
       "      <td>2012-03-15 20:09:05</td>\n",
       "      <td>768.0</td>\n",
       "      <td>194818763.0</td>\n",
       "      <td>768.0</td>\n",
       "      <td>0</td>\n",
       "      <td>2012-03-15 20:09:05</td>\n",
       "      <td>194818763.0</td>\n",
       "    </tr>\n",
       "    <tr>\n",
       "      <th>4</th>\n",
       "      <td>1</td>\n",
       "      <td>Completed-Closed</td>\n",
       "      <td>2012-03-15 20:11:33</td>\n",
       "      <td>148.0</td>\n",
       "      <td>194818911.0</td>\n",
       "      <td>148.0</td>\n",
       "      <td>0</td>\n",
       "      <td>2012-03-15 20:11:33</td>\n",
       "      <td>194818911.0</td>\n",
       "    </tr>\n",
       "  </tbody>\n",
       "</table>\n",
       "</div>"
      ],
      "text/plain": [
       "  CaseID                    Activity   CompleteTimestamp     Duration  \\\n",
       "0      1  Queued-Awaiting Assignment 2006-01-11 23:49:42          0.0   \n",
       "1      1        Accepted-In Progress 2012-03-15 19:53:52  194817850.0   \n",
       "2      1           Accepted-Assigned 2012-03-15 19:56:17        145.0   \n",
       "3      1        Accepted-In Progress 2012-03-15 20:09:05        768.0   \n",
       "4      1            Completed-Closed 2012-03-15 20:11:33        148.0   \n",
       "\n",
       "   CumDuration  AnomalousDuration TimeLabel AnomalousCompleteTimestamp  \\\n",
       "0          0.0                0.0         0        2006-01-11 23:49:42   \n",
       "1  194817850.0        194817850.0         0        2012-03-15 19:53:52   \n",
       "2  194817995.0              145.0         0        2012-03-15 19:56:17   \n",
       "3  194818763.0              768.0         0        2012-03-15 20:09:05   \n",
       "4  194818911.0              148.0         0        2012-03-15 20:11:33   \n",
       "\n",
       "   AnomalousCumDuration  \n",
       "0                   0.0  \n",
       "1           194817850.0  \n",
       "2           194817995.0  \n",
       "3           194818763.0  \n",
       "4           194818911.0  "
      ]
     },
     "execution_count": 34,
     "metadata": {},
     "output_type": "execute_result"
    }
   ],
   "source": [
    "df.head()"
   ]
  },
  {
   "cell_type": "markdown",
   "metadata": {
    "deletable": true,
    "editable": true
   },
   "source": [
    "## Get full df"
   ]
  },
  {
   "cell_type": "code",
   "execution_count": 35,
   "metadata": {
    "collapsed": true,
    "deletable": true,
    "editable": true
   },
   "outputs": [],
   "source": [
    "full_df = pd.concat([df, temp_time], axis=1)"
   ]
  },
  {
   "cell_type": "code",
   "execution_count": 36,
   "metadata": {
    "collapsed": false,
    "deletable": true,
    "editable": true
   },
   "outputs": [
    {
     "data": {
      "text/html": [
       "<div>\n",
       "<style>\n",
       "    .dataframe thead tr:only-child th {\n",
       "        text-align: right;\n",
       "    }\n",
       "\n",
       "    .dataframe thead th {\n",
       "        text-align: left;\n",
       "    }\n",
       "\n",
       "    .dataframe tbody tr th {\n",
       "        vertical-align: top;\n",
       "    }\n",
       "</style>\n",
       "<table border=\"1\" class=\"dataframe\">\n",
       "  <thead>\n",
       "    <tr style=\"text-align: right;\">\n",
       "      <th></th>\n",
       "      <th>CaseID</th>\n",
       "      <th>Activity</th>\n",
       "      <th>CompleteTimestamp</th>\n",
       "      <th>Duration</th>\n",
       "      <th>CumDuration</th>\n",
       "      <th>AnomalousDuration</th>\n",
       "      <th>TimeLabel</th>\n",
       "      <th>AnomalousCompleteTimestamp</th>\n",
       "      <th>AnomalousCumDuration</th>\n",
       "      <th>AnomalousActivity</th>\n",
       "      <th>ActivityLabel</th>\n",
       "    </tr>\n",
       "  </thead>\n",
       "  <tbody>\n",
       "    <tr>\n",
       "      <th>0</th>\n",
       "      <td>1</td>\n",
       "      <td>Queued-Awaiting Assignment</td>\n",
       "      <td>2006-01-11 23:49:42</td>\n",
       "      <td>0.0</td>\n",
       "      <td>0.0</td>\n",
       "      <td>0.0</td>\n",
       "      <td>0</td>\n",
       "      <td>2006-01-11 23:49:42</td>\n",
       "      <td>0.0</td>\n",
       "      <td>Queued-Awaiting Assignment</td>\n",
       "      <td>0</td>\n",
       "    </tr>\n",
       "    <tr>\n",
       "      <th>1</th>\n",
       "      <td>1</td>\n",
       "      <td>Accepted-In Progress</td>\n",
       "      <td>2012-03-15 19:53:52</td>\n",
       "      <td>194817850.0</td>\n",
       "      <td>194817850.0</td>\n",
       "      <td>194817850.0</td>\n",
       "      <td>0</td>\n",
       "      <td>2012-03-15 19:53:52</td>\n",
       "      <td>194817850.0</td>\n",
       "      <td>Accepted-In Progress</td>\n",
       "      <td>0</td>\n",
       "    </tr>\n",
       "    <tr>\n",
       "      <th>2</th>\n",
       "      <td>1</td>\n",
       "      <td>Accepted-Assigned</td>\n",
       "      <td>2012-03-15 19:56:17</td>\n",
       "      <td>145.0</td>\n",
       "      <td>194817995.0</td>\n",
       "      <td>145.0</td>\n",
       "      <td>0</td>\n",
       "      <td>2012-03-15 19:56:17</td>\n",
       "      <td>194817995.0</td>\n",
       "      <td>Accepted-In Progress</td>\n",
       "      <td>1</td>\n",
       "    </tr>\n",
       "    <tr>\n",
       "      <th>3</th>\n",
       "      <td>1</td>\n",
       "      <td>Accepted-In Progress</td>\n",
       "      <td>2012-03-15 20:09:05</td>\n",
       "      <td>768.0</td>\n",
       "      <td>194818763.0</td>\n",
       "      <td>768.0</td>\n",
       "      <td>0</td>\n",
       "      <td>2012-03-15 20:09:05</td>\n",
       "      <td>194818763.0</td>\n",
       "      <td>Accepted-Assigned</td>\n",
       "      <td>1</td>\n",
       "    </tr>\n",
       "    <tr>\n",
       "      <th>4</th>\n",
       "      <td>1</td>\n",
       "      <td>Completed-Closed</td>\n",
       "      <td>2012-03-15 20:11:33</td>\n",
       "      <td>148.0</td>\n",
       "      <td>194818911.0</td>\n",
       "      <td>148.0</td>\n",
       "      <td>0</td>\n",
       "      <td>2012-03-15 20:11:33</td>\n",
       "      <td>194818911.0</td>\n",
       "      <td>Completed-Closed</td>\n",
       "      <td>0</td>\n",
       "    </tr>\n",
       "  </tbody>\n",
       "</table>\n",
       "</div>"
      ],
      "text/plain": [
       "  CaseID                    Activity   CompleteTimestamp     Duration  \\\n",
       "0      1  Queued-Awaiting Assignment 2006-01-11 23:49:42          0.0   \n",
       "1      1        Accepted-In Progress 2012-03-15 19:53:52  194817850.0   \n",
       "2      1           Accepted-Assigned 2012-03-15 19:56:17        145.0   \n",
       "3      1        Accepted-In Progress 2012-03-15 20:09:05        768.0   \n",
       "4      1            Completed-Closed 2012-03-15 20:11:33        148.0   \n",
       "\n",
       "   CumDuration  AnomalousDuration TimeLabel AnomalousCompleteTimestamp  \\\n",
       "0          0.0                0.0         0        2006-01-11 23:49:42   \n",
       "1  194817850.0        194817850.0         0        2012-03-15 19:53:52   \n",
       "2  194817995.0              145.0         0        2012-03-15 19:56:17   \n",
       "3  194818763.0              768.0         0        2012-03-15 20:09:05   \n",
       "4  194818911.0              148.0         0        2012-03-15 20:11:33   \n",
       "\n",
       "   AnomalousCumDuration           AnomalousActivity  ActivityLabel  \n",
       "0                   0.0  Queued-Awaiting Assignment              0  \n",
       "1           194817850.0        Accepted-In Progress              0  \n",
       "2           194817995.0        Accepted-In Progress              1  \n",
       "3           194818763.0           Accepted-Assigned              1  \n",
       "4           194818911.0            Completed-Closed              0  "
      ]
     },
     "execution_count": 36,
     "metadata": {},
     "output_type": "execute_result"
    }
   ],
   "source": [
    "full_df.head()"
   ]
  },
  {
   "cell_type": "code",
   "execution_count": 37,
   "metadata": {
    "collapsed": false,
    "deletable": true,
    "editable": true
   },
   "outputs": [],
   "source": [
    "df = full_df[['CaseID', 'Activity', 'CompleteTimestamp', 'Duration', 'CumDuration']]\n",
    "anomalous_df = full_df[['CaseID', 'AnomalousActivity', 'AnomalousCompleteTimestamp', 'AnomalousDuration', \n",
    "                        'AnomalousCumDuration', 'ActivityLabel', 'TimeLabel']]"
   ]
  },
  {
   "cell_type": "code",
   "execution_count": 38,
   "metadata": {
    "collapsed": false,
    "deletable": true,
    "editable": true
   },
   "outputs": [
    {
     "name": "stdout",
     "output_type": "stream",
     "text": [
      "Saving dataframes...\n"
     ]
    }
   ],
   "source": [
    "print('Saving dataframes...')\n",
    "df_name = os.path.join(args.input_dir, 'df_{}.csv'.format(args.anomaly_pct))\n",
    "df.to_csv(df_name, index=False)\n",
    "\n",
    "anomalous_df_name = os.path.join(args.input_dir, 'anomolous_df_{}.csv'.format(args.anomaly_pct))\n",
    "anomalous_df.to_csv(anomalous_df_name, index=False)"
   ]
  },
  {
   "cell_type": "markdown",
   "metadata": {
    "deletable": true,
    "editable": true
   },
   "source": [
    "# Preprocess data"
   ]
  },
  {
   "cell_type": "code",
   "execution_count": 39,
   "metadata": {
    "collapsed": true,
    "deletable": true,
    "editable": true
   },
   "outputs": [],
   "source": [
    "groupByCase = anomalous_df.groupby(['CaseID'])\n",
    "\n",
    "# Split: 70% train, 20% validate, 20% test\n",
    "train_case_num = int(len(groupByCase)*args.train_pct)\n",
    "val_case_num = int(len(groupByCase)*args.val_pct)\n",
    "test_case_num = len(groupByCase) - train_case_num - val_case_num"
   ]
  },
  {
   "cell_type": "code",
   "execution_count": 40,
   "metadata": {
    "collapsed": false,
    "deletable": true,
    "editable": true
   },
   "outputs": [],
   "source": [
    "anomalous_df_train = pd.DataFrame(columns=list(anomalous_df))\n",
    "anomalous_df_val = pd.DataFrame(columns=list(anomalous_df))\n",
    "anomalous_df_test = pd.DataFrame(columns=list(anomalous_df))\n",
    "\n",
    "for caseid, data_case in groupByCase:\n",
    "    if caseid <= train_case_num:\n",
    "        anomalous_df_train = anomalous_df_train.append(data_case)\n",
    "    elif train_case_num < caseid <= (train_case_num+val_case_num):\n",
    "        anomalous_df_val = anomalous_df_val.append(data_case)\n",
    "    else:\n",
    "        anomalous_df_test = anomalous_df_test.append(data_case)"
   ]
  },
  {
   "cell_type": "code",
   "execution_count": 41,
   "metadata": {
    "collapsed": false,
    "deletable": true,
    "editable": true
   },
   "outputs": [
    {
     "name": "stdout",
     "output_type": "stream",
     "text": [
      "Checking shapes of sub data:  True\n"
     ]
    }
   ],
   "source": [
    "print('Checking shapes of sub data: ', anomalous_df.shape[0] == anomalous_df_train.shape[0] + anomalous_df_val.shape[0] + anomalous_df_test.shape[0])"
   ]
  },
  {
   "cell_type": "code",
   "execution_count": 42,
   "metadata": {
    "collapsed": false,
    "deletable": true,
    "editable": true
   },
   "outputs": [
    {
     "name": "stdout",
     "output_type": "stream",
     "text": [
      "Number of rows for training: 4493\n",
      "Number of rows for val: 1096\n",
      "Number of rows for testing: 1071\n"
     ]
    }
   ],
   "source": [
    "train_row_num = anomalous_df_train.shape[0]\n",
    "val_row_num = anomalous_df_val.shape[0]\n",
    "test_row_num = anomalous_df_test.shape[0]\n",
    "\n",
    "print('Number of rows for training: {}'.format(train_row_num))\n",
    "print('Number of rows for val: {}'.format(val_row_num))\n",
    "print('Number of rows for testing: {}'.format(test_row_num))"
   ]
  },
  {
   "cell_type": "code",
   "execution_count": 43,
   "metadata": {
    "collapsed": false,
    "deletable": true,
    "editable": true
   },
   "outputs": [
    {
     "name": "stdout",
     "output_type": "stream",
     "text": [
      "Number of anomalous values in train set: 853\n",
      "Number of anomalous activities in train set: 393\n",
      "Number of anomalous time in train set: 460\n",
      "\n",
      "\n",
      "Number of anomalous values in validate set: 224\n",
      "Number of anomalous activities in validate set: 117\n",
      "Number of anomalous time in validate set: 107\n",
      "\n",
      "\n",
      "Number of anomalous values in test set: 217\n",
      "Number of anomalous activities in test set: 118\n",
      "Number of anomalous time in test set: 99\n"
     ]
    }
   ],
   "source": [
    "print('Number of anomalous values in train set: {}'.format(anomalous_df_train['ActivityLabel'].sum() + anomalous_df_train['TimeLabel'].sum()))\n",
    "print('Number of anomalous activities in train set: {}'.format(anomalous_df_train['ActivityLabel'].sum()))\n",
    "print('Number of anomalous time in train set: {}'.format(anomalous_df_train['TimeLabel'].sum()))\n",
    "print('\\n')\n",
    "print('Number of anomalous values in validate set: {}'.format(anomalous_df_val['ActivityLabel'].sum() + anomalous_df_val['TimeLabel'].sum()))\n",
    "print('Number of anomalous activities in validate set: {}'.format(anomalous_df_val['ActivityLabel'].sum()))\n",
    "print('Number of anomalous time in validate set: {}'.format(anomalous_df_val['TimeLabel'].sum()))\n",
    "print('\\n')\n",
    "print('Number of anomalous values in test set: {}'.format(anomalous_df_test['ActivityLabel'].sum() + anomalous_df_test['TimeLabel'].sum()))\n",
    "print('Number of anomalous activities in test set: {}'.format(anomalous_df_test['ActivityLabel'].sum()))\n",
    "print('Number of anomalous time in test set: {}'.format(anomalous_df_test['TimeLabel'].sum()))"
   ]
  },
  {
   "cell_type": "code",
   "execution_count": 44,
   "metadata": {
    "collapsed": false,
    "deletable": true,
    "editable": true
   },
   "outputs": [
    {
     "data": {
      "text/plain": [
       "653.0"
      ]
     },
     "execution_count": 44,
     "metadata": {},
     "output_type": "execute_result"
    }
   ],
   "source": [
    "(848+226+232)/2"
   ]
  },
  {
   "cell_type": "markdown",
   "metadata": {
    "deletable": true,
    "editable": true
   },
   "source": [
    "# Prepare input"
   ]
  },
  {
   "cell_type": "code",
   "execution_count": 45,
   "metadata": {
    "collapsed": false,
    "deletable": true,
    "editable": true
   },
   "outputs": [
    {
     "data": {
      "text/html": [
       "<div>\n",
       "<style>\n",
       "    .dataframe thead tr:only-child th {\n",
       "        text-align: right;\n",
       "    }\n",
       "\n",
       "    .dataframe thead th {\n",
       "        text-align: left;\n",
       "    }\n",
       "\n",
       "    .dataframe tbody tr th {\n",
       "        vertical-align: top;\n",
       "    }\n",
       "</style>\n",
       "<table border=\"1\" class=\"dataframe\">\n",
       "  <thead>\n",
       "    <tr style=\"text-align: right;\">\n",
       "      <th></th>\n",
       "      <th>CaseID</th>\n",
       "      <th>AnomalousActivity</th>\n",
       "      <th>AnomalousCompleteTimestamp</th>\n",
       "      <th>AnomalousDuration</th>\n",
       "      <th>AnomalousCumDuration</th>\n",
       "      <th>ActivityLabel</th>\n",
       "      <th>TimeLabel</th>\n",
       "    </tr>\n",
       "  </thead>\n",
       "  <tbody>\n",
       "    <tr>\n",
       "      <th>0</th>\n",
       "      <td>1</td>\n",
       "      <td>Queued-Awaiting Assignment</td>\n",
       "      <td>2006-01-11 23:49:42</td>\n",
       "      <td>0.0</td>\n",
       "      <td>0.0</td>\n",
       "      <td>0</td>\n",
       "      <td>0</td>\n",
       "    </tr>\n",
       "    <tr>\n",
       "      <th>1</th>\n",
       "      <td>1</td>\n",
       "      <td>Accepted-In Progress</td>\n",
       "      <td>2012-03-15 19:53:52</td>\n",
       "      <td>194817850.0</td>\n",
       "      <td>194817850.0</td>\n",
       "      <td>0</td>\n",
       "      <td>0</td>\n",
       "    </tr>\n",
       "    <tr>\n",
       "      <th>2</th>\n",
       "      <td>1</td>\n",
       "      <td>Accepted-In Progress</td>\n",
       "      <td>2012-03-15 19:56:17</td>\n",
       "      <td>145.0</td>\n",
       "      <td>194817995.0</td>\n",
       "      <td>1</td>\n",
       "      <td>0</td>\n",
       "    </tr>\n",
       "    <tr>\n",
       "      <th>3</th>\n",
       "      <td>1</td>\n",
       "      <td>Accepted-Assigned</td>\n",
       "      <td>2012-03-15 20:09:05</td>\n",
       "      <td>768.0</td>\n",
       "      <td>194818763.0</td>\n",
       "      <td>1</td>\n",
       "      <td>0</td>\n",
       "    </tr>\n",
       "    <tr>\n",
       "      <th>4</th>\n",
       "      <td>1</td>\n",
       "      <td>Completed-Closed</td>\n",
       "      <td>2012-03-15 20:11:33</td>\n",
       "      <td>148.0</td>\n",
       "      <td>194818911.0</td>\n",
       "      <td>0</td>\n",
       "      <td>0</td>\n",
       "    </tr>\n",
       "  </tbody>\n",
       "</table>\n",
       "</div>"
      ],
      "text/plain": [
       "  CaseID           AnomalousActivity AnomalousCompleteTimestamp  \\\n",
       "0      1  Queued-Awaiting Assignment        2006-01-11 23:49:42   \n",
       "1      1        Accepted-In Progress        2012-03-15 19:53:52   \n",
       "2      1        Accepted-In Progress        2012-03-15 19:56:17   \n",
       "3      1           Accepted-Assigned        2012-03-15 20:09:05   \n",
       "4      1            Completed-Closed        2012-03-15 20:11:33   \n",
       "\n",
       "   AnomalousDuration  AnomalousCumDuration  ActivityLabel TimeLabel  \n",
       "0                0.0                   0.0              0         0  \n",
       "1        194817850.0           194817850.0              0         0  \n",
       "2              145.0           194817995.0              1         0  \n",
       "3              768.0           194818763.0              1         0  \n",
       "4              148.0           194818911.0              0         0  "
      ]
     },
     "execution_count": 45,
     "metadata": {},
     "output_type": "execute_result"
    }
   ],
   "source": [
    "anomalous_df.head()"
   ]
  },
  {
   "cell_type": "markdown",
   "metadata": {
    "deletable": true,
    "editable": true
   },
   "source": [
    "## Labels"
   ]
  },
  {
   "cell_type": "code",
   "execution_count": 46,
   "metadata": {
    "collapsed": false,
    "deletable": true,
    "editable": true
   },
   "outputs": [],
   "source": [
    "activity_label = anomalous_df['ActivityLabel']\n",
    "time_label = anomalous_df['TimeLabel']"
   ]
  },
  {
   "cell_type": "code",
   "execution_count": 47,
   "metadata": {
    "collapsed": true,
    "deletable": true,
    "editable": true
   },
   "outputs": [],
   "source": [
    "activity_label_train = activity_label[:train_row_num]\n",
    "activity_label_val = activity_label[train_row_num:train_row_num+val_row_num]\n",
    "activity_label_test = activity_label[-test_row_num:]\n",
    "\n",
    "time_label_train = time_label[:train_row_num]\n",
    "time_label_val = time_label[train_row_num:train_row_num+val_row_num]\n",
    "time_label_test = time_label[-test_row_num:]"
   ]
  },
  {
   "cell_type": "code",
   "execution_count": 48,
   "metadata": {
    "collapsed": false
   },
   "outputs": [
    {
     "data": {
      "text/plain": [
       "1071"
      ]
     },
     "execution_count": 48,
     "metadata": {},
     "output_type": "execute_result"
    }
   ],
   "source": [
    "len(time_label_test)"
   ]
  },
  {
   "cell_type": "code",
   "execution_count": 49,
   "metadata": {
    "collapsed": false,
    "deletable": true,
    "editable": true
   },
   "outputs": [],
   "source": [
    "anomaly = anomalous_df[['CaseID', 'AnomalousActivity', 'AnomalousCumDuration']]"
   ]
  },
  {
   "cell_type": "markdown",
   "metadata": {
    "deletable": true,
    "editable": true
   },
   "source": [
    "## Activity"
   ]
  },
  {
   "cell_type": "code",
   "execution_count": 50,
   "metadata": {
    "collapsed": true,
    "deletable": true,
    "editable": true
   },
   "outputs": [],
   "source": [
    "cat_var = ['AnomalousActivity']"
   ]
  },
  {
   "cell_type": "code",
   "execution_count": 51,
   "metadata": {
    "collapsed": false,
    "deletable": true,
    "editable": true
   },
   "outputs": [],
   "source": [
    "enc_data = OHE(anomaly, cat_var)"
   ]
  },
  {
   "cell_type": "code",
   "execution_count": 52,
   "metadata": {
    "collapsed": false,
    "deletable": true,
    "editable": true
   },
   "outputs": [
    {
     "data": {
      "text/html": [
       "<div>\n",
       "<style>\n",
       "    .dataframe thead tr:only-child th {\n",
       "        text-align: right;\n",
       "    }\n",
       "\n",
       "    .dataframe thead th {\n",
       "        text-align: left;\n",
       "    }\n",
       "\n",
       "    .dataframe tbody tr th {\n",
       "        vertical-align: top;\n",
       "    }\n",
       "</style>\n",
       "<table border=\"1\" class=\"dataframe\">\n",
       "  <thead>\n",
       "    <tr style=\"text-align: right;\">\n",
       "      <th></th>\n",
       "      <th>CaseID</th>\n",
       "      <th>AnomalousCumDuration</th>\n",
       "      <th>AnomalousActivity_Accepted-Assigned</th>\n",
       "      <th>AnomalousActivity_Accepted-In Progress</th>\n",
       "      <th>AnomalousActivity_Accepted-Wait</th>\n",
       "      <th>AnomalousActivity_Completed-Cancelled</th>\n",
       "      <th>AnomalousActivity_Completed-Closed</th>\n",
       "      <th>AnomalousActivity_Queued-Awaiting Assignment</th>\n",
       "      <th>AnomalousActivity_Unmatched-Unmatched</th>\n",
       "    </tr>\n",
       "  </thead>\n",
       "  <tbody>\n",
       "    <tr>\n",
       "      <th>0</th>\n",
       "      <td>1</td>\n",
       "      <td>0.0</td>\n",
       "      <td>0</td>\n",
       "      <td>0</td>\n",
       "      <td>0</td>\n",
       "      <td>0</td>\n",
       "      <td>0</td>\n",
       "      <td>1</td>\n",
       "      <td>0</td>\n",
       "    </tr>\n",
       "    <tr>\n",
       "      <th>1</th>\n",
       "      <td>1</td>\n",
       "      <td>194817850.0</td>\n",
       "      <td>0</td>\n",
       "      <td>1</td>\n",
       "      <td>0</td>\n",
       "      <td>0</td>\n",
       "      <td>0</td>\n",
       "      <td>0</td>\n",
       "      <td>0</td>\n",
       "    </tr>\n",
       "    <tr>\n",
       "      <th>2</th>\n",
       "      <td>1</td>\n",
       "      <td>194817995.0</td>\n",
       "      <td>0</td>\n",
       "      <td>1</td>\n",
       "      <td>0</td>\n",
       "      <td>0</td>\n",
       "      <td>0</td>\n",
       "      <td>0</td>\n",
       "      <td>0</td>\n",
       "    </tr>\n",
       "    <tr>\n",
       "      <th>3</th>\n",
       "      <td>1</td>\n",
       "      <td>194818763.0</td>\n",
       "      <td>1</td>\n",
       "      <td>0</td>\n",
       "      <td>0</td>\n",
       "      <td>0</td>\n",
       "      <td>0</td>\n",
       "      <td>0</td>\n",
       "      <td>0</td>\n",
       "    </tr>\n",
       "    <tr>\n",
       "      <th>4</th>\n",
       "      <td>1</td>\n",
       "      <td>194818911.0</td>\n",
       "      <td>0</td>\n",
       "      <td>0</td>\n",
       "      <td>0</td>\n",
       "      <td>0</td>\n",
       "      <td>1</td>\n",
       "      <td>0</td>\n",
       "      <td>0</td>\n",
       "    </tr>\n",
       "  </tbody>\n",
       "</table>\n",
       "</div>"
      ],
      "text/plain": [
       "  CaseID  AnomalousCumDuration  AnomalousActivity_Accepted-Assigned  \\\n",
       "0      1                   0.0                                    0   \n",
       "1      1           194817850.0                                    0   \n",
       "2      1           194817995.0                                    0   \n",
       "3      1           194818763.0                                    1   \n",
       "4      1           194818911.0                                    0   \n",
       "\n",
       "   AnomalousActivity_Accepted-In Progress  AnomalousActivity_Accepted-Wait  \\\n",
       "0                                       0                                0   \n",
       "1                                       1                                0   \n",
       "2                                       1                                0   \n",
       "3                                       0                                0   \n",
       "4                                       0                                0   \n",
       "\n",
       "   AnomalousActivity_Completed-Cancelled  AnomalousActivity_Completed-Closed  \\\n",
       "0                                      0                                   0   \n",
       "1                                      0                                   0   \n",
       "2                                      0                                   0   \n",
       "3                                      0                                   0   \n",
       "4                                      0                                   1   \n",
       "\n",
       "   AnomalousActivity_Queued-Awaiting Assignment  \\\n",
       "0                                             1   \n",
       "1                                             0   \n",
       "2                                             0   \n",
       "3                                             0   \n",
       "4                                             0   \n",
       "\n",
       "   AnomalousActivity_Unmatched-Unmatched  \n",
       "0                                      0  \n",
       "1                                      0  \n",
       "2                                      0  \n",
       "3                                      0  \n",
       "4                                      0  "
      ]
     },
     "execution_count": 52,
     "metadata": {},
     "output_type": "execute_result"
    }
   ],
   "source": [
    "enc_data.head()"
   ]
  },
  {
   "cell_type": "markdown",
   "metadata": {
    "deletable": true,
    "editable": true
   },
   "source": [
    "## Time"
   ]
  },
  {
   "cell_type": "code",
   "execution_count": 53,
   "metadata": {
    "collapsed": false,
    "deletable": true,
    "editable": true
   },
   "outputs": [],
   "source": [
    "min_value = np.min(enc_data['AnomalousCumDuration'].iloc[:train_row_num])\n",
    "max_value = np.max(enc_data['AnomalousCumDuration'].iloc[:train_row_num])"
   ]
  },
  {
   "cell_type": "code",
   "execution_count": 54,
   "metadata": {
    "collapsed": false,
    "deletable": true,
    "editable": true
   },
   "outputs": [
    {
     "name": "stdout",
     "output_type": "stream",
     "text": [
      "Min used for normalization: 0.0\n",
      "Max used for normalization: 194818911.0\n"
     ]
    }
   ],
   "source": [
    "print('Min used for normalization: {}'.format(min_value))\n",
    "print('Max used for normalization: {}'.format(max_value))"
   ]
  },
  {
   "cell_type": "code",
   "execution_count": 55,
   "metadata": {
    "collapsed": true,
    "deletable": true,
    "editable": true
   },
   "outputs": [],
   "source": [
    "enc_data['NormalizedCumDuration'] = enc_data['AnomalousCumDuration'].apply(lambda x: (x-min_value)/(max_value-min_value))"
   ]
  },
  {
   "cell_type": "code",
   "execution_count": 56,
   "metadata": {
    "collapsed": false,
    "deletable": true,
    "editable": true
   },
   "outputs": [
    {
     "data": {
      "text/html": [
       "<div>\n",
       "<style>\n",
       "    .dataframe thead tr:only-child th {\n",
       "        text-align: right;\n",
       "    }\n",
       "\n",
       "    .dataframe thead th {\n",
       "        text-align: left;\n",
       "    }\n",
       "\n",
       "    .dataframe tbody tr th {\n",
       "        vertical-align: top;\n",
       "    }\n",
       "</style>\n",
       "<table border=\"1\" class=\"dataframe\">\n",
       "  <thead>\n",
       "    <tr style=\"text-align: right;\">\n",
       "      <th></th>\n",
       "      <th>CaseID</th>\n",
       "      <th>AnomalousCumDuration</th>\n",
       "      <th>AnomalousActivity_Accepted-Assigned</th>\n",
       "      <th>AnomalousActivity_Accepted-In Progress</th>\n",
       "      <th>AnomalousActivity_Accepted-Wait</th>\n",
       "      <th>AnomalousActivity_Completed-Cancelled</th>\n",
       "      <th>AnomalousActivity_Completed-Closed</th>\n",
       "      <th>AnomalousActivity_Queued-Awaiting Assignment</th>\n",
       "      <th>AnomalousActivity_Unmatched-Unmatched</th>\n",
       "      <th>NormalizedCumDuration</th>\n",
       "    </tr>\n",
       "  </thead>\n",
       "  <tbody>\n",
       "    <tr>\n",
       "      <th>0</th>\n",
       "      <td>1</td>\n",
       "      <td>0.0</td>\n",
       "      <td>0</td>\n",
       "      <td>0</td>\n",
       "      <td>0</td>\n",
       "      <td>0</td>\n",
       "      <td>0</td>\n",
       "      <td>1</td>\n",
       "      <td>0</td>\n",
       "      <td>0.000000</td>\n",
       "    </tr>\n",
       "    <tr>\n",
       "      <th>1</th>\n",
       "      <td>1</td>\n",
       "      <td>194817850.0</td>\n",
       "      <td>0</td>\n",
       "      <td>1</td>\n",
       "      <td>0</td>\n",
       "      <td>0</td>\n",
       "      <td>0</td>\n",
       "      <td>0</td>\n",
       "      <td>0</td>\n",
       "      <td>0.999995</td>\n",
       "    </tr>\n",
       "    <tr>\n",
       "      <th>2</th>\n",
       "      <td>1</td>\n",
       "      <td>194817995.0</td>\n",
       "      <td>0</td>\n",
       "      <td>1</td>\n",
       "      <td>0</td>\n",
       "      <td>0</td>\n",
       "      <td>0</td>\n",
       "      <td>0</td>\n",
       "      <td>0</td>\n",
       "      <td>0.999995</td>\n",
       "    </tr>\n",
       "    <tr>\n",
       "      <th>3</th>\n",
       "      <td>1</td>\n",
       "      <td>194818763.0</td>\n",
       "      <td>1</td>\n",
       "      <td>0</td>\n",
       "      <td>0</td>\n",
       "      <td>0</td>\n",
       "      <td>0</td>\n",
       "      <td>0</td>\n",
       "      <td>0</td>\n",
       "      <td>0.999999</td>\n",
       "    </tr>\n",
       "    <tr>\n",
       "      <th>4</th>\n",
       "      <td>1</td>\n",
       "      <td>194818911.0</td>\n",
       "      <td>0</td>\n",
       "      <td>0</td>\n",
       "      <td>0</td>\n",
       "      <td>0</td>\n",
       "      <td>1</td>\n",
       "      <td>0</td>\n",
       "      <td>0</td>\n",
       "      <td>1.000000</td>\n",
       "    </tr>\n",
       "  </tbody>\n",
       "</table>\n",
       "</div>"
      ],
      "text/plain": [
       "  CaseID  AnomalousCumDuration  AnomalousActivity_Accepted-Assigned  \\\n",
       "0      1                   0.0                                    0   \n",
       "1      1           194817850.0                                    0   \n",
       "2      1           194817995.0                                    0   \n",
       "3      1           194818763.0                                    1   \n",
       "4      1           194818911.0                                    0   \n",
       "\n",
       "   AnomalousActivity_Accepted-In Progress  AnomalousActivity_Accepted-Wait  \\\n",
       "0                                       0                                0   \n",
       "1                                       1                                0   \n",
       "2                                       1                                0   \n",
       "3                                       0                                0   \n",
       "4                                       0                                0   \n",
       "\n",
       "   AnomalousActivity_Completed-Cancelled  AnomalousActivity_Completed-Closed  \\\n",
       "0                                      0                                   0   \n",
       "1                                      0                                   0   \n",
       "2                                      0                                   0   \n",
       "3                                      0                                   0   \n",
       "4                                      0                                   1   \n",
       "\n",
       "   AnomalousActivity_Queued-Awaiting Assignment  \\\n",
       "0                                             1   \n",
       "1                                             0   \n",
       "2                                             0   \n",
       "3                                             0   \n",
       "4                                             0   \n",
       "\n",
       "   AnomalousActivity_Unmatched-Unmatched  NormalizedCumDuration  \n",
       "0                                      0               0.000000  \n",
       "1                                      0               0.999995  \n",
       "2                                      0               0.999995  \n",
       "3                                      0               0.999999  \n",
       "4                                      0               1.000000  "
      ]
     },
     "execution_count": 56,
     "metadata": {},
     "output_type": "execute_result"
    }
   ],
   "source": [
    "enc_data.head()"
   ]
  },
  {
   "cell_type": "code",
   "execution_count": 57,
   "metadata": {
    "collapsed": false,
    "deletable": true,
    "editable": true
   },
   "outputs": [],
   "source": [
    "normalized_enc_data = enc_data.drop(['AnomalousCumDuration'], axis=1)"
   ]
  },
  {
   "cell_type": "markdown",
   "metadata": {
    "deletable": true,
    "editable": true
   },
   "source": [
    "## 0-padding"
   ]
  },
  {
   "cell_type": "code",
   "execution_count": 58,
   "metadata": {
    "collapsed": false,
    "deletable": true,
    "editable": true
   },
   "outputs": [
    {
     "data": {
      "text/html": [
       "<div>\n",
       "<style>\n",
       "    .dataframe thead tr:only-child th {\n",
       "        text-align: right;\n",
       "    }\n",
       "\n",
       "    .dataframe thead th {\n",
       "        text-align: left;\n",
       "    }\n",
       "\n",
       "    .dataframe tbody tr th {\n",
       "        vertical-align: top;\n",
       "    }\n",
       "</style>\n",
       "<table border=\"1\" class=\"dataframe\">\n",
       "  <thead>\n",
       "    <tr style=\"text-align: right;\">\n",
       "      <th></th>\n",
       "      <th>CaseID</th>\n",
       "      <th>AnomalousActivity_Accepted-Assigned</th>\n",
       "      <th>AnomalousActivity_Accepted-In Progress</th>\n",
       "      <th>AnomalousActivity_Accepted-Wait</th>\n",
       "      <th>AnomalousActivity_Completed-Cancelled</th>\n",
       "      <th>AnomalousActivity_Completed-Closed</th>\n",
       "      <th>AnomalousActivity_Queued-Awaiting Assignment</th>\n",
       "      <th>AnomalousActivity_Unmatched-Unmatched</th>\n",
       "      <th>NormalizedCumDuration</th>\n",
       "    </tr>\n",
       "  </thead>\n",
       "  <tbody>\n",
       "    <tr>\n",
       "      <th>0</th>\n",
       "      <td>1</td>\n",
       "      <td>0</td>\n",
       "      <td>0</td>\n",
       "      <td>0</td>\n",
       "      <td>0</td>\n",
       "      <td>0</td>\n",
       "      <td>1</td>\n",
       "      <td>0</td>\n",
       "      <td>0.000000</td>\n",
       "    </tr>\n",
       "    <tr>\n",
       "      <th>1</th>\n",
       "      <td>1</td>\n",
       "      <td>0</td>\n",
       "      <td>1</td>\n",
       "      <td>0</td>\n",
       "      <td>0</td>\n",
       "      <td>0</td>\n",
       "      <td>0</td>\n",
       "      <td>0</td>\n",
       "      <td>0.999995</td>\n",
       "    </tr>\n",
       "    <tr>\n",
       "      <th>2</th>\n",
       "      <td>1</td>\n",
       "      <td>0</td>\n",
       "      <td>1</td>\n",
       "      <td>0</td>\n",
       "      <td>0</td>\n",
       "      <td>0</td>\n",
       "      <td>0</td>\n",
       "      <td>0</td>\n",
       "      <td>0.999995</td>\n",
       "    </tr>\n",
       "    <tr>\n",
       "      <th>3</th>\n",
       "      <td>1</td>\n",
       "      <td>1</td>\n",
       "      <td>0</td>\n",
       "      <td>0</td>\n",
       "      <td>0</td>\n",
       "      <td>0</td>\n",
       "      <td>0</td>\n",
       "      <td>0</td>\n",
       "      <td>0.999999</td>\n",
       "    </tr>\n",
       "    <tr>\n",
       "      <th>4</th>\n",
       "      <td>1</td>\n",
       "      <td>0</td>\n",
       "      <td>0</td>\n",
       "      <td>0</td>\n",
       "      <td>0</td>\n",
       "      <td>1</td>\n",
       "      <td>0</td>\n",
       "      <td>0</td>\n",
       "      <td>1.000000</td>\n",
       "    </tr>\n",
       "  </tbody>\n",
       "</table>\n",
       "</div>"
      ],
      "text/plain": [
       "  CaseID  AnomalousActivity_Accepted-Assigned  \\\n",
       "0      1                                    0   \n",
       "1      1                                    0   \n",
       "2      1                                    0   \n",
       "3      1                                    1   \n",
       "4      1                                    0   \n",
       "\n",
       "   AnomalousActivity_Accepted-In Progress  AnomalousActivity_Accepted-Wait  \\\n",
       "0                                       0                                0   \n",
       "1                                       1                                0   \n",
       "2                                       1                                0   \n",
       "3                                       0                                0   \n",
       "4                                       0                                0   \n",
       "\n",
       "   AnomalousActivity_Completed-Cancelled  AnomalousActivity_Completed-Closed  \\\n",
       "0                                      0                                   0   \n",
       "1                                      0                                   0   \n",
       "2                                      0                                   0   \n",
       "3                                      0                                   0   \n",
       "4                                      0                                   1   \n",
       "\n",
       "   AnomalousActivity_Queued-Awaiting Assignment  \\\n",
       "0                                             1   \n",
       "1                                             0   \n",
       "2                                             0   \n",
       "3                                             0   \n",
       "4                                             0   \n",
       "\n",
       "   AnomalousActivity_Unmatched-Unmatched  NormalizedCumDuration  \n",
       "0                                      0               0.000000  \n",
       "1                                      0               0.999995  \n",
       "2                                      0               0.999995  \n",
       "3                                      0               0.999999  \n",
       "4                                      0               1.000000  "
      ]
     },
     "execution_count": 58,
     "metadata": {},
     "output_type": "execute_result"
    }
   ],
   "source": [
    "normalized_enc_data.head()"
   ]
  },
  {
   "cell_type": "code",
   "execution_count": 59,
   "metadata": {
    "collapsed": true,
    "deletable": true,
    "editable": true
   },
   "outputs": [],
   "source": [
    "cols = list(normalized_enc_data)\n",
    "cols = ['CaseID', 'NormalizedCumDuration'] + cols[1:-1]"
   ]
  },
  {
   "cell_type": "code",
   "execution_count": 60,
   "metadata": {
    "collapsed": true,
    "deletable": true,
    "editable": true
   },
   "outputs": [],
   "source": [
    "normalized_enc_data = normalized_enc_data[cols]"
   ]
  },
  {
   "cell_type": "code",
   "execution_count": 61,
   "metadata": {
    "collapsed": false,
    "deletable": true,
    "editable": true
   },
   "outputs": [
    {
     "data": {
      "text/html": [
       "<div>\n",
       "<style>\n",
       "    .dataframe thead tr:only-child th {\n",
       "        text-align: right;\n",
       "    }\n",
       "\n",
       "    .dataframe thead th {\n",
       "        text-align: left;\n",
       "    }\n",
       "\n",
       "    .dataframe tbody tr th {\n",
       "        vertical-align: top;\n",
       "    }\n",
       "</style>\n",
       "<table border=\"1\" class=\"dataframe\">\n",
       "  <thead>\n",
       "    <tr style=\"text-align: right;\">\n",
       "      <th></th>\n",
       "      <th>CaseID</th>\n",
       "      <th>NormalizedCumDuration</th>\n",
       "      <th>AnomalousActivity_Accepted-Assigned</th>\n",
       "      <th>AnomalousActivity_Accepted-In Progress</th>\n",
       "      <th>AnomalousActivity_Accepted-Wait</th>\n",
       "      <th>AnomalousActivity_Completed-Cancelled</th>\n",
       "      <th>AnomalousActivity_Completed-Closed</th>\n",
       "      <th>AnomalousActivity_Queued-Awaiting Assignment</th>\n",
       "      <th>AnomalousActivity_Unmatched-Unmatched</th>\n",
       "    </tr>\n",
       "  </thead>\n",
       "  <tbody>\n",
       "    <tr>\n",
       "      <th>0</th>\n",
       "      <td>1</td>\n",
       "      <td>0.000000</td>\n",
       "      <td>0</td>\n",
       "      <td>0</td>\n",
       "      <td>0</td>\n",
       "      <td>0</td>\n",
       "      <td>0</td>\n",
       "      <td>1</td>\n",
       "      <td>0</td>\n",
       "    </tr>\n",
       "    <tr>\n",
       "      <th>1</th>\n",
       "      <td>1</td>\n",
       "      <td>0.999995</td>\n",
       "      <td>0</td>\n",
       "      <td>1</td>\n",
       "      <td>0</td>\n",
       "      <td>0</td>\n",
       "      <td>0</td>\n",
       "      <td>0</td>\n",
       "      <td>0</td>\n",
       "    </tr>\n",
       "    <tr>\n",
       "      <th>2</th>\n",
       "      <td>1</td>\n",
       "      <td>0.999995</td>\n",
       "      <td>0</td>\n",
       "      <td>1</td>\n",
       "      <td>0</td>\n",
       "      <td>0</td>\n",
       "      <td>0</td>\n",
       "      <td>0</td>\n",
       "      <td>0</td>\n",
       "    </tr>\n",
       "    <tr>\n",
       "      <th>3</th>\n",
       "      <td>1</td>\n",
       "      <td>0.999999</td>\n",
       "      <td>1</td>\n",
       "      <td>0</td>\n",
       "      <td>0</td>\n",
       "      <td>0</td>\n",
       "      <td>0</td>\n",
       "      <td>0</td>\n",
       "      <td>0</td>\n",
       "    </tr>\n",
       "    <tr>\n",
       "      <th>4</th>\n",
       "      <td>1</td>\n",
       "      <td>1.000000</td>\n",
       "      <td>0</td>\n",
       "      <td>0</td>\n",
       "      <td>0</td>\n",
       "      <td>0</td>\n",
       "      <td>1</td>\n",
       "      <td>0</td>\n",
       "      <td>0</td>\n",
       "    </tr>\n",
       "  </tbody>\n",
       "</table>\n",
       "</div>"
      ],
      "text/plain": [
       "  CaseID  NormalizedCumDuration  AnomalousActivity_Accepted-Assigned  \\\n",
       "0      1               0.000000                                    0   \n",
       "1      1               0.999995                                    0   \n",
       "2      1               0.999995                                    0   \n",
       "3      1               0.999999                                    1   \n",
       "4      1               1.000000                                    0   \n",
       "\n",
       "   AnomalousActivity_Accepted-In Progress  AnomalousActivity_Accepted-Wait  \\\n",
       "0                                       0                                0   \n",
       "1                                       1                                0   \n",
       "2                                       1                                0   \n",
       "3                                       0                                0   \n",
       "4                                       0                                0   \n",
       "\n",
       "   AnomalousActivity_Completed-Cancelled  AnomalousActivity_Completed-Closed  \\\n",
       "0                                      0                                   0   \n",
       "1                                      0                                   0   \n",
       "2                                      0                                   0   \n",
       "3                                      0                                   0   \n",
       "4                                      0                                   1   \n",
       "\n",
       "   AnomalousActivity_Queued-Awaiting Assignment  \\\n",
       "0                                             1   \n",
       "1                                             0   \n",
       "2                                             0   \n",
       "3                                             0   \n",
       "4                                             0   \n",
       "\n",
       "   AnomalousActivity_Unmatched-Unmatched  \n",
       "0                                      0  \n",
       "1                                      0  \n",
       "2                                      0  \n",
       "3                                      0  \n",
       "4                                      0  "
      ]
     },
     "execution_count": 61,
     "metadata": {},
     "output_type": "execute_result"
    }
   ],
   "source": [
    "normalized_enc_data.head()"
   ]
  },
  {
   "cell_type": "code",
   "execution_count": 62,
   "metadata": {
    "collapsed": false,
    "deletable": true,
    "editable": true
   },
   "outputs": [
    {
     "data": {
      "text/plain": [
       "['NormalizedCumDuration',\n",
       " 'AnomalousActivity_Accepted-Assigned',\n",
       " 'AnomalousActivity_Accepted-In Progress',\n",
       " 'AnomalousActivity_Accepted-Wait',\n",
       " 'AnomalousActivity_Completed-Cancelled',\n",
       " 'AnomalousActivity_Completed-Closed',\n",
       " 'AnomalousActivity_Queued-Awaiting Assignment',\n",
       " 'AnomalousActivity_Unmatched-Unmatched']"
      ]
     },
     "execution_count": 62,
     "metadata": {},
     "output_type": "execute_result"
    }
   ],
   "source": [
    "cols = [i for i in list(normalized_enc_data) if i != 'CaseID']\n",
    "cols"
   ]
  },
  {
   "cell_type": "code",
   "execution_count": 63,
   "metadata": {
    "collapsed": true,
    "deletable": true,
    "editable": true
   },
   "outputs": [],
   "source": [
    "pad_index = normalized_enc_data.copy()\n",
    "pad_index[cols] = 1.0"
   ]
  },
  {
   "cell_type": "code",
   "execution_count": 64,
   "metadata": {
    "collapsed": false,
    "deletable": true,
    "editable": true
   },
   "outputs": [
    {
     "data": {
      "text/html": [
       "<div>\n",
       "<style>\n",
       "    .dataframe thead tr:only-child th {\n",
       "        text-align: right;\n",
       "    }\n",
       "\n",
       "    .dataframe thead th {\n",
       "        text-align: left;\n",
       "    }\n",
       "\n",
       "    .dataframe tbody tr th {\n",
       "        vertical-align: top;\n",
       "    }\n",
       "</style>\n",
       "<table border=\"1\" class=\"dataframe\">\n",
       "  <thead>\n",
       "    <tr style=\"text-align: right;\">\n",
       "      <th></th>\n",
       "      <th>CaseID</th>\n",
       "      <th>NormalizedCumDuration</th>\n",
       "      <th>AnomalousActivity_Accepted-Assigned</th>\n",
       "      <th>AnomalousActivity_Accepted-In Progress</th>\n",
       "      <th>AnomalousActivity_Accepted-Wait</th>\n",
       "      <th>AnomalousActivity_Completed-Cancelled</th>\n",
       "      <th>AnomalousActivity_Completed-Closed</th>\n",
       "      <th>AnomalousActivity_Queued-Awaiting Assignment</th>\n",
       "      <th>AnomalousActivity_Unmatched-Unmatched</th>\n",
       "    </tr>\n",
       "  </thead>\n",
       "  <tbody>\n",
       "    <tr>\n",
       "      <th>0</th>\n",
       "      <td>1</td>\n",
       "      <td>1.0</td>\n",
       "      <td>1.0</td>\n",
       "      <td>1.0</td>\n",
       "      <td>1.0</td>\n",
       "      <td>1.0</td>\n",
       "      <td>1.0</td>\n",
       "      <td>1.0</td>\n",
       "      <td>1.0</td>\n",
       "    </tr>\n",
       "    <tr>\n",
       "      <th>1</th>\n",
       "      <td>1</td>\n",
       "      <td>1.0</td>\n",
       "      <td>1.0</td>\n",
       "      <td>1.0</td>\n",
       "      <td>1.0</td>\n",
       "      <td>1.0</td>\n",
       "      <td>1.0</td>\n",
       "      <td>1.0</td>\n",
       "      <td>1.0</td>\n",
       "    </tr>\n",
       "    <tr>\n",
       "      <th>2</th>\n",
       "      <td>1</td>\n",
       "      <td>1.0</td>\n",
       "      <td>1.0</td>\n",
       "      <td>1.0</td>\n",
       "      <td>1.0</td>\n",
       "      <td>1.0</td>\n",
       "      <td>1.0</td>\n",
       "      <td>1.0</td>\n",
       "      <td>1.0</td>\n",
       "    </tr>\n",
       "    <tr>\n",
       "      <th>3</th>\n",
       "      <td>1</td>\n",
       "      <td>1.0</td>\n",
       "      <td>1.0</td>\n",
       "      <td>1.0</td>\n",
       "      <td>1.0</td>\n",
       "      <td>1.0</td>\n",
       "      <td>1.0</td>\n",
       "      <td>1.0</td>\n",
       "      <td>1.0</td>\n",
       "    </tr>\n",
       "    <tr>\n",
       "      <th>4</th>\n",
       "      <td>1</td>\n",
       "      <td>1.0</td>\n",
       "      <td>1.0</td>\n",
       "      <td>1.0</td>\n",
       "      <td>1.0</td>\n",
       "      <td>1.0</td>\n",
       "      <td>1.0</td>\n",
       "      <td>1.0</td>\n",
       "      <td>1.0</td>\n",
       "    </tr>\n",
       "  </tbody>\n",
       "</table>\n",
       "</div>"
      ],
      "text/plain": [
       "  CaseID  NormalizedCumDuration  AnomalousActivity_Accepted-Assigned  \\\n",
       "0      1                    1.0                                  1.0   \n",
       "1      1                    1.0                                  1.0   \n",
       "2      1                    1.0                                  1.0   \n",
       "3      1                    1.0                                  1.0   \n",
       "4      1                    1.0                                  1.0   \n",
       "\n",
       "   AnomalousActivity_Accepted-In Progress  AnomalousActivity_Accepted-Wait  \\\n",
       "0                                     1.0                              1.0   \n",
       "1                                     1.0                              1.0   \n",
       "2                                     1.0                              1.0   \n",
       "3                                     1.0                              1.0   \n",
       "4                                     1.0                              1.0   \n",
       "\n",
       "   AnomalousActivity_Completed-Cancelled  AnomalousActivity_Completed-Closed  \\\n",
       "0                                    1.0                                 1.0   \n",
       "1                                    1.0                                 1.0   \n",
       "2                                    1.0                                 1.0   \n",
       "3                                    1.0                                 1.0   \n",
       "4                                    1.0                                 1.0   \n",
       "\n",
       "   AnomalousActivity_Queued-Awaiting Assignment  \\\n",
       "0                                           1.0   \n",
       "1                                           1.0   \n",
       "2                                           1.0   \n",
       "3                                           1.0   \n",
       "4                                           1.0   \n",
       "\n",
       "   AnomalousActivity_Unmatched-Unmatched  \n",
       "0                                    1.0  \n",
       "1                                    1.0  \n",
       "2                                    1.0  \n",
       "3                                    1.0  \n",
       "4                                    1.0  "
      ]
     },
     "execution_count": 64,
     "metadata": {},
     "output_type": "execute_result"
    }
   ],
   "source": [
    "pad_index.head()"
   ]
  },
  {
   "cell_type": "markdown",
   "metadata": {
    "deletable": true,
    "editable": true
   },
   "source": [
    "## Vectorize"
   ]
  },
  {
   "cell_type": "code",
   "execution_count": 65,
   "metadata": {
    "collapsed": false,
    "deletable": true,
    "editable": true
   },
   "outputs": [
    {
     "name": "stdout",
     "output_type": "stream",
     "text": [
      "Maxlen:  35\n"
     ]
    }
   ],
   "source": [
    "train_groupByCase = normalized_enc_data.groupby(['CaseID'])\n",
    "\n",
    "maxlen = findLongestLength(train_groupByCase)\n",
    "print('Maxlen: ', maxlen)"
   ]
  },
  {
   "cell_type": "code",
   "execution_count": 66,
   "metadata": {
    "collapsed": false,
    "deletable": true,
    "editable": true
   },
   "outputs": [],
   "source": [
    "groupByCase = normalized_enc_data.groupby(['CaseID'])\n",
    "vectorized_data = getInput(groupByCase, cols, maxlen)\n",
    "\n",
    "pad_index_groupByCase = pad_index.groupby(['CaseID'])\n",
    "vectorized_pad_index = getInput(pad_index_groupByCase, cols, maxlen)"
   ]
  },
  {
   "cell_type": "markdown",
   "metadata": {
    "deletable": true,
    "editable": true
   },
   "source": [
    "# Split in to train/val/test"
   ]
  },
  {
   "cell_type": "code",
   "execution_count": 67,
   "metadata": {
    "collapsed": false,
    "deletable": true,
    "editable": true
   },
   "outputs": [
    {
     "name": "stdout",
     "output_type": "stream",
     "text": [
      "Shape of vectorized data: (1487, 35, 8)\n",
      "Shape of vectorized pad index: (1487, 35, 8)\n",
      "\n",
      "\n",
      "Number of case for train: 892\n",
      "Number of case for validate: 297\n",
      "Number of case for test: 298\n"
     ]
    }
   ],
   "source": [
    "print('Shape of vectorized data: {}'.format(vectorized_data.shape))\n",
    "print('Shape of vectorized pad index: {}'.format(vectorized_pad_index.shape))\n",
    "print('\\n')\n",
    "print('Number of case for train: {}'.format(train_case_num))\n",
    "print('Number of case for validate: {}'.format(val_case_num))\n",
    "print('Number of case for test: {}'.format(test_case_num))"
   ]
  },
  {
   "cell_type": "code",
   "execution_count": 68,
   "metadata": {
    "collapsed": true,
    "deletable": true,
    "editable": true
   },
   "outputs": [],
   "source": [
    "input_train = vectorized_data[0:train_case_num]\n",
    "input_val = vectorized_data[train_case_num:train_case_num+val_case_num]\n",
    "input_test = vectorized_data[-test_case_num:]\n",
    "\n",
    "pad_index_train = vectorized_pad_index[0:train_case_num]\n",
    "pad_index_val = vectorized_pad_index[train_case_num:train_case_num+val_case_num]\n",
    "pad_index_test = vectorized_pad_index[-test_case_num:]"
   ]
  },
  {
   "cell_type": "code",
   "execution_count": 69,
   "metadata": {
    "collapsed": false,
    "deletable": true,
    "editable": true
   },
   "outputs": [
    {
     "name": "stdout",
     "output_type": "stream",
     "text": [
      "Check shape of input for training: True\n",
      "Check shape of input for validation: True\n",
      "Check shape of input for testing: True\n"
     ]
    }
   ],
   "source": [
    "print('Check shape of input for training: {}'.format(input_train.shape[0]==train_case_num))\n",
    "print('Check shape of input for validation: {}'.format(input_val.shape[0]==val_case_num))\n",
    "print('Check shape of input for testing: {}'.format(input_test.shape[0]==test_case_num))"
   ]
  },
  {
   "cell_type": "code",
   "execution_count": 70,
   "metadata": {
    "collapsed": false,
    "deletable": true,
    "editable": true
   },
   "outputs": [
    {
     "data": {
      "text/plain": [
       "array([[ 0.        ,  0.        ,  0.        ,  0.        ,  0.        ,\n",
       "         0.        ,  0.        ,  0.        ],\n",
       "       [ 0.        ,  0.        ,  0.        ,  0.        ,  0.        ,\n",
       "         0.        ,  0.        ,  0.        ],\n",
       "       [ 0.        ,  0.        ,  0.        ,  0.        ,  0.        ,\n",
       "         0.        ,  0.        ,  0.        ],\n",
       "       [ 0.        ,  0.        ,  0.        ,  0.        ,  0.        ,\n",
       "         0.        ,  0.        ,  0.        ],\n",
       "       [ 0.        ,  0.        ,  0.        ,  0.        ,  0.        ,\n",
       "         0.        ,  0.        ,  0.        ],\n",
       "       [ 0.        ,  0.        ,  0.        ,  0.        ,  0.        ,\n",
       "         0.        ,  0.        ,  0.        ],\n",
       "       [ 0.        ,  0.        ,  0.        ,  0.        ,  0.        ,\n",
       "         0.        ,  0.        ,  0.        ],\n",
       "       [ 0.        ,  0.        ,  0.        ,  0.        ,  0.        ,\n",
       "         0.        ,  0.        ,  0.        ],\n",
       "       [ 0.        ,  0.        ,  0.        ,  0.        ,  0.        ,\n",
       "         0.        ,  0.        ,  0.        ],\n",
       "       [ 0.        ,  0.        ,  0.        ,  0.        ,  0.        ,\n",
       "         0.        ,  0.        ,  0.        ],\n",
       "       [ 0.        ,  0.        ,  0.        ,  0.        ,  0.        ,\n",
       "         0.        ,  0.        ,  0.        ],\n",
       "       [ 0.        ,  0.        ,  0.        ,  0.        ,  0.        ,\n",
       "         0.        ,  0.        ,  0.        ],\n",
       "       [ 0.        ,  0.        ,  0.        ,  0.        ,  0.        ,\n",
       "         0.        ,  0.        ,  0.        ],\n",
       "       [ 0.        ,  0.        ,  0.        ,  0.        ,  0.        ,\n",
       "         0.        ,  0.        ,  0.        ],\n",
       "       [ 0.        ,  0.        ,  0.        ,  0.        ,  0.        ,\n",
       "         0.        ,  0.        ,  0.        ],\n",
       "       [ 0.        ,  0.        ,  0.        ,  0.        ,  0.        ,\n",
       "         0.        ,  0.        ,  0.        ],\n",
       "       [ 0.        ,  0.        ,  0.        ,  0.        ,  0.        ,\n",
       "         0.        ,  0.        ,  0.        ],\n",
       "       [ 0.        ,  0.        ,  0.        ,  0.        ,  0.        ,\n",
       "         0.        ,  0.        ,  0.        ],\n",
       "       [ 0.        ,  0.        ,  0.        ,  0.        ,  0.        ,\n",
       "         0.        ,  0.        ,  0.        ],\n",
       "       [ 0.        ,  0.        ,  0.        ,  0.        ,  0.        ,\n",
       "         0.        ,  0.        ,  0.        ],\n",
       "       [ 0.        ,  0.        ,  0.        ,  0.        ,  0.        ,\n",
       "         0.        ,  0.        ,  0.        ],\n",
       "       [ 0.        ,  0.        ,  0.        ,  0.        ,  0.        ,\n",
       "         0.        ,  0.        ,  0.        ],\n",
       "       [ 0.        ,  0.        ,  0.        ,  0.        ,  0.        ,\n",
       "         0.        ,  0.        ,  0.        ],\n",
       "       [ 0.        ,  0.        ,  0.        ,  0.        ,  0.        ,\n",
       "         0.        ,  0.        ,  0.        ],\n",
       "       [ 0.        ,  0.        ,  0.        ,  0.        ,  0.        ,\n",
       "         0.        ,  0.        ,  0.        ],\n",
       "       [ 0.        ,  0.        ,  0.        ,  0.        ,  0.        ,\n",
       "         0.        ,  0.        ,  0.        ],\n",
       "       [ 0.        ,  0.        ,  0.        ,  0.        ,  0.        ,\n",
       "         0.        ,  0.        ,  0.        ],\n",
       "       [ 0.        ,  0.        ,  0.        ,  0.        ,  0.        ,\n",
       "         0.        ,  0.        ,  0.        ],\n",
       "       [ 0.        ,  0.        ,  0.        ,  0.        ,  0.        ,\n",
       "         0.        ,  0.        ,  0.        ],\n",
       "       [ 0.        ,  0.        ,  0.        ,  0.        ,  0.        ,\n",
       "         0.        ,  0.        ,  0.        ],\n",
       "       [ 0.        ,  0.        ,  0.        ,  0.        ,  0.        ,\n",
       "         0.        ,  1.        ,  0.        ],\n",
       "       [ 0.99999455,  0.        ,  1.        ,  0.        ,  0.        ,\n",
       "         0.        ,  0.        ,  0.        ],\n",
       "       [ 0.9999953 ,  0.        ,  1.        ,  0.        ,  0.        ,\n",
       "         0.        ,  0.        ,  0.        ],\n",
       "       [ 0.99999924,  1.        ,  0.        ,  0.        ,  0.        ,\n",
       "         0.        ,  0.        ,  0.        ],\n",
       "       [ 1.        ,  0.        ,  0.        ,  0.        ,  0.        ,\n",
       "         1.        ,  0.        ,  0.        ]])"
      ]
     },
     "execution_count": 70,
     "metadata": {},
     "output_type": "execute_result"
    }
   ],
   "source": [
    "vectorized_data[0]"
   ]
  },
  {
   "cell_type": "markdown",
   "metadata": {
    "deletable": true,
    "editable": true
   },
   "source": [
    "# Save data"
   ]
  },
  {
   "cell_type": "code",
   "execution_count": 71,
   "metadata": {
    "collapsed": false,
    "deletable": true,
    "editable": true
   },
   "outputs": [],
   "source": [
    "preprocessed_data_name = os.path.join(args.input_dir, 'preprocessed_data_{}.pkl'.format(args.anomaly_pct))\n",
    "with open(preprocessed_data_name, 'wb') as f:\n",
    "    pickle.dump(input_train, f, protocol=2)\n",
    "    pickle.dump(input_val, f, protocol=2)\n",
    "    pickle.dump(input_test, f, protocol=2)\n",
    "    pickle.dump(pad_index_train, f, protocol=2)\n",
    "    pickle.dump(pad_index_val, f, protocol=2)\n",
    "    pickle.dump(pad_index_test, f, protocol=2)\n",
    "    pickle.dump(activity_label_train, f, protocol=2)\n",
    "    pickle.dump(activity_label_val, f, protocol=2)\n",
    "    pickle.dump(activity_label_test, f, protocol=2)\n",
    "    pickle.dump(time_label_train, f, protocol=2)\n",
    "    pickle.dump(time_label_val, f, protocol=2)\n",
    "    pickle.dump(time_label_test, f, protocol=2)\n",
    "    pickle.dump(train_case_num, f, protocol=2)\n",
    "    pickle.dump(val_case_num, f, protocol=2)\n",
    "    pickle.dump(test_case_num, f, protocol=2)\n",
    "    pickle.dump(train_row_num, f, protocol=2)\n",
    "    pickle.dump(val_row_num, f, protocol=2)\n",
    "    pickle.dump(test_row_num, f, protocol=2)\n",
    "    pickle.dump(min_value, f, protocol=2)\n",
    "    pickle.dump(max_value, f, protocol=2)\n",
    "    pickle.dump(cols, f, protocol=2)\n",
    "    pickle.dump(statistics_storage, f, protocol=2)"
   ]
  }
 ],
 "metadata": {
  "kernelspec": {
   "display_name": "Python 3",
   "language": "python",
   "name": "python3"
  },
  "language_info": {
   "codemirror_mode": {
    "name": "ipython",
    "version": 3
   },
   "file_extension": ".py",
   "mimetype": "text/x-python",
   "name": "python",
   "nbconvert_exporter": "python",
   "pygments_lexer": "ipython3",
   "version": "3.5.4"
  },
  "toc": {
   "colors": {
    "hover_highlight": "#DAA520",
    "running_highlight": "#FF0000",
    "selected_highlight": "#FFD700"
   },
   "moveMenuLeft": true,
   "nav_menu": {
    "height": "228px",
    "width": "252px"
   },
   "navigate_menu": true,
   "number_sections": true,
   "sideBar": true,
   "threshold": 4,
   "toc_cell": false,
   "toc_section_display": "block",
   "toc_window_display": false
  }
 },
 "nbformat": 4,
 "nbformat_minor": 2
}
