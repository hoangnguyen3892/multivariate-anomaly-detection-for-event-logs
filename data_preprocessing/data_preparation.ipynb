{
 "cells": [
  {
   "cell_type": "code",
   "execution_count": 1,
   "metadata": {
    "collapsed": true,
    "deletable": true,
    "editable": true
   },
   "outputs": [],
   "source": [
    "import os, sys\n",
    "import argparse\n",
    "import pandas as pd\n",
    "import numpy as np\n",
    "import pickle"
   ]
  },
  {
   "cell_type": "code",
   "execution_count": 2,
   "metadata": {
    "collapsed": true,
    "deletable": true,
    "editable": true
   },
   "outputs": [],
   "source": [
    "from dateutil.parser import parse\n",
    "from datetime import datetime\n",
    "import time\n",
    "\n",
    "pd.options.mode.chained_assignment = None #to run loop quicker without warnings"
   ]
  },
  {
   "cell_type": "code",
   "execution_count": 3,
   "metadata": {
    "collapsed": true,
    "deletable": true,
    "editable": true
   },
   "outputs": [],
   "source": [
    "#name = 'bpi_2012'\n",
    "name = 'bpi_2013'\n",
    "#name = 'helpdesk'\n",
    "args = {\n",
    "    'data_dir': '../data/',\n",
    "    'data_file': name + '.csv',\n",
    "    'input_dir': '../input/{}/'.format(name),  \n",
    "    'train_pct': 0.6,\n",
    "    'val_pct': 0.2,\n",
    "    'anomaly_pct': 0.1,\n",
    "}\n",
    "\n",
    "args = argparse.Namespace(**args)"
   ]
  },
  {
   "cell_type": "code",
   "execution_count": 4,
   "metadata": {
    "collapsed": true,
    "deletable": true,
    "editable": true
   },
   "outputs": [],
   "source": [
    "if not os.path.isdir('../input/'):\n",
    "    os.makedirs('../input/')\n",
    "    \n",
    "if not os.path.isdir(args.input_dir):\n",
    "    os.makedirs(args.input_dir)"
   ]
  },
  {
   "cell_type": "code",
   "execution_count": 5,
   "metadata": {
    "collapsed": false,
    "deletable": true,
    "editable": true
   },
   "outputs": [],
   "source": [
    "sys.path.insert(0, './../utils/')\n",
    "from utils import *"
   ]
  },
  {
   "cell_type": "markdown",
   "metadata": {
    "deletable": true,
    "editable": true
   },
   "source": [
    "# Load data"
   ]
  },
  {
   "cell_type": "code",
   "execution_count": 6,
   "metadata": {
    "collapsed": true,
    "deletable": true,
    "editable": true
   },
   "outputs": [],
   "source": [
    "# Only consider Case, Activity, Timestamp\n",
    "cols = ['CaseID', 'Activity', 'CompleteTimestamp']\n",
    "\n",
    "# For Timestamp: Convert to time\n",
    "if name == 'helpdesk':\n",
    "    data = pd.read_csv(args.data_dir + args.data_file)\n",
    "else:\n",
    "    data = pd.read_csv(args.data_dir + args.data_file, usecols=['Case ID', 'Activity', 'Complete Timestamp'])\n",
    "    data['Case ID'] = data['Case ID'].apply(lambda x: x.split(' ')[1])\n",
    "    \n",
    "\n",
    "# Format for each column     \n",
    "data.columns = cols\n",
    "data['CompleteTimestamp'] = pd.to_datetime(data['CompleteTimestamp'], errors='coerce')\n",
    "data['CaseID'] = data['CaseID'].apply(pd.to_numeric)"
   ]
  },
  {
   "cell_type": "code",
   "execution_count": 7,
   "metadata": {
    "collapsed": false,
    "deletable": true,
    "editable": true
   },
   "outputs": [
    {
     "data": {
      "text/html": [
       "<div>\n",
       "<style>\n",
       "    .dataframe thead tr:only-child th {\n",
       "        text-align: right;\n",
       "    }\n",
       "\n",
       "    .dataframe thead th {\n",
       "        text-align: left;\n",
       "    }\n",
       "\n",
       "    .dataframe tbody tr th {\n",
       "        vertical-align: top;\n",
       "    }\n",
       "</style>\n",
       "<table border=\"1\" class=\"dataframe\">\n",
       "  <thead>\n",
       "    <tr style=\"text-align: right;\">\n",
       "      <th></th>\n",
       "      <th>CaseID</th>\n",
       "      <th>Activity</th>\n",
       "      <th>CompleteTimestamp</th>\n",
       "    </tr>\n",
       "  </thead>\n",
       "  <tbody>\n",
       "    <tr>\n",
       "      <th>0</th>\n",
       "      <td>1</td>\n",
       "      <td>Queued-Awaiting Assignment</td>\n",
       "      <td>2006-01-11 23:49:42</td>\n",
       "    </tr>\n",
       "    <tr>\n",
       "      <th>1</th>\n",
       "      <td>1</td>\n",
       "      <td>Accepted-In Progress</td>\n",
       "      <td>2012-03-15 19:53:52</td>\n",
       "    </tr>\n",
       "    <tr>\n",
       "      <th>2</th>\n",
       "      <td>1</td>\n",
       "      <td>Accepted-Assigned</td>\n",
       "      <td>2012-03-15 19:56:17</td>\n",
       "    </tr>\n",
       "    <tr>\n",
       "      <th>3</th>\n",
       "      <td>1</td>\n",
       "      <td>Accepted-In Progress</td>\n",
       "      <td>2012-03-15 20:09:05</td>\n",
       "    </tr>\n",
       "    <tr>\n",
       "      <th>4</th>\n",
       "      <td>1</td>\n",
       "      <td>Completed-Closed</td>\n",
       "      <td>2012-03-15 20:11:33</td>\n",
       "    </tr>\n",
       "  </tbody>\n",
       "</table>\n",
       "</div>"
      ],
      "text/plain": [
       "   CaseID                    Activity   CompleteTimestamp\n",
       "0       1  Queued-Awaiting Assignment 2006-01-11 23:49:42\n",
       "1       1        Accepted-In Progress 2012-03-15 19:53:52\n",
       "2       1           Accepted-Assigned 2012-03-15 19:56:17\n",
       "3       1        Accepted-In Progress 2012-03-15 20:09:05\n",
       "4       1            Completed-Closed 2012-03-15 20:11:33"
      ]
     },
     "execution_count": 7,
     "metadata": {},
     "output_type": "execute_result"
    }
   ],
   "source": [
    "data.head()"
   ]
  },
  {
   "cell_type": "markdown",
   "metadata": {
    "deletable": true,
    "editable": true
   },
   "source": [
    "# Split data into train/val/test"
   ]
  },
  {
   "cell_type": "code",
   "execution_count": 8,
   "metadata": {
    "collapsed": false,
    "deletable": true,
    "editable": true
   },
   "outputs": [],
   "source": [
    "groupByCase = data.groupby(['CaseID'])\n",
    "\n",
    "# Split: 70% train, 20% validate, 20% test\n",
    "train_case_num = int(len(groupByCase)*args.train_pct)\n",
    "val_case_num = int(len(groupByCase)*args.val_pct)\n",
    "test_case_num = len(groupByCase) - train_case_num - val_case_num"
   ]
  },
  {
   "cell_type": "code",
   "execution_count": 9,
   "metadata": {
    "collapsed": false,
    "deletable": true,
    "editable": true
   },
   "outputs": [],
   "source": [
    "data_train = pd.DataFrame(columns=list(data))\n",
    "data_val = pd.DataFrame(columns=list(data))\n",
    "data_test = pd.DataFrame(columns=list(data))\n",
    "\n",
    "for caseid, data_case in groupByCase:\n",
    "    if caseid <= train_case_num:\n",
    "        data_train = data_train.append(data_case)\n",
    "    elif train_case_num < caseid <= (train_case_num+val_case_num):\n",
    "        data_val = data_val.append(data_case)\n",
    "    else:\n",
    "        data_test = data_test.append(data_case)"
   ]
  },
  {
   "cell_type": "code",
   "execution_count": 10,
   "metadata": {
    "collapsed": false,
    "deletable": true,
    "editable": true
   },
   "outputs": [
    {
     "name": "stdout",
     "output_type": "stream",
     "text": [
      "Checking shapes of sub data:  True\n"
     ]
    }
   ],
   "source": [
    "print('Checking shapes of sub data: ', data.shape[0] == data_train.shape[0] + data_val.shape[0] + data_test.shape[0])"
   ]
  },
  {
   "cell_type": "code",
   "execution_count": 11,
   "metadata": {
    "collapsed": false,
    "deletable": true,
    "editable": true
   },
   "outputs": [
    {
     "data": {
      "text/plain": [
       "(1071, 3)"
      ]
     },
     "execution_count": 11,
     "metadata": {},
     "output_type": "execute_result"
    }
   ],
   "source": [
    "data_test.shape"
   ]
  },
  {
   "cell_type": "code",
   "execution_count": 12,
   "metadata": {
    "collapsed": true,
    "deletable": true,
    "editable": true
   },
   "outputs": [],
   "source": [
    "train_row_num = data_train.shape[0]\n",
    "val_row_num = data_val.shape[0]\n",
    "test_row_num = data_test.shape[0]"
   ]
  },
  {
   "cell_type": "markdown",
   "metadata": {
    "deletable": true,
    "editable": true
   },
   "source": [
    "# Introduce anomalous data"
   ]
  },
  {
   "cell_type": "markdown",
   "metadata": {
    "deletable": true,
    "editable": true
   },
   "source": [
    "This step will be modified later"
   ]
  },
  {
   "cell_type": "code",
   "execution_count": 13,
   "metadata": {
    "collapsed": false,
    "deletable": true,
    "editable": true
   },
   "outputs": [
    {
     "name": "stdout",
     "output_type": "stream",
     "text": [
      "Number of anomalous values in validate set: 109\n",
      "Number of anomalous activities in validate set: 54\n",
      "Number of anomalous time in validate set: 55\n",
      "\n",
      "\n",
      "Number of anomalous values in test set: 107\n",
      "Number of anomalous activities in test set: 53\n",
      "Number of anomalous time in test set: 54\n"
     ]
    }
   ],
   "source": [
    "anomaly_num_val = int(data_val.shape[0]*(data_val.shape[1]-1)*args.anomaly_pct/2)\n",
    "anomalous_act_num_val = int(anomaly_num_val/2)\n",
    "anomalous_time_num_val = anomaly_num_val - anomalous_act_num_val\n",
    "\n",
    "\n",
    "anomaly_num_test = int(data_test.shape[0]*(data_test.shape[1]-1)*args.anomaly_pct/2)\n",
    "anomalous_act_num_test = int(anomaly_num_test/2)\n",
    "anomalous_time_num_test = anomaly_num_test - anomalous_act_num_test\n",
    "\n",
    "print('Number of anomalous values in validate set: {}'.format(anomaly_num_val))\n",
    "print('Number of anomalous activities in validate set: {}'.format(anomalous_act_num_val))\n",
    "print('Number of anomalous time in validate set: {}'.format(anomalous_time_num_val))\n",
    "print('\\n')\n",
    "print('Number of anomalous values in test set: {}'.format(anomaly_num_test))\n",
    "print('Number of anomalous activities in test set: {}'.format(anomalous_act_num_test))\n",
    "print('Number of anomalous time in test set: {}'.format(anomalous_time_num_test))"
   ]
  },
  {
   "cell_type": "code",
   "execution_count": 14,
   "metadata": {
    "collapsed": true,
    "deletable": true,
    "editable": true
   },
   "outputs": [],
   "source": [
    "data_val['ActivityLabel'] = 0\n",
    "data_test['ActivityLabel'] = 0\n",
    "\n",
    "data_val['TimeLabel'] = 0\n",
    "data_test['TimeLabel'] = 0"
   ]
  },
  {
   "cell_type": "code",
   "execution_count": 15,
   "metadata": {
    "collapsed": false,
    "deletable": true,
    "editable": true
   },
   "outputs": [
    {
     "data": {
      "text/html": [
       "<div>\n",
       "<style>\n",
       "    .dataframe thead tr:only-child th {\n",
       "        text-align: right;\n",
       "    }\n",
       "\n",
       "    .dataframe thead th {\n",
       "        text-align: left;\n",
       "    }\n",
       "\n",
       "    .dataframe tbody tr th {\n",
       "        vertical-align: top;\n",
       "    }\n",
       "</style>\n",
       "<table border=\"1\" class=\"dataframe\">\n",
       "  <thead>\n",
       "    <tr style=\"text-align: right;\">\n",
       "      <th></th>\n",
       "      <th>CaseID</th>\n",
       "      <th>Activity</th>\n",
       "      <th>CompleteTimestamp</th>\n",
       "      <th>ActivityLabel</th>\n",
       "      <th>TimeLabel</th>\n",
       "    </tr>\n",
       "  </thead>\n",
       "  <tbody>\n",
       "    <tr>\n",
       "      <th>4493</th>\n",
       "      <td>893</td>\n",
       "      <td>Queued-Awaiting Assignment</td>\n",
       "      <td>2012-01-14 04:03:40</td>\n",
       "      <td>0</td>\n",
       "      <td>0</td>\n",
       "    </tr>\n",
       "    <tr>\n",
       "      <th>4494</th>\n",
       "      <td>893</td>\n",
       "      <td>Accepted-In Progress</td>\n",
       "      <td>2012-01-31 22:16:55</td>\n",
       "      <td>0</td>\n",
       "      <td>0</td>\n",
       "    </tr>\n",
       "    <tr>\n",
       "      <th>4495</th>\n",
       "      <td>893</td>\n",
       "      <td>Queued-Awaiting Assignment</td>\n",
       "      <td>2012-01-31 22:29:08</td>\n",
       "      <td>0</td>\n",
       "      <td>0</td>\n",
       "    </tr>\n",
       "    <tr>\n",
       "      <th>4496</th>\n",
       "      <td>893</td>\n",
       "      <td>Accepted-In Progress</td>\n",
       "      <td>2012-01-31 23:02:59</td>\n",
       "      <td>0</td>\n",
       "      <td>0</td>\n",
       "    </tr>\n",
       "    <tr>\n",
       "      <th>4497</th>\n",
       "      <td>893</td>\n",
       "      <td>Completed-Closed</td>\n",
       "      <td>2012-02-18 04:13:20</td>\n",
       "      <td>0</td>\n",
       "      <td>0</td>\n",
       "    </tr>\n",
       "  </tbody>\n",
       "</table>\n",
       "</div>"
      ],
      "text/plain": [
       "     CaseID                    Activity   CompleteTimestamp  ActivityLabel  \\\n",
       "4493    893  Queued-Awaiting Assignment 2012-01-14 04:03:40              0   \n",
       "4494    893        Accepted-In Progress 2012-01-31 22:16:55              0   \n",
       "4495    893  Queued-Awaiting Assignment 2012-01-31 22:29:08              0   \n",
       "4496    893        Accepted-In Progress 2012-01-31 23:02:59              0   \n",
       "4497    893            Completed-Closed 2012-02-18 04:13:20              0   \n",
       "\n",
       "      TimeLabel  \n",
       "4493          0  \n",
       "4494          0  \n",
       "4495          0  \n",
       "4496          0  \n",
       "4497          0  "
      ]
     },
     "execution_count": 15,
     "metadata": {},
     "output_type": "execute_result"
    }
   ],
   "source": [
    "data_val.head()"
   ]
  },
  {
   "cell_type": "code",
   "execution_count": 56,
   "metadata": {
    "collapsed": false,
    "deletable": true,
    "editable": true
   },
   "outputs": [
    {
     "data": {
      "text/html": [
       "<div>\n",
       "<style>\n",
       "    .dataframe thead tr:only-child th {\n",
       "        text-align: right;\n",
       "    }\n",
       "\n",
       "    .dataframe thead th {\n",
       "        text-align: left;\n",
       "    }\n",
       "\n",
       "    .dataframe tbody tr th {\n",
       "        vertical-align: top;\n",
       "    }\n",
       "</style>\n",
       "<table border=\"1\" class=\"dataframe\">\n",
       "  <thead>\n",
       "    <tr style=\"text-align: right;\">\n",
       "      <th></th>\n",
       "      <th>CaseID</th>\n",
       "      <th>Activity</th>\n",
       "      <th>CompleteTimestamp</th>\n",
       "      <th>ActivityLabel</th>\n",
       "      <th>TimeLabel</th>\n",
       "    </tr>\n",
       "  </thead>\n",
       "  <tbody>\n",
       "    <tr>\n",
       "      <th>5589</th>\n",
       "      <td>1190</td>\n",
       "      <td>Accepted-In Progress</td>\n",
       "      <td>2012-03-07 22:24:22</td>\n",
       "      <td>0</td>\n",
       "      <td>0</td>\n",
       "    </tr>\n",
       "    <tr>\n",
       "      <th>5590</th>\n",
       "      <td>1190</td>\n",
       "      <td>Completed-Closed</td>\n",
       "      <td>2012-04-11 21:36:11</td>\n",
       "      <td>0</td>\n",
       "      <td>0</td>\n",
       "    </tr>\n",
       "    <tr>\n",
       "      <th>5591</th>\n",
       "      <td>1191</td>\n",
       "      <td>Accepted-In Progress</td>\n",
       "      <td>2012-03-07 22:26:08</td>\n",
       "      <td>0</td>\n",
       "      <td>0</td>\n",
       "    </tr>\n",
       "    <tr>\n",
       "      <th>5592</th>\n",
       "      <td>1191</td>\n",
       "      <td>Completed-Closed</td>\n",
       "      <td>2012-04-25 16:42:09</td>\n",
       "      <td>0</td>\n",
       "      <td>0</td>\n",
       "    </tr>\n",
       "    <tr>\n",
       "      <th>5593</th>\n",
       "      <td>1192</td>\n",
       "      <td>Accepted-In Progress</td>\n",
       "      <td>2012-03-08 00:06:16</td>\n",
       "      <td>0</td>\n",
       "      <td>0</td>\n",
       "    </tr>\n",
       "  </tbody>\n",
       "</table>\n",
       "</div>"
      ],
      "text/plain": [
       "     CaseID              Activity   CompleteTimestamp  ActivityLabel  \\\n",
       "5589   1190  Accepted-In Progress 2012-03-07 22:24:22              0   \n",
       "5590   1190      Completed-Closed 2012-04-11 21:36:11              0   \n",
       "5591   1191  Accepted-In Progress 2012-03-07 22:26:08              0   \n",
       "5592   1191      Completed-Closed 2012-04-25 16:42:09              0   \n",
       "5593   1192  Accepted-In Progress 2012-03-08 00:06:16              0   \n",
       "\n",
       "      TimeLabel  \n",
       "5589          0  \n",
       "5590          0  \n",
       "5591          0  \n",
       "5592          0  \n",
       "5593          0  "
      ]
     },
     "execution_count": 56,
     "metadata": {},
     "output_type": "execute_result"
    }
   ],
   "source": [
    "data_test.head()"
   ]
  },
  {
   "cell_type": "markdown",
   "metadata": {
    "deletable": true,
    "editable": true
   },
   "source": [
    "## Activity"
   ]
  },
  {
   "cell_type": "markdown",
   "metadata": {
    "deletable": true,
    "editable": true
   },
   "source": [
    "**Mutation:**\n",
    "- Swap 2 activities within a case\n",
    "- Duplicate 1 activity"
   ]
  },
  {
   "cell_type": "code",
   "execution_count": 16,
   "metadata": {
    "collapsed": false,
    "deletable": true,
    "editable": true
   },
   "outputs": [],
   "source": [
    "anomaly_val = data_val.copy()\n",
    "i = 0\n",
    "\n",
    "while i < anomalous_act_num_val:\n",
    "    row = np.random.randint(0, anomaly_val.shape[0])\n",
    "    if anomaly_val.iloc[row, anomaly_val.columns.get_loc('ActivityLabel')] == 0:\n",
    "        anomaly_val.iloc[row, anomaly_val.columns.get_loc('ActivityLabel')] = 1\n",
    "        i+=1"
   ]
  },
  {
   "cell_type": "code",
   "execution_count": 17,
   "metadata": {
    "collapsed": false,
    "deletable": true,
    "editable": true
   },
   "outputs": [],
   "source": [
    "anomaly_test = data_test.copy()\n",
    "i = 0\n",
    "\n",
    "while i < anomalous_act_num_test:\n",
    "    row = np.random.randint(0, anomaly_test.shape[0])\n",
    "    if anomaly_test.iloc[row, anomaly_test.columns.get_loc('ActivityLabel')] == 0:\n",
    "        anomaly_test.iloc[row, anomaly_test.columns.get_loc('ActivityLabel')] = 1\n",
    "        i+=1"
   ]
  },
  {
   "cell_type": "code",
   "execution_count": 18,
   "metadata": {
    "collapsed": false,
    "deletable": true,
    "editable": true
   },
   "outputs": [
    {
     "data": {
      "text/plain": [
       "(54, 53)"
      ]
     },
     "execution_count": 18,
     "metadata": {},
     "output_type": "execute_result"
    }
   ],
   "source": [
    "anomaly_val['ActivityLabel'].sum(), anomaly_test['ActivityLabel'].sum()"
   ]
  },
  {
   "cell_type": "markdown",
   "metadata": {
    "deletable": true,
    "editable": true
   },
   "source": [
    "## Time"
   ]
  },
  {
   "cell_type": "markdown",
   "metadata": {
    "deletable": true,
    "editable": true
   },
   "source": [
    "**Mutation:**\n",
    "- Inaccurate time\n",
    "- Extreme value"
   ]
  },
  {
   "cell_type": "code",
   "execution_count": 19,
   "metadata": {
    "collapsed": true,
    "deletable": true,
    "editable": true
   },
   "outputs": [],
   "source": [
    "i = 0\n",
    "\n",
    "while i < anomalous_time_num_val:\n",
    "    row = np.random.randint(0, anomaly_val.shape[0])\n",
    "    if anomaly_val.iloc[row, anomaly_val.columns.get_loc('TimeLabel')] == 0:\n",
    "        anomaly_val.iloc[row, anomaly_val.columns.get_loc('TimeLabel')] = 1\n",
    "        i+=1"
   ]
  },
  {
   "cell_type": "code",
   "execution_count": 20,
   "metadata": {
    "collapsed": false,
    "deletable": true,
    "editable": true
   },
   "outputs": [],
   "source": [
    "i = 0\n",
    "\n",
    "while i < anomalous_time_num_test:\n",
    "    row = np.random.randint(0, anomaly_test.shape[0])\n",
    "    if anomaly_test.iloc[row, anomaly_test.columns.get_loc('TimeLabel')] == 0:\n",
    "        anomaly_test.iloc[row, anomaly_test.columns.get_loc('TimeLabel')] = 1\n",
    "        i+=1"
   ]
  },
  {
   "cell_type": "code",
   "execution_count": 21,
   "metadata": {
    "collapsed": false,
    "deletable": true,
    "editable": true
   },
   "outputs": [
    {
     "data": {
      "text/plain": [
       "(55, 54)"
      ]
     },
     "execution_count": 21,
     "metadata": {},
     "output_type": "execute_result"
    }
   ],
   "source": [
    "anomaly_val['TimeLabel'].sum(), anomaly_test['TimeLabel'].sum()"
   ]
  },
  {
   "cell_type": "markdown",
   "metadata": {
    "deletable": true,
    "editable": true
   },
   "source": [
    "# Prepare input"
   ]
  },
  {
   "cell_type": "code",
   "execution_count": 22,
   "metadata": {
    "collapsed": false,
    "deletable": true,
    "editable": true
   },
   "outputs": [
    {
     "data": {
      "text/html": [
       "<div>\n",
       "<style>\n",
       "    .dataframe thead tr:only-child th {\n",
       "        text-align: right;\n",
       "    }\n",
       "\n",
       "    .dataframe thead th {\n",
       "        text-align: left;\n",
       "    }\n",
       "\n",
       "    .dataframe tbody tr th {\n",
       "        vertical-align: top;\n",
       "    }\n",
       "</style>\n",
       "<table border=\"1\" class=\"dataframe\">\n",
       "  <thead>\n",
       "    <tr style=\"text-align: right;\">\n",
       "      <th></th>\n",
       "      <th>CaseID</th>\n",
       "      <th>Activity</th>\n",
       "      <th>CompleteTimestamp</th>\n",
       "    </tr>\n",
       "  </thead>\n",
       "  <tbody>\n",
       "    <tr>\n",
       "      <th>0</th>\n",
       "      <td>1</td>\n",
       "      <td>Queued-Awaiting Assignment</td>\n",
       "      <td>2006-01-11 23:49:42</td>\n",
       "    </tr>\n",
       "    <tr>\n",
       "      <th>1</th>\n",
       "      <td>1</td>\n",
       "      <td>Accepted-In Progress</td>\n",
       "      <td>2012-03-15 19:53:52</td>\n",
       "    </tr>\n",
       "    <tr>\n",
       "      <th>2</th>\n",
       "      <td>1</td>\n",
       "      <td>Accepted-Assigned</td>\n",
       "      <td>2012-03-15 19:56:17</td>\n",
       "    </tr>\n",
       "    <tr>\n",
       "      <th>3</th>\n",
       "      <td>1</td>\n",
       "      <td>Accepted-In Progress</td>\n",
       "      <td>2012-03-15 20:09:05</td>\n",
       "    </tr>\n",
       "    <tr>\n",
       "      <th>4</th>\n",
       "      <td>1</td>\n",
       "      <td>Completed-Closed</td>\n",
       "      <td>2012-03-15 20:11:33</td>\n",
       "    </tr>\n",
       "  </tbody>\n",
       "</table>\n",
       "</div>"
      ],
      "text/plain": [
       "  CaseID                    Activity   CompleteTimestamp\n",
       "0      1  Queued-Awaiting Assignment 2006-01-11 23:49:42\n",
       "1      1        Accepted-In Progress 2012-03-15 19:53:52\n",
       "2      1           Accepted-Assigned 2012-03-15 19:56:17\n",
       "3      1        Accepted-In Progress 2012-03-15 20:09:05\n",
       "4      1            Completed-Closed 2012-03-15 20:11:33"
      ]
     },
     "execution_count": 22,
     "metadata": {},
     "output_type": "execute_result"
    }
   ],
   "source": [
    "data_train.head()"
   ]
  },
  {
   "cell_type": "code",
   "execution_count": 23,
   "metadata": {
    "collapsed": false,
    "deletable": true,
    "editable": true
   },
   "outputs": [
    {
     "data": {
      "text/html": [
       "<div>\n",
       "<style>\n",
       "    .dataframe thead tr:only-child th {\n",
       "        text-align: right;\n",
       "    }\n",
       "\n",
       "    .dataframe thead th {\n",
       "        text-align: left;\n",
       "    }\n",
       "\n",
       "    .dataframe tbody tr th {\n",
       "        vertical-align: top;\n",
       "    }\n",
       "</style>\n",
       "<table border=\"1\" class=\"dataframe\">\n",
       "  <thead>\n",
       "    <tr style=\"text-align: right;\">\n",
       "      <th></th>\n",
       "      <th>CaseID</th>\n",
       "      <th>Activity</th>\n",
       "      <th>CompleteTimestamp</th>\n",
       "      <th>ActivityLabel</th>\n",
       "      <th>TimeLabel</th>\n",
       "    </tr>\n",
       "  </thead>\n",
       "  <tbody>\n",
       "    <tr>\n",
       "      <th>4493</th>\n",
       "      <td>893</td>\n",
       "      <td>Queued-Awaiting Assignment</td>\n",
       "      <td>2012-01-14 04:03:40</td>\n",
       "      <td>0</td>\n",
       "      <td>0</td>\n",
       "    </tr>\n",
       "    <tr>\n",
       "      <th>4494</th>\n",
       "      <td>893</td>\n",
       "      <td>Accepted-In Progress</td>\n",
       "      <td>2012-01-31 22:16:55</td>\n",
       "      <td>0</td>\n",
       "      <td>0</td>\n",
       "    </tr>\n",
       "    <tr>\n",
       "      <th>4495</th>\n",
       "      <td>893</td>\n",
       "      <td>Queued-Awaiting Assignment</td>\n",
       "      <td>2012-01-31 22:29:08</td>\n",
       "      <td>0</td>\n",
       "      <td>0</td>\n",
       "    </tr>\n",
       "    <tr>\n",
       "      <th>4496</th>\n",
       "      <td>893</td>\n",
       "      <td>Accepted-In Progress</td>\n",
       "      <td>2012-01-31 23:02:59</td>\n",
       "      <td>0</td>\n",
       "      <td>0</td>\n",
       "    </tr>\n",
       "    <tr>\n",
       "      <th>4497</th>\n",
       "      <td>893</td>\n",
       "      <td>Completed-Closed</td>\n",
       "      <td>2012-02-18 04:13:20</td>\n",
       "      <td>0</td>\n",
       "      <td>0</td>\n",
       "    </tr>\n",
       "  </tbody>\n",
       "</table>\n",
       "</div>"
      ],
      "text/plain": [
       "     CaseID                    Activity   CompleteTimestamp  ActivityLabel  \\\n",
       "4493    893  Queued-Awaiting Assignment 2012-01-14 04:03:40              0   \n",
       "4494    893        Accepted-In Progress 2012-01-31 22:16:55              0   \n",
       "4495    893  Queued-Awaiting Assignment 2012-01-31 22:29:08              0   \n",
       "4496    893        Accepted-In Progress 2012-01-31 23:02:59              0   \n",
       "4497    893            Completed-Closed 2012-02-18 04:13:20              0   \n",
       "\n",
       "      TimeLabel  \n",
       "4493          0  \n",
       "4494          0  \n",
       "4495          0  \n",
       "4496          0  \n",
       "4497          0  "
      ]
     },
     "execution_count": 23,
     "metadata": {},
     "output_type": "execute_result"
    }
   ],
   "source": [
    "anomaly_val.head()"
   ]
  },
  {
   "cell_type": "code",
   "execution_count": 24,
   "metadata": {
    "collapsed": false,
    "deletable": true,
    "editable": true
   },
   "outputs": [
    {
     "data": {
      "text/html": [
       "<div>\n",
       "<style>\n",
       "    .dataframe thead tr:only-child th {\n",
       "        text-align: right;\n",
       "    }\n",
       "\n",
       "    .dataframe thead th {\n",
       "        text-align: left;\n",
       "    }\n",
       "\n",
       "    .dataframe tbody tr th {\n",
       "        vertical-align: top;\n",
       "    }\n",
       "</style>\n",
       "<table border=\"1\" class=\"dataframe\">\n",
       "  <thead>\n",
       "    <tr style=\"text-align: right;\">\n",
       "      <th></th>\n",
       "      <th>CaseID</th>\n",
       "      <th>Activity</th>\n",
       "      <th>CompleteTimestamp</th>\n",
       "      <th>ActivityLabel</th>\n",
       "      <th>TimeLabel</th>\n",
       "    </tr>\n",
       "  </thead>\n",
       "  <tbody>\n",
       "    <tr>\n",
       "      <th>5589</th>\n",
       "      <td>1190</td>\n",
       "      <td>Accepted-In Progress</td>\n",
       "      <td>2012-03-07 22:24:22</td>\n",
       "      <td>0</td>\n",
       "      <td>1</td>\n",
       "    </tr>\n",
       "    <tr>\n",
       "      <th>5590</th>\n",
       "      <td>1190</td>\n",
       "      <td>Completed-Closed</td>\n",
       "      <td>2012-04-11 21:36:11</td>\n",
       "      <td>0</td>\n",
       "      <td>0</td>\n",
       "    </tr>\n",
       "    <tr>\n",
       "      <th>5591</th>\n",
       "      <td>1191</td>\n",
       "      <td>Accepted-In Progress</td>\n",
       "      <td>2012-03-07 22:26:08</td>\n",
       "      <td>0</td>\n",
       "      <td>0</td>\n",
       "    </tr>\n",
       "    <tr>\n",
       "      <th>5592</th>\n",
       "      <td>1191</td>\n",
       "      <td>Completed-Closed</td>\n",
       "      <td>2012-04-25 16:42:09</td>\n",
       "      <td>0</td>\n",
       "      <td>0</td>\n",
       "    </tr>\n",
       "    <tr>\n",
       "      <th>5593</th>\n",
       "      <td>1192</td>\n",
       "      <td>Accepted-In Progress</td>\n",
       "      <td>2012-03-08 00:06:16</td>\n",
       "      <td>0</td>\n",
       "      <td>0</td>\n",
       "    </tr>\n",
       "  </tbody>\n",
       "</table>\n",
       "</div>"
      ],
      "text/plain": [
       "     CaseID              Activity   CompleteTimestamp  ActivityLabel  \\\n",
       "5589   1190  Accepted-In Progress 2012-03-07 22:24:22              0   \n",
       "5590   1190      Completed-Closed 2012-04-11 21:36:11              0   \n",
       "5591   1191  Accepted-In Progress 2012-03-07 22:26:08              0   \n",
       "5592   1191      Completed-Closed 2012-04-25 16:42:09              0   \n",
       "5593   1192  Accepted-In Progress 2012-03-08 00:06:16              0   \n",
       "\n",
       "      TimeLabel  \n",
       "5589          1  \n",
       "5590          0  \n",
       "5591          0  \n",
       "5592          0  \n",
       "5593          0  "
      ]
     },
     "execution_count": 24,
     "metadata": {},
     "output_type": "execute_result"
    }
   ],
   "source": [
    "anomaly_test.head()"
   ]
  },
  {
   "cell_type": "markdown",
   "metadata": {
    "deletable": true,
    "editable": true
   },
   "source": [
    "## Labels"
   ]
  },
  {
   "cell_type": "code",
   "execution_count": 25,
   "metadata": {
    "collapsed": false,
    "deletable": true,
    "editable": true
   },
   "outputs": [],
   "source": [
    "activity_label_val = anomaly_val['ActivityLabel']\n",
    "time_label_val = anomaly_val['TimeLabel']\n",
    "\n",
    "activity_label_test = anomaly_test['ActivityLabel']\n",
    "time_label_test = anomaly_test['TimeLabel']"
   ]
  },
  {
   "cell_type": "code",
   "execution_count": 26,
   "metadata": {
    "collapsed": false,
    "deletable": true,
    "editable": true
   },
   "outputs": [],
   "source": [
    "anomaly_val = anomaly_val.drop(['ActivityLabel', 'TimeLabel'],axis=1)\n",
    "anomaly_test = anomaly_test.drop(['ActivityLabel', 'TimeLabel'],axis=1)"
   ]
  },
  {
   "cell_type": "code",
   "execution_count": 27,
   "metadata": {
    "collapsed": true,
    "deletable": true,
    "editable": true
   },
   "outputs": [],
   "source": [
    "combined_data = data_train.append([anomaly_val, anomaly_test])"
   ]
  },
  {
   "cell_type": "code",
   "execution_count": 28,
   "metadata": {
    "collapsed": false,
    "deletable": true,
    "editable": true
   },
   "outputs": [
    {
     "data": {
      "text/html": [
       "<div>\n",
       "<style>\n",
       "    .dataframe thead tr:only-child th {\n",
       "        text-align: right;\n",
       "    }\n",
       "\n",
       "    .dataframe thead th {\n",
       "        text-align: left;\n",
       "    }\n",
       "\n",
       "    .dataframe tbody tr th {\n",
       "        vertical-align: top;\n",
       "    }\n",
       "</style>\n",
       "<table border=\"1\" class=\"dataframe\">\n",
       "  <thead>\n",
       "    <tr style=\"text-align: right;\">\n",
       "      <th></th>\n",
       "      <th>CaseID</th>\n",
       "      <th>Activity</th>\n",
       "      <th>CompleteTimestamp</th>\n",
       "    </tr>\n",
       "  </thead>\n",
       "  <tbody>\n",
       "    <tr>\n",
       "      <th>0</th>\n",
       "      <td>1</td>\n",
       "      <td>Queued-Awaiting Assignment</td>\n",
       "      <td>2006-01-11 23:49:42</td>\n",
       "    </tr>\n",
       "    <tr>\n",
       "      <th>1</th>\n",
       "      <td>1</td>\n",
       "      <td>Accepted-In Progress</td>\n",
       "      <td>2012-03-15 19:53:52</td>\n",
       "    </tr>\n",
       "    <tr>\n",
       "      <th>2</th>\n",
       "      <td>1</td>\n",
       "      <td>Accepted-Assigned</td>\n",
       "      <td>2012-03-15 19:56:17</td>\n",
       "    </tr>\n",
       "    <tr>\n",
       "      <th>3</th>\n",
       "      <td>1</td>\n",
       "      <td>Accepted-In Progress</td>\n",
       "      <td>2012-03-15 20:09:05</td>\n",
       "    </tr>\n",
       "    <tr>\n",
       "      <th>4</th>\n",
       "      <td>1</td>\n",
       "      <td>Completed-Closed</td>\n",
       "      <td>2012-03-15 20:11:33</td>\n",
       "    </tr>\n",
       "  </tbody>\n",
       "</table>\n",
       "</div>"
      ],
      "text/plain": [
       "  CaseID                    Activity   CompleteTimestamp\n",
       "0      1  Queued-Awaiting Assignment 2006-01-11 23:49:42\n",
       "1      1        Accepted-In Progress 2012-03-15 19:53:52\n",
       "2      1           Accepted-Assigned 2012-03-15 19:56:17\n",
       "3      1        Accepted-In Progress 2012-03-15 20:09:05\n",
       "4      1            Completed-Closed 2012-03-15 20:11:33"
      ]
     },
     "execution_count": 28,
     "metadata": {},
     "output_type": "execute_result"
    }
   ],
   "source": [
    "combined_data.head()"
   ]
  },
  {
   "cell_type": "markdown",
   "metadata": {
    "deletable": true,
    "editable": true
   },
   "source": [
    "## Activity"
   ]
  },
  {
   "cell_type": "code",
   "execution_count": 29,
   "metadata": {
    "collapsed": true,
    "deletable": true,
    "editable": true
   },
   "outputs": [],
   "source": [
    "cat_var = ['Activity']"
   ]
  },
  {
   "cell_type": "code",
   "execution_count": 30,
   "metadata": {
    "collapsed": false,
    "deletable": true,
    "editable": true
   },
   "outputs": [],
   "source": [
    "enc_data = OHE(combined_data, cat_var)"
   ]
  },
  {
   "cell_type": "code",
   "execution_count": 31,
   "metadata": {
    "collapsed": false,
    "deletable": true,
    "editable": true
   },
   "outputs": [
    {
     "data": {
      "text/html": [
       "<div>\n",
       "<style>\n",
       "    .dataframe thead tr:only-child th {\n",
       "        text-align: right;\n",
       "    }\n",
       "\n",
       "    .dataframe thead th {\n",
       "        text-align: left;\n",
       "    }\n",
       "\n",
       "    .dataframe tbody tr th {\n",
       "        vertical-align: top;\n",
       "    }\n",
       "</style>\n",
       "<table border=\"1\" class=\"dataframe\">\n",
       "  <thead>\n",
       "    <tr style=\"text-align: right;\">\n",
       "      <th></th>\n",
       "      <th>CaseID</th>\n",
       "      <th>CompleteTimestamp</th>\n",
       "      <th>Activity_Accepted-Assigned</th>\n",
       "      <th>Activity_Accepted-In Progress</th>\n",
       "      <th>Activity_Accepted-Wait</th>\n",
       "      <th>Activity_Completed-Cancelled</th>\n",
       "      <th>Activity_Completed-Closed</th>\n",
       "      <th>Activity_Queued-Awaiting Assignment</th>\n",
       "      <th>Activity_Unmatched-Unmatched</th>\n",
       "    </tr>\n",
       "  </thead>\n",
       "  <tbody>\n",
       "    <tr>\n",
       "      <th>0</th>\n",
       "      <td>1</td>\n",
       "      <td>2006-01-11 23:49:42</td>\n",
       "      <td>0</td>\n",
       "      <td>0</td>\n",
       "      <td>0</td>\n",
       "      <td>0</td>\n",
       "      <td>0</td>\n",
       "      <td>1</td>\n",
       "      <td>0</td>\n",
       "    </tr>\n",
       "    <tr>\n",
       "      <th>1</th>\n",
       "      <td>1</td>\n",
       "      <td>2012-03-15 19:53:52</td>\n",
       "      <td>0</td>\n",
       "      <td>1</td>\n",
       "      <td>0</td>\n",
       "      <td>0</td>\n",
       "      <td>0</td>\n",
       "      <td>0</td>\n",
       "      <td>0</td>\n",
       "    </tr>\n",
       "    <tr>\n",
       "      <th>2</th>\n",
       "      <td>1</td>\n",
       "      <td>2012-03-15 19:56:17</td>\n",
       "      <td>1</td>\n",
       "      <td>0</td>\n",
       "      <td>0</td>\n",
       "      <td>0</td>\n",
       "      <td>0</td>\n",
       "      <td>0</td>\n",
       "      <td>0</td>\n",
       "    </tr>\n",
       "    <tr>\n",
       "      <th>3</th>\n",
       "      <td>1</td>\n",
       "      <td>2012-03-15 20:09:05</td>\n",
       "      <td>0</td>\n",
       "      <td>1</td>\n",
       "      <td>0</td>\n",
       "      <td>0</td>\n",
       "      <td>0</td>\n",
       "      <td>0</td>\n",
       "      <td>0</td>\n",
       "    </tr>\n",
       "    <tr>\n",
       "      <th>4</th>\n",
       "      <td>1</td>\n",
       "      <td>2012-03-15 20:11:33</td>\n",
       "      <td>0</td>\n",
       "      <td>0</td>\n",
       "      <td>0</td>\n",
       "      <td>0</td>\n",
       "      <td>1</td>\n",
       "      <td>0</td>\n",
       "      <td>0</td>\n",
       "    </tr>\n",
       "  </tbody>\n",
       "</table>\n",
       "</div>"
      ],
      "text/plain": [
       "  CaseID   CompleteTimestamp  Activity_Accepted-Assigned  \\\n",
       "0      1 2006-01-11 23:49:42                           0   \n",
       "1      1 2012-03-15 19:53:52                           0   \n",
       "2      1 2012-03-15 19:56:17                           1   \n",
       "3      1 2012-03-15 20:09:05                           0   \n",
       "4      1 2012-03-15 20:11:33                           0   \n",
       "\n",
       "   Activity_Accepted-In Progress  Activity_Accepted-Wait  \\\n",
       "0                              0                       0   \n",
       "1                              1                       0   \n",
       "2                              0                       0   \n",
       "3                              1                       0   \n",
       "4                              0                       0   \n",
       "\n",
       "   Activity_Completed-Cancelled  Activity_Completed-Closed  \\\n",
       "0                             0                          0   \n",
       "1                             0                          0   \n",
       "2                             0                          0   \n",
       "3                             0                          0   \n",
       "4                             0                          1   \n",
       "\n",
       "   Activity_Queued-Awaiting Assignment  Activity_Unmatched-Unmatched  \n",
       "0                                    1                             0  \n",
       "1                                    0                             0  \n",
       "2                                    0                             0  \n",
       "3                                    0                             0  \n",
       "4                                    0                             0  "
      ]
     },
     "execution_count": 31,
     "metadata": {},
     "output_type": "execute_result"
    }
   ],
   "source": [
    "enc_data.head()"
   ]
  },
  {
   "cell_type": "code",
   "execution_count": 32,
   "metadata": {
    "collapsed": true,
    "deletable": true,
    "editable": true
   },
   "outputs": [],
   "source": [
    "activity_data = enc_data.drop(['CaseID', 'CompleteTimestamp'], axis=1)"
   ]
  },
  {
   "cell_type": "markdown",
   "metadata": {
    "deletable": true,
    "editable": true
   },
   "source": [
    "## Time"
   ]
  },
  {
   "cell_type": "markdown",
   "metadata": {
    "deletable": true,
    "editable": true
   },
   "source": [
    "### Get time"
   ]
  },
  {
   "cell_type": "code",
   "execution_count": 33,
   "metadata": {
    "collapsed": true,
    "deletable": true,
    "editable": true
   },
   "outputs": [],
   "source": [
    "time_data = enc_data[['CaseID', 'CompleteTimestamp']]"
   ]
  },
  {
   "cell_type": "code",
   "execution_count": 34,
   "metadata": {
    "collapsed": false,
    "deletable": true,
    "editable": true
   },
   "outputs": [
    {
     "data": {
      "text/html": [
       "<div>\n",
       "<style>\n",
       "    .dataframe thead tr:only-child th {\n",
       "        text-align: right;\n",
       "    }\n",
       "\n",
       "    .dataframe thead th {\n",
       "        text-align: left;\n",
       "    }\n",
       "\n",
       "    .dataframe tbody tr th {\n",
       "        vertical-align: top;\n",
       "    }\n",
       "</style>\n",
       "<table border=\"1\" class=\"dataframe\">\n",
       "  <thead>\n",
       "    <tr style=\"text-align: right;\">\n",
       "      <th></th>\n",
       "      <th>CaseID</th>\n",
       "      <th>CompleteTimestamp</th>\n",
       "    </tr>\n",
       "  </thead>\n",
       "  <tbody>\n",
       "    <tr>\n",
       "      <th>0</th>\n",
       "      <td>1</td>\n",
       "      <td>2006-01-11 23:49:42</td>\n",
       "    </tr>\n",
       "    <tr>\n",
       "      <th>1</th>\n",
       "      <td>1</td>\n",
       "      <td>2012-03-15 19:53:52</td>\n",
       "    </tr>\n",
       "    <tr>\n",
       "      <th>2</th>\n",
       "      <td>1</td>\n",
       "      <td>2012-03-15 19:56:17</td>\n",
       "    </tr>\n",
       "    <tr>\n",
       "      <th>3</th>\n",
       "      <td>1</td>\n",
       "      <td>2012-03-15 20:09:05</td>\n",
       "    </tr>\n",
       "    <tr>\n",
       "      <th>4</th>\n",
       "      <td>1</td>\n",
       "      <td>2012-03-15 20:11:33</td>\n",
       "    </tr>\n",
       "  </tbody>\n",
       "</table>\n",
       "</div>"
      ],
      "text/plain": [
       "  CaseID   CompleteTimestamp\n",
       "0      1 2006-01-11 23:49:42\n",
       "1      1 2012-03-15 19:53:52\n",
       "2      1 2012-03-15 19:56:17\n",
       "3      1 2012-03-15 20:09:05\n",
       "4      1 2012-03-15 20:11:33"
      ]
     },
     "execution_count": 34,
     "metadata": {},
     "output_type": "execute_result"
    }
   ],
   "source": [
    "time_data.head()"
   ]
  },
  {
   "cell_type": "code",
   "execution_count": 35,
   "metadata": {
    "collapsed": true,
    "deletable": true,
    "editable": true
   },
   "outputs": [],
   "source": [
    "groupByCase = time_data.groupby(['CaseID'])"
   ]
  },
  {
   "cell_type": "code",
   "execution_count": 36,
   "metadata": {
    "collapsed": false,
    "deletable": true,
    "editable": true
   },
   "outputs": [],
   "source": [
    "temp_time = pd.DataFrame(columns=list(time_data)+['Duration'])\n",
    "#Loop all group and apply above functions\n",
    "for case, group in groupByCase:\n",
    "    group = calculateDuration(group)\n",
    "    group['Duration'] = group['Duration'].apply(convert2seconds)    \n",
    "    temp_time = temp_time.append(group)"
   ]
  },
  {
   "cell_type": "code",
   "execution_count": 37,
   "metadata": {
    "collapsed": false,
    "deletable": true,
    "editable": true
   },
   "outputs": [
    {
     "data": {
      "text/html": [
       "<div>\n",
       "<style>\n",
       "    .dataframe thead tr:only-child th {\n",
       "        text-align: right;\n",
       "    }\n",
       "\n",
       "    .dataframe thead th {\n",
       "        text-align: left;\n",
       "    }\n",
       "\n",
       "    .dataframe tbody tr th {\n",
       "        vertical-align: top;\n",
       "    }\n",
       "</style>\n",
       "<table border=\"1\" class=\"dataframe\">\n",
       "  <thead>\n",
       "    <tr style=\"text-align: right;\">\n",
       "      <th></th>\n",
       "      <th>CaseID</th>\n",
       "      <th>CompleteTimestamp</th>\n",
       "      <th>Duration</th>\n",
       "    </tr>\n",
       "  </thead>\n",
       "  <tbody>\n",
       "    <tr>\n",
       "      <th>0</th>\n",
       "      <td>1</td>\n",
       "      <td>2006-01-11 23:49:42</td>\n",
       "      <td>0.0</td>\n",
       "    </tr>\n",
       "    <tr>\n",
       "      <th>1</th>\n",
       "      <td>1</td>\n",
       "      <td>2012-03-15 19:53:52</td>\n",
       "      <td>194817850.0</td>\n",
       "    </tr>\n",
       "    <tr>\n",
       "      <th>2</th>\n",
       "      <td>1</td>\n",
       "      <td>2012-03-15 19:56:17</td>\n",
       "      <td>145.0</td>\n",
       "    </tr>\n",
       "    <tr>\n",
       "      <th>3</th>\n",
       "      <td>1</td>\n",
       "      <td>2012-03-15 20:09:05</td>\n",
       "      <td>768.0</td>\n",
       "    </tr>\n",
       "    <tr>\n",
       "      <th>4</th>\n",
       "      <td>1</td>\n",
       "      <td>2012-03-15 20:11:33</td>\n",
       "      <td>148.0</td>\n",
       "    </tr>\n",
       "  </tbody>\n",
       "</table>\n",
       "</div>"
      ],
      "text/plain": [
       "  CaseID   CompleteTimestamp     Duration\n",
       "0      1 2006-01-11 23:49:42          0.0\n",
       "1      1 2012-03-15 19:53:52  194817850.0\n",
       "2      1 2012-03-15 19:56:17        145.0\n",
       "3      1 2012-03-15 20:09:05        768.0\n",
       "4      1 2012-03-15 20:11:33        148.0"
      ]
     },
     "execution_count": 37,
     "metadata": {},
     "output_type": "execute_result"
    }
   ],
   "source": [
    "temp_time.head()"
   ]
  },
  {
   "cell_type": "markdown",
   "metadata": {
    "deletable": true,
    "editable": true
   },
   "source": [
    "### Get divisor"
   ]
  },
  {
   "cell_type": "code",
   "execution_count": 38,
   "metadata": {
    "collapsed": false,
    "deletable": true,
    "editable": true
   },
   "outputs": [],
   "source": [
    "min_value = np.min(temp_time.iloc[:train_row_num, 2])\n",
    "max_value = np.max(temp_time.iloc[:train_row_num, 2])"
   ]
  },
  {
   "cell_type": "code",
   "execution_count": 39,
   "metadata": {
    "collapsed": false,
    "deletable": true,
    "editable": true
   },
   "outputs": [
    {
     "name": "stdout",
     "output_type": "stream",
     "text": [
      "Min used for normalization: 0.0\n",
      "Max used for normalization: 194817850.0\n"
     ]
    }
   ],
   "source": [
    "print('Min used for normalization: {}'.format(min_value))\n",
    "print('Max used for normalization: {}'.format(max_value))"
   ]
  },
  {
   "cell_type": "markdown",
   "metadata": {
    "deletable": true,
    "editable": true
   },
   "source": [
    "### Normalize time"
   ]
  },
  {
   "cell_type": "code",
   "execution_count": 40,
   "metadata": {
    "collapsed": true,
    "deletable": true,
    "editable": true
   },
   "outputs": [],
   "source": [
    "temp_time['NormalizedDuration'] = temp_time['Duration'].apply(lambda x: (x-min_value)/(max_value-min_value))"
   ]
  },
  {
   "cell_type": "code",
   "execution_count": 41,
   "metadata": {
    "collapsed": false,
    "deletable": true,
    "editable": true
   },
   "outputs": [
    {
     "data": {
      "text/html": [
       "<div>\n",
       "<style>\n",
       "    .dataframe thead tr:only-child th {\n",
       "        text-align: right;\n",
       "    }\n",
       "\n",
       "    .dataframe thead th {\n",
       "        text-align: left;\n",
       "    }\n",
       "\n",
       "    .dataframe tbody tr th {\n",
       "        vertical-align: top;\n",
       "    }\n",
       "</style>\n",
       "<table border=\"1\" class=\"dataframe\">\n",
       "  <thead>\n",
       "    <tr style=\"text-align: right;\">\n",
       "      <th></th>\n",
       "      <th>CaseID</th>\n",
       "      <th>CompleteTimestamp</th>\n",
       "      <th>Duration</th>\n",
       "      <th>NormalizedDuration</th>\n",
       "    </tr>\n",
       "  </thead>\n",
       "  <tbody>\n",
       "    <tr>\n",
       "      <th>0</th>\n",
       "      <td>1</td>\n",
       "      <td>2006-01-11 23:49:42</td>\n",
       "      <td>0.0</td>\n",
       "      <td>0.000000e+00</td>\n",
       "    </tr>\n",
       "    <tr>\n",
       "      <th>1</th>\n",
       "      <td>1</td>\n",
       "      <td>2012-03-15 19:53:52</td>\n",
       "      <td>194817850.0</td>\n",
       "      <td>1.000000e+00</td>\n",
       "    </tr>\n",
       "    <tr>\n",
       "      <th>2</th>\n",
       "      <td>1</td>\n",
       "      <td>2012-03-15 19:56:17</td>\n",
       "      <td>145.0</td>\n",
       "      <td>7.442850e-07</td>\n",
       "    </tr>\n",
       "    <tr>\n",
       "      <th>3</th>\n",
       "      <td>1</td>\n",
       "      <td>2012-03-15 20:09:05</td>\n",
       "      <td>768.0</td>\n",
       "      <td>3.942144e-06</td>\n",
       "    </tr>\n",
       "    <tr>\n",
       "      <th>4</th>\n",
       "      <td>1</td>\n",
       "      <td>2012-03-15 20:11:33</td>\n",
       "      <td>148.0</td>\n",
       "      <td>7.596840e-07</td>\n",
       "    </tr>\n",
       "  </tbody>\n",
       "</table>\n",
       "</div>"
      ],
      "text/plain": [
       "  CaseID   CompleteTimestamp     Duration  NormalizedDuration\n",
       "0      1 2006-01-11 23:49:42          0.0        0.000000e+00\n",
       "1      1 2012-03-15 19:53:52  194817850.0        1.000000e+00\n",
       "2      1 2012-03-15 19:56:17        145.0        7.442850e-07\n",
       "3      1 2012-03-15 20:09:05        768.0        3.942144e-06\n",
       "4      1 2012-03-15 20:11:33        148.0        7.596840e-07"
      ]
     },
     "execution_count": 41,
     "metadata": {},
     "output_type": "execute_result"
    }
   ],
   "source": [
    "temp_time.head()"
   ]
  },
  {
   "cell_type": "code",
   "execution_count": 42,
   "metadata": {
    "collapsed": false,
    "deletable": true,
    "editable": true
   },
   "outputs": [],
   "source": [
    "temp_time = temp_time.drop(['CompleteTimestamp', 'Duration'], axis=1)"
   ]
  },
  {
   "cell_type": "markdown",
   "metadata": {
    "deletable": true,
    "editable": true
   },
   "source": [
    "## 0-padding"
   ]
  },
  {
   "cell_type": "code",
   "execution_count": 43,
   "metadata": {
    "collapsed": true,
    "deletable": true,
    "editable": true
   },
   "outputs": [],
   "source": [
    "full_data = pd.concat([temp_time, activity_data], axis=1)"
   ]
  },
  {
   "cell_type": "code",
   "execution_count": 44,
   "metadata": {
    "collapsed": false,
    "deletable": true,
    "editable": true
   },
   "outputs": [
    {
     "data": {
      "text/html": [
       "<div>\n",
       "<style>\n",
       "    .dataframe thead tr:only-child th {\n",
       "        text-align: right;\n",
       "    }\n",
       "\n",
       "    .dataframe thead th {\n",
       "        text-align: left;\n",
       "    }\n",
       "\n",
       "    .dataframe tbody tr th {\n",
       "        vertical-align: top;\n",
       "    }\n",
       "</style>\n",
       "<table border=\"1\" class=\"dataframe\">\n",
       "  <thead>\n",
       "    <tr style=\"text-align: right;\">\n",
       "      <th></th>\n",
       "      <th>CaseID</th>\n",
       "      <th>NormalizedDuration</th>\n",
       "      <th>Activity_Accepted-Assigned</th>\n",
       "      <th>Activity_Accepted-In Progress</th>\n",
       "      <th>Activity_Accepted-Wait</th>\n",
       "      <th>Activity_Completed-Cancelled</th>\n",
       "      <th>Activity_Completed-Closed</th>\n",
       "      <th>Activity_Queued-Awaiting Assignment</th>\n",
       "      <th>Activity_Unmatched-Unmatched</th>\n",
       "    </tr>\n",
       "  </thead>\n",
       "  <tbody>\n",
       "    <tr>\n",
       "      <th>0</th>\n",
       "      <td>1</td>\n",
       "      <td>0.000000e+00</td>\n",
       "      <td>0</td>\n",
       "      <td>0</td>\n",
       "      <td>0</td>\n",
       "      <td>0</td>\n",
       "      <td>0</td>\n",
       "      <td>1</td>\n",
       "      <td>0</td>\n",
       "    </tr>\n",
       "    <tr>\n",
       "      <th>1</th>\n",
       "      <td>1</td>\n",
       "      <td>1.000000e+00</td>\n",
       "      <td>0</td>\n",
       "      <td>1</td>\n",
       "      <td>0</td>\n",
       "      <td>0</td>\n",
       "      <td>0</td>\n",
       "      <td>0</td>\n",
       "      <td>0</td>\n",
       "    </tr>\n",
       "    <tr>\n",
       "      <th>2</th>\n",
       "      <td>1</td>\n",
       "      <td>7.442850e-07</td>\n",
       "      <td>1</td>\n",
       "      <td>0</td>\n",
       "      <td>0</td>\n",
       "      <td>0</td>\n",
       "      <td>0</td>\n",
       "      <td>0</td>\n",
       "      <td>0</td>\n",
       "    </tr>\n",
       "    <tr>\n",
       "      <th>3</th>\n",
       "      <td>1</td>\n",
       "      <td>3.942144e-06</td>\n",
       "      <td>0</td>\n",
       "      <td>1</td>\n",
       "      <td>0</td>\n",
       "      <td>0</td>\n",
       "      <td>0</td>\n",
       "      <td>0</td>\n",
       "      <td>0</td>\n",
       "    </tr>\n",
       "    <tr>\n",
       "      <th>4</th>\n",
       "      <td>1</td>\n",
       "      <td>7.596840e-07</td>\n",
       "      <td>0</td>\n",
       "      <td>0</td>\n",
       "      <td>0</td>\n",
       "      <td>0</td>\n",
       "      <td>1</td>\n",
       "      <td>0</td>\n",
       "      <td>0</td>\n",
       "    </tr>\n",
       "  </tbody>\n",
       "</table>\n",
       "</div>"
      ],
      "text/plain": [
       "  CaseID  NormalizedDuration  Activity_Accepted-Assigned  \\\n",
       "0      1        0.000000e+00                           0   \n",
       "1      1        1.000000e+00                           0   \n",
       "2      1        7.442850e-07                           1   \n",
       "3      1        3.942144e-06                           0   \n",
       "4      1        7.596840e-07                           0   \n",
       "\n",
       "   Activity_Accepted-In Progress  Activity_Accepted-Wait  \\\n",
       "0                              0                       0   \n",
       "1                              1                       0   \n",
       "2                              0                       0   \n",
       "3                              1                       0   \n",
       "4                              0                       0   \n",
       "\n",
       "   Activity_Completed-Cancelled  Activity_Completed-Closed  \\\n",
       "0                             0                          0   \n",
       "1                             0                          0   \n",
       "2                             0                          0   \n",
       "3                             0                          0   \n",
       "4                             0                          1   \n",
       "\n",
       "   Activity_Queued-Awaiting Assignment  Activity_Unmatched-Unmatched  \n",
       "0                                    1                             0  \n",
       "1                                    0                             0  \n",
       "2                                    0                             0  \n",
       "3                                    0                             0  \n",
       "4                                    0                             0  "
      ]
     },
     "execution_count": 44,
     "metadata": {},
     "output_type": "execute_result"
    }
   ],
   "source": [
    "full_data.head()"
   ]
  },
  {
   "cell_type": "code",
   "execution_count": 46,
   "metadata": {
    "collapsed": true,
    "deletable": true,
    "editable": true
   },
   "outputs": [],
   "source": [
    "pad_index = full_data.copy()"
   ]
  },
  {
   "cell_type": "code",
   "execution_count": 47,
   "metadata": {
    "collapsed": true,
    "deletable": true,
    "editable": true
   },
   "outputs": [],
   "source": [
    "pad_index[cols] = 1.0"
   ]
  },
  {
   "cell_type": "code",
   "execution_count": 48,
   "metadata": {
    "collapsed": false,
    "deletable": true,
    "editable": true
   },
   "outputs": [
    {
     "data": {
      "text/html": [
       "<div>\n",
       "<style>\n",
       "    .dataframe thead tr:only-child th {\n",
       "        text-align: right;\n",
       "    }\n",
       "\n",
       "    .dataframe thead th {\n",
       "        text-align: left;\n",
       "    }\n",
       "\n",
       "    .dataframe tbody tr th {\n",
       "        vertical-align: top;\n",
       "    }\n",
       "</style>\n",
       "<table border=\"1\" class=\"dataframe\">\n",
       "  <thead>\n",
       "    <tr style=\"text-align: right;\">\n",
       "      <th></th>\n",
       "      <th>CaseID</th>\n",
       "      <th>NormalizedDuration</th>\n",
       "      <th>Activity_Accepted-Assigned</th>\n",
       "      <th>Activity_Accepted-In Progress</th>\n",
       "      <th>Activity_Accepted-Wait</th>\n",
       "      <th>Activity_Completed-Cancelled</th>\n",
       "      <th>Activity_Completed-Closed</th>\n",
       "      <th>Activity_Queued-Awaiting Assignment</th>\n",
       "      <th>Activity_Unmatched-Unmatched</th>\n",
       "    </tr>\n",
       "  </thead>\n",
       "  <tbody>\n",
       "    <tr>\n",
       "      <th>0</th>\n",
       "      <td>1</td>\n",
       "      <td>1.0</td>\n",
       "      <td>1.0</td>\n",
       "      <td>1.0</td>\n",
       "      <td>1.0</td>\n",
       "      <td>1.0</td>\n",
       "      <td>1.0</td>\n",
       "      <td>1.0</td>\n",
       "      <td>1.0</td>\n",
       "    </tr>\n",
       "    <tr>\n",
       "      <th>1</th>\n",
       "      <td>1</td>\n",
       "      <td>1.0</td>\n",
       "      <td>1.0</td>\n",
       "      <td>1.0</td>\n",
       "      <td>1.0</td>\n",
       "      <td>1.0</td>\n",
       "      <td>1.0</td>\n",
       "      <td>1.0</td>\n",
       "      <td>1.0</td>\n",
       "    </tr>\n",
       "    <tr>\n",
       "      <th>2</th>\n",
       "      <td>1</td>\n",
       "      <td>1.0</td>\n",
       "      <td>1.0</td>\n",
       "      <td>1.0</td>\n",
       "      <td>1.0</td>\n",
       "      <td>1.0</td>\n",
       "      <td>1.0</td>\n",
       "      <td>1.0</td>\n",
       "      <td>1.0</td>\n",
       "    </tr>\n",
       "    <tr>\n",
       "      <th>3</th>\n",
       "      <td>1</td>\n",
       "      <td>1.0</td>\n",
       "      <td>1.0</td>\n",
       "      <td>1.0</td>\n",
       "      <td>1.0</td>\n",
       "      <td>1.0</td>\n",
       "      <td>1.0</td>\n",
       "      <td>1.0</td>\n",
       "      <td>1.0</td>\n",
       "    </tr>\n",
       "    <tr>\n",
       "      <th>4</th>\n",
       "      <td>1</td>\n",
       "      <td>1.0</td>\n",
       "      <td>1.0</td>\n",
       "      <td>1.0</td>\n",
       "      <td>1.0</td>\n",
       "      <td>1.0</td>\n",
       "      <td>1.0</td>\n",
       "      <td>1.0</td>\n",
       "      <td>1.0</td>\n",
       "    </tr>\n",
       "  </tbody>\n",
       "</table>\n",
       "</div>"
      ],
      "text/plain": [
       "  CaseID  NormalizedDuration  Activity_Accepted-Assigned  \\\n",
       "0      1                 1.0                         1.0   \n",
       "1      1                 1.0                         1.0   \n",
       "2      1                 1.0                         1.0   \n",
       "3      1                 1.0                         1.0   \n",
       "4      1                 1.0                         1.0   \n",
       "\n",
       "   Activity_Accepted-In Progress  Activity_Accepted-Wait  \\\n",
       "0                            1.0                     1.0   \n",
       "1                            1.0                     1.0   \n",
       "2                            1.0                     1.0   \n",
       "3                            1.0                     1.0   \n",
       "4                            1.0                     1.0   \n",
       "\n",
       "   Activity_Completed-Cancelled  Activity_Completed-Closed  \\\n",
       "0                           1.0                        1.0   \n",
       "1                           1.0                        1.0   \n",
       "2                           1.0                        1.0   \n",
       "3                           1.0                        1.0   \n",
       "4                           1.0                        1.0   \n",
       "\n",
       "   Activity_Queued-Awaiting Assignment  Activity_Unmatched-Unmatched  \n",
       "0                                  1.0                           1.0  \n",
       "1                                  1.0                           1.0  \n",
       "2                                  1.0                           1.0  \n",
       "3                                  1.0                           1.0  \n",
       "4                                  1.0                           1.0  "
      ]
     },
     "execution_count": 48,
     "metadata": {},
     "output_type": "execute_result"
    }
   ],
   "source": [
    "pad_index.head()"
   ]
  },
  {
   "cell_type": "markdown",
   "metadata": {
    "deletable": true,
    "editable": true
   },
   "source": [
    "## Vectorize"
   ]
  },
  {
   "cell_type": "code",
   "execution_count": 49,
   "metadata": {
    "collapsed": false,
    "deletable": true,
    "editable": true
   },
   "outputs": [
    {
     "name": "stdout",
     "output_type": "stream",
     "text": [
      "Maxlen:  35\n"
     ]
    }
   ],
   "source": [
    "train_groupByCase = data_train.groupby(['CaseID'])\n",
    "\n",
    "maxlen = findLongestLength(train_groupByCase)\n",
    "print('Maxlen: ', maxlen)"
   ]
  },
  {
   "cell_type": "code",
   "execution_count": 50,
   "metadata": {
    "collapsed": true,
    "deletable": true,
    "editable": true
   },
   "outputs": [],
   "source": [
    "data_groupByCase = full_data.groupby(['CaseID'])\n",
    "vectorized_data = getInput(data_groupByCase, cols, maxlen)\n",
    "\n",
    "pad_index_groupByCase = pad_index.groupby(['CaseID'])\n",
    "vectorized_pad_index = getInput(pad_index_groupByCase, cols, maxlen)"
   ]
  },
  {
   "cell_type": "markdown",
   "metadata": {
    "deletable": true,
    "editable": true
   },
   "source": [
    "# Split in to train/val/test"
   ]
  },
  {
   "cell_type": "code",
   "execution_count": 51,
   "metadata": {
    "collapsed": false,
    "deletable": true,
    "editable": true
   },
   "outputs": [
    {
     "name": "stdout",
     "output_type": "stream",
     "text": [
      "Shape of vectorized data: (1487, 35, 8)\n",
      "Shape of vectorized pad index: (1487, 35, 8)\n",
      "\n",
      "\n",
      "Number of case for train: 892\n",
      "Number of case for validate: 297\n",
      "Number of case for test: 298\n"
     ]
    }
   ],
   "source": [
    "print('Shape of vectorized data: {}'.format(vectorized_data.shape))\n",
    "print('Shape of vectorized pad index: {}'.format(vectorized_pad_index.shape))\n",
    "print('\\n')\n",
    "print('Number of case for train: {}'.format(train_case_num))\n",
    "print('Number of case for validate: {}'.format(val_case_num))\n",
    "print('Number of case for test: {}'.format(test_case_num))"
   ]
  },
  {
   "cell_type": "code",
   "execution_count": 52,
   "metadata": {
    "collapsed": true,
    "deletable": true,
    "editable": true
   },
   "outputs": [],
   "source": [
    "input_train = vectorized_data[0:train_case_num]\n",
    "input_val = vectorized_data[train_case_num:train_case_num+val_case_num]\n",
    "input_test = vectorized_data[-test_case_num:]\n",
    "\n",
    "pad_index_train = vectorized_pad_index[0:train_case_num]\n",
    "pad_index_val = vectorized_pad_index[train_case_num:train_case_num+val_case_num]\n",
    "pad_index_test = vectorized_pad_index[-test_case_num:]"
   ]
  },
  {
   "cell_type": "code",
   "execution_count": 53,
   "metadata": {
    "collapsed": false,
    "deletable": true,
    "editable": true
   },
   "outputs": [
    {
     "name": "stdout",
     "output_type": "stream",
     "text": [
      "Check shape of input for training: True\n",
      "Check shape of input for validation: True\n",
      "Check shape of input for testing: True\n"
     ]
    }
   ],
   "source": [
    "print('Check shape of input for training: {}'.format(input_train.shape[0]==train_case_num))\n",
    "print('Check shape of input for validation: {}'.format(input_val.shape[0]==val_case_num))\n",
    "print('Check shape of input for testing: {}'.format(input_test.shape[0]==test_case_num))"
   ]
  },
  {
   "cell_type": "markdown",
   "metadata": {
    "deletable": true,
    "editable": true
   },
   "source": [
    "# Save data"
   ]
  },
  {
   "cell_type": "code",
   "execution_count": 58,
   "metadata": {
    "collapsed": false,
    "deletable": true,
    "editable": true
   },
   "outputs": [],
   "source": [
    "preprocessed_data_name = os.path.join(args.input_dir, 'preprocessed_data_{}.pkl'.format(args.anomaly_pct))\n",
    "with open(preprocessed_data_name, 'wb') as f:\n",
    "    pickle.dump(input_train, f, protocol=2)\n",
    "    pickle.dump(input_val, f, protocol=2)\n",
    "    pickle.dump(input_test, f, protocol=2)\n",
    "    pickle.dump(pad_index_train, f, protocol=2)\n",
    "    pickle.dump(pad_index_val, f, protocol=2)\n",
    "    pickle.dump(pad_index_test, f, protocol=2)\n",
    "    pickle.dump(activity_label_val, f, protocol=2)\n",
    "    pickle.dump(activity_label_test, f, protocol=2)\n",
    "    pickle.dump(time_label_val, f, protocol=2)\n",
    "    pickle.dump(time_label_test, f, protocol=2)\n",
    "    pickle.dump(train_case_num, f, protocol=2)\n",
    "    pickle.dump(val_case_num, f, protocol=2)\n",
    "    pickle.dump(test_case_num, f, protocol=2)\n",
    "    pickle.dump(train_row_num, f, protocol=2)\n",
    "    pickle.dump(val_row_num, f, protocol=2)\n",
    "    pickle.dump(test_row_num, f, protocol=2)\n",
    "    pickle.dump(min_value, f, protocol=2)\n",
    "    pickle.dump(max_value, f, protocol=2)\n",
    "    pickle.dump(cols, f, protocol=2)"
   ]
  },
  {
   "cell_type": "code",
   "execution_count": null,
   "metadata": {
    "collapsed": true,
    "deletable": true,
    "editable": true
   },
   "outputs": [],
   "source": []
  }
 ],
 "metadata": {
  "kernelspec": {
   "display_name": "Python 3",
   "language": "python",
   "name": "python3"
  },
  "language_info": {
   "codemirror_mode": {
    "name": "ipython",
    "version": 3
   },
   "file_extension": ".py",
   "mimetype": "text/x-python",
   "name": "python",
   "nbconvert_exporter": "python",
   "pygments_lexer": "ipython3",
   "version": "3.5.2"
  },
  "toc": {
   "colors": {
    "hover_highlight": "#DAA520",
    "running_highlight": "#FF0000",
    "selected_highlight": "#FFD700"
   },
   "moveMenuLeft": true,
   "nav_menu": {
    "height": "228px",
    "width": "252px"
   },
   "navigate_menu": true,
   "number_sections": true,
   "sideBar": true,
   "threshold": 4,
   "toc_cell": false,
   "toc_section_display": "block",
   "toc_window_display": false
  }
 },
 "nbformat": 4,
 "nbformat_minor": 2
}
