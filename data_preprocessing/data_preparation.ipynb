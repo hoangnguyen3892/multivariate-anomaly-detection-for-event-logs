{
 "cells": [
  {
   "cell_type": "code",
   "execution_count": null,
   "metadata": {
    "collapsed": true,
    "deletable": true,
    "editable": true
   },
   "outputs": [],
   "source": [
    "import os, sys\n",
    "import argparse\n",
    "import pandas as pd\n",
    "import numpy as np\n",
    "import pickle"
   ]
  },
  {
   "cell_type": "code",
   "execution_count": null,
   "metadata": {
    "collapsed": true,
    "deletable": true,
    "editable": true
   },
   "outputs": [],
   "source": [
    "from dateutil.parser import parse\n",
    "from datetime import datetime\n",
    "import time\n",
    "import matplotlib.pyplot as plt\n",
    "import seaborn as sns\n",
    "\n",
    "%matplotlib inline\n",
    "pd.options.mode.chained_assignment = None #to run loop quicker without warnings"
   ]
  },
  {
   "cell_type": "code",
   "execution_count": null,
   "metadata": {
    "collapsed": true,
    "deletable": true,
    "editable": true
   },
   "outputs": [],
   "source": [
    "name = 'bpi_2012'\n",
    "#name = 'bpi_2013'\n",
    "\n",
    "args = {\n",
    "    'data_dir': '../data/',\n",
    "    'data_file': name + '.csv',\n",
    "    'input_dir': '../input/{}/'.format(name),  \n",
    "    'train_pct': 0.6,\n",
    "    'val_pct': 0.2,\n",
    "    'anomaly_pct': 0.1,\n",
    "    'scaler': 'standardization', \n",
    "}\n",
    "\n",
    "args = argparse.Namespace(**args)"
   ]
  },
  {
   "cell_type": "code",
   "execution_count": null,
   "metadata": {
    "collapsed": true,
    "deletable": true,
    "editable": true
   },
   "outputs": [],
   "source": [
    "if not os.path.isdir('../input/'):\n",
    "    os.makedirs('../input/')\n",
    "    \n",
    "if not os.path.isdir(args.input_dir):\n",
    "    os.makedirs(args.input_dir)"
   ]
  },
  {
   "cell_type": "code",
   "execution_count": null,
   "metadata": {
    "collapsed": false,
    "deletable": true,
    "editable": true
   },
   "outputs": [],
   "source": [
    "sys.path.insert(0, './../utils/')\n",
    "from utils import *"
   ]
  },
  {
   "cell_type": "markdown",
   "metadata": {
    "deletable": true,
    "editable": true
   },
   "source": [
    "# Load data"
   ]
  },
  {
   "cell_type": "code",
   "execution_count": null,
   "metadata": {
    "collapsed": true,
    "deletable": true,
    "editable": true
   },
   "outputs": [],
   "source": [
    "# Only consider Case, Activity, Timestamp\n",
    "cols = ['CaseID', 'Activity', 'CompleteTimestamp']\n",
    "\n",
    "# For Timestamp: Convert to time\n",
    "data = pd.read_csv(args.data_dir + args.data_file, usecols=['Case ID', 'Activity', 'Complete Timestamp'])\n",
    "data['Case ID'] = data['Case ID'].apply(lambda x: x.split(' ')[1])\n",
    "    \n",
    "\n",
    "# Format for each column     \n",
    "data.columns = cols\n",
    "data['CompleteTimestamp'] = pd.to_datetime(data['CompleteTimestamp'], errors='coerce')\n",
    "data['CaseID'] = data['CaseID'].apply(pd.to_numeric)"
   ]
  },
  {
   "cell_type": "code",
   "execution_count": null,
   "metadata": {
    "collapsed": false,
    "deletable": true,
    "editable": true
   },
   "outputs": [],
   "source": [
    "data.head()"
   ]
  },
  {
   "cell_type": "code",
   "execution_count": null,
   "metadata": {
    "collapsed": false,
    "deletable": true,
    "editable": true
   },
   "outputs": [],
   "source": [
    "#Calculate duration and cumulative duration\n",
    "groupByCase = data.groupby(['CaseID'])\n",
    "duration_df = pd.DataFrame(pd.DataFrame(columns=list(data)+['Duration', 'CumDuration']))\n",
    "                           \n",
    "for case, group in groupByCase:\n",
    "    group = calculateDuration(group)\n",
    "    group = calculateCumDuration(group)\n",
    "    group['Duration'] = group['Duration'].apply(convert2seconds)\n",
    "    group['CumDuration'] = group['CumDuration'].apply(convert2seconds)\n",
    "    duration_df = duration_df.append(group)"
   ]
  },
  {
   "cell_type": "code",
   "execution_count": null,
   "metadata": {
    "collapsed": false,
    "deletable": true,
    "editable": true
   },
   "outputs": [],
   "source": [
    "duration_df.head(10)"
   ]
  },
  {
   "cell_type": "code",
   "execution_count": null,
   "metadata": {
    "collapsed": false,
    "deletable": true,
    "editable": true
   },
   "outputs": [],
   "source": [
    "#get statistics storage for activity\n",
    "groupByActivity = duration_df.groupby(['Activity'])\n",
    "statistics_storage = {}\n",
    "\n",
    "for act, act_data in groupByActivity:\n",
    "    act_storage = {}\n",
    "    act_storage[act] = {}\n",
    "    mean_value = act_data['Duration'].mean()\n",
    "    std_value = act_data['Duration'].std()\n",
    "    act_storage[act]['mean'] = mean_value\n",
    "    act_storage[act]['std'] = std_value\n",
    "    statistics_storage.update(act_storage)"
   ]
  },
  {
   "cell_type": "code",
   "execution_count": null,
   "metadata": {
    "collapsed": false,
    "deletable": true,
    "editable": true
   },
   "outputs": [],
   "source": [
    "print('Descriptive statistics: \\n{}'.format(statistics_storage))"
   ]
  },
  {
   "cell_type": "code",
   "execution_count": null,
   "metadata": {
    "collapsed": false
   },
   "outputs": [],
   "source": [
    "act_list = data['Activity'].unique()\n",
    "print('Activity: {}'.format(act_list))"
   ]
  },
  {
   "cell_type": "markdown",
   "metadata": {
    "deletable": true,
    "editable": true
   },
   "source": [
    "# Introduce anomalous data"
   ]
  },
  {
   "cell_type": "code",
   "execution_count": null,
   "metadata": {
    "collapsed": false,
    "deletable": true,
    "editable": true
   },
   "outputs": [],
   "source": [
    "data.head()"
   ]
  },
  {
   "cell_type": "code",
   "execution_count": null,
   "metadata": {
    "collapsed": false,
    "deletable": true,
    "editable": true
   },
   "outputs": [],
   "source": [
    "duration_df.head(10)"
   ]
  },
  {
   "cell_type": "code",
   "execution_count": null,
   "metadata": {
    "collapsed": false,
    "deletable": true,
    "editable": true
   },
   "outputs": [],
   "source": [
    "anomaly_num = int(data.shape[0]*(data.shape[1]-1)*args.anomaly_pct)\n",
    "anomalous_act_num = int(anomaly_num/2)\n",
    "anomalous_time_num = anomaly_num - anomalous_act_num\n",
    "\n",
    "print('Number of anomalous values: {}'.format(anomaly_num))\n",
    "print('Number of anomalous activities: {}'.format(anomalous_act_num))\n",
    "print('Number of anomalous time: {}'.format(anomalous_time_num))"
   ]
  },
  {
   "cell_type": "markdown",
   "metadata": {
    "deletable": true,
    "editable": true
   },
   "source": [
    "## Activity"
   ]
  },
  {
   "cell_type": "markdown",
   "metadata": {
    "deletable": true,
    "editable": true
   },
   "source": [
    "**Mutation:**\n",
    "- Replace an activity by another"
   ]
  },
  {
   "cell_type": "code",
   "execution_count": null,
   "metadata": {
    "collapsed": true
   },
   "outputs": [],
   "source": [
    "temp_act_df = pd.DataFrame({'Activity': duration_df['Activity'].copy(),\n",
    "                            'AnomalousActivity': duration_df['Activity'].copy(),\n",
    "                            'ActivityLabel': 0})"
   ]
  },
  {
   "cell_type": "code",
   "execution_count": null,
   "metadata": {
    "collapsed": false,
    "deletable": true,
    "editable": true
   },
   "outputs": [],
   "source": [
    "temp_act_df.head()"
   ]
  },
  {
   "cell_type": "code",
   "execution_count": null,
   "metadata": {
    "collapsed": false,
    "deletable": true,
    "editable": true
   },
   "outputs": [],
   "source": [
    "anomalous_act_index = []\n",
    "\n",
    "while len(anomalous_act_index) < anomalous_act_num:\n",
    "    row = np.random.randint(0, temp_act_df.shape[0])\n",
    "    idx = np.random.randint(0, len(act_list)-1)\n",
    "    if row not in anomalous_act_index:\n",
    "        anomalous_act_index.append(row)\n",
    "        act = temp_act_df.loc[row, 'Activity']\n",
    "        anomalous_act_list = [i for i in act_list if i != act]\n",
    "        anomalous_act = anomalous_act_list[idx]                  \n",
    "        temp_act_df.loc[row, 'AnomalousActivity'] = anomalous_act\n",
    "        temp_act_df.loc[row, 'ActivityLabel'] = 1"
   ]
  },
  {
   "cell_type": "code",
   "execution_count": null,
   "metadata": {
    "collapsed": false
   },
   "outputs": [],
   "source": [
    "temp_act_df.head(50)"
   ]
  },
  {
   "cell_type": "markdown",
   "metadata": {
    "collapsed": false,
    "deletable": true,
    "editable": true
   },
   "source": [
    "```python\n",
    "#swap 2 activity within a case\n",
    "groupByCase = duration_df.groupby(['CaseID'])\n",
    "\n",
    "anomalous_act_index = []\n",
    "caseid_list = []\n",
    "temp_df = duration_df.copy()\n",
    "temp_df['AnomalousActivity'] = temp_df['Activity'].copy()\n",
    "temp_df['ActivityLabel'] = 0\n",
    "\n",
    "while len(anomalous_act_index) < anomalous_act_num:\n",
    "    caseid = np.random.randint(1, len(groupByCase))\n",
    "    if caseid not in caseid_list:\n",
    "        group = groupByCase.get_group(caseid)\n",
    "        row1 = np.random.randint(0, group.shape[0])\n",
    "        row2 = np.random.randint(0, group.shape[0])\n",
    "        index1 = group.index.values[row1]\n",
    "        index2 = group.index.values[row2]\n",
    "        act1 = duration_df['Activity'].iloc[index1]\n",
    "        act2 = duration_df['Activity'].iloc[index2]\n",
    "        if act1 != act2:\n",
    "            anomalous_act_index.append(index1)\n",
    "            anomalous_act_index.append(index2)\n",
    "            temp_df['AnomalousActivity'].iloc[index1] = act2\n",
    "            temp_df['AnomalousActivity'].iloc[index2] = act1\n",
    "            temp_df['ActivityLabel'].iloc[index1] = 1\n",
    "            temp_df['ActivityLabel'].iloc[index2] = 1\n",
    "            \n",
    "temp_act = temp_df[['AnomalousActivity', 'ActivityLabel']]\n",
    "```"
   ]
  },
  {
   "cell_type": "code",
   "execution_count": null,
   "metadata": {
    "collapsed": false,
    "deletable": true,
    "editable": true
   },
   "outputs": [],
   "source": [
    "temp_act = temp_act_df[['AnomalousActivity', 'ActivityLabel']]"
   ]
  },
  {
   "cell_type": "code",
   "execution_count": null,
   "metadata": {
    "collapsed": false
   },
   "outputs": [],
   "source": [
    "temp_act.head()"
   ]
  },
  {
   "cell_type": "markdown",
   "metadata": {
    "deletable": true,
    "editable": true
   },
   "source": [
    "## Time"
   ]
  },
  {
   "cell_type": "markdown",
   "metadata": {
    "deletable": true,
    "editable": true
   },
   "source": [
    "**Mutation:**\n",
    "- Extreme duration"
   ]
  },
  {
   "cell_type": "code",
   "execution_count": null,
   "metadata": {
    "collapsed": false
   },
   "outputs": [],
   "source": [
    "temp_time_df = duration_df.copy()\n",
    "temp_time_df['AnomalousDuration'] = temp_time_df['Duration'].copy()\n",
    "temp_time_df['TimeLabel'] = 0"
   ]
  },
  {
   "cell_type": "code",
   "execution_count": null,
   "metadata": {
    "collapsed": false,
    "deletable": true,
    "editable": true
   },
   "outputs": [],
   "source": [
    "temp_time_df.head()"
   ]
  },
  {
   "cell_type": "code",
   "execution_count": null,
   "metadata": {
    "collapsed": false,
    "deletable": true,
    "editable": true
   },
   "outputs": [],
   "source": [
    "#get anomalous duration\n",
    "anomalous_time_index = []\n",
    "\n",
    "while len(anomalous_time_index) < anomalous_time_num:\n",
    "    row = np.random.randint(0, temp_time_df.shape[0])\n",
    "    if row not in anomalous_time_index:\n",
    "        anomalous_time_index.append(row)\n",
    "        act = temp_time_df.loc[row, 'Activity']\n",
    "        anomalous_value = (np.random.random_sample() + 1)*(statistics_storage[act]['mean'] + statistics_storage[act]['std'])\n",
    "        temp_time_df.loc[row, 'AnomalousDuration'] = anomalous_value\n",
    "        temp_time_df.loc[row, 'TimeLabel'] = 1"
   ]
  },
  {
   "cell_type": "code",
   "execution_count": null,
   "metadata": {
    "collapsed": false,
    "deletable": true,
    "editable": true
   },
   "outputs": [],
   "source": [
    "temp_time_df.head()"
   ]
  },
  {
   "cell_type": "code",
   "execution_count": null,
   "metadata": {
    "collapsed": false,
    "deletable": true,
    "editable": true
   },
   "outputs": [],
   "source": [
    "#get anomalous cumulative duration\n",
    "temp_cum_time_df = pd.DataFrame(columns=list(temp_time_df)+['AnomalousCompleteTimestamp'])\n",
    "groupByCase = temp_time_df.groupby(['CaseID'])\n",
    "\n",
    "for case, group in groupByCase:\n",
    "    group['AnomalousCompleteTimestamp'] = group['CompleteTimestamp'].copy()\n",
    "    if group['TimeLabel'].sum() > 0:\n",
    "        for row in range(group.shape[0]-1):\n",
    "            previous_timestamp = group['CompleteTimestamp'].iloc[row]\n",
    "            current_duration = group['AnomalousDuration'].iloc[row+1]\n",
    "            current_timestamp = previous_timestamp + timedelta(seconds=current_duration)\n",
    "            group['AnomalousCompleteTimestamp'].iloc[row+1] = current_timestamp\n",
    "    temp_cum_time_df = temp_cum_time_df.append(group)"
   ]
  },
  {
   "cell_type": "code",
   "execution_count": null,
   "metadata": {
    "collapsed": false,
    "deletable": true,
    "editable": true
   },
   "outputs": [],
   "source": [
    "temp_cum_time_df.head(11)"
   ]
  },
  {
   "cell_type": "code",
   "execution_count": null,
   "metadata": {
    "collapsed": false,
    "deletable": true,
    "editable": true
   },
   "outputs": [],
   "source": [
    "groupByCase = temp_cum_time_df.groupby(['CaseID'])\n",
    "temp_time = pd.DataFrame(pd.DataFrame(columns=list(temp_cum_time_df)+['AnomalousCumDuration']))\n",
    "                           \n",
    "for case, group in groupByCase:\n",
    "    group = calculateAnomalousCumDuration(group)\n",
    "    group['AnomalousCumDuration'] = group['AnomalousCumDuration'].apply(convert2seconds)\n",
    "    temp_time = temp_time.append(group)"
   ]
  },
  {
   "cell_type": "code",
   "execution_count": null,
   "metadata": {
    "collapsed": false,
    "deletable": true,
    "editable": true
   },
   "outputs": [],
   "source": [
    "temp_time.head()"
   ]
  },
  {
   "cell_type": "markdown",
   "metadata": {
    "deletable": true,
    "editable": true
   },
   "source": [
    "## Get full df"
   ]
  },
  {
   "cell_type": "code",
   "execution_count": null,
   "metadata": {
    "collapsed": true,
    "deletable": true,
    "editable": true
   },
   "outputs": [],
   "source": [
    "full_df = pd.concat([temp_time, temp_act], axis=1)"
   ]
  },
  {
   "cell_type": "code",
   "execution_count": null,
   "metadata": {
    "collapsed": false,
    "deletable": true,
    "editable": true
   },
   "outputs": [],
   "source": [
    "full_df.head()"
   ]
  },
  {
   "cell_type": "code",
   "execution_count": null,
   "metadata": {
    "collapsed": false,
    "deletable": true,
    "editable": true
   },
   "outputs": [],
   "source": [
    "normal_df = full_df[['CaseID', 'Activity', 'CompleteTimestamp', 'Duration', 'CumDuration']]\n",
    "anomalous_df = full_df[['CaseID', 'AnomalousActivity', 'AnomalousCompleteTimestamp', 'AnomalousDuration', \n",
    "                        'AnomalousCumDuration', 'ActivityLabel', 'TimeLabel']]"
   ]
  },
  {
   "cell_type": "code",
   "execution_count": null,
   "metadata": {
    "collapsed": false,
    "deletable": true,
    "editable": true
   },
   "outputs": [],
   "source": [
    "print('Saving dataframes...')\n",
    "normal_df_name = os.path.join(args.input_dir, 'normal_df_{}.csv'.format(args.anomaly_pct))\n",
    "normal_df.to_csv(normal_df_name, index=False)\n",
    "\n",
    "anomalous_df_name = os.path.join(args.input_dir, 'anomolous_df_{}.csv'.format(args.anomaly_pct))\n",
    "anomalous_df.to_csv(anomalous_df_name, index=False)\n",
    "print('Done!')"
   ]
  },
  {
   "cell_type": "markdown",
   "metadata": {
    "deletable": true,
    "editable": true
   },
   "source": [
    "# Preprocess data"
   ]
  },
  {
   "cell_type": "code",
   "execution_count": null,
   "metadata": {
    "collapsed": true,
    "deletable": true,
    "editable": true
   },
   "outputs": [],
   "source": [
    "groupByCase = anomalous_df.groupby(['CaseID'])\n",
    "\n",
    "# Split: 70% train, 20% validate, 20% test\n",
    "train_case_num = int(len(groupByCase)*args.train_pct)\n",
    "val_case_num = int(len(groupByCase)*args.val_pct)\n",
    "test_case_num = len(groupByCase) - train_case_num - val_case_num"
   ]
  },
  {
   "cell_type": "code",
   "execution_count": null,
   "metadata": {
    "collapsed": false,
    "deletable": true,
    "editable": true
   },
   "outputs": [],
   "source": [
    "anomalous_df_train = pd.DataFrame(columns=list(anomalous_df))\n",
    "anomalous_df_val = pd.DataFrame(columns=list(anomalous_df))\n",
    "anomalous_df_test = pd.DataFrame(columns=list(anomalous_df))\n",
    "\n",
    "for caseid, data_case in groupByCase:\n",
    "    if caseid <= train_case_num:\n",
    "        anomalous_df_train = anomalous_df_train.append(data_case)\n",
    "    elif train_case_num < caseid <= (train_case_num+val_case_num):\n",
    "        anomalous_df_val = anomalous_df_val.append(data_case)\n",
    "    else:\n",
    "        anomalous_df_test = anomalous_df_test.append(data_case)"
   ]
  },
  {
   "cell_type": "code",
   "execution_count": null,
   "metadata": {
    "collapsed": false,
    "deletable": true,
    "editable": true
   },
   "outputs": [],
   "source": [
    "print('Checking shapes of sub data: ', anomalous_df.shape[0] == anomalous_df_train.shape[0] + anomalous_df_val.shape[0] + anomalous_df_test.shape[0])"
   ]
  },
  {
   "cell_type": "code",
   "execution_count": null,
   "metadata": {
    "collapsed": false,
    "deletable": true,
    "editable": true
   },
   "outputs": [],
   "source": [
    "train_row_num = anomalous_df_train.shape[0]\n",
    "val_row_num = anomalous_df_val.shape[0]\n",
    "test_row_num = anomalous_df_test.shape[0]\n",
    "\n",
    "print('Number of rows for training: {}'.format(train_row_num))\n",
    "print('Number of rows for val: {}'.format(val_row_num))\n",
    "print('Number of rows for testing: {}'.format(test_row_num))"
   ]
  },
  {
   "cell_type": "code",
   "execution_count": null,
   "metadata": {
    "collapsed": false,
    "deletable": true,
    "editable": true
   },
   "outputs": [],
   "source": [
    "print('Number of anomalous values in train set: {}'.format(anomalous_df_train['ActivityLabel'].sum() + anomalous_df_train['TimeLabel'].sum()))\n",
    "print('Number of anomalous activities in train set: {}'.format(anomalous_df_train['ActivityLabel'].sum()))\n",
    "print('Number of anomalous time in train set: {}'.format(anomalous_df_train['TimeLabel'].sum()))\n",
    "print('\\n')\n",
    "print('Number of anomalous values in validate set: {}'.format(anomalous_df_val['ActivityLabel'].sum() + anomalous_df_val['TimeLabel'].sum()))\n",
    "print('Number of anomalous activities in validate set: {}'.format(anomalous_df_val['ActivityLabel'].sum()))\n",
    "print('Number of anomalous time in validate set: {}'.format(anomalous_df_val['TimeLabel'].sum()))\n",
    "print('\\n')\n",
    "print('Number of anomalous values in test set: {}'.format(anomalous_df_test['ActivityLabel'].sum() + anomalous_df_test['TimeLabel'].sum()))\n",
    "print('Number of anomalous activities in test set: {}'.format(anomalous_df_test['ActivityLabel'].sum()))\n",
    "print('Number of anomalous time in test set: {}'.format(anomalous_df_test['TimeLabel'].sum()))"
   ]
  },
  {
   "cell_type": "code",
   "execution_count": null,
   "metadata": {
    "collapsed": false,
    "deletable": true,
    "editable": true
   },
   "outputs": [],
   "source": [
    "(848+226+232)/2"
   ]
  },
  {
   "cell_type": "markdown",
   "metadata": {
    "deletable": true,
    "editable": true
   },
   "source": [
    "# Prepare input"
   ]
  },
  {
   "cell_type": "code",
   "execution_count": null,
   "metadata": {
    "collapsed": false,
    "deletable": true,
    "editable": true
   },
   "outputs": [],
   "source": [
    "anomalous_df.head()"
   ]
  },
  {
   "cell_type": "markdown",
   "metadata": {
    "deletable": true,
    "editable": true
   },
   "source": [
    "## Labels"
   ]
  },
  {
   "cell_type": "code",
   "execution_count": null,
   "metadata": {
    "collapsed": false,
    "deletable": true,
    "editable": true
   },
   "outputs": [],
   "source": [
    "activity_label = anomalous_df['ActivityLabel']\n",
    "time_label = anomalous_df['TimeLabel']"
   ]
  },
  {
   "cell_type": "code",
   "execution_count": null,
   "metadata": {
    "collapsed": true,
    "deletable": true,
    "editable": true
   },
   "outputs": [],
   "source": [
    "activity_label_train = activity_label[:train_row_num]\n",
    "activity_label_val = activity_label[train_row_num:train_row_num+val_row_num]\n",
    "activity_label_test = activity_label[-test_row_num:]\n",
    "\n",
    "time_label_train = time_label[:train_row_num]\n",
    "time_label_val = time_label[train_row_num:train_row_num+val_row_num]\n",
    "time_label_test = time_label[-test_row_num:]"
   ]
  },
  {
   "cell_type": "code",
   "execution_count": null,
   "metadata": {
    "collapsed": false,
    "deletable": true,
    "editable": true
   },
   "outputs": [],
   "source": [
    "len(time_label_test)"
   ]
  },
  {
   "cell_type": "code",
   "execution_count": null,
   "metadata": {
    "collapsed": false,
    "deletable": true,
    "editable": true
   },
   "outputs": [],
   "source": [
    "anomaly = anomalous_df[['CaseID', 'AnomalousActivity', 'AnomalousCumDuration']]"
   ]
  },
  {
   "cell_type": "markdown",
   "metadata": {
    "deletable": true,
    "editable": true
   },
   "source": [
    "## Activity"
   ]
  },
  {
   "cell_type": "code",
   "execution_count": null,
   "metadata": {
    "collapsed": true,
    "deletable": true,
    "editable": true
   },
   "outputs": [],
   "source": [
    "cat_var = ['AnomalousActivity']"
   ]
  },
  {
   "cell_type": "code",
   "execution_count": null,
   "metadata": {
    "collapsed": false,
    "deletable": true,
    "editable": true
   },
   "outputs": [],
   "source": [
    "enc_data = OHE(anomaly, cat_var)"
   ]
  },
  {
   "cell_type": "code",
   "execution_count": null,
   "metadata": {
    "collapsed": false,
    "deletable": true,
    "editable": true
   },
   "outputs": [],
   "source": [
    "enc_data.head()"
   ]
  },
  {
   "cell_type": "markdown",
   "metadata": {
    "deletable": true,
    "editable": true
   },
   "source": [
    "## Time"
   ]
  },
  {
   "cell_type": "code",
   "execution_count": null,
   "metadata": {
    "collapsed": false,
    "deletable": true,
    "editable": true
   },
   "outputs": [],
   "source": [
    "min_value = np.min(enc_data['AnomalousCumDuration'].iloc[:train_row_num])\n",
    "max_value = np.max(enc_data['AnomalousCumDuration'].iloc[:train_row_num])"
   ]
  },
  {
   "cell_type": "code",
   "execution_count": null,
   "metadata": {
    "collapsed": false,
    "deletable": true,
    "editable": true
   },
   "outputs": [],
   "source": [
    "print('Min used for normalization: {}'.format(min_value))\n",
    "print('Max used for normalization: {}'.format(max_value))"
   ]
  },
  {
   "cell_type": "code",
   "execution_count": null,
   "metadata": {
    "collapsed": true
   },
   "outputs": [],
   "source": [
    "mean_value = np.mean(enc_data['AnomalousCumDuration'].iloc[:train_row_num])\n",
    "std_value = np.std(enc_data['AnomalousCumDuration'].iloc[:train_row_num])"
   ]
  },
  {
   "cell_type": "code",
   "execution_count": null,
   "metadata": {
    "collapsed": false
   },
   "outputs": [],
   "source": [
    "print('Mean used for standardization: {}'.format(mean_value))\n",
    "print('STD used for standardization: {}'.format(std_value))"
   ]
  },
  {
   "cell_type": "code",
   "execution_count": null,
   "metadata": {
    "collapsed": true,
    "deletable": true,
    "editable": true
   },
   "outputs": [],
   "source": [
    "enc_data['NormalizedCumDuration'] = enc_data['AnomalousCumDuration'].apply(lambda x: (x-min_value)/(max_value-min_value))\n",
    "enc_data['StandardizedCumDuration'] = enc_data['AnomalousCumDuration'].apply(lambda x: (x-mean_value)/(std_value))"
   ]
  },
  {
   "cell_type": "code",
   "execution_count": null,
   "metadata": {
    "collapsed": false,
    "deletable": true,
    "editable": true
   },
   "outputs": [],
   "source": [
    "enc_data.head()"
   ]
  },
  {
   "cell_type": "code",
   "execution_count": null,
   "metadata": {
    "collapsed": true
   },
   "outputs": [],
   "source": [
    "if args.scaler == 'standardization':\n",
    "    scaled_enc_data = enc_data.drop(['AnomalousCumDuration', 'NormalizedCumDuration'], axis=1)\n",
    "if args.scaler == 'normalization':\n",
    "    scaled_enc_data = enc_data.drop(['AnomalousCumDuration', 'StandardizedCumDuration'], axis=1)"
   ]
  },
  {
   "cell_type": "code",
   "execution_count": null,
   "metadata": {
    "collapsed": false
   },
   "outputs": [],
   "source": [
    "scaled_enc_data.head()"
   ]
  },
  {
   "cell_type": "markdown",
   "metadata": {
    "deletable": true,
    "editable": true
   },
   "source": [
    "## 0-padding"
   ]
  },
  {
   "cell_type": "code",
   "execution_count": null,
   "metadata": {
    "collapsed": true,
    "deletable": true,
    "editable": true
   },
   "outputs": [],
   "source": [
    "#rearrag\n",
    "cols = list(scaled_enc_data)\n",
    "cols = ['CaseID', cols[-1]] + cols[1:-1]\n",
    "scaled_enc_data = scaled_enc_data[cols]"
   ]
  },
  {
   "cell_type": "code",
   "execution_count": null,
   "metadata": {
    "collapsed": false,
    "deletable": true,
    "editable": true
   },
   "outputs": [],
   "source": [
    "scaled_enc_data.head()"
   ]
  },
  {
   "cell_type": "code",
   "execution_count": null,
   "metadata": {
    "collapsed": false,
    "deletable": true,
    "editable": true
   },
   "outputs": [],
   "source": [
    "cols = [i for i in list(scaled_enc_data) if i != 'CaseID']\n",
    "cols"
   ]
  },
  {
   "cell_type": "code",
   "execution_count": null,
   "metadata": {
    "collapsed": true,
    "deletable": true,
    "editable": true
   },
   "outputs": [],
   "source": [
    "pad_index = scaled_enc_data.copy()\n",
    "pad_index[cols] = 1.0"
   ]
  },
  {
   "cell_type": "code",
   "execution_count": null,
   "metadata": {
    "collapsed": false,
    "deletable": true,
    "editable": true
   },
   "outputs": [],
   "source": [
    "pad_index.head()"
   ]
  },
  {
   "cell_type": "markdown",
   "metadata": {
    "deletable": true,
    "editable": true
   },
   "source": [
    "## Vectorize"
   ]
  },
  {
   "cell_type": "code",
   "execution_count": null,
   "metadata": {
    "collapsed": false,
    "deletable": true,
    "editable": true
   },
   "outputs": [],
   "source": [
    "groupByCase = scaled_enc_data.groupby(['CaseID'])\n",
    "\n",
    "maxlen = findLongestLength(train_groupByCase)\n",
    "print('Maxlen: ', maxlen)"
   ]
  },
  {
   "cell_type": "code",
   "execution_count": null,
   "metadata": {
    "collapsed": false,
    "deletable": true,
    "editable": true
   },
   "outputs": [],
   "source": [
    "vectorized_data = getInput(groupByCase, cols, maxlen)\n",
    "\n",
    "pad_index_groupByCase = pad_index.groupby(['CaseID'])\n",
    "vectorized_pad_index = getInput(pad_index_groupByCase, cols, maxlen)"
   ]
  },
  {
   "cell_type": "markdown",
   "metadata": {
    "deletable": true,
    "editable": true
   },
   "source": [
    "# Split in to train/val/test"
   ]
  },
  {
   "cell_type": "code",
   "execution_count": null,
   "metadata": {
    "collapsed": false,
    "deletable": true,
    "editable": true
   },
   "outputs": [],
   "source": [
    "print('Shape of vectorized data: {}'.format(vectorized_data.shape))\n",
    "print('Shape of vectorized pad index: {}'.format(vectorized_pad_index.shape))\n",
    "print('\\n')\n",
    "print('Number of case for train: {}'.format(train_case_num))\n",
    "print('Number of case for validate: {}'.format(val_case_num))\n",
    "print('Number of case for test: {}'.format(test_case_num))"
   ]
  },
  {
   "cell_type": "code",
   "execution_count": null,
   "metadata": {
    "collapsed": true,
    "deletable": true,
    "editable": true
   },
   "outputs": [],
   "source": [
    "input_train = vectorized_data[0:train_case_num]\n",
    "input_val = vectorized_data[train_case_num:train_case_num+val_case_num]\n",
    "input_test = vectorized_data[-test_case_num:]\n",
    "\n",
    "pad_index_train = vectorized_pad_index[0:train_case_num]\n",
    "pad_index_val = vectorized_pad_index[train_case_num:train_case_num+val_case_num]\n",
    "pad_index_test = vectorized_pad_index[-test_case_num:]"
   ]
  },
  {
   "cell_type": "code",
   "execution_count": null,
   "metadata": {
    "collapsed": false,
    "deletable": true,
    "editable": true
   },
   "outputs": [],
   "source": [
    "print('Check shape of input for training: {}'.format(input_train.shape[0]==train_case_num))\n",
    "print('Check shape of input for validation: {}'.format(input_val.shape[0]==val_case_num))\n",
    "print('Check shape of input for testing: {}'.format(input_test.shape[0]==test_case_num))"
   ]
  },
  {
   "cell_type": "code",
   "execution_count": null,
   "metadata": {
    "collapsed": false,
    "deletable": true,
    "editable": true
   },
   "outputs": [],
   "source": [
    "vectorized_data[0]"
   ]
  },
  {
   "cell_type": "markdown",
   "metadata": {
    "deletable": true,
    "editable": true
   },
   "source": [
    "# Save data"
   ]
  },
  {
   "cell_type": "code",
   "execution_count": null,
   "metadata": {
    "collapsed": false,
    "deletable": true,
    "editable": true
   },
   "outputs": [],
   "source": [
    "preprocessed_data_name = os.path.join(args.input_dir, 'preprocessed_data_{}.pkl'.format(args.anomaly_pct))\n",
    "with open(preprocessed_data_name, 'wb') as f:\n",
    "    pickle.dump(input_train, f, protocol=2)\n",
    "    pickle.dump(input_val, f, protocol=2)\n",
    "    pickle.dump(input_test, f, protocol=2)\n",
    "    pickle.dump(pad_index_train, f, protocol=2)\n",
    "    pickle.dump(pad_index_val, f, protocol=2)\n",
    "    pickle.dump(pad_index_test, f, protocol=2)\n",
    "    pickle.dump(activity_label_train, f, protocol=2)\n",
    "    pickle.dump(activity_label_val, f, protocol=2)\n",
    "    pickle.dump(activity_label_test, f, protocol=2)\n",
    "    pickle.dump(time_label_train, f, protocol=2)\n",
    "    pickle.dump(time_label_val, f, protocol=2)\n",
    "    pickle.dump(time_label_test, f, protocol=2)\n",
    "    pickle.dump(train_case_num, f, protocol=2)\n",
    "    pickle.dump(val_case_num, f, protocol=2)\n",
    "    pickle.dump(test_case_num, f, protocol=2)\n",
    "    pickle.dump(train_row_num, f, protocol=2)\n",
    "    pickle.dump(val_row_num, f, protocol=2)\n",
    "    pickle.dump(test_row_num, f, protocol=2)\n",
    "    pickle.dump(min_value, f, protocol=2)\n",
    "    pickle.dump(max_value, f, protocol=2)\n",
    "    pickle.dump(mean_value, f, protocol=2)\n",
    "    pickle.dump(std_value, f, protocol=2)\n",
    "    pickle.dump(cols, f, protocol=2)\n",
    "    pickle.dump(statistics_storage, f, protocol=2)"
   ]
  },
  {
   "cell_type": "code",
   "execution_count": null,
   "metadata": {
    "collapsed": true
   },
   "outputs": [],
   "source": []
  }
 ],
 "metadata": {
  "kernelspec": {
   "display_name": "Python 3",
   "language": "python",
   "name": "python3"
  },
  "language_info": {
   "codemirror_mode": {
    "name": "ipython",
    "version": 3
   },
   "file_extension": ".py",
   "mimetype": "text/x-python",
   "name": "python",
   "nbconvert_exporter": "python",
   "pygments_lexer": "ipython3",
   "version": "3.5.2"
  },
  "toc": {
   "colors": {
    "hover_highlight": "#DAA520",
    "running_highlight": "#FF0000",
    "selected_highlight": "#FFD700"
   },
   "moveMenuLeft": true,
   "nav_menu": {
    "height": "228px",
    "width": "252px"
   },
   "navigate_menu": true,
   "number_sections": true,
   "sideBar": true,
   "threshold": 4,
   "toc_cell": false,
   "toc_section_display": "block",
   "toc_window_display": false
  }
 },
 "nbformat": 4,
 "nbformat_minor": 2
}
