{
 "cells": [
  {
   "cell_type": "code",
   "execution_count": 1,
   "metadata": {
    "collapsed": true
   },
   "outputs": [],
   "source": [
    "import importlib\n",
    "import argparse\n",
    "import os, sys\n",
    "import argparse\n",
    "import pandas as pd\n",
    "import numpy as np\n",
    "import pickle\n",
    "import time"
   ]
  },
  {
   "cell_type": "code",
   "execution_count": 2,
   "metadata": {
    "collapsed": true
   },
   "outputs": [],
   "source": [
    "import matplotlib.pyplot as plt\n",
    "import seaborn as sns; sns.set()\n",
    "from sklearn.metrics import confusion_matrix, precision_recall_fscore_support, roc_curve, auc, precision_recall_curve\n",
    "\n",
    "\n",
    "%matplotlib inline"
   ]
  },
  {
   "cell_type": "code",
   "execution_count": 3,
   "metadata": {
    "collapsed": true
   },
   "outputs": [],
   "source": [
    "import torch\n",
    "import torch.utils.data\n",
    "import torch.nn.functional as F\n",
    "import torch.nn as nn\n",
    "import torch.optim as optim\n",
    "import torch.optim.lr_scheduler\n",
    "from torch.autograd import Variable\n",
    "from torchvision import transforms"
   ]
  },
  {
   "cell_type": "code",
   "execution_count": 4,
   "metadata": {
    "collapsed": true
   },
   "outputs": [],
   "source": [
    "sys.path.insert(0, './../utils/')\n",
    "from utils import *\n",
    "from models import *"
   ]
  },
  {
   "cell_type": "code",
   "execution_count": 5,
   "metadata": {
    "collapsed": true
   },
   "outputs": [],
   "source": [
    "#Define parser\n",
    "name = 'bpi_2012'\n",
    "#name = 'bpi_2013' \n",
    "\n",
    "parser = {\n",
    "    'train': True,\n",
    "    'test': True,\n",
    "    'model_class': 'AE',\n",
    "    'model_name': '',\n",
    "    'data_dir': '../data/',\n",
    "    'data_file': name + '.csv',\n",
    "    'anomaly_pct': 0.05,\n",
    "    'scaler': 'standardization',\n",
    "    'input_dir': '../input/{}/'.format(name), \n",
    "    'batch_size' : 16,\n",
    "    'epochs' : 100,\n",
    "    'no_cuda' : False,\n",
    "    'seed' : 7,\n",
    "    'layer1': 1000,\n",
    "    'layer2': 100,\n",
    "    'lr': 0.0005,\n",
    "    'betas': (0.9, 0.999),   \n",
    "    'lr_decay': 0.90,\n",
    "    'lr_step': 10,\n",
    "}\n",
    "\n",
    "args = argparse.Namespace(**parser)\n",
    "args.output_dir = './output/{0}_{1}_{2}/'.format(name, args.anomaly_pct, args.model_class)"
   ]
  },
  {
   "cell_type": "code",
   "execution_count": 6,
   "metadata": {
    "collapsed": true
   },
   "outputs": [],
   "source": [
    "if not os.path.isdir(args.output_dir):\n",
    "    os.makedirs(args.output_dir)"
   ]
  },
  {
   "cell_type": "code",
   "execution_count": 7,
   "metadata": {
    "collapsed": true
   },
   "outputs": [],
   "source": [
    "args.cuda = not args.no_cuda and torch.cuda.is_available()\n",
    "kwargs = {'num_workers': 2, 'pin_memory': True} if args.cuda else {}"
   ]
  },
  {
   "cell_type": "code",
   "execution_count": 8,
   "metadata": {
    "collapsed": true
   },
   "outputs": [],
   "source": [
    "torch.manual_seed(args.seed)\n",
    "if args.cuda:\n",
    "    torch.cuda.manual_seed(args.seed)"
   ]
  },
  {
   "cell_type": "code",
   "execution_count": 9,
   "metadata": {
    "collapsed": true
   },
   "outputs": [],
   "source": [
    "preprocessed_data_name = os.path.join(args.input_dir, 'preprocessed_data_{}.pkl'.format(args.anomaly_pct))\n",
    "with open(preprocessed_data_name, 'rb') as f:\n",
    "    input_train = pickle.load(f)\n",
    "    input_val = pickle.load(f)\n",
    "    input_test = pickle.load(f)\n",
    "    pad_index_train = pickle.load(f)\n",
    "    pad_index_val = pickle.load(f)\n",
    "    pad_index_test = pickle.load(f)\n",
    "    activity_label_test = pickle.load(f)\n",
    "    time_label_test = pickle.load(f)\n",
    "    train_case_num = pickle.load(f)\n",
    "    val_case_num = pickle.load(f)\n",
    "    test_case_num = pickle.load(f)\n",
    "    train_row_num = pickle.load(f)\n",
    "    val_row_num = pickle.load(f)\n",
    "    test_row_num = pickle.load(f)\n",
    "    min_value = pickle.load(f)\n",
    "    max_value = pickle.load(f)\n",
    "    mean_value = pickle.load(f)\n",
    "    std_value = pickle.load(f)\n",
    "    cols = pickle.load(f)\n",
    "    statistics_storage = pickle.load(f)\n",
    "    true_time = pickle.load(f)\n",
    "    true_act = pickle.load(f)"
   ]
  },
  {
   "cell_type": "markdown",
   "metadata": {},
   "source": [
    "# Load data"
   ]
  },
  {
   "cell_type": "code",
   "execution_count": 10,
   "metadata": {
    "collapsed": true
   },
   "outputs": [],
   "source": [
    "#train\n",
    "input_trainLoader = torch.utils.data.DataLoader(input_train, batch_size=args.batch_size, shuffle=False, num_workers=2)\n",
    "pad_index_trainLoader = torch.utils.data.DataLoader(pad_index_train, batch_size=args.batch_size, shuffle=False, num_workers=2)"
   ]
  },
  {
   "cell_type": "code",
   "execution_count": 11,
   "metadata": {
    "collapsed": true
   },
   "outputs": [],
   "source": [
    "#df\n",
    "normal_df_name = os.path.join(args.input_dir, 'normal_df_{}.csv'.format(args.anomaly_pct))\n",
    "normal_df = pd.read_csv(normal_df_name)\n",
    "\n",
    "anomalous_df_name = os.path.join(args.input_dir, 'anomolous_df_{}.csv'.format(args.anomaly_pct))\n",
    "anomalous_df = pd.read_csv(anomalous_df_name)\n",
    "\n",
    "#test\n",
    "caseid_test = normal_df['CaseID'][-test_row_num:]\n",
    "normal_df_test = normal_df[-test_row_num:]\n",
    "anomalous_df_test = anomalous_df[-test_row_num:]"
   ]
  },
  {
   "cell_type": "code",
   "execution_count": 12,
   "metadata": {},
   "outputs": [
    {
     "data": {
      "text/html": [
       "<div>\n",
       "<style>\n",
       "    .dataframe thead tr:only-child th {\n",
       "        text-align: right;\n",
       "    }\n",
       "\n",
       "    .dataframe thead th {\n",
       "        text-align: left;\n",
       "    }\n",
       "\n",
       "    .dataframe tbody tr th {\n",
       "        vertical-align: top;\n",
       "    }\n",
       "</style>\n",
       "<table border=\"1\" class=\"dataframe\">\n",
       "  <thead>\n",
       "    <tr style=\"text-align: right;\">\n",
       "      <th></th>\n",
       "      <th>CaseID</th>\n",
       "      <th>Activity</th>\n",
       "      <th>CompleteTimestamp</th>\n",
       "      <th>Duration</th>\n",
       "      <th>CumDuration</th>\n",
       "    </tr>\n",
       "  </thead>\n",
       "  <tbody>\n",
       "    <tr>\n",
       "      <th>0</th>\n",
       "      <td>1</td>\n",
       "      <td>A_SUBMITTED-COMPLETE</td>\n",
       "      <td>2011-10-01 07:38:44.546</td>\n",
       "      <td>0.000</td>\n",
       "      <td>0.000</td>\n",
       "    </tr>\n",
       "    <tr>\n",
       "      <th>1</th>\n",
       "      <td>1</td>\n",
       "      <td>A_PARTLYSUBMITTED-COMPLETE</td>\n",
       "      <td>2011-10-01 07:38:44.880</td>\n",
       "      <td>0.334</td>\n",
       "      <td>0.334</td>\n",
       "    </tr>\n",
       "    <tr>\n",
       "      <th>2</th>\n",
       "      <td>1</td>\n",
       "      <td>A_PREACCEPTED-COMPLETE</td>\n",
       "      <td>2011-10-01 07:39:37.906</td>\n",
       "      <td>53.026</td>\n",
       "      <td>53.360</td>\n",
       "    </tr>\n",
       "    <tr>\n",
       "      <th>3</th>\n",
       "      <td>1</td>\n",
       "      <td>W_Completeren aanvraag-SCHEDULE</td>\n",
       "      <td>2011-10-01 07:39:38.875</td>\n",
       "      <td>0.969</td>\n",
       "      <td>54.329</td>\n",
       "    </tr>\n",
       "    <tr>\n",
       "      <th>4</th>\n",
       "      <td>1</td>\n",
       "      <td>W_Completeren aanvraag-START</td>\n",
       "      <td>2011-10-01 18:36:46.437</td>\n",
       "      <td>39427.562</td>\n",
       "      <td>39481.891</td>\n",
       "    </tr>\n",
       "  </tbody>\n",
       "</table>\n",
       "</div>"
      ],
      "text/plain": [
       "   CaseID                         Activity        CompleteTimestamp  \\\n",
       "0       1             A_SUBMITTED-COMPLETE  2011-10-01 07:38:44.546   \n",
       "1       1       A_PARTLYSUBMITTED-COMPLETE  2011-10-01 07:38:44.880   \n",
       "2       1           A_PREACCEPTED-COMPLETE  2011-10-01 07:39:37.906   \n",
       "3       1  W_Completeren aanvraag-SCHEDULE  2011-10-01 07:39:38.875   \n",
       "4       1     W_Completeren aanvraag-START  2011-10-01 18:36:46.437   \n",
       "\n",
       "    Duration  CumDuration  \n",
       "0      0.000        0.000  \n",
       "1      0.334        0.334  \n",
       "2     53.026       53.360  \n",
       "3      0.969       54.329  \n",
       "4  39427.562    39481.891  "
      ]
     },
     "execution_count": 12,
     "metadata": {},
     "output_type": "execute_result"
    }
   ],
   "source": [
    "normal_df.head()"
   ]
  },
  {
   "cell_type": "code",
   "execution_count": 13,
   "metadata": {},
   "outputs": [
    {
     "data": {
      "text/html": [
       "<div>\n",
       "<style>\n",
       "    .dataframe thead tr:only-child th {\n",
       "        text-align: right;\n",
       "    }\n",
       "\n",
       "    .dataframe thead th {\n",
       "        text-align: left;\n",
       "    }\n",
       "\n",
       "    .dataframe tbody tr th {\n",
       "        vertical-align: top;\n",
       "    }\n",
       "</style>\n",
       "<table border=\"1\" class=\"dataframe\">\n",
       "  <thead>\n",
       "    <tr style=\"text-align: right;\">\n",
       "      <th></th>\n",
       "      <th>CaseID</th>\n",
       "      <th>AnomalousActivity</th>\n",
       "      <th>AnomalousCompleteTimestamp</th>\n",
       "      <th>AnomalousDuration</th>\n",
       "      <th>AnomalousCumDuration</th>\n",
       "      <th>ActivityLabel</th>\n",
       "      <th>TimeLabel</th>\n",
       "    </tr>\n",
       "  </thead>\n",
       "  <tbody>\n",
       "    <tr>\n",
       "      <th>0</th>\n",
       "      <td>1</td>\n",
       "      <td>A_SUBMITTED-COMPLETE</td>\n",
       "      <td>2011-10-01 07:38:44.546000</td>\n",
       "      <td>0.000</td>\n",
       "      <td>0.000</td>\n",
       "      <td>0</td>\n",
       "      <td>1</td>\n",
       "    </tr>\n",
       "    <tr>\n",
       "      <th>1</th>\n",
       "      <td>1</td>\n",
       "      <td>A_PARTLYSUBMITTED-COMPLETE</td>\n",
       "      <td>2011-10-01 07:38:44.880000</td>\n",
       "      <td>0.334</td>\n",
       "      <td>0.334</td>\n",
       "      <td>0</td>\n",
       "      <td>0</td>\n",
       "    </tr>\n",
       "    <tr>\n",
       "      <th>2</th>\n",
       "      <td>1</td>\n",
       "      <td>A_PREACCEPTED-COMPLETE</td>\n",
       "      <td>2011-10-01 07:39:37.906000</td>\n",
       "      <td>53.026</td>\n",
       "      <td>53.360</td>\n",
       "      <td>0</td>\n",
       "      <td>0</td>\n",
       "    </tr>\n",
       "    <tr>\n",
       "      <th>3</th>\n",
       "      <td>1</td>\n",
       "      <td>W_Completeren aanvraag-SCHEDULE</td>\n",
       "      <td>2011-10-01 07:39:38.875000</td>\n",
       "      <td>0.969</td>\n",
       "      <td>54.329</td>\n",
       "      <td>0</td>\n",
       "      <td>0</td>\n",
       "    </tr>\n",
       "    <tr>\n",
       "      <th>4</th>\n",
       "      <td>1</td>\n",
       "      <td>O_ACCEPTED-COMPLETE</td>\n",
       "      <td>2011-10-01 18:36:46.437000</td>\n",
       "      <td>39427.562</td>\n",
       "      <td>39481.891</td>\n",
       "      <td>1</td>\n",
       "      <td>0</td>\n",
       "    </tr>\n",
       "  </tbody>\n",
       "</table>\n",
       "</div>"
      ],
      "text/plain": [
       "   CaseID                AnomalousActivity  AnomalousCompleteTimestamp  \\\n",
       "0       1             A_SUBMITTED-COMPLETE  2011-10-01 07:38:44.546000   \n",
       "1       1       A_PARTLYSUBMITTED-COMPLETE  2011-10-01 07:38:44.880000   \n",
       "2       1           A_PREACCEPTED-COMPLETE  2011-10-01 07:39:37.906000   \n",
       "3       1  W_Completeren aanvraag-SCHEDULE  2011-10-01 07:39:38.875000   \n",
       "4       1              O_ACCEPTED-COMPLETE  2011-10-01 18:36:46.437000   \n",
       "\n",
       "   AnomalousDuration  AnomalousCumDuration  ActivityLabel  TimeLabel  \n",
       "0              0.000                 0.000              0          1  \n",
       "1              0.334                 0.334              0          0  \n",
       "2             53.026                53.360              0          0  \n",
       "3              0.969                54.329              0          0  \n",
       "4          39427.562             39481.891              1          0  "
      ]
     },
     "execution_count": 13,
     "metadata": {},
     "output_type": "execute_result"
    }
   ],
   "source": [
    "anomalous_df.head()"
   ]
  },
  {
   "cell_type": "markdown",
   "metadata": {},
   "source": [
    "# Build model"
   ]
  },
  {
   "cell_type": "markdown",
   "metadata": {},
   "source": [
    "## Define model"
   ]
  },
  {
   "cell_type": "code",
   "execution_count": 14,
   "metadata": {
    "collapsed": true
   },
   "outputs": [],
   "source": [
    "if args.model_class == 'AE':\n",
    "    model = AE(input_train.shape, args.layer1, args.layer2)\n",
    "\n",
    "if args.model_class == 'AE_tanh':\n",
    "    model = AE_tanh(input_train.shape, args.layer1, args.layer2)\n",
    "\n",
    "if args.cuda:\n",
    "    model.cuda()"
   ]
  },
  {
   "cell_type": "code",
   "execution_count": 15,
   "metadata": {},
   "outputs": [
    {
     "data": {
      "text/plain": [
       "AE (\n",
       "  (fc1): Linear (6475 -> 1000)\n",
       "  (fc2): Linear (1000 -> 100)\n",
       "  (fc3): Linear (100 -> 1000)\n",
       "  (fc4): Linear (1000 -> 6475)\n",
       "  (dout): Dropout (p = 0.2)\n",
       "  (tanh): Tanh ()\n",
       ")"
      ]
     },
     "execution_count": 15,
     "metadata": {},
     "output_type": "execute_result"
    }
   ],
   "source": [
    "model"
   ]
  },
  {
   "cell_type": "markdown",
   "metadata": {},
   "source": [
    "## Define loss"
   ]
  },
  {
   "cell_type": "code",
   "execution_count": 16,
   "metadata": {
    "collapsed": true
   },
   "outputs": [],
   "source": [
    "def loss_function(recon_x, x, pad_index):\n",
    "    MSE = F.mse_loss(recon_x*pad_index, x*pad_index, size_average=False) \n",
    "    #BCE = F.binary_cross_entropy(recon_x, x, weight=pad_index, size_average=False)\n",
    "    return MSE"
   ]
  },
  {
   "cell_type": "markdown",
   "metadata": {},
   "source": [
    "## Define optimizer"
   ]
  },
  {
   "cell_type": "code",
   "execution_count": 17,
   "metadata": {
    "collapsed": true
   },
   "outputs": [],
   "source": [
    "optimizer = optim.Adam(model.parameters(), lr=args.lr, betas=args.betas)"
   ]
  },
  {
   "cell_type": "code",
   "execution_count": 18,
   "metadata": {
    "collapsed": true
   },
   "outputs": [],
   "source": [
    "#Adjust learning rate per epoch: http://pytorch.org/docs/master/optim.html?highlight=adam#how-to-adjust-learning-rate\n",
    "\n",
    "# Method 1:\n",
    "\n",
    "#lambda1 = lambda epoch: epoch // args.lr_step\n",
    "lambda1 = lambda epoch: args.lr_decay ** epoch\n",
    "scheduler = torch.optim.lr_scheduler.LambdaLR(optimizer, lr_lambda=[lambda1])\n",
    "\n",
    "# Method 2:\n",
    "#scheduler = torch.optim.lr_scheduler.ReduceLROnPlateau(optimizer, 'min', patience=10)"
   ]
  },
  {
   "cell_type": "markdown",
   "metadata": {},
   "source": [
    "# Utils"
   ]
  },
  {
   "cell_type": "code",
   "execution_count": 19,
   "metadata": {
    "collapsed": true
   },
   "outputs": [],
   "source": [
    "def save_model(model, epoch, score):\n",
    "    model_file = os.path.join(args.output_dir, 'model_{}_epoch{}_score{:.4f}.pth'.format(args.model_class, epoch, score))\n",
    "    torch.save(model.state_dict(), model_file)"
   ]
  },
  {
   "cell_type": "code",
   "execution_count": 20,
   "metadata": {
    "collapsed": true
   },
   "outputs": [],
   "source": [
    "def load_model(model, model_name):\n",
    "    model_file = os.path.join(args.output_dir, model_name)\n",
    "    assert os.path.isfile(model_file), 'Error: no model found!'\n",
    "    model_state = torch.load(model_file)\n",
    "    model.load_state_dict(model_state)"
   ]
  },
  {
   "cell_type": "code",
   "execution_count": 21,
   "metadata": {
    "collapsed": true
   },
   "outputs": [],
   "source": [
    "def val(model, input_val, pad_index_val):\n",
    "    model.eval()\n",
    "    input_val = Variable(torch.Tensor(input_val).float())\n",
    "    pad_index_val = Variable(torch.Tensor(pad_index_val).float())\n",
    "    \n",
    "    if args.cuda:\n",
    "        input_val = input_val.cuda()\n",
    "        pad_index_val = pad_index_val.cuda()\n",
    "    \n",
    "    recon_val = model(input_val)    \n",
    "    loss = loss_function(recon_val, input_val, pad_index_val)\n",
    "    return loss.data[0]/len(input_test.data)"
   ]
  },
  {
   "cell_type": "markdown",
   "metadata": {},
   "source": [
    "# Train"
   ]
  },
  {
   "cell_type": "code",
   "execution_count": 22,
   "metadata": {
    "collapsed": true
   },
   "outputs": [],
   "source": [
    "def train(epoch, model, optimizer):\n",
    "    model.train()\n",
    "    train_loss = 0\n",
    "    for batch_idx, (batch_data, batch_index) in enumerate(zip(input_trainLoader, pad_index_trainLoader)):\n",
    "        \n",
    "        batch_data = Variable(batch_data.float())\n",
    "        batch_index = Variable(batch_index.float())\n",
    "\n",
    "        if args.cuda:\n",
    "            batch_data = batch_data.cuda()\n",
    "            batch_index = batch_index.cuda()\n",
    "            \n",
    "        optimizer.zero_grad()\n",
    "        \n",
    "        recon_data = model(batch_data)\n",
    "        \n",
    "        loss = loss_function(recon_data, batch_data, batch_index)\n",
    "        \n",
    "        loss.backward()\n",
    "        train_loss += loss.data[0]\n",
    "        optimizer.step()\n",
    "        \n",
    "    return train_loss / len(input_trainLoader.dataset)"
   ]
  },
  {
   "cell_type": "code",
   "execution_count": 23,
   "metadata": {},
   "outputs": [
    {
     "name": "stdout",
     "output_type": "stream",
     "text": [
      "====> Epoch 1 | Train time: 3309.7279 ms| End time: 4598.7966 ms | Train loss: 21.8514 | Val score: 13.4116\n",
      "====> Epoch 2 | Train time: 3204.3219 ms| End time: 4496.7890 ms | Train loss: 14.4329 | Val score: 11.6052\n",
      "====> Epoch 3 | Train time: 3199.3632 ms| End time: 4512.3024 ms | Train loss: 12.5115 | Val score: 11.7825\n",
      "====> Epoch 4 | Train time: 3203.1019 ms| End time: 4502.2354 ms | Train loss: 11.6896 | Val score: 10.9517\n",
      "====> Epoch 5 | Train time: 3202.9181 ms| End time: 4491.1323 ms | Train loss: 10.7953 | Val score: 10.9220\n",
      "====> Epoch 6 | Train time: 3200.8026 ms| End time: 4501.5516 ms | Train loss: 10.2981 | Val score: 9.9519\n",
      "====> Epoch 7 | Train time: 3206.5434 ms| End time: 4496.7620 ms | Train loss: 9.5366 | Val score: 9.4529\n",
      "====> Epoch 8 | Train time: 3196.1296 ms| End time: 4498.7407 ms | Train loss: 8.9312 | Val score: 9.4909\n",
      "====> Epoch 9 | Train time: 3195.7965 ms| End time: 4509.3601 ms | Train loss: 8.6512 | Val score: 9.0065\n",
      "====> Epoch 10 | Train time: 3203.5332 ms| End time: 4505.9743 ms | Train loss: 8.3431 | Val score: 8.7993\n",
      "====> Epoch 11 | Train time: 3192.7860 ms| End time: 4487.1964 ms | Train loss: 8.0316 | Val score: 8.7799\n",
      "====> Epoch 12 | Train time: 3202.6110 ms| End time: 4502.6672 ms | Train loss: 7.8109 | Val score: 8.4111\n",
      "====> Epoch 13 | Train time: 3205.2817 ms| End time: 4496.8586 ms | Train loss: 7.5374 | Val score: 8.3975\n",
      "====> Epoch 14 | Train time: 3199.4267 ms| End time: 4493.3424 ms | Train loss: 7.3815 | Val score: 8.3851\n",
      "====> Epoch 15 | Train time: 3200.4411 ms| End time: 4515.4696 ms | Train loss: 7.2458 | Val score: 8.2040\n",
      "====> Epoch 16 | Train time: 3207.9208 ms| End time: 4502.2423 ms | Train loss: 7.0711 | Val score: 8.1771\n",
      "====> Epoch 17 | Train time: 3205.4653 ms| End time: 4502.2619 ms | Train loss: 6.9620 | Val score: 7.9367\n",
      "====> Epoch 18 | Train time: 3202.0679 ms| End time: 4496.9084 ms | Train loss: 6.8213 | Val score: 7.8621\n",
      "====> Epoch 19 | Train time: 3204.2162 ms| End time: 4492.3160 ms | Train loss: 6.7432 | Val score: 7.7629\n",
      "====> Epoch 20 | Train time: 3200.5291 ms| End time: 4506.7801 ms | Train loss: 6.6276 | Val score: 7.9782\n",
      "====> Epoch 21 | Train time: 3204.9878 ms| End time: 4509.8729 ms | Train loss: 6.5420 | Val score: 7.7582\n",
      "====> Epoch 22 | Train time: 3207.5012 ms| End time: 4498.3354 ms | Train loss: 6.4929 | Val score: 7.7308\n",
      "====> Epoch 23 | Train time: 3207.8626 ms| End time: 4495.8498 ms | Train loss: 6.4344 | Val score: 7.6625\n",
      "====> Epoch 24 | Train time: 3197.9318 ms| End time: 4509.0747 ms | Train loss: 6.3582 | Val score: 7.5881\n",
      "====> Epoch 25 | Train time: 3194.5801 ms| End time: 4494.6089 ms | Train loss: 6.3107 | Val score: 7.6171\n",
      "====> Epoch 26 | Train time: 3197.9761 ms| End time: 4501.0540 ms | Train loss: 6.2712 | Val score: 7.5685\n",
      "====> Epoch 27 | Train time: 3200.2044 ms| End time: 4496.3427 ms | Train loss: 6.2321 | Val score: 7.5599\n",
      "====> Epoch 28 | Train time: 3204.1245 ms| End time: 4513.5901 ms | Train loss: 6.1901 | Val score: 7.5635\n",
      "====> Epoch 29 | Train time: 3202.5840 ms| End time: 4500.6905 ms | Train loss: 6.1581 | Val score: 7.5744\n",
      "====> Epoch 30 | Train time: 3194.0069 ms| End time: 4483.1786 ms | Train loss: 6.1257 | Val score: 7.5583\n",
      "====> Epoch 31 | Train time: 3207.2020 ms| End time: 4497.4856 ms | Train loss: 6.1113 | Val score: 7.5970\n",
      "====> Epoch 32 | Train time: 3208.7133 ms| End time: 4492.9588 ms | Train loss: 6.0697 | Val score: 7.4535\n",
      "====> Epoch 33 | Train time: 3201.2553 ms| End time: 4490.9940 ms | Train loss: 6.0442 | Val score: 7.5032\n",
      "====> Epoch 34 | Train time: 3202.6038 ms| End time: 4493.4464 ms | Train loss: 6.0384 | Val score: 7.4794\n",
      "====> Epoch 35 | Train time: 3200.8045 ms| End time: 4498.6434 ms | Train loss: 6.0078 | Val score: 7.4067\n",
      "====> Epoch 36 | Train time: 3201.4339 ms| End time: 4494.3237 ms | Train loss: 6.0154 | Val score: 7.4558\n",
      "====> Epoch 37 | Train time: 3204.0622 ms| End time: 4501.4765 ms | Train loss: 5.9946 | Val score: 7.4124\n",
      "====> Epoch 38 | Train time: 3205.2927 ms| End time: 4501.5209 ms | Train loss: 5.9734 | Val score: 7.4171\n",
      "====> Epoch 39 | Train time: 3202.6994 ms| End time: 4500.8407 ms | Train loss: 5.9600 | Val score: 7.4201\n",
      "====> Epoch 40 | Train time: 3202.3826 ms| End time: 4509.4388 ms | Train loss: 5.9669 | Val score: 7.3873\n",
      "====> Epoch 41 | Train time: 3198.6458 ms| End time: 4491.4331 ms | Train loss: 5.9489 | Val score: 7.3445\n",
      "====> Epoch 42 | Train time: 3200.2044 ms| End time: 4488.8639 ms | Train loss: 5.9569 | Val score: 7.3333\n",
      "====> Epoch 43 | Train time: 3197.5236 ms| End time: 4492.3034 ms | Train loss: 5.9267 | Val score: 7.3457\n",
      "====> Epoch 44 | Train time: 3200.4297 ms| End time: 4494.3683 ms | Train loss: 5.9147 | Val score: 7.3350\n",
      "====> Epoch 45 | Train time: 3202.5061 ms| End time: 4500.1945 ms | Train loss: 5.9120 | Val score: 7.3204\n",
      "====> Epoch 46 | Train time: 3199.1525 ms| End time: 4494.7252 ms | Train loss: 5.9097 | Val score: 7.3099\n",
      "====> Epoch 47 | Train time: 3188.7321 ms| End time: 4480.4711 ms | Train loss: 5.9036 | Val score: 7.3125\n",
      "====> Epoch 48 | Train time: 3198.6682 ms| End time: 4492.5265 ms | Train loss: 5.8979 | Val score: 7.3199\n",
      "====> Epoch 49 | Train time: 3202.7872 ms| End time: 4498.1370 ms | Train loss: 5.8988 | Val score: 7.3100\n",
      "====> Epoch 50 | Train time: 3203.9676 ms| End time: 4492.9636 ms | Train loss: 5.8940 | Val score: 7.3146\n",
      "====> Epoch 51 | Train time: 3202.4355 ms| End time: 4503.4976 ms | Train loss: 5.8913 | Val score: 7.3142\n",
      "====> Epoch 52 | Train time: 3198.8714 ms| End time: 4489.2113 ms | Train loss: 5.8945 | Val score: 7.2970\n",
      "====> Epoch 53 | Train time: 3206.7242 ms| End time: 4516.0952 ms | Train loss: 5.8798 | Val score: 7.2933\n",
      "====> Epoch 54 | Train time: 3206.3842 ms| End time: 4511.2867 ms | Train loss: 5.8740 | Val score: 7.3039\n",
      "====> Epoch 55 | Train time: 3199.3465 ms| End time: 4486.3117 ms | Train loss: 5.8701 | Val score: 7.2978\n",
      "====> Epoch 56 | Train time: 3196.4695 ms| End time: 4493.3054 ms | Train loss: 5.8834 | Val score: 7.3021\n",
      "====> Epoch 57 | Train time: 3201.2570 ms| End time: 4500.3610 ms | Train loss: 5.8749 | Val score: 7.2989\n",
      "====> Epoch 58 | Train time: 3200.4061 ms| End time: 4489.0521 ms | Train loss: 5.8715 | Val score: 7.2929\n",
      "====> Epoch 59 | Train time: 3192.0927 ms| End time: 4494.7262 ms | Train loss: 5.8741 | Val score: 7.3051\n",
      "====> Epoch 60 | Train time: 3208.7367 ms| End time: 4530.9386 ms | Train loss: 5.8759 | Val score: 7.3088\n",
      "====> Epoch 61 | Train time: 3207.2144 ms| End time: 4505.4793 ms | Train loss: 5.8535 | Val score: 7.3058\n",
      "====> Epoch 62 | Train time: 3204.2739 ms| End time: 4504.0107 ms | Train loss: 5.8619 | Val score: 7.3013\n",
      "====> Epoch 63 | Train time: 3205.9443 ms| End time: 4516.5422 ms | Train loss: 5.8631 | Val score: 7.2951\n",
      "====> Epoch 64 | Train time: 3204.1783 ms| End time: 4497.9305 ms | Train loss: 5.8667 | Val score: 7.2975\n",
      "====> Epoch 65 | Train time: 3206.9762 ms| End time: 4507.5743 ms | Train loss: 5.8701 | Val score: 7.2980\n",
      "====> Epoch 66 | Train time: 3204.4921 ms| End time: 4506.4414 ms | Train loss: 5.8729 | Val score: 7.2967\n",
      "====> Epoch 67 | Train time: 3193.9521 ms| End time: 4493.0208 ms | Train loss: 5.8659 | Val score: 7.2968\n",
      "====> Epoch 68 | Train time: 3209.3899 ms| End time: 4501.0448 ms | Train loss: 5.8695 | Val score: 7.3013\n",
      "====> Epoch 69 | Train time: 3205.7798 ms| End time: 4510.9034 ms | Train loss: 5.8726 | Val score: 7.3022\n",
      "====> Epoch 70 | Train time: 3200.2332 ms| End time: 4500.3991 ms | Train loss: 5.8764 | Val score: 7.2981\n",
      "====> Epoch 71 | Train time: 3198.0820 ms| End time: 4498.0588 ms | Train loss: 5.8691 | Val score: 7.2977\n",
      "====> Epoch 72 | Train time: 3205.6463 ms| End time: 4507.5717 ms | Train loss: 5.8637 | Val score: 7.2949\n",
      "====> Epoch 73 | Train time: 3198.1616 ms| End time: 4496.7999 ms | Train loss: 5.8544 | Val score: 7.2939\n",
      "====> Epoch 74 | Train time: 3207.7494 ms| End time: 4503.8669 ms | Train loss: 5.8692 | Val score: 7.2953\n",
      "====> Epoch 75 | Train time: 3205.7645 ms| End time: 4506.8002 ms | Train loss: 5.8590 | Val score: 7.2977\n",
      "====> Epoch 76 | Train time: 3201.3774 ms| End time: 4508.7569 ms | Train loss: 5.8583 | Val score: 7.2985\n",
      "====> Epoch 77 | Train time: 3204.3808 ms| End time: 4502.9202 ms | Train loss: 5.8609 | Val score: 7.2965\n"
     ]
    },
    {
     "name": "stdout",
     "output_type": "stream",
     "text": [
      "====> Epoch 78 | Train time: 3203.1584 ms| End time: 4501.3151 ms | Train loss: 5.8609 | Val score: 7.2952\n",
      "====> Epoch 79 | Train time: 3203.8233 ms| End time: 4507.8335 ms | Train loss: 5.8649 | Val score: 7.2949\n",
      "====> Epoch 80 | Train time: 3196.8164 ms| End time: 4505.3794 ms | Train loss: 5.8641 | Val score: 7.2947\n",
      "====> Epoch 81 | Train time: 3203.7730 ms| End time: 4504.8192 ms | Train loss: 5.8599 | Val score: 7.2939\n",
      "====> Epoch 82 | Train time: 3195.4956 ms| End time: 4501.1649 ms | Train loss: 5.8572 | Val score: 7.2956\n",
      "====> Epoch 83 | Train time: 3201.4427 ms| End time: 4504.4982 ms | Train loss: 5.8472 | Val score: 7.2949\n",
      "====> Epoch 84 | Train time: 3200.4061 ms| End time: 4488.9975 ms | Train loss: 5.8643 | Val score: 7.2937\n",
      "====> Epoch 85 | Train time: 3206.6422 ms| End time: 4516.3341 ms | Train loss: 5.8652 | Val score: 7.2945\n",
      "====> Epoch 86 | Train time: 3200.1252 ms| End time: 4494.2360 ms | Train loss: 5.8588 | Val score: 7.2944\n",
      "====> Epoch 87 | Train time: 3209.7409 ms| End time: 4512.2428 ms | Train loss: 5.8678 | Val score: 7.2946\n",
      "====> Epoch 88 | Train time: 3200.2406 ms| End time: 4494.7991 ms | Train loss: 5.8575 | Val score: 7.2950\n",
      "====> Epoch 89 | Train time: 3206.1181 ms| End time: 4504.6382 ms | Train loss: 5.8588 | Val score: 7.2952\n",
      "====> Epoch 90 | Train time: 3191.2537 ms| End time: 4505.5754 ms | Train loss: 5.8709 | Val score: 7.2953\n",
      "====> Epoch 91 | Train time: 3204.3917 ms| End time: 4501.9546 ms | Train loss: 5.8691 | Val score: 7.2951\n",
      "====> Epoch 92 | Train time: 3199.6610 ms| End time: 4503.9082 ms | Train loss: 5.8691 | Val score: 7.2953\n",
      "====> Epoch 93 | Train time: 3208.9581 ms| End time: 4516.0644 ms | Train loss: 5.8595 | Val score: 7.2951\n",
      "====> Epoch 94 | Train time: 3197.5055 ms| End time: 4488.9235 ms | Train loss: 5.8720 | Val score: 7.2950\n",
      "====> Epoch 95 | Train time: 3210.9549 ms| End time: 4497.1673 ms | Train loss: 5.8652 | Val score: 7.2949\n",
      "====> Epoch 96 | Train time: 3211.8506 ms| End time: 4538.6584 ms | Train loss: 5.8643 | Val score: 7.2948\n",
      "====> Epoch 97 | Train time: 3201.0546 ms| End time: 4502.0092 ms | Train loss: 5.8638 | Val score: 7.2950\n",
      "====> Epoch 98 | Train time: 3202.7030 ms| End time: 4507.9925 ms | Train loss: 5.8656 | Val score: 7.2952\n",
      "====> Epoch 99 | Train time: 3196.5439 ms| End time: 4502.8174 ms | Train loss: 5.8679 | Val score: 7.2952\n",
      "====> Epoch 100 | Train time: 3205.1187 ms| End time: 4522.6355 ms | Train loss: 5.8572 | Val score: 7.2950\n"
     ]
    }
   ],
   "source": [
    "if args.train:\n",
    "    for epoch in range(1, args.epochs + 1):\n",
    "        init = time.time()\n",
    "        \n",
    "        #method 1 scheduler\n",
    "        scheduler.step()\n",
    "        \n",
    "        train_loss = train(epoch, model, optimizer)\n",
    "        end_train = time.time()\n",
    "        val_score = val(model, input_val, pad_index_val)\n",
    "        \n",
    "        #if epoch == 1:\n",
    "        #    current_best = val_score\n",
    "        #    save_model(model, epoch, val_score)\n",
    "        \n",
    "        #else:\n",
    "        #    if val_score < current_best:\n",
    "        #        current_best = val_score\n",
    "        #        save_model(model, epoch, val_score)\n",
    "        \n",
    "        #method 2 scheduler\n",
    "        #scheduler.step()\n",
    "        \n",
    "        end = time.time()\n",
    "        print('====> Epoch {} | Train time: {:.4f} ms| End time: {:.4f} ms | Train loss: {:.4f} | Val score: {:.4f}'.\n",
    "              format(epoch, (end_train-init)*1000, (end-init)*1000, train_loss, val_score))\n",
    "else:\n",
    "    load_model(model, args.model_name)"
   ]
  },
  {
   "cell_type": "markdown",
   "metadata": {},
   "source": [
    "# Predict"
   ]
  },
  {
   "cell_type": "code",
   "execution_count": null,
   "metadata": {},
   "outputs": [
    {
     "name": "stdout",
     "output_type": "stream",
     "text": [
      "Predicting...\n",
      "Separating prediction ...\n",
      "Done!\n"
     ]
    }
   ],
   "source": [
    "if args.test:\n",
    "    input_test = Variable(torch.Tensor(input_test).float())\n",
    "    if args.cuda:\n",
    "        input_test = input_test.cuda()\n",
    "    \n",
    "    print('Predicting...')\n",
    "    recon_test = model(input_test)\n",
    "    \n",
    "    print('Separating prediction ...')\n",
    "    predicted_time, predicted_activity = getPrediction(recon_test, pad_index_test)\n",
    "    \n",
    "    print('Done!')"
   ]
  },
  {
   "cell_type": "markdown",
   "metadata": {},
   "source": [
    "# Evaluate"
   ]
  },
  {
   "cell_type": "markdown",
   "metadata": {},
   "source": [
    "## Time"
   ]
  },
  {
   "cell_type": "code",
   "execution_count": null,
   "metadata": {},
   "outputs": [
    {
     "name": "stderr",
     "output_type": "stream",
     "text": [
      "/home/pllab/miniconda2/envs/pydata/lib/python3.5/site-packages/pandas/core/indexing.py:517: SettingWithCopyWarning: \n",
      "A value is trying to be set on a copy of a slice from a DataFrame.\n",
      "Try using .loc[row_indexer,col_indexer] = value instead\n",
      "\n",
      "See the caveats in the documentation: http://pandas.pydata.org/pandas-docs/stable/indexing.html#indexing-view-versus-copy\n",
      "  self.obj[item] = s\n"
     ]
    }
   ],
   "source": [
    "#Fix predicted time\n",
    "time_df = pd.DataFrame({'CaseID': caseid_test,\n",
    "                        'PredictedTime': predicted_time})\n",
    "\n",
    "groupByCase = time_df.groupby(['CaseID'])\n",
    "fixed_time_df = pd.DataFrame(columns=list(time_df))\n",
    "\n",
    "for case, group in groupByCase:\n",
    "    group.iloc[0, 1] = -mean_value/std_value\n",
    "    fixed_time_df = fixed_time_df.append(group)"
   ]
  },
  {
   "cell_type": "code",
   "execution_count": null,
   "metadata": {},
   "outputs": [],
   "source": [
    "fixed_time_df.head()"
   ]
  },
  {
   "cell_type": "code",
   "execution_count": null,
   "metadata": {
    "collapsed": true
   },
   "outputs": [],
   "source": [
    "fixed_predicted_time = fixed_time_df['PredictedTime']"
   ]
  },
  {
   "cell_type": "code",
   "execution_count": null,
   "metadata": {
    "collapsed": true
   },
   "outputs": [],
   "source": [
    "error = np.abs(true_time - fixed_predicted_time)\n",
    "error_time_df = pd.DataFrame({'Error': error,\n",
    "                              'TimeLabel': time_label_test})"
   ]
  },
  {
   "cell_type": "code",
   "execution_count": null,
   "metadata": {},
   "outputs": [],
   "source": [
    "precision, recall, th = precision_recall_curve(error_time_df.TimeLabel, error_time_df.Error, pos_label=1)\n",
    "plt.figure(figsize=(20, 5))\n",
    "plt.plot(recall, precision, 'b', label='Precision-Recall curve')\n",
    "plt.title('Recall vs Precision')\n",
    "plt.xlabel('Recall')\n",
    "plt.ylabel('Precision')\n",
    "plt.show()"
   ]
  },
  {
   "cell_type": "code",
   "execution_count": null,
   "metadata": {},
   "outputs": [],
   "source": [
    "time_threshold = np.mean(error_time_df['Error'])\n",
    "print('Threshold of Time: {}'.format(time_threshold))"
   ]
  },
  {
   "cell_type": "code",
   "execution_count": null,
   "metadata": {},
   "outputs": [],
   "source": [
    "plotReconstructionError(error_time_df, variable='Time')"
   ]
  },
  {
   "cell_type": "code",
   "execution_count": null,
   "metadata": {},
   "outputs": [],
   "source": [
    "plotConfusionMaxtrix(error_time_df, threshold=time_threshold, variable='Time')"
   ]
  },
  {
   "cell_type": "code",
   "execution_count": null,
   "metadata": {},
   "outputs": [],
   "source": [
    "evalScore(error_time_df, threshold=time_threshold, variable='Time')"
   ]
  },
  {
   "cell_type": "code",
   "execution_count": null,
   "metadata": {},
   "outputs": [],
   "source": [
    "fpr, tpr, thresholds = roc_curve(error_time_df.TimeLabel, error_time_df.Error, pos_label=1)\n",
    "roc_auc = auc(fpr, tpr)\n",
    "\n",
    "plt.title('Receiver Operating Characteristic')\n",
    "plt.plot(fpr, tpr, label='AUC = %0.4f'% roc_auc)\n",
    "plt.legend(loc='lower right')\n",
    "plt.plot([0,1],[0,1],'r--')\n",
    "plt.xlim([-0.001, 1])\n",
    "plt.ylim([0, 1.001])\n",
    "plt.ylabel('True Positive Rate')\n",
    "plt.xlabel('False Positive Rate')\n",
    "plt.show();"
   ]
  },
  {
   "cell_type": "code",
   "execution_count": null,
   "metadata": {
    "collapsed": true
   },
   "outputs": [],
   "source": [
    "#get submission\n",
    "if args.scaler == 'standardization':\n",
    "    inverse_scaled_time = [x*std_value+mean_value for x in fixed_predicted_time]\n",
    "else:\n",
    "    inverse_scaled_time = [x*(max_value-min_value)+min_value for x in fixed_predicted_time]\n",
    "    \n",
    "predicted_time_label_test = [1 if e > time_threshold else 0 for e in error_time_df.Error.values]\n",
    "\n",
    "submission_time = pd.DataFrame({'AnomalousDuration': anomalous_df_test['AnomalousDuration'].copy(),\n",
    "                                'Activity': normal_df_test['Activity'].copy(),\n",
    "                                'AnomalousCumDuration': anomalous_df_test['AnomalousCumDuration'].copy(),\n",
    "                                'PredictedCumDuration': inverse_scaled_time,\n",
    "                                'TimeLabel': time_label_test,\n",
    "                                'PredictedTimeLabel': predicted_time_label_test})"
   ]
  },
  {
   "cell_type": "code",
   "execution_count": null,
   "metadata": {},
   "outputs": [],
   "source": [
    "submission_time.head()"
   ]
  },
  {
   "cell_type": "code",
   "execution_count": null,
   "metadata": {},
   "outputs": [],
   "source": [
    "groupByActivity = submission_time.groupby(['Activity'])\n",
    "\n",
    "for act, group in groupByActivity:\n",
    "    plotDurationofPredictedTimeLabel(act, group, statistics_storage, False)"
   ]
  },
  {
   "cell_type": "code",
   "execution_count": null,
   "metadata": {},
   "outputs": [],
   "source": [
    "submission_time.head()"
   ]
  },
  {
   "cell_type": "code",
   "execution_count": null,
   "metadata": {},
   "outputs": [],
   "source": [
    "act_list = [i for i in submission_time['Activity'].unique()]\n",
    "false_positive_df = submission_time[(submission_time['PredictedTimeLabel']== 1)&(submission_time['TimeLabel']== 0)]\n",
    "false_negative_df = submission_time[(submission_time['PredictedTimeLabel']== 0)&(submission_time['TimeLabel']== 1)]\n",
    "\n",
    "for act in act_list:\n",
    "    plotFalseDuration(false_positive_df, false_negative_df, act, statistics_storage)"
   ]
  },
  {
   "cell_type": "markdown",
   "metadata": {},
   "source": [
    "## Activity"
   ]
  },
  {
   "cell_type": "code",
   "execution_count": null,
   "metadata": {
    "collapsed": true
   },
   "outputs": [],
   "source": [
    "error = np.mean(np.power(true_act - predicted_activity, 2), axis = 1)\n",
    "error_activity_df = pd.DataFrame({'Error': error,\n",
    "                                  'ActivityLabel': activity_label_test})"
   ]
  },
  {
   "cell_type": "code",
   "execution_count": null,
   "metadata": {},
   "outputs": [],
   "source": [
    "error_activity_df.head()"
   ]
  },
  {
   "cell_type": "code",
   "execution_count": null,
   "metadata": {},
   "outputs": [],
   "source": [
    "precision, recall, th = precision_recall_curve(error_activity_df.ActivityLabel, error_activity_df.Error, pos_label=1)\n",
    "plt.figure(figsize=(20, 5))\n",
    "plt.plot(recall, precision, 'b', label='Precision-Recall curve')\n",
    "plt.title('Recall vs Precision')\n",
    "plt.xlabel('Recall')\n",
    "plt.ylabel('Precision')\n",
    "plt.show()"
   ]
  },
  {
   "cell_type": "code",
   "execution_count": null,
   "metadata": {},
   "outputs": [],
   "source": [
    "activity_threshold = np.mean(error_activity_df['Error'])\n",
    "print('Threshold of Activity: {}'.format(activity_threshold))"
   ]
  },
  {
   "cell_type": "code",
   "execution_count": null,
   "metadata": {},
   "outputs": [],
   "source": [
    "plotConfusionMaxtrix(error_activity_df, activity_threshold, variable='Activity')"
   ]
  },
  {
   "cell_type": "code",
   "execution_count": null,
   "metadata": {},
   "outputs": [],
   "source": [
    "plotReconstructionError(error_activity_df)"
   ]
  },
  {
   "cell_type": "code",
   "execution_count": null,
   "metadata": {},
   "outputs": [],
   "source": [
    "evalScore(error_activity_df, activity_threshold, variable='Activity')"
   ]
  },
  {
   "cell_type": "code",
   "execution_count": null,
   "metadata": {},
   "outputs": [],
   "source": [
    "fpr, tpr, thresholds = roc_curve(error_activity_df.ActivityLabel, error_activity_df.Error, pos_label=1)\n",
    "roc_auc = auc(fpr, tpr)\n",
    "\n",
    "plt.title('Receiver Operating Characteristic')\n",
    "plt.plot(fpr, tpr, label='AUC = %0.4f'% roc_auc)\n",
    "plt.legend(loc='lower right')\n",
    "plt.plot([0,1],[0,1],'r--')\n",
    "plt.xlim([-0.001, 1])\n",
    "plt.ylim([0, 1.001])\n",
    "plt.ylabel('True Positive Rate')\n",
    "plt.xlabel('False Positive Rate')\n",
    "plt.show();"
   ]
  },
  {
   "cell_type": "code",
   "execution_count": null,
   "metadata": {
    "collapsed": true
   },
   "outputs": [],
   "source": [
    "# evaluate based on classification\n",
    "predicted_act_df = pd.DataFrame(data=predicted_activity, columns=list(true_act))\n",
    "predicted_act_label = predicted_act_df.idxmax(axis=1)\n",
    "true_act_label = true_act.idxmax(axis=1)\n",
    "predicted_time_label = [0 if a==b else 1 for a, b in zip(true_act_label,predicted_act_label)]"
   ]
  },
  {
   "cell_type": "code",
   "execution_count": null,
   "metadata": {},
   "outputs": [],
   "source": [
    "#plot confusion matrix\n",
    "LABELS = ['Normal', 'Anomaly']\n",
    "matrix = confusion_matrix(error_activity_df.ActivityLabel.astype('uint8'), predicted_time_label)\n",
    "plt.figure(figsize=(7, 7))\n",
    "sns.heatmap(matrix, xticklabels=LABELS, yticklabels=LABELS, annot=True, fmt=\"d\");\n",
    "plt.title('Confusion matrix of Activity')\n",
    "plt.ylabel('True class')\n",
    "plt.xlabel('Predicted class')\n",
    "plt.show()"
   ]
  },
  {
   "cell_type": "code",
   "execution_count": null,
   "metadata": {},
   "outputs": [],
   "source": [
    "score = precision_recall_fscore_support(error_activity_df.ActivityLabel.astype('uint8'), predicted_time_label, average='weighted')\n",
    "    \n",
    "print('-------Evaluation of Activity-------')\n",
    "print('\\n')\n",
    "print('--Weighted Evaluation--')\n",
    "print('Evaluation')\n",
    "print('Precision: {:.2f}'.format(score[0]))\n",
    "print('Recall: {:.2f}'.format(score[1]))\n",
    "print('Fscore: {:.2f}'.format(score[2]))\n",
    "print('\\n')\n",
    "score_1 = precision_recall_fscore_support(error_activity_df.ActivityLabel.astype('uint8'), predicted_time_label)\n",
    "print('--Evaluation for each class--')\n",
    "print('Normal')\n",
    "print('Precision: {:.2f}'.format(score_1[0][0]))\n",
    "print('Recall: {:.2f}'.format(score_1[1][0]))\n",
    "print('Fscore: {:.2f}'.format(score_1[2][0]))\n",
    "print('\\n')\n",
    "print('Anomaly')\n",
    "print('Precision: {:.2f}'.format(score_1[0][1]))\n",
    "print('Recall: {:.2f}'.format(score_1[1][1]))\n",
    "print('Fscore: {:.2f}'.format(score_1[2][1]))"
   ]
  },
  {
   "cell_type": "code",
   "execution_count": null,
   "metadata": {
    "collapsed": true
   },
   "outputs": [],
   "source": []
  }
 ],
 "metadata": {
  "kernelspec": {
   "display_name": "Python 3",
   "language": "python",
   "name": "python3"
  },
  "language_info": {
   "codemirror_mode": {
    "name": "ipython",
    "version": 3
   },
   "file_extension": ".py",
   "mimetype": "text/x-python",
   "name": "python",
   "nbconvert_exporter": "python",
   "pygments_lexer": "ipython3",
   "version": "3.5.4"
  },
  "toc": {
   "colors": {
    "hover_highlight": "#DAA520",
    "running_highlight": "#FF0000",
    "selected_highlight": "#FFD700"
   },
   "moveMenuLeft": true,
   "nav_menu": {
    "height": "210px",
    "width": "252px"
   },
   "navigate_menu": true,
   "number_sections": true,
   "sideBar": true,
   "threshold": 4,
   "toc_cell": false,
   "toc_section_display": "block",
   "toc_window_display": false
  }
 },
 "nbformat": 4,
 "nbformat_minor": 2
}
