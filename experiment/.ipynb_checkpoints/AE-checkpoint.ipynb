{
 "cells": [
  {
   "cell_type": "code",
   "execution_count": 1,
   "metadata": {
    "collapsed": true
   },
   "outputs": [],
   "source": [
    "import importlib\n",
    "import argparse\n",
    "import os, sys\n",
    "import argparse\n",
    "import pandas as pd\n",
    "import numpy as np\n",
    "import pickle\n",
    "import time"
   ]
  },
  {
   "cell_type": "code",
   "execution_count": 2,
   "metadata": {
    "collapsed": true
   },
   "outputs": [],
   "source": [
    "import matplotlib.pyplot as plt\n",
    "import seaborn as sns; sns.set()\n",
    "from sklearn.metrics import confusion_matrix, precision_recall_fscore_support, roc_curve, auc, precision_recall_curve\n",
    "\n",
    "\n",
    "%matplotlib inline"
   ]
  },
  {
   "cell_type": "code",
   "execution_count": 3,
   "metadata": {
    "collapsed": true
   },
   "outputs": [],
   "source": [
    "import torch\n",
    "import torch.utils.data\n",
    "import torch.nn.functional as F\n",
    "import torch.nn as nn\n",
    "import torch.optim as optim\n",
    "import torch.optim.lr_scheduler\n",
    "from torch.autograd import Variable\n",
    "from torchvision import transforms"
   ]
  },
  {
   "cell_type": "code",
   "execution_count": 4,
   "metadata": {
    "collapsed": true
   },
   "outputs": [],
   "source": [
    "sys.path.insert(0, './../utils/')\n",
    "from utils import *\n",
    "from models import *"
   ]
  },
  {
   "cell_type": "code",
   "execution_count": 5,
   "metadata": {
    "collapsed": true
   },
   "outputs": [],
   "source": [
    "#Define parser\n",
    "name = 'bpi_2012'\n",
    "#name = 'bpi_2013' \n",
    "\n",
    "parser = {\n",
    "    'train': True,\n",
    "    'test': True,\n",
    "    'model_class': 'AE',\n",
    "    'model_name': '',\n",
    "    'data_dir': '../data/',\n",
    "    'data_file': name + '.csv',\n",
    "    'anomaly_pct': 0.1,\n",
    "    'scaler': 'standardization',\n",
    "    'input_dir': '../input/{}/'.format(name), \n",
    "    'batch_size' : 16,\n",
    "    'epochs' : 100,\n",
    "    'no_cuda' : False,\n",
    "    'seed' : 7,\n",
    "    'layer1': 7000,\n",
    "    'layer2': 1000,\n",
    "    'lr': 0.001,\n",
    "    'betas': (0.9, 0.999),   \n",
    "    'lr_decay': 0.90,\n",
    "    'lr_step': 10,\n",
    "}\n",
    "\n",
    "args = argparse.Namespace(**parser)\n",
    "args.output_dir = './output/{0}_{1}_{2}/'.format(name, args.anomaly_pct, args.model_class)"
   ]
  },
  {
   "cell_type": "code",
   "execution_count": 6,
   "metadata": {
    "collapsed": true
   },
   "outputs": [],
   "source": [
    "if not os.path.isdir(args.output_dir):\n",
    "    os.makedirs(args.output_dir)"
   ]
  },
  {
   "cell_type": "code",
   "execution_count": 7,
   "metadata": {
    "collapsed": true
   },
   "outputs": [],
   "source": [
    "args.cuda = not args.no_cuda and torch.cuda.is_available()\n",
    "kwargs = {'num_workers': 2, 'pin_memory': True} if args.cuda else {}"
   ]
  },
  {
   "cell_type": "code",
   "execution_count": 8,
   "metadata": {
    "collapsed": true
   },
   "outputs": [],
   "source": [
    "torch.manual_seed(args.seed)\n",
    "if args.cuda:\n",
    "    torch.cuda.manual_seed(args.seed)"
   ]
  },
  {
   "cell_type": "code",
   "execution_count": 9,
   "metadata": {
    "collapsed": true
   },
   "outputs": [],
   "source": [
    "preprocessed_data_name = os.path.join(args.input_dir, 'preprocessed_data_{}.pkl'.format(args.anomaly_pct))\n",
    "with open(preprocessed_data_name, 'rb') as f:\n",
    "    input_train = pickle.load(f)\n",
    "    input_val = pickle.load(f)\n",
    "    input_test = pickle.load(f)\n",
    "    pad_index_train = pickle.load(f)\n",
    "    pad_index_val = pickle.load(f)\n",
    "    pad_index_test = pickle.load(f)\n",
    "    activity_label_test = pickle.load(f)\n",
    "    time_label_test = pickle.load(f)\n",
    "    train_case_num = pickle.load(f)\n",
    "    val_case_num = pickle.load(f)\n",
    "    test_case_num = pickle.load(f)\n",
    "    train_row_num = pickle.load(f)\n",
    "    val_row_num = pickle.load(f)\n",
    "    test_row_num = pickle.load(f)\n",
    "    min_value = pickle.load(f)\n",
    "    max_value = pickle.load(f)\n",
    "    mean_value = pickle.load(f)\n",
    "    std_value = pickle.load(f)\n",
    "    cols = pickle.load(f)\n",
    "    statistics_storage = pickle.load(f)\n",
    "    true_time = pickle.load(f)\n",
    "    true_act = pickle.load(f)\n",
    "    full_true_time = pickle.load(f)\n",
    "    full_true_act = pickle.load(f)"
   ]
  },
  {
   "cell_type": "markdown",
   "metadata": {},
   "source": [
    "# Load data"
   ]
  },
  {
   "cell_type": "code",
   "execution_count": 10,
   "metadata": {
    "collapsed": true
   },
   "outputs": [],
   "source": [
    "#train\n",
    "input_trainLoader = torch.utils.data.DataLoader(input_train, batch_size=args.batch_size, shuffle=False, num_workers=2)\n",
    "pad_index_trainLoader = torch.utils.data.DataLoader(pad_index_train, batch_size=args.batch_size, shuffle=False, num_workers=2)"
   ]
  },
  {
   "cell_type": "code",
   "execution_count": 11,
   "metadata": {
    "collapsed": true
   },
   "outputs": [],
   "source": [
    "#df\n",
    "normal_df_name = os.path.join(args.input_dir, 'normal_df_{}.csv'.format(args.anomaly_pct))\n",
    "normal_df = pd.read_csv(normal_df_name)\n",
    "\n",
    "anomalous_df_name = os.path.join(args.input_dir, 'anomolous_df_{}.csv'.format(args.anomaly_pct))\n",
    "anomalous_df = pd.read_csv(anomalous_df_name)\n",
    "\n",
    "#test\n",
    "caseid_test = normal_df['CaseID'][-test_row_num:]\n",
    "normal_df_test = normal_df[-test_row_num:]\n",
    "anomalous_df_test = anomalous_df[-test_row_num:]"
   ]
  },
  {
   "cell_type": "code",
   "execution_count": 12,
   "metadata": {},
   "outputs": [
    {
     "data": {
      "text/html": [
       "<div>\n",
       "<style>\n",
       "    .dataframe thead tr:only-child th {\n",
       "        text-align: right;\n",
       "    }\n",
       "\n",
       "    .dataframe thead th {\n",
       "        text-align: left;\n",
       "    }\n",
       "\n",
       "    .dataframe tbody tr th {\n",
       "        vertical-align: top;\n",
       "    }\n",
       "</style>\n",
       "<table border=\"1\" class=\"dataframe\">\n",
       "  <thead>\n",
       "    <tr style=\"text-align: right;\">\n",
       "      <th></th>\n",
       "      <th>CaseID</th>\n",
       "      <th>Activity</th>\n",
       "      <th>CompleteTimestamp</th>\n",
       "      <th>Duration</th>\n",
       "      <th>CumDuration</th>\n",
       "    </tr>\n",
       "  </thead>\n",
       "  <tbody>\n",
       "    <tr>\n",
       "      <th>0</th>\n",
       "      <td>1</td>\n",
       "      <td>A_SUBMITTED-COMPLETE</td>\n",
       "      <td>2011-10-01 07:38:44.546</td>\n",
       "      <td>0.000</td>\n",
       "      <td>0.000</td>\n",
       "    </tr>\n",
       "    <tr>\n",
       "      <th>1</th>\n",
       "      <td>1</td>\n",
       "      <td>A_PARTLYSUBMITTED-COMPLETE</td>\n",
       "      <td>2011-10-01 07:38:44.880</td>\n",
       "      <td>0.334</td>\n",
       "      <td>0.334</td>\n",
       "    </tr>\n",
       "    <tr>\n",
       "      <th>2</th>\n",
       "      <td>1</td>\n",
       "      <td>A_PREACCEPTED-COMPLETE</td>\n",
       "      <td>2011-10-01 07:39:37.906</td>\n",
       "      <td>53.026</td>\n",
       "      <td>53.360</td>\n",
       "    </tr>\n",
       "    <tr>\n",
       "      <th>3</th>\n",
       "      <td>1</td>\n",
       "      <td>W_Completeren aanvraag-SCHEDULE</td>\n",
       "      <td>2011-10-01 07:39:38.875</td>\n",
       "      <td>0.969</td>\n",
       "      <td>54.329</td>\n",
       "    </tr>\n",
       "    <tr>\n",
       "      <th>4</th>\n",
       "      <td>1</td>\n",
       "      <td>W_Completeren aanvraag-START</td>\n",
       "      <td>2011-10-01 18:36:46.437</td>\n",
       "      <td>39427.562</td>\n",
       "      <td>39481.891</td>\n",
       "    </tr>\n",
       "  </tbody>\n",
       "</table>\n",
       "</div>"
      ],
      "text/plain": [
       "   CaseID                         Activity        CompleteTimestamp  \\\n",
       "0       1             A_SUBMITTED-COMPLETE  2011-10-01 07:38:44.546   \n",
       "1       1       A_PARTLYSUBMITTED-COMPLETE  2011-10-01 07:38:44.880   \n",
       "2       1           A_PREACCEPTED-COMPLETE  2011-10-01 07:39:37.906   \n",
       "3       1  W_Completeren aanvraag-SCHEDULE  2011-10-01 07:39:38.875   \n",
       "4       1     W_Completeren aanvraag-START  2011-10-01 18:36:46.437   \n",
       "\n",
       "    Duration  CumDuration  \n",
       "0      0.000        0.000  \n",
       "1      0.334        0.334  \n",
       "2     53.026       53.360  \n",
       "3      0.969       54.329  \n",
       "4  39427.562    39481.891  "
      ]
     },
     "execution_count": 12,
     "metadata": {},
     "output_type": "execute_result"
    }
   ],
   "source": [
    "normal_df.head()"
   ]
  },
  {
   "cell_type": "code",
   "execution_count": 13,
   "metadata": {},
   "outputs": [
    {
     "data": {
      "text/html": [
       "<div>\n",
       "<style>\n",
       "    .dataframe thead tr:only-child th {\n",
       "        text-align: right;\n",
       "    }\n",
       "\n",
       "    .dataframe thead th {\n",
       "        text-align: left;\n",
       "    }\n",
       "\n",
       "    .dataframe tbody tr th {\n",
       "        vertical-align: top;\n",
       "    }\n",
       "</style>\n",
       "<table border=\"1\" class=\"dataframe\">\n",
       "  <thead>\n",
       "    <tr style=\"text-align: right;\">\n",
       "      <th></th>\n",
       "      <th>CaseID</th>\n",
       "      <th>AnomalousActivity</th>\n",
       "      <th>AnomalousCompleteTimestamp</th>\n",
       "      <th>AnomalousDuration</th>\n",
       "      <th>AnomalousCumDuration</th>\n",
       "      <th>ActivityLabel</th>\n",
       "      <th>TimeLabel</th>\n",
       "    </tr>\n",
       "  </thead>\n",
       "  <tbody>\n",
       "    <tr>\n",
       "      <th>0</th>\n",
       "      <td>1</td>\n",
       "      <td>A_SUBMITTED-COMPLETE</td>\n",
       "      <td>2011-10-01 07:38:44.546000</td>\n",
       "      <td>0.000</td>\n",
       "      <td>0.000</td>\n",
       "      <td>0</td>\n",
       "      <td>0</td>\n",
       "    </tr>\n",
       "    <tr>\n",
       "      <th>1</th>\n",
       "      <td>1</td>\n",
       "      <td>A_PARTLYSUBMITTED-COMPLETE</td>\n",
       "      <td>2011-10-01 07:38:44.880000</td>\n",
       "      <td>0.334</td>\n",
       "      <td>0.334</td>\n",
       "      <td>0</td>\n",
       "      <td>0</td>\n",
       "    </tr>\n",
       "    <tr>\n",
       "      <th>2</th>\n",
       "      <td>1</td>\n",
       "      <td>A_PREACCEPTED-COMPLETE</td>\n",
       "      <td>2011-10-01 07:39:37.906000</td>\n",
       "      <td>53.026</td>\n",
       "      <td>53.360</td>\n",
       "      <td>0</td>\n",
       "      <td>0</td>\n",
       "    </tr>\n",
       "    <tr>\n",
       "      <th>3</th>\n",
       "      <td>1</td>\n",
       "      <td>W_Completeren aanvraag-SCHEDULE</td>\n",
       "      <td>2011-10-01 07:39:38.875000</td>\n",
       "      <td>0.969</td>\n",
       "      <td>54.329</td>\n",
       "      <td>0</td>\n",
       "      <td>0</td>\n",
       "    </tr>\n",
       "    <tr>\n",
       "      <th>4</th>\n",
       "      <td>1</td>\n",
       "      <td>W_Completeren aanvraag-START</td>\n",
       "      <td>2011-10-01 18:36:46.437000</td>\n",
       "      <td>39427.562</td>\n",
       "      <td>39481.891</td>\n",
       "      <td>0</td>\n",
       "      <td>0</td>\n",
       "    </tr>\n",
       "  </tbody>\n",
       "</table>\n",
       "</div>"
      ],
      "text/plain": [
       "   CaseID                AnomalousActivity  AnomalousCompleteTimestamp  \\\n",
       "0       1             A_SUBMITTED-COMPLETE  2011-10-01 07:38:44.546000   \n",
       "1       1       A_PARTLYSUBMITTED-COMPLETE  2011-10-01 07:38:44.880000   \n",
       "2       1           A_PREACCEPTED-COMPLETE  2011-10-01 07:39:37.906000   \n",
       "3       1  W_Completeren aanvraag-SCHEDULE  2011-10-01 07:39:38.875000   \n",
       "4       1     W_Completeren aanvraag-START  2011-10-01 18:36:46.437000   \n",
       "\n",
       "   AnomalousDuration  AnomalousCumDuration  ActivityLabel  TimeLabel  \n",
       "0              0.000                 0.000              0          0  \n",
       "1              0.334                 0.334              0          0  \n",
       "2             53.026                53.360              0          0  \n",
       "3              0.969                54.329              0          0  \n",
       "4          39427.562             39481.891              0          0  "
      ]
     },
     "execution_count": 13,
     "metadata": {},
     "output_type": "execute_result"
    }
   ],
   "source": [
    "anomalous_df.head()"
   ]
  },
  {
   "cell_type": "markdown",
   "metadata": {},
   "source": [
    "# Build model"
   ]
  },
  {
   "cell_type": "markdown",
   "metadata": {},
   "source": [
    "## Define model"
   ]
  },
  {
   "cell_type": "code",
   "execution_count": 14,
   "metadata": {
    "collapsed": true
   },
   "outputs": [],
   "source": [
    "if args.model_class == 'AE':\n",
    "    model = AE(input_train.shape, args.layer1, args.layer2)\n",
    "\n",
    "if args.model_class == 'AE_tanh':\n",
    "    model = AE_tanh(input_train.shape, args.layer1, args.layer2)\n",
    "\n",
    "if args.cuda:\n",
    "    model.cuda()"
   ]
  },
  {
   "cell_type": "code",
   "execution_count": 15,
   "metadata": {},
   "outputs": [
    {
     "data": {
      "text/plain": [
       "AE (\n",
       "  (fc1): Linear (6475 -> 7000)\n",
       "  (fc2): Linear (7000 -> 1000)\n",
       "  (fc3): Linear (1000 -> 7000)\n",
       "  (fc4): Linear (7000 -> 6475)\n",
       "  (dout): Dropout (p = 0.5)\n",
       "  (tanh): Tanh ()\n",
       ")"
      ]
     },
     "execution_count": 15,
     "metadata": {},
     "output_type": "execute_result"
    }
   ],
   "source": [
    "model"
   ]
  },
  {
   "cell_type": "markdown",
   "metadata": {},
   "source": [
    "## Define loss"
   ]
  },
  {
   "cell_type": "code",
   "execution_count": 16,
   "metadata": {
    "collapsed": true
   },
   "outputs": [],
   "source": [
    "def loss_function(recon_x, x, pad_index):\n",
    "    MSE = F.mse_loss(recon_x*pad_index, x*pad_index, size_average=False) \n",
    "    #BCE = F.binary_cross_entropy(recon_x, x, weight=pad_index, size_average=False)\n",
    "    return MSE"
   ]
  },
  {
   "cell_type": "markdown",
   "metadata": {},
   "source": [
    "## Define optimizer"
   ]
  },
  {
   "cell_type": "code",
   "execution_count": 17,
   "metadata": {
    "collapsed": true
   },
   "outputs": [],
   "source": [
    "optimizer = optim.Adam(model.parameters(), lr=args.lr, betas=args.betas)"
   ]
  },
  {
   "cell_type": "code",
   "execution_count": 18,
   "metadata": {
    "collapsed": true
   },
   "outputs": [],
   "source": [
    "#Adjust learning rate per epoch: http://pytorch.org/docs/master/optim.html?highlight=adam#how-to-adjust-learning-rate\n",
    "\n",
    "# Method 1:\n",
    "\n",
    "#lambda1 = lambda epoch: epoch // args.lr_step\n",
    "lambda1 = lambda epoch: args.lr_decay ** epoch\n",
    "scheduler = torch.optim.lr_scheduler.LambdaLR(optimizer, lr_lambda=[lambda1])\n",
    "\n",
    "# Method 2:\n",
    "#scheduler = torch.optim.lr_scheduler.ReduceLROnPlateau(optimizer, 'min', patience=10)"
   ]
  },
  {
   "cell_type": "markdown",
   "metadata": {},
   "source": [
    "# Utils"
   ]
  },
  {
   "cell_type": "code",
   "execution_count": 19,
   "metadata": {
    "collapsed": true
   },
   "outputs": [],
   "source": [
    "def save_model(model, epoch, score):\n",
    "    model_file = os.path.join(args.output_dir, 'model_{}_epoch{}_score{:.4f}.pth'.format(args.model_class, epoch, score))\n",
    "    torch.save(model.state_dict(), model_file)"
   ]
  },
  {
   "cell_type": "code",
   "execution_count": 20,
   "metadata": {
    "collapsed": true
   },
   "outputs": [],
   "source": [
    "def load_model(model, model_name):\n",
    "    model_file = os.path.join(args.output_dir, model_name)\n",
    "    assert os.path.isfile(model_file), 'Error: no model found!'\n",
    "    model_state = torch.load(model_file)\n",
    "    model.load_state_dict(model_state)"
   ]
  },
  {
   "cell_type": "code",
   "execution_count": 21,
   "metadata": {
    "collapsed": true
   },
   "outputs": [],
   "source": [
    "def val(model, input_val, pad_index_val):\n",
    "    model.eval()\n",
    "    input_val = Variable(torch.Tensor(input_val).float())\n",
    "    pad_index_val = Variable(torch.Tensor(pad_index_val).float())\n",
    "    \n",
    "    if args.cuda:\n",
    "        input_val = input_val.cuda()\n",
    "        pad_index_val = pad_index_val.cuda()\n",
    "    \n",
    "    recon_val = model(input_val)    \n",
    "    loss = loss_function(recon_val, input_val, pad_index_val)\n",
    "    return loss.data[0]/len(input_test.data)"
   ]
  },
  {
   "cell_type": "markdown",
   "metadata": {},
   "source": [
    "# Train"
   ]
  },
  {
   "cell_type": "code",
   "execution_count": null,
   "metadata": {
    "collapsed": true
   },
   "outputs": [],
   "source": [
    "def train(epoch, model, optimizer):\n",
    "    model.train()\n",
    "    train_loss = 0\n",
    "    for batch_idx, (batch_data, batch_index) in enumerate(zip(input_trainLoader, pad_index_trainLoader)):\n",
    "        \n",
    "        batch_data = Variable(batch_data.float())\n",
    "        batch_index = Variable(batch_index.float())\n",
    "\n",
    "        if args.cuda:\n",
    "            batch_data = batch_data.cuda()\n",
    "            batch_index = batch_index.cuda()\n",
    "            \n",
    "        optimizer.zero_grad()\n",
    "        \n",
    "        recon_data = model(batch_data)\n",
    "        \n",
    "        loss = loss_function(recon_data, batch_data, batch_index)\n",
    "        \n",
    "        loss.backward()\n",
    "        train_loss += loss.data[0]\n",
    "        optimizer.step()\n",
    "        \n",
    "    return train_loss / len(input_trainLoader.dataset)"
   ]
  },
  {
   "cell_type": "code",
   "execution_count": null,
   "metadata": {
    "scrolled": true
   },
   "outputs": [
    {
     "name": "stdout",
     "output_type": "stream",
     "text": [
      "====> Epoch 1 | Train time: 24182.6320 ms| End time: 25623.7090 ms | Train loss: 2701.4162 | Val score: 2093.4053\n",
      "====> Epoch 2 | Train time: 24058.8140 ms| End time: 25496.3958 ms | Train loss: 3016.0600 | Val score: 1716.1979\n",
      "====> Epoch 3 | Train time: 24044.1775 ms| End time: 25487.7455 ms | Train loss: 2690.8633 | Val score: 1282.1590\n",
      "====> Epoch 4 | Train time: 24014.1146 ms| End time: 25451.7710 ms | Train loss: 2280.5389 | Val score: 1168.7765\n",
      "====> Epoch 5 | Train time: 24031.9481 ms| End time: 25468.7731 ms | Train loss: 2057.4613 | Val score: 827.8248\n",
      "====> Epoch 6 | Train time: 24021.6961 ms| End time: 25451.9901 ms | Train loss: 1425.1867 | Val score: 733.4650\n",
      "====> Epoch 7 | Train time: 24009.9635 ms| End time: 25434.9668 ms | Train loss: 1346.0671 | Val score: 543.0545\n",
      "====> Epoch 8 | Train time: 24023.4506 ms| End time: 25460.0008 ms | Train loss: 1156.1968 | Val score: 575.6508\n",
      "====> Epoch 9 | Train time: 24006.8808 ms| End time: 25437.1271 ms | Train loss: 1072.2317 | Val score: 600.0656\n",
      "====> Epoch 10 | Train time: 24012.8531 ms| End time: 25440.4230 ms | Train loss: 1050.3995 | Val score: 447.4375\n",
      "====> Epoch 11 | Train time: 24002.4374 ms| End time: 25436.4927 ms | Train loss: 923.3896 | Val score: 386.6775\n",
      "====> Epoch 12 | Train time: 24014.3847 ms| End time: 25453.2366 ms | Train loss: 800.7601 | Val score: 342.3537\n",
      "====> Epoch 13 | Train time: 24016.2036 ms| End time: 25453.3424 ms | Train loss: 728.7393 | Val score: 326.2044\n",
      "====> Epoch 14 | Train time: 24016.5696 ms| End time: 25453.3238 ms | Train loss: 708.6709 | Val score: 269.6412\n",
      "====> Epoch 15 | Train time: 24024.7028 ms| End time: 25459.1193 ms | Train loss: 609.1882 | Val score: 222.4555\n",
      "====> Epoch 16 | Train time: 24020.9441 ms| End time: 25455.1117 ms | Train loss: 583.3029 | Val score: 215.4540\n",
      "====> Epoch 17 | Train time: 24011.0216 ms| End time: 25456.3968 ms | Train loss: 530.8420 | Val score: 206.1734\n",
      "====> Epoch 18 | Train time: 24021.6901 ms| End time: 25481.3530 ms | Train loss: 508.2896 | Val score: 162.2568\n",
      "====> Epoch 19 | Train time: 24023.8140 ms| End time: 25455.9999 ms | Train loss: 481.2199 | Val score: 147.3078\n",
      "====> Epoch 20 | Train time: 24014.2927 ms| End time: 25452.2486 ms | Train loss: 443.3456 | Val score: 136.2464\n",
      "====> Epoch 21 | Train time: 24002.8553 ms| End time: 25442.9221 ms | Train loss: 397.6644 | Val score: 119.3250\n",
      "====> Epoch 22 | Train time: 24011.8539 ms| End time: 25452.7004 ms | Train loss: 402.0888 | Val score: 100.2845\n",
      "====> Epoch 23 | Train time: 24017.9038 ms| End time: 25457.6616 ms | Train loss: 360.6847 | Val score: 87.7085\n",
      "====> Epoch 24 | Train time: 24018.3630 ms| End time: 25461.5250 ms | Train loss: 345.6671 | Val score: 86.5630\n",
      "====> Epoch 25 | Train time: 24020.5858 ms| End time: 25454.0577 ms | Train loss: 323.3475 | Val score: 80.8739\n",
      "====> Epoch 26 | Train time: 24017.9083 ms| End time: 25463.2831 ms | Train loss: 308.3666 | Val score: 70.6183\n",
      "====> Epoch 27 | Train time: 24018.3525 ms| End time: 25459.4846 ms | Train loss: 291.7816 | Val score: 60.2290\n",
      "====> Epoch 28 | Train time: 24018.6810 ms| End time: 25458.1378 ms | Train loss: 285.6795 | Val score: 72.9772\n",
      "====> Epoch 29 | Train time: 24019.7296 ms| End time: 25450.6540 ms | Train loss: 283.3454 | Val score: 52.8013\n",
      "====> Epoch 30 | Train time: 24018.9779 ms| End time: 25455.1647 ms | Train loss: 260.1924 | Val score: 49.5801\n",
      "====> Epoch 31 | Train time: 24000.1862 ms| End time: 25438.4732 ms | Train loss: 261.2123 | Val score: 54.1569\n",
      "====> Epoch 32 | Train time: 24001.4474 ms| End time: 25438.4642 ms | Train loss: 254.2285 | Val score: 46.6400\n",
      "====> Epoch 33 | Train time: 24008.1539 ms| End time: 25447.1142 ms | Train loss: 241.8156 | Val score: 38.7779\n",
      "====> Epoch 34 | Train time: 24022.1994 ms| End time: 25472.8348 ms | Train loss: 235.7384 | Val score: 37.7275\n",
      "====> Epoch 35 | Train time: 24016.2129 ms| End time: 25458.0359 ms | Train loss: 239.4945 | Val score: 37.0275\n",
      "====> Epoch 36 | Train time: 24010.3755 ms| End time: 25441.8948 ms | Train loss: 223.0020 | Val score: 39.2253\n",
      "====> Epoch 37 | Train time: 24007.5550 ms| End time: 25446.9829 ms | Train loss: 219.8728 | Val score: 35.1815\n",
      "====> Epoch 38 | Train time: 24017.6570 ms| End time: 25458.4322 ms | Train loss: 226.8468 | Val score: 35.8552\n",
      "====> Epoch 39 | Train time: 24020.3695 ms| End time: 25473.6216 ms | Train loss: 218.3256 | Val score: 31.0086\n",
      "====> Epoch 40 | Train time: 24018.6167 ms| End time: 25550.1540 ms | Train loss: 213.6115 | Val score: 29.5769\n",
      "====> Epoch 41 | Train time: 24024.0417 ms| End time: 25463.0225 ms | Train loss: 203.6799 | Val score: 29.2392\n",
      "====> Epoch 42 | Train time: 23996.9716 ms| End time: 25433.9645 ms | Train loss: 201.5207 | Val score: 26.4314\n",
      "====> Epoch 43 | Train time: 23998.6169 ms| End time: 25479.1758 ms | Train loss: 204.2852 | Val score: 25.7161\n",
      "====> Epoch 44 | Train time: 24001.1437 ms| End time: 25426.9454 ms | Train loss: 198.3042 | Val score: 25.4110\n",
      "====> Epoch 45 | Train time: 23996.5415 ms| End time: 25430.6693 ms | Train loss: 192.6832 | Val score: 24.4343\n",
      "====> Epoch 46 | Train time: 24019.3913 ms| End time: 25451.5853 ms | Train loss: 199.3807 | Val score: 23.5842\n",
      "====> Epoch 47 | Train time: 23996.7330 ms| End time: 25431.1891 ms | Train loss: 198.9227 | Val score: 25.3994\n",
      "====> Epoch 48 | Train time: 24012.1510 ms| End time: 25447.5074 ms | Train loss: 188.7191 | Val score: 22.1199\n",
      "====> Epoch 49 | Train time: 24013.8595 ms| End time: 25457.7038 ms | Train loss: 189.6855 | Val score: 21.7560\n",
      "====> Epoch 50 | Train time: 24000.3097 ms| End time: 25428.9010 ms | Train loss: 191.6742 | Val score: 21.0918\n",
      "====> Epoch 51 | Train time: 24011.6286 ms| End time: 25446.5513 ms | Train loss: 188.5472 | Val score: 21.3242\n",
      "====> Epoch 52 | Train time: 24022.4733 ms| End time: 25450.9134 ms | Train loss: 191.7885 | Val score: 22.1166\n",
      "====> Epoch 53 | Train time: 24023.2439 ms| End time: 25453.7601 ms | Train loss: 183.0244 | Val score: 20.8255\n",
      "====> Epoch 54 | Train time: 24019.1696 ms| End time: 25456.1605 ms | Train loss: 190.3044 | Val score: 19.8662\n",
      "====> Epoch 55 | Train time: 24017.4081 ms| End time: 25455.7064 ms | Train loss: 192.1093 | Val score: 19.5404\n",
      "====> Epoch 56 | Train time: 24014.6828 ms| End time: 25445.6656 ms | Train loss: 186.7221 | Val score: 19.9864\n",
      "====> Epoch 57 | Train time: 24016.3805 ms| End time: 25456.4717 ms | Train loss: 189.8902 | Val score: 19.3970\n",
      "====> Epoch 58 | Train time: 24014.9496 ms| End time: 25444.9911 ms | Train loss: 187.1135 | Val score: 19.3535\n",
      "====> Epoch 59 | Train time: 24010.4976 ms| End time: 25451.9618 ms | Train loss: 188.6190 | Val score: 19.4555\n",
      "====> Epoch 60 | Train time: 24024.3146 ms| End time: 25463.6440 ms | Train loss: 181.8839 | Val score: 19.0109\n",
      "====> Epoch 61 | Train time: 24011.5554 ms| End time: 25449.4336 ms | Train loss: 188.4510 | Val score: 18.7596\n",
      "====> Epoch 62 | Train time: 24007.2873 ms| End time: 25439.0225 ms | Train loss: 180.4770 | Val score: 18.9839\n",
      "====> Epoch 63 | Train time: 24021.8773 ms| End time: 25464.0777 ms | Train loss: 180.2062 | Val score: 19.1892\n",
      "====> Epoch 64 | Train time: 24021.4884 ms| End time: 25464.7305 ms | Train loss: 180.1882 | Val score: 19.0728\n",
      "====> Epoch 65 | Train time: 24027.4189 ms| End time: 25460.9346 ms | Train loss: 192.6136 | Val score: 18.4687\n",
      "====> Epoch 66 | Train time: 24004.4611 ms| End time: 25442.4016 ms | Train loss: 178.9301 | Val score: 18.5205\n",
      "====> Epoch 67 | Train time: 24004.3304 ms| End time: 25437.6009 ms | Train loss: 178.3424 | Val score: 18.4427\n",
      "====> Epoch 68 | Train time: 24010.3090 ms| End time: 25441.8483 ms | Train loss: 179.2442 | Val score: 18.4517\n",
      "====> Epoch 69 | Train time: 24016.6085 ms| End time: 25449.3177 ms | Train loss: 184.6509 | Val score: 18.2394\n",
      "====> Epoch 70 | Train time: 24003.1128 ms| End time: 25431.8025 ms | Train loss: 184.9363 | Val score: 18.2009\n",
      "====> Epoch 71 | Train time: 24019.7437 ms| End time: 25457.9215 ms | Train loss: 179.3209 | Val score: 18.3119\n",
      "====> Epoch 72 | Train time: 24023.1671 ms| End time: 25457.1455 ms | Train loss: 177.8497 | Val score: 18.3891\n",
      "====> Epoch 73 | Train time: 24016.6399 ms| End time: 25467.8371 ms | Train loss: 182.4527 | Val score: 18.3543\n"
     ]
    },
    {
     "name": "stdout",
     "output_type": "stream",
     "text": [
      "====> Epoch 74 | Train time: 24024.1129 ms| End time: 25455.9784 ms | Train loss: 181.1331 | Val score: 18.2039\n",
      "====> Epoch 75 | Train time: 24021.7493 ms| End time: 25465.4870 ms | Train loss: 175.9921 | Val score: 18.1376\n",
      "====> Epoch 76 | Train time: 24009.6009 ms| End time: 25444.7744 ms | Train loss: 181.2828 | Val score: 18.2179\n",
      "====> Epoch 77 | Train time: 24019.6388 ms| End time: 25459.9879 ms | Train loss: 183.4107 | Val score: 18.1921\n",
      "====> Epoch 78 | Train time: 24020.7605 ms| End time: 25462.3954 ms | Train loss: 173.8815 | Val score: 18.1525\n",
      "====> Epoch 79 | Train time: 24020.0102 ms| End time: 25462.7984 ms | Train loss: 183.0521 | Val score: 18.1628\n",
      "====> Epoch 80 | Train time: 24002.4617 ms| End time: 25440.2599 ms | Train loss: 181.2095 | Val score: 18.1302\n",
      "====> Epoch 81 | Train time: 24000.9151 ms| End time: 25451.3988 ms | Train loss: 176.8391 | Val score: 18.1021\n",
      "====> Epoch 82 | Train time: 24021.0602 ms| End time: 25461.0724 ms | Train loss: 176.9407 | Val score: 18.0688\n",
      "====> Epoch 83 | Train time: 24010.0210 ms| End time: 25446.9843 ms | Train loss: 177.2914 | Val score: 18.0715\n",
      "====> Epoch 84 | Train time: 24021.8766 ms| End time: 25465.3220 ms | Train loss: 177.9595 | Val score: 18.0962\n",
      "====> Epoch 85 | Train time: 24019.5057 ms| End time: 25453.8503 ms | Train loss: 177.0726 | Val score: 18.0720\n",
      "====> Epoch 86 | Train time: 24020.3137 ms| End time: 25454.7865 ms | Train loss: 178.6415 | Val score: 18.0490\n",
      "====> Epoch 87 | Train time: 24019.5136 ms| End time: 25465.8208 ms | Train loss: 180.9895 | Val score: 18.0753\n",
      "====> Epoch 88 | Train time: 24015.5256 ms| End time: 25446.5170 ms | Train loss: 178.6249 | Val score: 18.0989\n",
      "====> Epoch 89 | Train time: 24001.2779 ms| End time: 25463.7754 ms | Train loss: 181.6687 | Val score: 18.0835\n",
      "====> Epoch 90 | Train time: 24015.8017 ms| End time: 25442.6885 ms | Train loss: 174.0969 | Val score: 18.0789\n",
      "====> Epoch 91 | Train time: 23999.0497 ms| End time: 25437.5999 ms | Train loss: 185.5544 | Val score: 18.0597\n",
      "====> Epoch 92 | Train time: 23997.5133 ms| End time: 25429.4820 ms | Train loss: 175.5096 | Val score: 18.0510\n",
      "====> Epoch 93 | Train time: 24021.0450 ms| End time: 25455.1070 ms | Train loss: 174.3111 | Val score: 18.0348\n",
      "====> Epoch 94 | Train time: 24010.1411 ms| End time: 25439.1382 ms | Train loss: 180.3349 | Val score: 18.0185\n",
      "====> Epoch 95 | Train time: 24015.5654 ms| End time: 25449.9507 ms | Train loss: 176.5468 | Val score: 18.0126\n",
      "====> Epoch 96 | Train time: 24010.7861 ms| End time: 25442.4441 ms | Train loss: 179.7145 | Val score: 18.0154\n"
     ]
    }
   ],
   "source": [
    "if args.train:\n",
    "    for epoch in range(1, args.epochs + 1):\n",
    "        init = time.time()\n",
    "        \n",
    "        #method 1 scheduler\n",
    "        scheduler.step()\n",
    "        \n",
    "        train_loss = train(epoch, model, optimizer)\n",
    "        end_train = time.time()\n",
    "        val_score = val(model, input_val, pad_index_val)\n",
    "        \n",
    "        #if epoch == 1:\n",
    "        #    current_best = val_score\n",
    "        #    save_model(model, epoch, val_score)\n",
    "        \n",
    "        #else:\n",
    "        #    if val_score < current_best:\n",
    "        #        current_best = val_score\n",
    "        #        save_model(model, epoch, val_score)\n",
    "        \n",
    "        #method 2 scheduler\n",
    "        #scheduler.step()\n",
    "        \n",
    "        end = time.time()\n",
    "        print('====> Epoch {} | Train time: {:.4f} ms| End time: {:.4f} ms | Train loss: {:.4f} | Val score: {:.4f}'.\n",
    "              format(epoch, (end_train-init)*1000, (end-init)*1000, train_loss, val_score))\n",
    "else:\n",
    "    load_model(model, args.model_name)"
   ]
  },
  {
   "cell_type": "markdown",
   "metadata": {},
   "source": [
    "# Predict"
   ]
  },
  {
   "cell_type": "code",
   "execution_count": null,
   "metadata": {},
   "outputs": [],
   "source": [
    "if args.test:\n",
    "    input_test = Variable(torch.Tensor(input_test).float())\n",
    "    if args.cuda:\n",
    "        input_test = input_test.cuda()\n",
    "    \n",
    "    print('Predicting...')\n",
    "    recon_test = model(input_test)\n",
    "    \n",
    "    print('Separating prediction ...')\n",
    "    predicted_time, predicted_activity = getPrediction(recon_test, pad_index_test)\n",
    "    \n",
    "    print('Done!')"
   ]
  },
  {
   "cell_type": "markdown",
   "metadata": {},
   "source": [
    "# Evaluate"
   ]
  },
  {
   "cell_type": "markdown",
   "metadata": {},
   "source": [
    "## Time"
   ]
  },
  {
   "cell_type": "code",
   "execution_count": null,
   "metadata": {},
   "outputs": [],
   "source": [
    "#Fix predicted time\n",
    "time_df = pd.DataFrame({'CaseID': caseid_test,\n",
    "                        'PredictedTime': predicted_time})\n",
    "\n",
    "groupByCase = time_df.groupby(['CaseID'])\n",
    "fixed_time_df = pd.DataFrame(columns=list(time_df))\n",
    "\n",
    "for case, group in groupByCase:\n",
    "    group.iloc[0, 1] = -mean_value/std_value\n",
    "    fixed_time_df = fixed_time_df.append(group)"
   ]
  },
  {
   "cell_type": "code",
   "execution_count": null,
   "metadata": {},
   "outputs": [],
   "source": [
    "fixed_time_df.head()"
   ]
  },
  {
   "cell_type": "code",
   "execution_count": null,
   "metadata": {
    "collapsed": true
   },
   "outputs": [],
   "source": [
    "fixed_predicted_time = fixed_time_df['PredictedTime']"
   ]
  },
  {
   "cell_type": "code",
   "execution_count": null,
   "metadata": {
    "collapsed": true
   },
   "outputs": [],
   "source": [
    "error = np.abs(true_time - fixed_predicted_time)\n",
    "error_time_df = pd.DataFrame({'Error': error,\n",
    "                              'TimeLabel': time_label_test})"
   ]
  },
  {
   "cell_type": "code",
   "execution_count": null,
   "metadata": {},
   "outputs": [],
   "source": [
    "precision, recall, th = precision_recall_curve(error_time_df.TimeLabel, error_time_df.Error, pos_label=1)\n",
    "plt.figure(figsize=(20, 5))\n",
    "plt.plot(recall, precision, 'b', label='Precision-Recall curve')\n",
    "plt.title('Recall vs Precision')\n",
    "plt.xlabel('Recall')\n",
    "plt.ylabel('Precision')\n",
    "plt.show()"
   ]
  },
  {
   "cell_type": "code",
   "execution_count": null,
   "metadata": {},
   "outputs": [],
   "source": [
    "time_threshold = np.mean(error_time_df['Error'])\n",
    "print('Threshold of Time: {}'.format(time_threshold))"
   ]
  },
  {
   "cell_type": "code",
   "execution_count": null,
   "metadata": {
    "scrolled": true
   },
   "outputs": [],
   "source": [
    "plotOverlapReconstructionError(error_time_df, variable='Time', save=False)"
   ]
  },
  {
   "cell_type": "code",
   "execution_count": null,
   "metadata": {},
   "outputs": [],
   "source": [
    "plotReconstructionError(error_time_df, variable='Time')"
   ]
  },
  {
   "cell_type": "code",
   "execution_count": null,
   "metadata": {},
   "outputs": [],
   "source": [
    "plotConfusionMaxtrix(error_time_df, threshold=time_threshold, variable='Time')"
   ]
  },
  {
   "cell_type": "code",
   "execution_count": null,
   "metadata": {},
   "outputs": [],
   "source": [
    "evalScore(error_time_df, threshold=time_threshold, variable='Time')"
   ]
  },
  {
   "cell_type": "code",
   "execution_count": null,
   "metadata": {},
   "outputs": [],
   "source": [
    "fpr, tpr, thresholds = roc_curve(error_time_df.TimeLabel, error_time_df.Error, pos_label=1)\n",
    "roc_auc = auc(fpr, tpr)\n",
    "\n",
    "plt.title('Receiver Operating Characteristic')\n",
    "plt.plot(fpr, tpr, label='AUC = %0.4f'% roc_auc)\n",
    "plt.legend(loc='lower right')\n",
    "plt.plot([0,1],[0,1],'r--')\n",
    "plt.xlim([-0.001, 1])\n",
    "plt.ylim([0, 1.001])\n",
    "plt.ylabel('True Positive Rate')\n",
    "plt.xlabel('False Positive Rate')\n",
    "plt.show();"
   ]
  },
  {
   "cell_type": "code",
   "execution_count": null,
   "metadata": {
    "collapsed": true
   },
   "outputs": [],
   "source": [
    "#get submission\n",
    "if args.scaler == 'standardization':\n",
    "    inverse_scaled_time = [x*std_value+mean_value for x in fixed_predicted_time]\n",
    "else:\n",
    "    inverse_scaled_time = [x*(max_value-min_value)+min_value for x in fixed_predicted_time]\n",
    "    \n",
    "predicted_time_label_test = [1 if e > time_threshold else 0 for e in error_time_df.Error.values]\n",
    "\n",
    "submission_time = pd.DataFrame({'AnomalousDuration': anomalous_df_test['AnomalousDuration'].copy(),\n",
    "                                'Activity': normal_df_test['Activity'].copy(),\n",
    "                                'AnomalousCumDuration': anomalous_df_test['AnomalousCumDuration'].copy(),\n",
    "                                'PredictedCumDuration': inverse_scaled_time,\n",
    "                                'TimeLabel': time_label_test,\n",
    "                                'PredictedTimeLabel': predicted_time_label_test})"
   ]
  },
  {
   "cell_type": "code",
   "execution_count": null,
   "metadata": {},
   "outputs": [],
   "source": [
    "submission_time.head()"
   ]
  },
  {
   "cell_type": "code",
   "execution_count": null,
   "metadata": {},
   "outputs": [],
   "source": [
    "groupByActivity = submission_time.groupby(['Activity'])\n",
    "\n",
    "for act, group in groupByActivity:\n",
    "    plotDurationofPredictedTimeLabel(act, group, statistics_storage, args.output_dir, False)"
   ]
  },
  {
   "cell_type": "code",
   "execution_count": null,
   "metadata": {},
   "outputs": [],
   "source": [
    "submission_time.head()"
   ]
  },
  {
   "cell_type": "code",
   "execution_count": null,
   "metadata": {},
   "outputs": [],
   "source": [
    "act_list = [i for i in submission_time['Activity'].unique()]\n",
    "false_positive_df = submission_time[(submission_time['PredictedTimeLabel']== 1)&(submission_time['TimeLabel']== 0)]\n",
    "false_negative_df = submission_time[(submission_time['PredictedTimeLabel']== 0)&(submission_time['TimeLabel']== 1)]\n",
    "\n",
    "for act in act_list:\n",
    "    plotFalseDuration(false_positive_df, false_negative_df, act, statistics_storage)"
   ]
  },
  {
   "cell_type": "markdown",
   "metadata": {},
   "source": [
    "## Activity"
   ]
  },
  {
   "cell_type": "code",
   "execution_count": null,
   "metadata": {
    "collapsed": true
   },
   "outputs": [],
   "source": [
    "#error = np.mean(np.power(true_act - predicted_activity, 2), axis = 1)\n",
    "error = np.mean(np.abs(true_act - predicted_activity), axis = 1)\n",
    "error_activity_df = pd.DataFrame({'Error': error,\n",
    "                                  'ActivityLabel': activity_label_test})"
   ]
  },
  {
   "cell_type": "code",
   "execution_count": null,
   "metadata": {},
   "outputs": [],
   "source": [
    "error_activity_df.head()"
   ]
  },
  {
   "cell_type": "code",
   "execution_count": null,
   "metadata": {},
   "outputs": [],
   "source": [
    "precision, recall, th = precision_recall_curve(error_activity_df.ActivityLabel, error_activity_df.Error, pos_label=1)\n",
    "plt.figure(figsize=(20, 5))\n",
    "plt.plot(recall, precision, 'b', label='Precision-Recall curve')\n",
    "plt.title('Recall vs Precision')\n",
    "plt.xlabel('Recall')\n",
    "plt.ylabel('Precision')\n",
    "plt.show()"
   ]
  },
  {
   "cell_type": "code",
   "execution_count": null,
   "metadata": {},
   "outputs": [],
   "source": [
    "activity_threshold = np.mean(error_activity_df['Error'])\n",
    "print('Threshold of Activity: {}'.format(activity_threshold))"
   ]
  },
  {
   "cell_type": "markdown",
   "metadata": {},
   "source": [
    "### Threshold"
   ]
  },
  {
   "cell_type": "code",
   "execution_count": null,
   "metadata": {},
   "outputs": [],
   "source": [
    "plotConfusionMaxtrix(error_activity_df, activity_threshold, variable='Activity', output_dir=args.output_dir, save=True)"
   ]
  },
  {
   "cell_type": "code",
   "execution_count": null,
   "metadata": {
    "scrolled": true
   },
   "outputs": [],
   "source": [
    "plotOverlapReconstructionError(error_activity_df, variable='Activity', output_dir=args.output_dir, save=True)"
   ]
  },
  {
   "cell_type": "code",
   "execution_count": null,
   "metadata": {},
   "outputs": [],
   "source": [
    "plotReconstructionError(error_activity_df)"
   ]
  },
  {
   "cell_type": "code",
   "execution_count": null,
   "metadata": {},
   "outputs": [],
   "source": [
    "evalScore(error_activity_df, activity_threshold, variable='Activity')"
   ]
  },
  {
   "cell_type": "code",
   "execution_count": null,
   "metadata": {},
   "outputs": [],
   "source": [
    "fpr, tpr, thresholds = roc_curve(error_activity_df.ActivityLabel, error_activity_df.Error, pos_label=1)\n",
    "roc_auc = auc(fpr, tpr)\n",
    "\n",
    "plt.title('Receiver Operating Characteristic')\n",
    "plt.plot(fpr, tpr, label='AUC = %0.4f'% roc_auc)\n",
    "plt.legend(loc='lower right')\n",
    "plt.plot([0,1],[0,1],'r--')\n",
    "plt.xlim([-0.001, 1])\n",
    "plt.ylim([0, 1.001])\n",
    "plt.ylabel('True Positive Rate')\n",
    "plt.xlabel('False Positive Rate')\n",
    "plt.show();"
   ]
  },
  {
   "cell_type": "markdown",
   "metadata": {},
   "source": [
    "### Argmax"
   ]
  },
  {
   "cell_type": "code",
   "execution_count": null,
   "metadata": {
    "collapsed": true
   },
   "outputs": [],
   "source": [
    "# evaluate based on classification\n",
    "predicted_act_df = pd.DataFrame(data=predicted_activity, columns=list(true_act))\n",
    "predicted_act_label = predicted_act_df.idxmax(axis=1)\n",
    "true_act_label = true_act.idxmax(axis=1)\n",
    "predicted_time_label = [0 if a==b else 1 for a, b in zip(true_act_label,predicted_act_label)]"
   ]
  },
  {
   "cell_type": "code",
   "execution_count": null,
   "metadata": {},
   "outputs": [],
   "source": [
    "#plot confusion matrix\n",
    "LABELS = ['Normal', 'Anomaly']\n",
    "matrix = confusion_matrix(error_activity_df.ActivityLabel.astype('uint8'), predicted_time_label)\n",
    "plt.figure(figsize=(7, 7))\n",
    "sns.heatmap(matrix, xticklabels=LABELS, yticklabels=LABELS, annot=True, fmt=\"d\");\n",
    "plt.title('Confusion matrix of Activity')\n",
    "plt.ylabel('True class')\n",
    "plt.xlabel('Predicted class')\n",
    "plt.show()"
   ]
  },
  {
   "cell_type": "code",
   "execution_count": null,
   "metadata": {},
   "outputs": [],
   "source": [
    "score = precision_recall_fscore_support(error_activity_df.ActivityLabel.astype('uint8'), predicted_time_label, average='weighted')\n",
    "    \n",
    "print('-------Evaluation of Activity-------')\n",
    "print('\\n')\n",
    "print('--Weighted Evaluation--')\n",
    "print('Evaluation')\n",
    "print('Precision: {:.2f}'.format(score[0]))\n",
    "print('Recall: {:.2f}'.format(score[1]))\n",
    "print('Fscore: {:.2f}'.format(score[2]))\n",
    "print('\\n')\n",
    "score_1 = precision_recall_fscore_support(error_activity_df.ActivityLabel.astype('uint8'), predicted_time_label)\n",
    "print('--Evaluation for each class--')\n",
    "print('Normal')\n",
    "print('Precision: {:.2f}'.format(score_1[0][0]))\n",
    "print('Recall: {:.2f}'.format(score_1[1][0]))\n",
    "print('Fscore: {:.2f}'.format(score_1[2][0]))\n",
    "print('\\n')\n",
    "print('Anomaly')\n",
    "print('Precision: {:.2f}'.format(score_1[0][1]))\n",
    "print('Recall: {:.2f}'.format(score_1[1][1]))\n",
    "print('Fscore: {:.2f}'.format(score_1[2][1]))"
   ]
  },
  {
   "cell_type": "code",
   "execution_count": null,
   "metadata": {
    "collapsed": true
   },
   "outputs": [],
   "source": []
  }
 ],
 "metadata": {
  "kernelspec": {
   "display_name": "Python 3",
   "language": "python",
   "name": "python3"
  },
  "language_info": {
   "codemirror_mode": {
    "name": "ipython",
    "version": 3
   },
   "file_extension": ".py",
   "mimetype": "text/x-python",
   "name": "python",
   "nbconvert_exporter": "python",
   "pygments_lexer": "ipython3",
   "version": "3.5.4"
  },
  "toc": {
   "colors": {
    "hover_highlight": "#DAA520",
    "running_highlight": "#FF0000",
    "selected_highlight": "#FFD700"
   },
   "moveMenuLeft": true,
   "nav_menu": {
    "height": "210px",
    "width": "252px"
   },
   "navigate_menu": true,
   "number_sections": true,
   "sideBar": true,
   "threshold": 4,
   "toc_cell": false,
   "toc_section_display": "block",
   "toc_window_display": false
  }
 },
 "nbformat": 4,
 "nbformat_minor": 2
}
