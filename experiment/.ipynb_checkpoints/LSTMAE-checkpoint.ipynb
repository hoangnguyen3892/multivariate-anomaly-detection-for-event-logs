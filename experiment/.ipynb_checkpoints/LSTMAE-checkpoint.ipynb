{
 "cells": [
  {
   "cell_type": "code",
   "execution_count": 1,
   "metadata": {
    "collapsed": true
   },
   "outputs": [],
   "source": [
    "import importlib\n",
    "import argparse\n",
    "import os, sys\n",
    "import argparse\n",
    "import pandas as pd\n",
    "import numpy as np\n",
    "import pickle\n",
    "import time"
   ]
  },
  {
   "cell_type": "code",
   "execution_count": 2,
   "metadata": {
    "collapsed": true
   },
   "outputs": [],
   "source": [
    "import matplotlib.pyplot as plt\n",
    "import seaborn as sns; sns.set()\n",
    "from sklearn.metrics import confusion_matrix, precision_recall_fscore_support, roc_curve, auc, precision_recall_curve\n",
    "\n",
    "\n",
    "%matplotlib inline"
   ]
  },
  {
   "cell_type": "code",
   "execution_count": 3,
   "metadata": {
    "collapsed": true
   },
   "outputs": [],
   "source": [
    "import torch\n",
    "import torch.nn as nn\n",
    "import torch.nn.functional as F\n",
    "from torch.autograd import Variable\n",
    "import torch.optim as optim\n",
    "from torch.nn.utils import clip_grad_norm"
   ]
  },
  {
   "cell_type": "code",
   "execution_count": 4,
   "metadata": {
    "collapsed": true
   },
   "outputs": [],
   "source": [
    "sys.path.insert(0, './../utils/')\n",
    "from utils import *\n",
    "from models import *"
   ]
  },
  {
   "cell_type": "code",
   "execution_count": 5,
   "metadata": {
    "collapsed": true
   },
   "outputs": [],
   "source": [
    "#Define parser\n",
    "#name = 'bpi_2012'\n",
    "#name = 'bpi_2013'\n",
    "name = 'small_log'\n",
    "#name = 'large_log'\n",
    "\n",
    "parser = {\n",
    "    'train': True,\n",
    "    'test': True,\n",
    "    'model_class': 'LSTMAE',\n",
    "    'model_name': '',\n",
    "    'data_dir': '../data/',\n",
    "    'data_file': name + '.csv',\n",
    "    'anomaly_pct': 0.1,\n",
    "    'scaler': 'standardization',\n",
    "    'input_dir': '../input/{}/'.format(name), \n",
    "    'batch_size' : 16,\n",
    "    'epochs' : 100,\n",
    "    'no_cuda' : False,\n",
    "    'seed' : 7,\n",
    "    'clip': 0.25,\n",
    "    'layer1': 5,\n",
    "#    'layer2': 5,\n",
    "    'lr': 0.001,\n",
    "    'betas': (0.9, 0.999),   \n",
    "    'lr_decay': 0.99,\n",
    "}\n",
    "\n",
    "args = argparse.Namespace(**parser)\n",
    "args.output_dir = './output/{0}_{1}_{2}/'.format(name, args.anomaly_pct, args.model_class)"
   ]
  },
  {
   "cell_type": "code",
   "execution_count": 6,
   "metadata": {
    "collapsed": true
   },
   "outputs": [],
   "source": [
    "if not os.path.isdir(args.output_dir):\n",
    "    os.makedirs(args.output_dir)"
   ]
  },
  {
   "cell_type": "code",
   "execution_count": 7,
   "metadata": {
    "collapsed": true
   },
   "outputs": [],
   "source": [
    "args.cuda = not args.no_cuda and torch.cuda.is_available()\n",
    "kwargs = {'num_workers': 2, 'pin_memory': True} if args.cuda else {}"
   ]
  },
  {
   "cell_type": "code",
   "execution_count": 8,
   "metadata": {
    "collapsed": true
   },
   "outputs": [],
   "source": [
    "torch.manual_seed(args.seed)\n",
    "if args.cuda:\n",
    "    torch.cuda.manual_seed(args.seed)"
   ]
  },
  {
   "cell_type": "code",
   "execution_count": 9,
   "metadata": {
    "collapsed": true
   },
   "outputs": [],
   "source": [
    "preprocessed_data_name = os.path.join(args.input_dir, 'preprocessed_data_{}.pkl'.format(args.anomaly_pct))\n",
    "with open(preprocessed_data_name, 'rb') as f:\n",
    "    input_train = pickle.load(f)\n",
    "    input_val = pickle.load(f)\n",
    "    input_test = pickle.load(f)\n",
    "    pad_index_train = pickle.load(f)\n",
    "    pad_index_val = pickle.load(f)\n",
    "    pad_index_test = pickle.load(f)\n",
    "    activity_label_test = pickle.load(f)\n",
    "    time_label_test = pickle.load(f)\n",
    "    train_case_num = pickle.load(f)\n",
    "    val_case_num = pickle.load(f)\n",
    "    test_case_num = pickle.load(f)\n",
    "    train_row_num = pickle.load(f)\n",
    "    val_row_num = pickle.load(f)\n",
    "    test_row_num = pickle.load(f)\n",
    "    min_value = pickle.load(f)\n",
    "    max_value = pickle.load(f)\n",
    "    mean_value = pickle.load(f)\n",
    "    std_value = pickle.load(f)\n",
    "    cols = pickle.load(f)\n",
    "    statistics_storage = pickle.load(f)\n",
    "    true_time = pickle.load(f)\n",
    "    true_act = pickle.load(f)\n",
    "    full_true_time = pickle.load(f)\n",
    "    full_true_act = pickle.load(f)"
   ]
  },
  {
   "cell_type": "markdown",
   "metadata": {
    "collapsed": true
   },
   "source": [
    "# Load data"
   ]
  },
  {
   "cell_type": "code",
   "execution_count": 10,
   "metadata": {
    "collapsed": true
   },
   "outputs": [],
   "source": [
    "#train\n",
    "input_trainLoader = torch.utils.data.DataLoader(input_train, batch_size=args.batch_size, shuffle=False, num_workers=2)\n",
    "pad_index_trainLoader = torch.utils.data.DataLoader(pad_index_train, batch_size=args.batch_size, shuffle=False, num_workers=2)"
   ]
  },
  {
   "cell_type": "code",
   "execution_count": 11,
   "metadata": {
    "collapsed": true
   },
   "outputs": [],
   "source": [
    "#df\n",
    "normal_df_name = os.path.join(args.input_dir, 'normal_df_{}.csv'.format(args.anomaly_pct))\n",
    "normal_df = pd.read_csv(normal_df_name)\n",
    "\n",
    "anomalous_df_name = os.path.join(args.input_dir, 'anomolous_df_{}.csv'.format(args.anomaly_pct))\n",
    "anomalous_df = pd.read_csv(anomalous_df_name)\n",
    "\n",
    "#test\n",
    "caseid_test = normal_df['CaseID'][-test_row_num:]\n",
    "normal_df_test = normal_df[-test_row_num:]\n",
    "anomalous_df_test = anomalous_df[-test_row_num:]"
   ]
  },
  {
   "cell_type": "markdown",
   "metadata": {},
   "source": [
    "# Build model"
   ]
  },
  {
   "cell_type": "markdown",
   "metadata": {},
   "source": [
    "## Define model"
   ]
  },
  {
   "cell_type": "code",
   "execution_count": 12,
   "metadata": {
    "collapsed": true
   },
   "outputs": [],
   "source": [
    "if args.model_class == 'LSTMAE':\n",
    "    model = LSTMAE(input_train.shape[2], args.layer1, 1, args.cuda)\n",
    "\n",
    "if args.cuda:\n",
    "    model.cuda()"
   ]
  },
  {
   "cell_type": "code",
   "execution_count": 13,
   "metadata": {},
   "outputs": [
    {
     "data": {
      "text/plain": [
       "<bound method Module.parameters of LSTMAE (\n",
       "  (encoder): EncoderRNN (\n",
       "    (lstm): LSTM(15, 5, batch_first=True)\n",
       "  )\n",
       "  (decoder): DecoderRNN (\n",
       "    (lstm): LSTM(5, 5, batch_first=True)\n",
       "    (linear): Linear (5 -> 15)\n",
       "  )\n",
       ")>"
      ]
     },
     "execution_count": 13,
     "metadata": {},
     "output_type": "execute_result"
    }
   ],
   "source": [
    "model.parameters"
   ]
  },
  {
   "cell_type": "markdown",
   "metadata": {},
   "source": [
    "## Define loss"
   ]
  },
  {
   "cell_type": "code",
   "execution_count": 14,
   "metadata": {
    "collapsed": true
   },
   "outputs": [],
   "source": [
    "def loss_function(recon_x, x, pad_index):\n",
    "    MSE = F.mse_loss(recon_x*pad_index, x*pad_index, size_average=False) \n",
    "    #BCE = F.binary_cross_entropy(recon_x, x, weight=pad_index, size_average=False)\n",
    "    return MSE"
   ]
  },
  {
   "cell_type": "markdown",
   "metadata": {},
   "source": [
    "## Define optimizer"
   ]
  },
  {
   "cell_type": "code",
   "execution_count": 15,
   "metadata": {
    "collapsed": true
   },
   "outputs": [],
   "source": [
    "optimizer = optim.Adam(model.parameters(), lr=args.lr, betas=args.betas)"
   ]
  },
  {
   "cell_type": "code",
   "execution_count": 16,
   "metadata": {
    "collapsed": true
   },
   "outputs": [],
   "source": [
    "#Adjust learning rate per epoch: http://pytorch.org/docs/master/optim.html?highlight=adam#torch.optim.Adam\n",
    "\n",
    "# Method 1:\n",
    "lambda1 = lambda epoch: args.lr_decay ** epoch\n",
    "scheduler = torch.optim.lr_scheduler.LambdaLR(optimizer, lr_lambda=[lambda1])\n",
    "\n",
    "# Method 2:\n",
    "#scheduler = torch.optim.lr_scheduler.ReduceLROnPlateau(optimizer, 'min', patience=10)"
   ]
  },
  {
   "cell_type": "code",
   "execution_count": 17,
   "metadata": {},
   "outputs": [
    {
     "data": {
      "text/plain": [
       "0.0"
      ]
     },
     "execution_count": 17,
     "metadata": {},
     "output_type": "execute_result"
    }
   ],
   "source": [
    "torch.nn.utils.clip_grad_norm(model.parameters(), args.clip)"
   ]
  },
  {
   "cell_type": "markdown",
   "metadata": {},
   "source": [
    "# Utils"
   ]
  },
  {
   "cell_type": "code",
   "execution_count": 18,
   "metadata": {
    "collapsed": true
   },
   "outputs": [],
   "source": [
    "def save_model(model, epoch, score):\n",
    "    model_file = os.path.join(args.output_dir, 'model_{}_epoch{}_score{:.4f}.pth'.format(args.model_class, epoch, score))\n",
    "    torch.save(model.state_dict(), model_file)"
   ]
  },
  {
   "cell_type": "code",
   "execution_count": 19,
   "metadata": {
    "collapsed": true
   },
   "outputs": [],
   "source": [
    "def load_model(model, model_name):\n",
    "    model_file = os.path.join(args.output_dir, model_name)\n",
    "    assert os.path.isfile(model_file), 'Error: no model found!'\n",
    "    model_state = torch.load(model_file)\n",
    "    model.load_state_dict(model_state)"
   ]
  },
  {
   "cell_type": "code",
   "execution_count": 20,
   "metadata": {
    "collapsed": true
   },
   "outputs": [],
   "source": [
    "def val(model, input_val, pad_index_val):\n",
    "    model.eval()\n",
    "    input_val = Variable(torch.Tensor(input_val).float())\n",
    "    pad_index_val = Variable(torch.Tensor(pad_index_val).float())\n",
    "    \n",
    "    if args.cuda:\n",
    "        input_val = input_val.cuda()\n",
    "        pad_index_val = pad_index_val.cuda()\n",
    "    \n",
    "    recon_val = model(input_val)    \n",
    "    loss = loss_function(recon_val, input_val, pad_index_val)\n",
    "    return loss.data[0]/len(input_test.data)"
   ]
  },
  {
   "cell_type": "markdown",
   "metadata": {},
   "source": [
    "# Train"
   ]
  },
  {
   "cell_type": "code",
   "execution_count": 21,
   "metadata": {
    "collapsed": true
   },
   "outputs": [],
   "source": [
    "def train(epoch, model, optimizer):\n",
    "    model.train()\n",
    "    train_loss = 0\n",
    "    for batch_idx, (batch_data, batch_index) in enumerate(zip(input_trainLoader, pad_index_trainLoader)):\n",
    "        \n",
    "        batch_data = Variable(batch_data.float())\n",
    "        batch_index = Variable(batch_index.float())\n",
    "\n",
    "        if args.cuda:\n",
    "            batch_data = batch_data.cuda()\n",
    "            batch_index = batch_index.cuda()\n",
    "            \n",
    "        optimizer.zero_grad()\n",
    "        \n",
    "        recon_data = model(batch_data)\n",
    "        \n",
    "        loss = loss_function(recon_data, batch_data, batch_index)\n",
    "        \n",
    "        loss.backward()\n",
    "        train_loss += loss.data[0]\n",
    "        optimizer.step()\n",
    "        \n",
    "    return train_loss / len(input_trainLoader.dataset)"
   ]
  },
  {
   "cell_type": "code",
   "execution_count": 22,
   "metadata": {},
   "outputs": [
    {
     "name": "stdout",
     "output_type": "stream",
     "text": [
      "====> Epoch 1 | Train time: 448.7953 ms| End time: 458.4663 ms | Train loss: 35.5681 | Val loss: 31.2905\n",
      "====> Epoch 2 | Train time: 342.7751 ms| End time: 352.1161 ms | Train loss: 27.6916 | Val loss: 23.9692\n",
      "====> Epoch 3 | Train time: 338.3353 ms| End time: 347.6326 ms | Train loss: 20.3156 | Val loss: 16.8618\n",
      "====> Epoch 4 | Train time: 341.0966 ms| End time: 355.3400 ms | Train loss: 14.7094 | Val loss: 13.0771\n",
      "====> Epoch 5 | Train time: 331.3460 ms| End time: 340.6284 ms | Train loss: 12.3787 | Val loss: 11.8280\n",
      "====> Epoch 6 | Train time: 348.6886 ms| End time: 358.0177 ms | Train loss: 11.5897 | Val loss: 11.3149\n",
      "====> Epoch 7 | Train time: 345.6891 ms| End time: 359.6280 ms | Train loss: 11.1626 | Val loss: 10.9243\n",
      "====> Epoch 8 | Train time: 346.2601 ms| End time: 355.5369 ms | Train loss: 10.7815 | Val loss: 10.5428\n",
      "====> Epoch 9 | Train time: 345.7832 ms| End time: 355.0482 ms | Train loss: 10.4144 | Val loss: 10.1953\n",
      "====> Epoch 10 | Train time: 344.8584 ms| End time: 354.3160 ms | Train loss: 10.1069 | Val loss: 9.9314\n",
      "====> Epoch 11 | Train time: 346.9925 ms| End time: 356.4012 ms | Train loss: 9.8829 | Val loss: 9.7425\n",
      "====> Epoch 12 | Train time: 348.2180 ms| End time: 357.5766 ms | Train loss: 9.7157 | Val loss: 9.5939\n",
      "====> Epoch 13 | Train time: 347.0974 ms| End time: 361.4223 ms | Train loss: 9.5787 | Val loss: 9.4677\n",
      "====> Epoch 14 | Train time: 343.8935 ms| End time: 358.2149 ms | Train loss: 9.4603 | Val loss: 9.3568\n",
      "====> Epoch 15 | Train time: 341.1632 ms| End time: 355.2885 ms | Train loss: 9.3557 | Val loss: 9.2582\n",
      "====> Epoch 16 | Train time: 349.3621 ms| End time: 363.7722 ms | Train loss: 9.2628 | Val loss: 9.1707\n",
      "====> Epoch 17 | Train time: 345.6864 ms| End time: 354.9387 ms | Train loss: 9.1806 | Val loss: 9.0935\n",
      "====> Epoch 18 | Train time: 344.6574 ms| End time: 354.0008 ms | Train loss: 9.1084 | Val loss: 9.0260\n",
      "====> Epoch 19 | Train time: 345.4952 ms| End time: 354.6255 ms | Train loss: 9.0452 | Val loss: 8.9671\n",
      "====> Epoch 20 | Train time: 345.3863 ms| End time: 359.6253 ms | Train loss: 8.9900 | Val loss: 8.9157\n",
      "====> Epoch 21 | Train time: 346.9505 ms| End time: 356.5855 ms | Train loss: 8.9418 | Val loss: 8.8708\n",
      "====> Epoch 22 | Train time: 347.6956 ms| End time: 361.8302 ms | Train loss: 8.8995 | Val loss: 8.8314\n",
      "====> Epoch 23 | Train time: 344.2507 ms| End time: 358.5362 ms | Train loss: 8.8620 | Val loss: 8.7964\n",
      "====> Epoch 24 | Train time: 348.9501 ms| End time: 358.2635 ms | Train loss: 8.8288 | Val loss: 8.7653\n",
      "====> Epoch 25 | Train time: 348.6743 ms| End time: 358.0058 ms | Train loss: 8.7990 | Val loss: 8.7375\n",
      "====> Epoch 26 | Train time: 349.1571 ms| End time: 363.4005 ms | Train loss: 8.7722 | Val loss: 8.7124\n",
      "====> Epoch 27 | Train time: 345.2487 ms| End time: 359.4947 ms | Train loss: 8.7481 | Val loss: 8.6898\n",
      "====> Epoch 28 | Train time: 344.1405 ms| End time: 358.2075 ms | Train loss: 8.7263 | Val loss: 8.6694\n",
      "====> Epoch 29 | Train time: 343.5440 ms| End time: 357.8203 ms | Train loss: 8.7066 | Val loss: 8.6509\n",
      "====> Epoch 30 | Train time: 344.4054 ms| End time: 353.6677 ms | Train loss: 8.6887 | Val loss: 8.6341\n",
      "====> Epoch 31 | Train time: 342.8965 ms| End time: 357.1796 ms | Train loss: 8.6724 | Val loss: 8.6186\n",
      "====> Epoch 32 | Train time: 341.7420 ms| End time: 356.0009 ms | Train loss: 8.6574 | Val loss: 8.6043\n",
      "====> Epoch 33 | Train time: 344.3525 ms| End time: 358.6206 ms | Train loss: 8.6435 | Val loss: 8.5909\n",
      "====> Epoch 34 | Train time: 348.7446 ms| End time: 358.0911 ms | Train loss: 8.6306 | Val loss: 8.5784\n",
      "====> Epoch 35 | Train time: 345.5935 ms| End time: 359.9377 ms | Train loss: 8.6183 | Val loss: 8.5666\n",
      "====> Epoch 36 | Train time: 345.3372 ms| End time: 359.8490 ms | Train loss: 8.6068 | Val loss: 8.5555\n",
      "====> Epoch 37 | Train time: 344.4495 ms| End time: 358.6853 ms | Train loss: 8.5958 | Val loss: 8.5449\n",
      "====> Epoch 38 | Train time: 342.5832 ms| End time: 356.7710 ms | Train loss: 8.5853 | Val loss: 8.5348\n",
      "====> Epoch 39 | Train time: 344.8784 ms| End time: 359.2184 ms | Train loss: 8.5752 | Val loss: 8.5251\n",
      "====> Epoch 40 | Train time: 345.8123 ms| End time: 359.9212 ms | Train loss: 8.5655 | Val loss: 8.5159\n",
      "====> Epoch 41 | Train time: 346.5071 ms| End time: 360.7364 ms | Train loss: 8.5562 | Val loss: 8.5070\n",
      "====> Epoch 42 | Train time: 348.6242 ms| End time: 357.9748 ms | Train loss: 8.5471 | Val loss: 8.4984\n",
      "====> Epoch 43 | Train time: 351.1221 ms| End time: 365.4525 ms | Train loss: 8.5382 | Val loss: 8.4901\n",
      "====> Epoch 44 | Train time: 346.0085 ms| End time: 355.3464 ms | Train loss: 8.5296 | Val loss: 8.4820\n",
      "====> Epoch 45 | Train time: 343.9896 ms| End time: 358.1550 ms | Train loss: 8.5212 | Val loss: 8.4742\n",
      "====> Epoch 46 | Train time: 344.0838 ms| End time: 353.3726 ms | Train loss: 8.5129 | Val loss: 8.4665\n",
      "====> Epoch 47 | Train time: 338.9738 ms| End time: 353.2124 ms | Train loss: 8.5049 | Val loss: 8.4590\n",
      "====> Epoch 48 | Train time: 346.4985 ms| End time: 355.8309 ms | Train loss: 8.4970 | Val loss: 8.4517\n",
      "====> Epoch 49 | Train time: 345.0763 ms| End time: 359.2508 ms | Train loss: 8.4892 | Val loss: 8.4446\n",
      "====> Epoch 50 | Train time: 349.1900 ms| End time: 358.4816 ms | Train loss: 8.4817 | Val loss: 8.4376\n",
      "====> Epoch 51 | Train time: 344.8153 ms| End time: 358.9649 ms | Train loss: 8.4743 | Val loss: 8.4308\n",
      "====> Epoch 52 | Train time: 348.9845 ms| End time: 358.3498 ms | Train loss: 8.4671 | Val loss: 8.4241\n",
      "====> Epoch 53 | Train time: 351.8336 ms| End time: 361.8293 ms | Train loss: 8.4602 | Val loss: 8.4177\n",
      "====> Epoch 54 | Train time: 345.9089 ms| End time: 355.1054 ms | Train loss: 8.4534 | Val loss: 8.4114\n",
      "====> Epoch 55 | Train time: 343.1160 ms| End time: 356.9989 ms | Train loss: 8.4469 | Val loss: 8.4053\n",
      "====> Epoch 56 | Train time: 345.7856 ms| End time: 355.3991 ms | Train loss: 8.4405 | Val loss: 8.3995\n",
      "====> Epoch 57 | Train time: 344.2640 ms| End time: 358.0692 ms | Train loss: 8.4344 | Val loss: 8.3938\n",
      "====> Epoch 58 | Train time: 350.4050 ms| End time: 359.5746 ms | Train loss: 8.4285 | Val loss: 8.3883\n",
      "====> Epoch 59 | Train time: 354.9314 ms| End time: 369.5493 ms | Train loss: 8.4229 | Val loss: 8.3830\n",
      "====> Epoch 60 | Train time: 341.5625 ms| End time: 356.0243 ms | Train loss: 8.4174 | Val loss: 8.3779\n",
      "====> Epoch 61 | Train time: 342.7005 ms| End time: 356.9152 ms | Train loss: 8.4121 | Val loss: 8.3729\n",
      "====> Epoch 62 | Train time: 344.1651 ms| End time: 358.6798 ms | Train loss: 8.4070 | Val loss: 8.3682\n",
      "====> Epoch 63 | Train time: 346.1931 ms| End time: 360.1992 ms | Train loss: 8.4021 | Val loss: 8.3635\n",
      "====> Epoch 64 | Train time: 344.5871 ms| End time: 353.8775 ms | Train loss: 8.3974 | Val loss: 8.3591\n",
      "====> Epoch 65 | Train time: 343.2899 ms| End time: 357.6348 ms | Train loss: 8.3929 | Val loss: 8.3548\n",
      "====> Epoch 66 | Train time: 343.8268 ms| End time: 358.1593 ms | Train loss: 8.3885 | Val loss: 8.3506\n",
      "====> Epoch 67 | Train time: 344.0824 ms| End time: 353.5168 ms | Train loss: 8.3842 | Val loss: 8.3466\n",
      "====> Epoch 68 | Train time: 344.2314 ms| End time: 358.5172 ms | Train loss: 8.3801 | Val loss: 8.3426\n",
      "====> Epoch 69 | Train time: 342.9985 ms| End time: 352.2615 ms | Train loss: 8.3760 | Val loss: 8.3388\n",
      "====> Epoch 70 | Train time: 346.3507 ms| End time: 360.7912 ms | Train loss: 8.3721 | Val loss: 8.3351\n",
      "====> Epoch 71 | Train time: 343.9293 ms| End time: 358.0987 ms | Train loss: 8.3683 | Val loss: 8.3315\n",
      "====> Epoch 72 | Train time: 340.3115 ms| End time: 354.7237 ms | Train loss: 8.3646 | Val loss: 8.3280\n",
      "====> Epoch 73 | Train time: 343.8067 ms| End time: 357.8742 ms | Train loss: 8.3609 | Val loss: 8.3245\n",
      "====> Epoch 74 | Train time: 334.6856 ms| End time: 349.1352 ms | Train loss: 8.3573 | Val loss: 8.3211\n",
      "====> Epoch 75 | Train time: 343.3838 ms| End time: 357.3732 ms | Train loss: 8.3538 | Val loss: 8.3177\n",
      "====> Epoch 76 | Train time: 343.3788 ms| End time: 357.5187 ms | Train loss: 8.3503 | Val loss: 8.3144\n",
      "====> Epoch 77 | Train time: 341.0947 ms| End time: 350.3954 ms | Train loss: 8.3468 | Val loss: 8.3112\n",
      "====> Epoch 78 | Train time: 343.5788 ms| End time: 357.9297 ms | Train loss: 8.3433 | Val loss: 8.3079\n",
      "====> Epoch 79 | Train time: 330.7741 ms| End time: 339.9463 ms | Train loss: 8.3399 | Val loss: 8.3047\n"
     ]
    },
    {
     "name": "stdout",
     "output_type": "stream",
     "text": [
      "====> Epoch 80 | Train time: 349.2284 ms| End time: 358.6106 ms | Train loss: 8.3364 | Val loss: 8.3016\n",
      "====> Epoch 81 | Train time: 344.2054 ms| End time: 358.4547 ms | Train loss: 8.3330 | Val loss: 8.2984\n",
      "====> Epoch 82 | Train time: 343.4489 ms| End time: 357.1069 ms | Train loss: 8.3296 | Val loss: 8.2953\n",
      "====> Epoch 83 | Train time: 383.3725 ms| End time: 392.7224 ms | Train loss: 8.3261 | Val loss: 8.2921\n",
      "====> Epoch 84 | Train time: 340.1172 ms| End time: 349.9064 ms | Train loss: 8.3226 | Val loss: 8.2890\n",
      "====> Epoch 85 | Train time: 344.1410 ms| End time: 358.3221 ms | Train loss: 8.3191 | Val loss: 8.2859\n",
      "====> Epoch 86 | Train time: 344.9669 ms| End time: 359.0662 ms | Train loss: 8.3156 | Val loss: 8.2828\n",
      "====> Epoch 87 | Train time: 349.0734 ms| End time: 358.4321 ms | Train loss: 8.3121 | Val loss: 8.2798\n",
      "====> Epoch 88 | Train time: 350.6520 ms| End time: 359.9560 ms | Train loss: 8.3086 | Val loss: 8.2767\n",
      "====> Epoch 89 | Train time: 351.9592 ms| End time: 366.3545 ms | Train loss: 8.3051 | Val loss: 8.2737\n",
      "====> Epoch 90 | Train time: 345.9725 ms| End time: 360.2581 ms | Train loss: 8.3016 | Val loss: 8.2707\n"
     ]
    },
    {
     "name": "stderr",
     "output_type": "stream",
     "text": [
      "Process Process-363:\n",
      "Process Process-364:\n",
      "Process Process-361:\n",
      "Process Process-362:\n",
      "Traceback (most recent call last):\n",
      "Traceback (most recent call last):\n",
      "Traceback (most recent call last):\n",
      "  File \"/home/pllab/miniconda2/envs/pydata/lib/python3.5/multiprocessing/process.py\", line 252, in _bootstrap\n",
      "    self.run()\n",
      "  File \"/home/pllab/miniconda2/envs/pydata/lib/python3.5/multiprocessing/process.py\", line 252, in _bootstrap\n",
      "    self.run()\n",
      "  File \"/home/pllab/miniconda2/envs/pydata/lib/python3.5/multiprocessing/process.py\", line 252, in _bootstrap\n",
      "    self.run()\n",
      "  File \"/home/pllab/miniconda2/envs/pydata/lib/python3.5/multiprocessing/process.py\", line 93, in run\n",
      "    self._target(*self._args, **self._kwargs)\n",
      "  File \"/home/pllab/miniconda2/envs/pydata/lib/python3.5/multiprocessing/process.py\", line 93, in run\n",
      "    self._target(*self._args, **self._kwargs)\n",
      "  File \"/home/pllab/miniconda2/envs/pydata/lib/python3.5/multiprocessing/process.py\", line 93, in run\n",
      "    self._target(*self._args, **self._kwargs)\n",
      "  File \"/home/pllab/miniconda2/envs/pydata/lib/python3.5/site-packages/torch/utils/data/dataloader.py\", line 34, in _worker_loop\n",
      "    r = index_queue.get()\n",
      "  File \"/home/pllab/miniconda2/envs/pydata/lib/python3.5/site-packages/torch/utils/data/dataloader.py\", line 34, in _worker_loop\n",
      "    r = index_queue.get()\n",
      "  File \"/home/pllab/miniconda2/envs/pydata/lib/python3.5/site-packages/torch/utils/data/dataloader.py\", line 34, in _worker_loop\n",
      "    r = index_queue.get()\n",
      "  File \"/home/pllab/miniconda2/envs/pydata/lib/python3.5/multiprocessing/queues.py\", line 335, in get\n",
      "    res = self._reader.recv_bytes()\n",
      "  File \"/home/pllab/miniconda2/envs/pydata/lib/python3.5/multiprocessing/queues.py\", line 334, in get\n",
      "    with self._rlock:\n",
      "  File \"/home/pllab/miniconda2/envs/pydata/lib/python3.5/multiprocessing/synchronize.py\", line 96, in __enter__\n",
      "    return self._semlock.__enter__()\n",
      "  File \"/home/pllab/miniconda2/envs/pydata/lib/python3.5/multiprocessing/queues.py\", line 334, in get\n",
      "    with self._rlock:\n",
      "  File \"/home/pllab/miniconda2/envs/pydata/lib/python3.5/multiprocessing/connection.py\", line 216, in recv_bytes\n",
      "    buf = self._recv_bytes(maxlength)\n",
      "  File \"/home/pllab/miniconda2/envs/pydata/lib/python3.5/multiprocessing/synchronize.py\", line 96, in __enter__\n",
      "    return self._semlock.__enter__()\n",
      "  File \"/home/pllab/miniconda2/envs/pydata/lib/python3.5/multiprocessing/connection.py\", line 407, in _recv_bytes\n",
      "    buf = self._recv(4)\n",
      "KeyboardInterrupt\n",
      "KeyboardInterrupt\n",
      "  File \"/home/pllab/miniconda2/envs/pydata/lib/python3.5/multiprocessing/connection.py\", line 379, in _recv\n",
      "    chunk = read(handle, remaining)\n",
      "Traceback (most recent call last):\n",
      "KeyboardInterrupt\n",
      "  File \"/home/pllab/miniconda2/envs/pydata/lib/python3.5/multiprocessing/process.py\", line 252, in _bootstrap\n",
      "    self.run()\n",
      "  File \"/home/pllab/miniconda2/envs/pydata/lib/python3.5/multiprocessing/process.py\", line 93, in run\n",
      "    self._target(*self._args, **self._kwargs)\n",
      "  File \"/home/pllab/miniconda2/envs/pydata/lib/python3.5/site-packages/torch/utils/data/dataloader.py\", line 34, in _worker_loop\n",
      "    r = index_queue.get()\n",
      "  File \"/home/pllab/miniconda2/envs/pydata/lib/python3.5/multiprocessing/queues.py\", line 335, in get\n",
      "    res = self._reader.recv_bytes()\n",
      "  File \"/home/pllab/miniconda2/envs/pydata/lib/python3.5/multiprocessing/connection.py\", line 216, in recv_bytes\n",
      "    buf = self._recv_bytes(maxlength)\n",
      "  File \"/home/pllab/miniconda2/envs/pydata/lib/python3.5/multiprocessing/connection.py\", line 407, in _recv_bytes\n",
      "    buf = self._recv(4)\n",
      "  File \"/home/pllab/miniconda2/envs/pydata/lib/python3.5/multiprocessing/connection.py\", line 379, in _recv\n",
      "    chunk = read(handle, remaining)\n",
      "KeyboardInterrupt\n"
     ]
    },
    {
     "ename": "KeyboardInterrupt",
     "evalue": "",
     "output_type": "error",
     "traceback": [
      "\u001b[0;31m---------------------------------------------------------------------------\u001b[0m",
      "\u001b[0;31mKeyboardInterrupt\u001b[0m                         Traceback (most recent call last)",
      "\u001b[0;32m<ipython-input-22-c4b9d4b57cdc>\u001b[0m in \u001b[0;36m<module>\u001b[0;34m()\u001b[0m\n\u001b[1;32m      6\u001b[0m         \u001b[0mscheduler\u001b[0m\u001b[0;34m.\u001b[0m\u001b[0mstep\u001b[0m\u001b[0;34m(\u001b[0m\u001b[0;34m)\u001b[0m\u001b[0;34m\u001b[0m\u001b[0m\n\u001b[1;32m      7\u001b[0m \u001b[0;34m\u001b[0m\u001b[0m\n\u001b[0;32m----> 8\u001b[0;31m         \u001b[0mtrain_loss\u001b[0m \u001b[0;34m=\u001b[0m \u001b[0mtrain\u001b[0m\u001b[0;34m(\u001b[0m\u001b[0mepoch\u001b[0m\u001b[0;34m,\u001b[0m \u001b[0mmodel\u001b[0m\u001b[0;34m,\u001b[0m \u001b[0moptimizer\u001b[0m\u001b[0;34m)\u001b[0m\u001b[0;34m\u001b[0m\u001b[0m\n\u001b[0m\u001b[1;32m      9\u001b[0m         \u001b[0mend_train\u001b[0m \u001b[0;34m=\u001b[0m \u001b[0mtime\u001b[0m\u001b[0;34m.\u001b[0m\u001b[0mtime\u001b[0m\u001b[0;34m(\u001b[0m\u001b[0;34m)\u001b[0m\u001b[0;34m\u001b[0m\u001b[0m\n\u001b[1;32m     10\u001b[0m         \u001b[0mval_score\u001b[0m \u001b[0;34m=\u001b[0m \u001b[0mval\u001b[0m\u001b[0;34m(\u001b[0m\u001b[0mmodel\u001b[0m\u001b[0;34m,\u001b[0m \u001b[0minput_val\u001b[0m\u001b[0;34m,\u001b[0m \u001b[0mpad_index_val\u001b[0m\u001b[0;34m)\u001b[0m\u001b[0;34m\u001b[0m\u001b[0m\n",
      "\u001b[0;32m<ipython-input-21-8b04761dec3f>\u001b[0m in \u001b[0;36mtrain\u001b[0;34m(epoch, model, optimizer)\u001b[0m\n\u001b[1;32m     17\u001b[0m         \u001b[0mloss\u001b[0m \u001b[0;34m=\u001b[0m \u001b[0mloss_function\u001b[0m\u001b[0;34m(\u001b[0m\u001b[0mrecon_data\u001b[0m\u001b[0;34m,\u001b[0m \u001b[0mbatch_data\u001b[0m\u001b[0;34m,\u001b[0m \u001b[0mbatch_index\u001b[0m\u001b[0;34m)\u001b[0m\u001b[0;34m\u001b[0m\u001b[0m\n\u001b[1;32m     18\u001b[0m \u001b[0;34m\u001b[0m\u001b[0m\n\u001b[0;32m---> 19\u001b[0;31m         \u001b[0mloss\u001b[0m\u001b[0;34m.\u001b[0m\u001b[0mbackward\u001b[0m\u001b[0;34m(\u001b[0m\u001b[0;34m)\u001b[0m\u001b[0;34m\u001b[0m\u001b[0m\n\u001b[0m\u001b[1;32m     20\u001b[0m         \u001b[0mtrain_loss\u001b[0m \u001b[0;34m+=\u001b[0m \u001b[0mloss\u001b[0m\u001b[0;34m.\u001b[0m\u001b[0mdata\u001b[0m\u001b[0;34m[\u001b[0m\u001b[0;36m0\u001b[0m\u001b[0;34m]\u001b[0m\u001b[0;34m\u001b[0m\u001b[0m\n\u001b[1;32m     21\u001b[0m         \u001b[0moptimizer\u001b[0m\u001b[0;34m.\u001b[0m\u001b[0mstep\u001b[0m\u001b[0;34m(\u001b[0m\u001b[0;34m)\u001b[0m\u001b[0;34m\u001b[0m\u001b[0m\n",
      "\u001b[0;32m~/miniconda2/envs/pydata/lib/python3.5/site-packages/torch/autograd/variable.py\u001b[0m in \u001b[0;36mbackward\u001b[0;34m(self, gradient, retain_graph, create_graph, retain_variables)\u001b[0m\n\u001b[1;32m    154\u001b[0m                 \u001b[0mVariable\u001b[0m\u001b[0;34m.\u001b[0m\u001b[0;34m\u001b[0m\u001b[0m\n\u001b[1;32m    155\u001b[0m         \"\"\"\n\u001b[0;32m--> 156\u001b[0;31m         \u001b[0mtorch\u001b[0m\u001b[0;34m.\u001b[0m\u001b[0mautograd\u001b[0m\u001b[0;34m.\u001b[0m\u001b[0mbackward\u001b[0m\u001b[0;34m(\u001b[0m\u001b[0mself\u001b[0m\u001b[0;34m,\u001b[0m \u001b[0mgradient\u001b[0m\u001b[0;34m,\u001b[0m \u001b[0mretain_graph\u001b[0m\u001b[0;34m,\u001b[0m \u001b[0mcreate_graph\u001b[0m\u001b[0;34m,\u001b[0m \u001b[0mretain_variables\u001b[0m\u001b[0;34m)\u001b[0m\u001b[0;34m\u001b[0m\u001b[0m\n\u001b[0m\u001b[1;32m    157\u001b[0m \u001b[0;34m\u001b[0m\u001b[0m\n\u001b[1;32m    158\u001b[0m     \u001b[0;32mdef\u001b[0m \u001b[0mregister_hook\u001b[0m\u001b[0;34m(\u001b[0m\u001b[0mself\u001b[0m\u001b[0;34m,\u001b[0m \u001b[0mhook\u001b[0m\u001b[0;34m)\u001b[0m\u001b[0;34m:\u001b[0m\u001b[0;34m\u001b[0m\u001b[0m\n",
      "\u001b[0;32m~/miniconda2/envs/pydata/lib/python3.5/site-packages/torch/autograd/__init__.py\u001b[0m in \u001b[0;36mbackward\u001b[0;34m(variables, grad_variables, retain_graph, create_graph, retain_variables)\u001b[0m\n\u001b[1;32m     96\u001b[0m \u001b[0;34m\u001b[0m\u001b[0m\n\u001b[1;32m     97\u001b[0m     Variable._execution_engine.run_backward(\n\u001b[0;32m---> 98\u001b[0;31m         variables, grad_variables, retain_graph)\n\u001b[0m\u001b[1;32m     99\u001b[0m \u001b[0;34m\u001b[0m\u001b[0m\n\u001b[1;32m    100\u001b[0m \u001b[0;34m\u001b[0m\u001b[0m\n",
      "\u001b[0;31mKeyboardInterrupt\u001b[0m: "
     ]
    }
   ],
   "source": [
    "if args.train:\n",
    "    for epoch in range(1, args.epochs + 1):\n",
    "        init = time.time()\n",
    "        \n",
    "        #method 1 scheduler\n",
    "        scheduler.step()\n",
    "        \n",
    "        train_loss = train(epoch, model, optimizer)\n",
    "        end_train = time.time()\n",
    "        val_score = val(model, input_val, pad_index_val)\n",
    "        \n",
    "        '''\n",
    "        # To save model\n",
    "        if epoch == 1:\n",
    "            current_best = val_score\n",
    "            save_model(model, epoch, val_score)\n",
    "        \n",
    "        else:\n",
    "            if val_score < current_best:\n",
    "                current_best = val_score\n",
    "                save_model(model, epoch, val_score)\n",
    "        '''\n",
    "        \n",
    "        end = time.time()\n",
    "        print('====> Epoch {} | Train time: {:.4f} ms| End time: {:.4f} ms | Train loss: {:.4f} | Val loss: {:.4f}'.\n",
    "              format(epoch, (end_train-init)*1000, (end-init)*1000, train_loss, val_score))\n",
    "else:\n",
    "    load_model(model, args.model_name)"
   ]
  },
  {
   "cell_type": "markdown",
   "metadata": {},
   "source": [
    "# Predict"
   ]
  },
  {
   "cell_type": "code",
   "execution_count": null,
   "metadata": {},
   "outputs": [],
   "source": [
    "if args.test:\n",
    "    input_test = Variable(torch.Tensor(input_test).float())\n",
    "    if args.cuda:\n",
    "        input_test = input_test.cuda()\n",
    "    \n",
    "    print('Predicting...')\n",
    "    recon_test = model(input_test)\n",
    "    \n",
    "    print('Separating prediction ...')\n",
    "    predicted_time, predicted_activity = getPrediction(recon_test, pad_index_test)\n",
    "    \n",
    "    print('Done!')"
   ]
  },
  {
   "cell_type": "markdown",
   "metadata": {},
   "source": [
    "# Evaluate"
   ]
  },
  {
   "cell_type": "markdown",
   "metadata": {},
   "source": [
    "## Time"
   ]
  },
  {
   "cell_type": "code",
   "execution_count": null,
   "metadata": {},
   "outputs": [],
   "source": [
    "#Fix predicted time\n",
    "time_df = pd.DataFrame({'CaseID': caseid_test,\n",
    "                        'PredictedTime': predicted_time})\n",
    "\n",
    "groupByCase = time_df.groupby(['CaseID'])\n",
    "fixed_time_df = pd.DataFrame(columns=list(time_df))\n",
    "\n",
    "for case, group in groupByCase:\n",
    "    group.iloc[0, 1] = -mean_value/std_value\n",
    "    fixed_time_df = fixed_time_df.append(group)"
   ]
  },
  {
   "cell_type": "code",
   "execution_count": null,
   "metadata": {
    "collapsed": true
   },
   "outputs": [],
   "source": [
    "fixed_predicted_time = fixed_time_df['PredictedTime']"
   ]
  },
  {
   "cell_type": "code",
   "execution_count": null,
   "metadata": {
    "collapsed": true
   },
   "outputs": [],
   "source": [
    "error = np.abs(true_time - fixed_predicted_time)\n",
    "error_time_df = pd.DataFrame({'Error': error,\n",
    "                              'TimeLabel': time_label_test})"
   ]
  },
  {
   "cell_type": "code",
   "execution_count": null,
   "metadata": {},
   "outputs": [],
   "source": [
    "precision, recall, th = precision_recall_curve(error_time_df.TimeLabel, error_time_df.Error, pos_label=1)\n",
    "plt.figure(figsize=(20, 5))\n",
    "plt.plot(recall, precision, 'b', label='Precision-Recall curve')\n",
    "plt.title('Recall vs Precision')\n",
    "plt.xlabel('Recall')\n",
    "plt.ylabel('Precision')\n",
    "plt.show()"
   ]
  },
  {
   "cell_type": "code",
   "execution_count": null,
   "metadata": {},
   "outputs": [],
   "source": [
    "time_threshold = np.mean(error_time_df['Error'])\n",
    "print('Threshold of Time: {}'.format(time_threshold))"
   ]
  },
  {
   "cell_type": "code",
   "execution_count": null,
   "metadata": {},
   "outputs": [],
   "source": [
    "plotOverlapReconstructionError(error_time_df, variable='Time', output_dir=args.output_dir, save=True)"
   ]
  },
  {
   "cell_type": "code",
   "execution_count": null,
   "metadata": {},
   "outputs": [],
   "source": [
    "plotReconstructionError(error_time_df, variable='Time')"
   ]
  },
  {
   "cell_type": "code",
   "execution_count": null,
   "metadata": {},
   "outputs": [],
   "source": [
    "plotConfusionMaxtrix(error_time_df, threshold=time_threshold, variable='Time', output_dir=args.output_dir, save=True)"
   ]
  },
  {
   "cell_type": "code",
   "execution_count": null,
   "metadata": {},
   "outputs": [],
   "source": [
    "evalScore(error_time_df, threshold=time_threshold, variable='Time')"
   ]
  },
  {
   "cell_type": "code",
   "execution_count": null,
   "metadata": {},
   "outputs": [],
   "source": [
    "fpr, tpr, thresholds = roc_curve(error_time_df.TimeLabel, error_time_df.Error, pos_label=1)\n",
    "roc_auc = auc(fpr, tpr)\n",
    "\n",
    "plt.title('Receiver Operating Characteristic')\n",
    "plt.plot(fpr, tpr, label='AUC = %0.4f'% roc_auc)\n",
    "plt.legend(loc='lower right')\n",
    "plt.plot([0,1],[0,1],'r--')\n",
    "plt.xlim([-0.001, 1])\n",
    "plt.ylim([0, 1.001])\n",
    "plt.ylabel('True Positive Rate')\n",
    "plt.xlabel('False Positive Rate')\n",
    "plt.savefig(args.output_dir + 'ROC_time.png')\n",
    "plt.show();"
   ]
  },
  {
   "cell_type": "code",
   "execution_count": null,
   "metadata": {
    "collapsed": true
   },
   "outputs": [],
   "source": [
    "#get submission\n",
    "if args.scaler == 'standardization':\n",
    "    inverse_scaled_time = [x*std_value+mean_value for x in fixed_predicted_time]\n",
    "else:\n",
    "    inverse_scaled_time = [x*(max_value-min_value)+min_value for x in fixed_predicted_time]\n",
    "    \n",
    "predicted_time_label_test = [1 if e > time_threshold else 0 for e in error_time_df.Error.values]\n",
    "\n",
    "submission_time = pd.DataFrame({'AnomalousDuration': anomalous_df_test['AnomalousDuration'].copy(),\n",
    "                                'Activity': normal_df_test['Activity'].copy(),\n",
    "                                'AnomalousCumDuration': anomalous_df_test['AnomalousCumDuration'].copy(),\n",
    "                                'PredictedCumDuration': inverse_scaled_time,\n",
    "                                'TimeLabel': time_label_test,\n",
    "                                'PredictedTimeLabel': predicted_time_label_test})"
   ]
  },
  {
   "cell_type": "code",
   "execution_count": null,
   "metadata": {},
   "outputs": [],
   "source": [
    "submission_time.head()"
   ]
  },
  {
   "cell_type": "code",
   "execution_count": null,
   "metadata": {},
   "outputs": [],
   "source": [
    "groupByActivity = submission_time.groupby(['Activity'])\n",
    "\n",
    "for act, group in groupByActivity:\n",
    "    plotDurationofPredictedTimeLabel(act, group, statistics_storage, args.output_dir, True)"
   ]
  },
  {
   "cell_type": "code",
   "execution_count": null,
   "metadata": {},
   "outputs": [],
   "source": [
    "submission_time.head()"
   ]
  },
  {
   "cell_type": "code",
   "execution_count": null,
   "metadata": {},
   "outputs": [],
   "source": [
    "act_list = [i for i in submission_time['Activity'].unique()]\n",
    "false_positive_df = submission_time[(submission_time['PredictedTimeLabel']== 1)&(submission_time['TimeLabel']== 0)]\n",
    "false_negative_df = submission_time[(submission_time['PredictedTimeLabel']== 0)&(submission_time['TimeLabel']== 1)]\n",
    "\n",
    "for act in act_list:\n",
    "    plotFalseDuration(false_positive_df, false_negative_df, act, statistics_storage)"
   ]
  },
  {
   "cell_type": "markdown",
   "metadata": {},
   "source": [
    "## Activity"
   ]
  },
  {
   "cell_type": "markdown",
   "metadata": {},
   "source": [
    "### Threshold"
   ]
  },
  {
   "cell_type": "code",
   "execution_count": null,
   "metadata": {
    "collapsed": true
   },
   "outputs": [],
   "source": [
    "# error = np.mean(np.power(true_act - predicted_activity, 2), axis = 1)\n",
    "error = np.mean(np.abs(true_act - predicted_activity), axis = 1)\n",
    "error_activity_df = pd.DataFrame({'Error': error,\n",
    "                                  'ActivityLabel': activity_label_test})"
   ]
  },
  {
   "cell_type": "code",
   "execution_count": null,
   "metadata": {},
   "outputs": [],
   "source": [
    "error_activity_df.head()"
   ]
  },
  {
   "cell_type": "code",
   "execution_count": null,
   "metadata": {},
   "outputs": [],
   "source": [
    "precision, recall, th = precision_recall_curve(error_activity_df.ActivityLabel, error_activity_df.Error, pos_label=1)\n",
    "plt.figure(figsize=(20, 5))\n",
    "plt.plot(recall, precision, 'b', label='Precision-Recall curve')\n",
    "plt.title('Recall vs Precision')\n",
    "plt.xlabel('Recall')\n",
    "plt.ylabel('Precision')\n",
    "plt.show()"
   ]
  },
  {
   "cell_type": "code",
   "execution_count": null,
   "metadata": {},
   "outputs": [],
   "source": [
    "activity_threshold = np.mean(error_activity_df['Error'])\n",
    "print('Threshold of Activity: {}'.format(activity_threshold))"
   ]
  },
  {
   "cell_type": "code",
   "execution_count": null,
   "metadata": {},
   "outputs": [],
   "source": [
    "plotConfusionMaxtrix(error_activity_df, activity_threshold, variable='Activity', output_dir=args.output_dir, save=True)"
   ]
  },
  {
   "cell_type": "code",
   "execution_count": null,
   "metadata": {},
   "outputs": [],
   "source": [
    "plotOverlapReconstructionError(error_activity_df, variable='Activity', output_dir=args.output_dir, save=True)"
   ]
  },
  {
   "cell_type": "code",
   "execution_count": null,
   "metadata": {},
   "outputs": [],
   "source": [
    "plotReconstructionError(error_activity_df)"
   ]
  },
  {
   "cell_type": "code",
   "execution_count": null,
   "metadata": {},
   "outputs": [],
   "source": [
    "evalScore(error_activity_df, 0.131, variable='Activity')"
   ]
  },
  {
   "cell_type": "code",
   "execution_count": null,
   "metadata": {},
   "outputs": [],
   "source": [
    "fpr, tpr, thresholds = roc_curve(error_activity_df.ActivityLabel, error_activity_df.Error, pos_label=1)\n",
    "roc_auc = auc(fpr, tpr)\n",
    "\n",
    "plt.title('Receiver Operating Characteristic')\n",
    "plt.plot(fpr, tpr, label='AUC = %0.4f'% roc_auc)\n",
    "plt.legend(loc='lower right')\n",
    "plt.plot([0,1],[0,1],'r--')\n",
    "plt.xlim([-0.001, 1])\n",
    "plt.ylim([0, 1.001])\n",
    "plt.ylabel('True Positive Rate')\n",
    "plt.xlabel('False Positive Rate')\n",
    "plt.savefig(args.output_dir+'ROC_Act.png')\n",
    "plt.show();"
   ]
  },
  {
   "cell_type": "markdown",
   "metadata": {},
   "source": [
    "### Argmax"
   ]
  },
  {
   "cell_type": "code",
   "execution_count": null,
   "metadata": {
    "collapsed": true
   },
   "outputs": [],
   "source": [
    "# evaluate based on classification\n",
    "predicted_act_df = pd.DataFrame(data=predicted_activity, columns=list(true_act))\n",
    "predicted_act_label = predicted_act_df.idxmax(axis=1)\n",
    "true_act_label = true_act.idxmax(axis=1)\n",
    "predicted_time_label = [0 if a==b else 1 for a, b in zip(true_act_label,predicted_act_label)]"
   ]
  },
  {
   "cell_type": "code",
   "execution_count": null,
   "metadata": {},
   "outputs": [],
   "source": [
    "#plot confusion matrix\n",
    "LABELS = ['Normal', 'Anomaly']\n",
    "matrix = confusion_matrix(error_activity_df.ActivityLabel.astype('uint8'), predicted_time_label)\n",
    "plt.figure(figsize=(7, 7))\n",
    "sns.heatmap(matrix, xticklabels=LABELS, yticklabels=LABELS, annot=True, fmt=\"d\");\n",
    "plt.title('Confusion matrix of Activity')\n",
    "plt.ylabel('True class')\n",
    "plt.xlabel('Predicted class')\n",
    "plt.show()"
   ]
  },
  {
   "cell_type": "code",
   "execution_count": null,
   "metadata": {},
   "outputs": [],
   "source": [
    "score = precision_recall_fscore_support(error_activity_df.ActivityLabel.astype('uint8'), predicted_time_label, average='weighted')\n",
    "    \n",
    "print('-------Evaluation of Activity-------')\n",
    "print('\\n')\n",
    "print('--Weighted Evaluation--')\n",
    "print('Evaluation')\n",
    "print('Precision: {:.2f}'.format(score[0]))\n",
    "print('Recall: {:.2f}'.format(score[1]))\n",
    "print('Fscore: {:.2f}'.format(score[2]))\n",
    "print('\\n')\n",
    "score_1 = precision_recall_fscore_support(error_activity_df.ActivityLabel.astype('uint8'), predicted_time_label)\n",
    "print('--Evaluation for each class--')\n",
    "print('Normal')\n",
    "print('Precision: {:.2f}'.format(score_1[0][0]))\n",
    "print('Recall: {:.2f}'.format(score_1[1][0]))\n",
    "print('Fscore: {:.2f}'.format(score_1[2][0]))\n",
    "print('\\n')\n",
    "print('Anomaly')\n",
    "print('Precision: {:.2f}'.format(score_1[0][1]))\n",
    "print('Recall: {:.2f}'.format(score_1[1][1]))\n",
    "print('Fscore: {:.2f}'.format(score_1[2][1]))"
   ]
  },
  {
   "cell_type": "code",
   "execution_count": null,
   "metadata": {},
   "outputs": [],
   "source": [
    "from sklearn.metrics import accuracy_score\n",
    "accuracy_score(true_act_label, predicted_act_label)"
   ]
  }
 ],
 "metadata": {
  "kernelspec": {
   "display_name": "Python 3",
   "language": "python",
   "name": "python3"
  },
  "language_info": {
   "codemirror_mode": {
    "name": "ipython",
    "version": 3
   },
   "file_extension": ".py",
   "mimetype": "text/x-python",
   "name": "python",
   "nbconvert_exporter": "python",
   "pygments_lexer": "ipython3",
   "version": "3.5.4"
  },
  "toc": {
   "colors": {
    "hover_highlight": "#DAA520",
    "running_highlight": "#FF0000",
    "selected_highlight": "#FFD700"
   },
   "moveMenuLeft": true,
   "nav_menu": {
    "height": "12px",
    "width": "252px"
   },
   "navigate_menu": true,
   "number_sections": true,
   "sideBar": true,
   "threshold": 4,
   "toc_cell": false,
   "toc_section_display": "block",
   "toc_window_display": false
  }
 },
 "nbformat": 4,
 "nbformat_minor": 2
}
