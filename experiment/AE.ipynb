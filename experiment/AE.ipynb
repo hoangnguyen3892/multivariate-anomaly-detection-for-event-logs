{
 "cells": [
  {
   "cell_type": "code",
   "execution_count": 1,
   "metadata": {
    "collapsed": true
   },
   "outputs": [],
   "source": [
    "import importlib\n",
    "import argparse\n",
    "import os, sys\n",
    "import argparse\n",
    "import pandas as pd\n",
    "import numpy as np\n",
    "import pickle\n",
    "import time"
   ]
  },
  {
   "cell_type": "code",
   "execution_count": 2,
   "metadata": {
    "collapsed": true
   },
   "outputs": [],
   "source": [
    "import torch\n",
    "import torch.utils.data\n",
    "import torch.nn.functional as F\n",
    "import torch.nn as nn\n",
    "import torch.optim as optim\n",
    "import torch.optim.lr_scheduler\n",
    "from torch.autograd import Variable\n",
    "from torchvision import transforms"
   ]
  },
  {
   "cell_type": "code",
   "execution_count": 31,
   "metadata": {
    "collapsed": true
   },
   "outputs": [],
   "source": [
    "import matplotlib.pyplot as plt\n",
    "import seaborn as sns\n",
    "from sklearn.metrics import confusion_matrix, precision_recall_fscore_support\n",
    "\n",
    "\n",
    "%matplotlib inline"
   ]
  },
  {
   "cell_type": "code",
   "execution_count": 4,
   "metadata": {
    "collapsed": true
   },
   "outputs": [],
   "source": [
    "sys.path.insert(0, './../utils/')\n",
    "from utils import *\n",
    "from models import *"
   ]
  },
  {
   "cell_type": "code",
   "execution_count": 5,
   "metadata": {
    "collapsed": true
   },
   "outputs": [],
   "source": [
    "#Define parser\n",
    "#name = 'bpi_2012'\n",
    "name = 'bpi_2013'\n",
    "#name = 'Road_Traffic_Fine_Management_Process'  \n",
    "\n",
    "parser = {\n",
    "    'train': True,\n",
    "    'test': True,\n",
    "    'model_class': 'AE',\n",
    "    'model_name': '',\n",
    "    'data_dir': '../data/',\n",
    "    'data_file': name + '.csv',\n",
    "    'anomaly_pct': 0.1,\n",
    "    'input_dir': '../input/{}/'.format(name), \n",
    "    'output_dir': './output/{}/'.format(name),\n",
    "    'batch_size' : 16,\n",
    "    'epochs' : 10,\n",
    "    'no_cuda' : False,\n",
    "    'seed' : 7,\n",
    "    'layer1': 1000,\n",
    "    'layer2': 100,\n",
    "    'lr': 0.002,\n",
    "    'betas': (0.9, 0.999),   \n",
    "    'lr_decay': 0.90,\n",
    "}\n",
    "\n",
    "args = argparse.Namespace(**parser)"
   ]
  },
  {
   "cell_type": "code",
   "execution_count": 6,
   "metadata": {
    "collapsed": true
   },
   "outputs": [],
   "source": [
    "if not os.path.isdir(args.output_dir):\n",
    "    os.makedirs(args.output_dir)"
   ]
  },
  {
   "cell_type": "code",
   "execution_count": 7,
   "metadata": {
    "collapsed": true
   },
   "outputs": [],
   "source": [
    "args.cuda = not args.no_cuda and torch.cuda.is_available()\n",
    "kwargs = {'num_workers': 2, 'pin_memory': True} if args.cuda else {}"
   ]
  },
  {
   "cell_type": "code",
   "execution_count": 8,
   "metadata": {
    "collapsed": true
   },
   "outputs": [],
   "source": [
    "torch.manual_seed(args.seed)\n",
    "if args.cuda:\n",
    "    torch.cuda.manual_seed(args.seed)"
   ]
  },
  {
   "cell_type": "code",
   "execution_count": 9,
   "metadata": {
    "collapsed": true
   },
   "outputs": [],
   "source": [
    "preprocessed_data_name = os.path.join(args.input_dir, 'preprocessed_data_{}.pkl'.format(args.anomaly_pct))\n",
    "with open(preprocessed_data_name, 'rb') as f:\n",
    "    input_train = pickle.load(f)\n",
    "    input_val = pickle.load(f)\n",
    "    input_test = pickle.load(f)\n",
    "    pad_index_train = pickle.load(f)\n",
    "    pad_index_val = pickle.load(f)\n",
    "    pad_index_test = pickle.load(f)\n",
    "    activity_label_val = pickle.load(f)\n",
    "    activity_label_test = pickle.load(f)\n",
    "    time_label_val = pickle.load(f)\n",
    "    time_label_test = pickle.load(f)\n",
    "    train_case_num = pickle.load(f)\n",
    "    val_case_num = pickle.load(f)\n",
    "    test_case_num = pickle.load(f)\n",
    "    train_row_num = pickle.load(f)\n",
    "    val_row_num = pickle.load(f)\n",
    "    test_row_num = pickle.load(f)\n",
    "    min_value = pickle.load(f)\n",
    "    max_value = pickle.load(f)\n",
    "    cols = pickle.load(f)"
   ]
  },
  {
   "cell_type": "markdown",
   "metadata": {},
   "source": [
    "# Load data"
   ]
  },
  {
   "cell_type": "code",
   "execution_count": 10,
   "metadata": {
    "collapsed": true
   },
   "outputs": [],
   "source": [
    "#train\n",
    "input_trainLoader = torch.utils.data.DataLoader(input_train, batch_size=args.batch_size, shuffle=False, num_workers=2)\n",
    "pad_index_trainLoader = torch.utils.data.DataLoader(pad_index_train, batch_size=args.batch_size, shuffle=False, num_workers=2)"
   ]
  },
  {
   "cell_type": "markdown",
   "metadata": {},
   "source": [
    "# Build model"
   ]
  },
  {
   "cell_type": "markdown",
   "metadata": {},
   "source": [
    "## Define model"
   ]
  },
  {
   "cell_type": "code",
   "execution_count": 11,
   "metadata": {
    "collapsed": false
   },
   "outputs": [],
   "source": [
    "if args.model_class == 'AE':\n",
    "    model = AE(input_train.shape, args.layer1, args.layer2)\n",
    "\n",
    "if args.cuda:\n",
    "    model.cuda()"
   ]
  },
  {
   "cell_type": "markdown",
   "metadata": {},
   "source": [
    "## Define loss"
   ]
  },
  {
   "cell_type": "code",
   "execution_count": 12,
   "metadata": {
    "collapsed": true
   },
   "outputs": [],
   "source": [
    "def loss_function(recon_x, x, pad_index):\n",
    "    #MSE = F.mse_loss(recon_x, x, weight=pad_index, size_average=False) \n",
    "    BCE = F.binary_cross_entropy(recon_x, x, weight=pad_index, size_average=False)\n",
    "    return BCE"
   ]
  },
  {
   "cell_type": "markdown",
   "metadata": {},
   "source": [
    "## Define optimizer"
   ]
  },
  {
   "cell_type": "code",
   "execution_count": 13,
   "metadata": {
    "collapsed": true
   },
   "outputs": [],
   "source": [
    "optimizer = optim.Adam(model.parameters(), lr=args.lr, betas=args.betas)"
   ]
  },
  {
   "cell_type": "code",
   "execution_count": 14,
   "metadata": {
    "collapsed": true
   },
   "outputs": [],
   "source": [
    "#Adjust learning rate per epoch: http://pytorch.org/docs/master/optim.html?highlight=adam#torch.optim.Adam\n",
    "\n",
    "# Method 1:\n",
    "lambda1 = lambda epoch: args.lr_decay ** epoch\n",
    "scheduler = torch.optim.lr_scheduler.LambdaLR(optimizer, lr_lambda=[lambda1])\n",
    "\n",
    "# Method 2:\n",
    "#scheduler = torch.optim.lr_scheduler.ReduceLROnPlateau(optimizer, 'min', patience=10)"
   ]
  },
  {
   "cell_type": "markdown",
   "metadata": {},
   "source": [
    "# Utils"
   ]
  },
  {
   "cell_type": "code",
   "execution_count": 15,
   "metadata": {
    "collapsed": true
   },
   "outputs": [],
   "source": [
    "def save_model(model, epoch, score):\n",
    "    model_file = os.path.join(args.output_dir, 'model_{}_epoch{}_score{:.4f}.pth'.format(args.model_class, epoch, score))\n",
    "    torch.save(model.state_dict(), model_file)"
   ]
  },
  {
   "cell_type": "code",
   "execution_count": 16,
   "metadata": {
    "collapsed": true
   },
   "outputs": [],
   "source": [
    "def load_model(model, model_name):\n",
    "    model_file = os.path.join(args.output_dir, model_name)\n",
    "    assert os.path.isfile(model_file), 'Error: no model found!'\n",
    "    model_state = torch.load(model_file)\n",
    "    model.load_state_dict(model_state)"
   ]
  },
  {
   "cell_type": "code",
   "execution_count": 17,
   "metadata": {
    "collapsed": false
   },
   "outputs": [],
   "source": [
    "def val(model, input_val, pad_index_val):\n",
    "    model.eval()\n",
    "    input_val = Variable(torch.Tensor(input_val).float())\n",
    "    pad_index_val = Variable(torch.Tensor(pad_index_val).float())\n",
    "    \n",
    "    if args.cuda:\n",
    "        input_val = input_val.cuda()\n",
    "        pad_index_val = pad_index_val.cuda()\n",
    "    \n",
    "    recon_val = model(input_val)    \n",
    "    loss = loss_function(recon_val, input_val, pad_index_val)\n",
    "    return loss.data[0]/len(input_test.data)"
   ]
  },
  {
   "cell_type": "markdown",
   "metadata": {},
   "source": [
    "# Train"
   ]
  },
  {
   "cell_type": "code",
   "execution_count": 18,
   "metadata": {
    "collapsed": false
   },
   "outputs": [],
   "source": [
    "def train(epoch, model, optimizer):\n",
    "    model.train()\n",
    "    train_loss = 0\n",
    "    for batch_idx, (batch_data, batch_index) in enumerate(zip(input_trainLoader, pad_index_trainLoader)):\n",
    "        \n",
    "        batch_data = Variable(batch_data.float())\n",
    "        batch_index = Variable(batch_index.float())\n",
    "\n",
    "        if args.cuda:\n",
    "            batch_data = batch_data.cuda()\n",
    "            batch_index = batch_index.cuda()\n",
    "            \n",
    "        optimizer.zero_grad()\n",
    "        \n",
    "        recon_data = model(batch_data)\n",
    "        \n",
    "        loss = loss_function(recon_data, batch_data, batch_index)\n",
    "        \n",
    "        loss.backward()\n",
    "        train_loss += loss.data[0]\n",
    "        optimizer.step()\n",
    "        \n",
    "    return train_loss / len(input_trainLoader.dataset)"
   ]
  },
  {
   "cell_type": "code",
   "execution_count": 19,
   "metadata": {
    "collapsed": false
   },
   "outputs": [
    {
     "name": "stdout",
     "output_type": "stream",
     "text": [
      "====> Epoch 1 | Time: 907.149076461792 ms| Train loss: 7.7299 | Val loss: 2.9808\n",
      "====> Epoch 2 | Time: 773.7109661102295 ms| Train loss: 4.2419 | Val loss: 1.9611\n",
      "====> Epoch 3 | Time: 746.0410594940186 ms| Train loss: 2.8432 | Val loss: 1.5334\n",
      "====> Epoch 4 | Time: 760.7429027557373 ms| Train loss: 2.0686 | Val loss: 1.3438\n",
      "====> Epoch 5 | Time: 913.7730598449707 ms| Train loss: 1.5954 | Val loss: 1.1970\n",
      "====> Epoch 6 | Time: 886.7671489715576 ms| Train loss: 1.2595 | Val loss: 1.1010\n",
      "====> Epoch 7 | Time: 840.479850769043 ms| Train loss: 1.0392 | Val loss: 1.0604\n",
      "====> Epoch 8 | Time: 784.4460010528564 ms| Train loss: 0.9006 | Val loss: 1.0703\n",
      "====> Epoch 9 | Time: 770.4410552978516 ms| Train loss: 0.8098 | Val loss: 1.0660\n",
      "====> Epoch 10 | Time: 760.9279155731201 ms| Train loss: 0.7445 | Val loss: 1.0680\n"
     ]
    }
   ],
   "source": [
    "if args.train:\n",
    "    for epoch in range(1, args.epochs + 1):\n",
    "        init = time.time()\n",
    "        \n",
    "        #method 1 scheduler\n",
    "        scheduler.step()\n",
    "        train_loss = train(epoch, model, optimizer)\n",
    "        val_score = val(model, input_val, pad_index_val)\n",
    "        \n",
    "        #if epoch == 1:\n",
    "        #    current_best = val_score\n",
    "        #    save_model(model, epoch, val_score)\n",
    "        \n",
    "        #else:\n",
    "        #    if val_score < current_best:\n",
    "        #        current_best = val_score\n",
    "        #        save_model(model, epoch, val_score)\n",
    "        \n",
    "        #method 2 scheduler\n",
    "        #scheduler.step()\n",
    "        \n",
    "        end = time.time()\n",
    "        print('====> Epoch {} | Time: {} ms| Train loss: {:.4f} | Val loss: {:.4f}'.format(\n",
    "                          epoch, (end-init)*1000 ,train_loss, val_score))\n",
    "else:\n",
    "    load_model(model, args.model_name)"
   ]
  },
  {
   "cell_type": "markdown",
   "metadata": {},
   "source": [
    "# Predict"
   ]
  },
  {
   "cell_type": "code",
   "execution_count": 20,
   "metadata": {
    "collapsed": false
   },
   "outputs": [
    {
     "name": "stdout",
     "output_type": "stream",
     "text": [
      "Predicting...\n",
      "Separating error for time and activity...\n",
      "Done!\n"
     ]
    }
   ],
   "source": [
    "if args.test:\n",
    "    input_test = Variable(torch.Tensor(input_test).float())\n",
    "    if args.cuda:\n",
    "        input_test = input_test.cuda()\n",
    "    \n",
    "    print('Predicting...')\n",
    "    recon_test = model(input_test)\n",
    "    \n",
    "    print('Separating error for time and activity...')\n",
    "    predicted_time, predicted_activity, true_time, true_activity = getError(recon_test, input_test, pad_index_test)\n",
    "    \n",
    "    print('Done!')"
   ]
  },
  {
   "cell_type": "markdown",
   "metadata": {},
   "source": [
    "# Evaluate"
   ]
  },
  {
   "cell_type": "code",
   "execution_count": 21,
   "metadata": {
    "collapsed": true
   },
   "outputs": [],
   "source": [
    "def plotConfusionMaxtrix(error_df, threshold, variable='Activity'):\n",
    "    LABELS = ['Normal', 'Anomaly']\n",
    "    y_pred = [1 if e > threshold else 0 for e in error_df.Error.values]\n",
    "    \n",
    "    if variable == 'Activity':\n",
    "        matrix = confusion_matrix(error_df.ActivityLabel, y_pred)\n",
    "    else:\n",
    "        matrix = confusion_matrix(error_df.TimeLabel, y_pred)\n",
    "        \n",
    "    plt.figure(figsize=(7, 7))\n",
    "    sns.heatmap(matrix, xticklabels=LABELS, yticklabels=LABELS, annot=True, fmt=\"d\");\n",
    "    plt.title('Confusion matrix of {}'.format(variable))\n",
    "    plt.ylabel('True class')\n",
    "    plt.xlabel('Predicted class')\n",
    "    plt.show()"
   ]
  },
  {
   "cell_type": "code",
   "execution_count": 42,
   "metadata": {
    "collapsed": true
   },
   "outputs": [],
   "source": [
    "def eval(error_df, threshold, variable='Activity'):\n",
    "    y_pred = [1 if e > threshold else 0 for e in error_df.Error.values]\n",
    "    \n",
    "    if variable=='Activity':\n",
    "        y_true = error_df.ActivityLabel\n",
    "    else:\n",
    "        y_true = error_df.TimeLabel\n",
    "    \n",
    "    score = precision_recall_fscore_support(y_true, y_pred, average='weighted')\n",
    "        \n",
    "    print('Evaluation of {}'.format(variable))\n",
    "    print('Precision: {:.2f}'.format(score[0]))\n",
    "    print('Recall: {:.2f}'.format(score[1]))\n",
    "    print('Fscore: {:.2f}'.format(score[2]))\n",
    "    #print('Support: {:.2f}'.format(score[3]))"
   ]
  },
  {
   "cell_type": "markdown",
   "metadata": {},
   "source": [
    "## Time"
   ]
  },
  {
   "cell_type": "code",
   "execution_count": 22,
   "metadata": {
    "collapsed": false
   },
   "outputs": [
    {
     "data": {
      "text/plain": [
       "0.00012426063472154798"
      ]
     },
     "execution_count": 22,
     "metadata": {},
     "output_type": "execute_result"
    }
   ],
   "source": [
    "np.mean(np.power(true_time - predicted_time, 2))"
   ]
  },
  {
   "cell_type": "code",
   "execution_count": 23,
   "metadata": {
    "collapsed": false
   },
   "outputs": [],
   "source": [
    "error = np.abs(true_time - predicted_time)\n",
    "error_time_df = pd.DataFrame({'Error': error,\n",
    "                              'TimeLabel': time_label_test})"
   ]
  },
  {
   "cell_type": "code",
   "execution_count": 24,
   "metadata": {
    "collapsed": false
   },
   "outputs": [
    {
     "data": {
      "text/html": [
       "<div>\n",
       "<style>\n",
       "    .dataframe thead tr:only-child th {\n",
       "        text-align: right;\n",
       "    }\n",
       "\n",
       "    .dataframe thead th {\n",
       "        text-align: left;\n",
       "    }\n",
       "\n",
       "    .dataframe tbody tr th {\n",
       "        vertical-align: top;\n",
       "    }\n",
       "</style>\n",
       "<table border=\"1\" class=\"dataframe\">\n",
       "  <thead>\n",
       "    <tr style=\"text-align: right;\">\n",
       "      <th></th>\n",
       "      <th>Error</th>\n",
       "      <th>TimeLabel</th>\n",
       "    </tr>\n",
       "  </thead>\n",
       "  <tbody>\n",
       "    <tr>\n",
       "      <th>5589</th>\n",
       "      <td>0.008976</td>\n",
       "      <td>1</td>\n",
       "    </tr>\n",
       "    <tr>\n",
       "      <th>5590</th>\n",
       "      <td>0.003715</td>\n",
       "      <td>0</td>\n",
       "    </tr>\n",
       "    <tr>\n",
       "      <th>5591</th>\n",
       "      <td>0.008946</td>\n",
       "      <td>0</td>\n",
       "    </tr>\n",
       "    <tr>\n",
       "      <th>5592</th>\n",
       "      <td>0.001842</td>\n",
       "      <td>0</td>\n",
       "    </tr>\n",
       "    <tr>\n",
       "      <th>5593</th>\n",
       "      <td>0.009038</td>\n",
       "      <td>0</td>\n",
       "    </tr>\n",
       "  </tbody>\n",
       "</table>\n",
       "</div>"
      ],
      "text/plain": [
       "         Error  TimeLabel\n",
       "5589  0.008976          1\n",
       "5590  0.003715          0\n",
       "5591  0.008946          0\n",
       "5592  0.001842          0\n",
       "5593  0.009038          0"
      ]
     },
     "execution_count": 24,
     "metadata": {},
     "output_type": "execute_result"
    }
   ],
   "source": [
    "error_time_df.head()"
   ]
  },
  {
   "cell_type": "code",
   "execution_count": 25,
   "metadata": {
    "collapsed": false
   },
   "outputs": [
    {
     "name": "stdout",
     "output_type": "stream",
     "text": [
      "Threshold of Time: 0.00783563115883218\n"
     ]
    }
   ],
   "source": [
    "time_threshold = np.mean(error_time_df['Error'])\n",
    "print('Threshold of Time: {}'.format(time_threshold))"
   ]
  },
  {
   "cell_type": "code",
   "execution_count": 26,
   "metadata": {
    "collapsed": false
   },
   "outputs": [
    {
     "data": {
      "image/png": "[encoded data removed]",
      "text/plain": [
       "<matplotlib.figure.Figure at 0x1007b9b70>"
      ]
     },
     "metadata": {},
     "output_type": "display_data"
    }
   ],
   "source": [
    "plotConfusionMaxtrix(error_time_df, time_threshold, variable='Time')"
   ]
  },
  {
   "cell_type": "code",
   "execution_count": 43,
   "metadata": {
    "collapsed": false
   },
   "outputs": [
    {
     "name": "stdout",
     "output_type": "stream",
     "text": [
      "Evaluation of Time\n",
      "Precision: 0.91\n",
      "Recall: 0.56\n",
      "Fscore: 0.68\n"
     ]
    }
   ],
   "source": [
    "eval(error_time_df, time_threshold, variable='Time')"
   ]
  },
  {
   "cell_type": "markdown",
   "metadata": {},
   "source": [
    "## Activity"
   ]
  },
  {
   "cell_type": "code",
   "execution_count": 27,
   "metadata": {
    "collapsed": true
   },
   "outputs": [],
   "source": [
    "error = np.mean(np.power(true_activity - predicted_activity, 2), axis = 1)\n",
    "error_activity_df = pd.DataFrame({'Error': error,\n",
    "                                  'ActivityLabel': activity_label_test})"
   ]
  },
  {
   "cell_type": "code",
   "execution_count": 28,
   "metadata": {
    "collapsed": false
   },
   "outputs": [
    {
     "data": {
      "text/html": [
       "<div>\n",
       "<style>\n",
       "    .dataframe thead tr:only-child th {\n",
       "        text-align: right;\n",
       "    }\n",
       "\n",
       "    .dataframe thead th {\n",
       "        text-align: left;\n",
       "    }\n",
       "\n",
       "    .dataframe tbody tr th {\n",
       "        vertical-align: top;\n",
       "    }\n",
       "</style>\n",
       "<table border=\"1\" class=\"dataframe\">\n",
       "  <thead>\n",
       "    <tr style=\"text-align: right;\">\n",
       "      <th></th>\n",
       "      <th>ActivityLabel</th>\n",
       "      <th>Error</th>\n",
       "    </tr>\n",
       "  </thead>\n",
       "  <tbody>\n",
       "    <tr>\n",
       "      <th>5589</th>\n",
       "      <td>0</td>\n",
       "      <td>0.078941</td>\n",
       "    </tr>\n",
       "    <tr>\n",
       "      <th>5590</th>\n",
       "      <td>0</td>\n",
       "      <td>0.078940</td>\n",
       "    </tr>\n",
       "    <tr>\n",
       "      <th>5591</th>\n",
       "      <td>0</td>\n",
       "      <td>0.078941</td>\n",
       "    </tr>\n",
       "    <tr>\n",
       "      <th>5592</th>\n",
       "      <td>0</td>\n",
       "      <td>0.078940</td>\n",
       "    </tr>\n",
       "    <tr>\n",
       "      <th>5593</th>\n",
       "      <td>0</td>\n",
       "      <td>0.078941</td>\n",
       "    </tr>\n",
       "  </tbody>\n",
       "</table>\n",
       "</div>"
      ],
      "text/plain": [
       "      ActivityLabel     Error\n",
       "5589              0  0.078941\n",
       "5590              0  0.078940\n",
       "5591              0  0.078941\n",
       "5592              0  0.078940\n",
       "5593              0  0.078941"
      ]
     },
     "execution_count": 28,
     "metadata": {},
     "output_type": "execute_result"
    }
   ],
   "source": [
    "error_activity_df.head()"
   ]
  },
  {
   "cell_type": "code",
   "execution_count": 29,
   "metadata": {
    "collapsed": false
   },
   "outputs": [
    {
     "name": "stdout",
     "output_type": "stream",
     "text": [
      "Threshold of Activity: 0.08120570671622163\n"
     ]
    }
   ],
   "source": [
    "activity_threshold = np.mean(error_activity_df['Error'])\n",
    "print('Threshold of Activity: {}'.format(activity_threshold))"
   ]
  },
  {
   "cell_type": "code",
   "execution_count": 30,
   "metadata": {
    "collapsed": false
   },
   "outputs": [
    {
     "data": {
      "image/png": "[encoded data removed]",
      "text/plain": [
       "<matplotlib.figure.Figure at 0x118302ef0>"
      ]
     },
     "metadata": {},
     "output_type": "display_data"
    }
   ],
   "source": [
    "plotConfusionMaxtrix(error_activity_df, activity_threshold, variable='Activity')"
   ]
  },
  {
   "cell_type": "code",
   "execution_count": 44,
   "metadata": {
    "collapsed": false
   },
   "outputs": [
    {
     "name": "stdout",
     "output_type": "stream",
     "text": [
      "Evaluation of Activity\n",
      "Precision: 0.92\n",
      "Recall: 0.86\n",
      "Fscore: 0.89\n"
     ]
    }
   ],
   "source": [
    "eval(error_activity_df, activity_threshold, variable='Activity')"
   ]
  },
  {
   "cell_type": "code",
   "execution_count": null,
   "metadata": {
    "collapsed": true
   },
   "outputs": [],
   "source": []
  }
 ],
 "metadata": {
  "kernelspec": {
   "display_name": "Python 3",
   "language": "python",
   "name": "python3"
  },
  "language_info": {
   "codemirror_mode": {
    "name": "ipython",
    "version": 3
   },
   "file_extension": ".py",
   "mimetype": "text/x-python",
   "name": "python",
   "nbconvert_exporter": "python",
   "pygments_lexer": "ipython3",
   "version": "3.5.2"
  },
  "toc": {
   "colors": {
    "hover_highlight": "#DAA520",
    "running_highlight": "#FF0000",
    "selected_highlight": "#FFD700"
   },
   "moveMenuLeft": true,
   "nav_menu": {
    "height": "210px",
    "width": "252px"
   },
   "navigate_menu": true,
   "number_sections": true,
   "sideBar": true,
   "threshold": 4,
   "toc_cell": false,
   "toc_section_display": "block",
   "toc_window_display": false
  }
 },
 "nbformat": 4,
 "nbformat_minor": 2
}
