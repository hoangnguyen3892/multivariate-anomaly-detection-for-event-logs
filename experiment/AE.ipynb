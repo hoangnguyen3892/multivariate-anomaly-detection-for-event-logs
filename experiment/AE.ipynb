{
 "cells": [
  {
   "cell_type": "code",
   "execution_count": 1,
   "metadata": {
    "collapsed": true
   },
   "outputs": [],
   "source": [
    "import importlib\n",
    "import argparse\n",
    "import os, sys\n",
    "import argparse\n",
    "import pandas as pd\n",
    "import numpy as np\n",
    "import pickle\n",
    "import time"
   ]
  },
  {
   "cell_type": "code",
   "execution_count": 2,
   "metadata": {
    "collapsed": true
   },
   "outputs": [],
   "source": [
    "import matplotlib.pyplot as plt\n",
    "import seaborn as sns; sns.set()\n",
    "from sklearn.metrics import confusion_matrix, precision_recall_fscore_support, roc_curve, auc, precision_recall_curve\n",
    "\n",
    "\n",
    "%matplotlib inline"
   ]
  },
  {
   "cell_type": "code",
   "execution_count": 3,
   "metadata": {
    "collapsed": true
   },
   "outputs": [],
   "source": [
    "import torch\n",
    "import torch.utils.data\n",
    "import torch.nn.functional as F\n",
    "import torch.nn as nn\n",
    "import torch.optim as optim\n",
    "import torch.optim.lr_scheduler\n",
    "from torch.autograd import Variable\n",
    "from torchvision import transforms"
   ]
  },
  {
   "cell_type": "code",
   "execution_count": 4,
   "metadata": {
    "collapsed": true
   },
   "outputs": [],
   "source": [
    "sys.path.insert(0, './../utils/')\n",
    "from utils import *\n",
    "from models import *"
   ]
  },
  {
   "cell_type": "code",
   "execution_count": 5,
   "metadata": {
    "collapsed": true
   },
   "outputs": [],
   "source": [
    "#Define parser\n",
    "name = 'bpi_2012'\n",
    "#name = 'bpi_2013' \n",
    "\n",
    "parser = {\n",
    "    'train': True,\n",
    "    'test': True,\n",
    "    'model_class': 'AE',\n",
    "    'model_name': '',\n",
    "    'data_dir': '../data/',\n",
    "    'data_file': name + '.csv',\n",
    "    'anomaly_pct': 0.1,\n",
    "    'scaler': 'standardization',\n",
    "    'input_dir': '../input/{}/'.format(name), \n",
    "    'batch_size' : 16,\n",
    "    'epochs' : 100,\n",
    "    'no_cuda' : False,\n",
    "    'seed' : 7,\n",
    "    'layer1': 1000,\n",
    "    'layer2': 100,\n",
    "    'lr': 0.0005,\n",
    "    'betas': (0.9, 0.999),   \n",
    "    'lr_decay': 0.90,\n",
    "    'lr_step': 10,\n",
    "}\n",
    "\n",
    "args = argparse.Namespace(**parser)\n",
    "args.output_dir = './output/{0}_{1}_{2}/'.format(name, args.anomaly_pct, args.model_class)"
   ]
  },
  {
   "cell_type": "code",
   "execution_count": 6,
   "metadata": {
    "collapsed": true
   },
   "outputs": [],
   "source": [
    "if not os.path.isdir(args.output_dir):\n",
    "    os.makedirs(args.output_dir)"
   ]
  },
  {
   "cell_type": "code",
   "execution_count": 7,
   "metadata": {
    "collapsed": true
   },
   "outputs": [],
   "source": [
    "args.cuda = not args.no_cuda and torch.cuda.is_available()\n",
    "kwargs = {'num_workers': 2, 'pin_memory': True} if args.cuda else {}"
   ]
  },
  {
   "cell_type": "code",
   "execution_count": 8,
   "metadata": {
    "collapsed": true
   },
   "outputs": [],
   "source": [
    "torch.manual_seed(args.seed)\n",
    "if args.cuda:\n",
    "    torch.cuda.manual_seed(args.seed)"
   ]
  },
  {
   "cell_type": "code",
   "execution_count": 9,
   "metadata": {
    "collapsed": true
   },
   "outputs": [],
   "source": [
    "preprocessed_data_name = os.path.join(args.input_dir, 'preprocessed_data_{}.pkl'.format(args.anomaly_pct))\n",
    "with open(preprocessed_data_name, 'rb') as f:\n",
    "    input_train = pickle.load(f)\n",
    "    input_val = pickle.load(f)\n",
    "    input_test = pickle.load(f)\n",
    "    pad_index_train = pickle.load(f)\n",
    "    pad_index_val = pickle.load(f)\n",
    "    pad_index_test = pickle.load(f)\n",
    "    activity_label_test = pickle.load(f)\n",
    "    time_label_test = pickle.load(f)\n",
    "    train_case_num = pickle.load(f)\n",
    "    val_case_num = pickle.load(f)\n",
    "    test_case_num = pickle.load(f)\n",
    "    train_row_num = pickle.load(f)\n",
    "    val_row_num = pickle.load(f)\n",
    "    test_row_num = pickle.load(f)\n",
    "    min_value = pickle.load(f)\n",
    "    max_value = pickle.load(f)\n",
    "    mean_value = pickle.load(f)\n",
    "    std_value = pickle.load(f)\n",
    "    cols = pickle.load(f)\n",
    "    statistics_storage = pickle.load(f)\n",
    "    true_time = pickle.load(f)\n",
    "    true_act = pickle.load(f)"
   ]
  },
  {
   "cell_type": "markdown",
   "metadata": {},
   "source": [
    "# Load data"
   ]
  },
  {
   "cell_type": "code",
   "execution_count": 10,
   "metadata": {
    "collapsed": true
   },
   "outputs": [],
   "source": [
    "#train\n",
    "input_trainLoader = torch.utils.data.DataLoader(input_train, batch_size=args.batch_size, shuffle=False, num_workers=2)\n",
    "pad_index_trainLoader = torch.utils.data.DataLoader(pad_index_train, batch_size=args.batch_size, shuffle=False, num_workers=2)"
   ]
  },
  {
   "cell_type": "code",
   "execution_count": 11,
   "metadata": {
    "collapsed": true
   },
   "outputs": [],
   "source": [
    "#df\n",
    "normal_df_name = os.path.join(args.input_dir, 'normal_df_{}.csv'.format(args.anomaly_pct))\n",
    "normal_df = pd.read_csv(normal_df_name)\n",
    "\n",
    "anomalous_df_name = os.path.join(args.input_dir, 'anomolous_df_{}.csv'.format(args.anomaly_pct))\n",
    "anomalous_df = pd.read_csv(anomalous_df_name)\n",
    "\n",
    "#test\n",
    "caseid_test = normal_df['CaseID'][-test_row_num:]\n",
    "normal_df_test = normal_df[-test_row_num:]\n",
    "anomalous_df_test = anomalous_df[-test_row_num:]"
   ]
  },
  {
   "cell_type": "code",
   "execution_count": 12,
   "metadata": {
    "collapsed": false
   },
   "outputs": [
    {
     "data": {
      "text/html": [
       "<div>\n",
       "<style>\n",
       "    .dataframe thead tr:only-child th {\n",
       "        text-align: right;\n",
       "    }\n",
       "\n",
       "    .dataframe thead th {\n",
       "        text-align: left;\n",
       "    }\n",
       "\n",
       "    .dataframe tbody tr th {\n",
       "        vertical-align: top;\n",
       "    }\n",
       "</style>\n",
       "<table border=\"1\" class=\"dataframe\">\n",
       "  <thead>\n",
       "    <tr style=\"text-align: right;\">\n",
       "      <th></th>\n",
       "      <th>CaseID</th>\n",
       "      <th>Activity</th>\n",
       "      <th>CompleteTimestamp</th>\n",
       "      <th>Duration</th>\n",
       "      <th>CumDuration</th>\n",
       "    </tr>\n",
       "  </thead>\n",
       "  <tbody>\n",
       "    <tr>\n",
       "      <th>0</th>\n",
       "      <td>1</td>\n",
       "      <td>A_SUBMITTED-COMPLETE</td>\n",
       "      <td>2011-10-01 07:38:44.546</td>\n",
       "      <td>0.000</td>\n",
       "      <td>0.000</td>\n",
       "    </tr>\n",
       "    <tr>\n",
       "      <th>1</th>\n",
       "      <td>1</td>\n",
       "      <td>A_PARTLYSUBMITTED-COMPLETE</td>\n",
       "      <td>2011-10-01 07:38:44.880</td>\n",
       "      <td>0.334</td>\n",
       "      <td>0.334</td>\n",
       "    </tr>\n",
       "    <tr>\n",
       "      <th>2</th>\n",
       "      <td>1</td>\n",
       "      <td>A_PREACCEPTED-COMPLETE</td>\n",
       "      <td>2011-10-01 07:39:37.906</td>\n",
       "      <td>53.026</td>\n",
       "      <td>53.360</td>\n",
       "    </tr>\n",
       "    <tr>\n",
       "      <th>3</th>\n",
       "      <td>1</td>\n",
       "      <td>W_Completeren aanvraag-SCHEDULE</td>\n",
       "      <td>2011-10-01 07:39:38.875</td>\n",
       "      <td>0.969</td>\n",
       "      <td>54.329</td>\n",
       "    </tr>\n",
       "    <tr>\n",
       "      <th>4</th>\n",
       "      <td>1</td>\n",
       "      <td>W_Completeren aanvraag-START</td>\n",
       "      <td>2011-10-01 18:36:46.437</td>\n",
       "      <td>39427.562</td>\n",
       "      <td>39481.891</td>\n",
       "    </tr>\n",
       "  </tbody>\n",
       "</table>\n",
       "</div>"
      ],
      "text/plain": [
       "   CaseID                         Activity        CompleteTimestamp  \\\n",
       "0       1             A_SUBMITTED-COMPLETE  2011-10-01 07:38:44.546   \n",
       "1       1       A_PARTLYSUBMITTED-COMPLETE  2011-10-01 07:38:44.880   \n",
       "2       1           A_PREACCEPTED-COMPLETE  2011-10-01 07:39:37.906   \n",
       "3       1  W_Completeren aanvraag-SCHEDULE  2011-10-01 07:39:38.875   \n",
       "4       1     W_Completeren aanvraag-START  2011-10-01 18:36:46.437   \n",
       "\n",
       "    Duration  CumDuration  \n",
       "0      0.000        0.000  \n",
       "1      0.334        0.334  \n",
       "2     53.026       53.360  \n",
       "3      0.969       54.329  \n",
       "4  39427.562    39481.891  "
      ]
     },
     "execution_count": 12,
     "metadata": {},
     "output_type": "execute_result"
    }
   ],
   "source": [
    "normal_df.head()"
   ]
  },
  {
   "cell_type": "code",
   "execution_count": 13,
   "metadata": {
    "collapsed": false
   },
   "outputs": [
    {
     "data": {
      "text/html": [
       "<div>\n",
       "<style>\n",
       "    .dataframe thead tr:only-child th {\n",
       "        text-align: right;\n",
       "    }\n",
       "\n",
       "    .dataframe thead th {\n",
       "        text-align: left;\n",
       "    }\n",
       "\n",
       "    .dataframe tbody tr th {\n",
       "        vertical-align: top;\n",
       "    }\n",
       "</style>\n",
       "<table border=\"1\" class=\"dataframe\">\n",
       "  <thead>\n",
       "    <tr style=\"text-align: right;\">\n",
       "      <th></th>\n",
       "      <th>CaseID</th>\n",
       "      <th>AnomalousActivity</th>\n",
       "      <th>AnomalousCompleteTimestamp</th>\n",
       "      <th>AnomalousDuration</th>\n",
       "      <th>AnomalousCumDuration</th>\n",
       "      <th>ActivityLabel</th>\n",
       "      <th>TimeLabel</th>\n",
       "    </tr>\n",
       "  </thead>\n",
       "  <tbody>\n",
       "    <tr>\n",
       "      <th>0</th>\n",
       "      <td>1</td>\n",
       "      <td>A_SUBMITTED-COMPLETE</td>\n",
       "      <td>2011-10-01 07:38:44.546000</td>\n",
       "      <td>0.000</td>\n",
       "      <td>0.000</td>\n",
       "      <td>0</td>\n",
       "      <td>0</td>\n",
       "    </tr>\n",
       "    <tr>\n",
       "      <th>1</th>\n",
       "      <td>1</td>\n",
       "      <td>A_PARTLYSUBMITTED-COMPLETE</td>\n",
       "      <td>2011-10-01 07:38:44.880000</td>\n",
       "      <td>0.334</td>\n",
       "      <td>0.334</td>\n",
       "      <td>0</td>\n",
       "      <td>0</td>\n",
       "    </tr>\n",
       "    <tr>\n",
       "      <th>2</th>\n",
       "      <td>1</td>\n",
       "      <td>A_PREACCEPTED-COMPLETE</td>\n",
       "      <td>2011-10-01 07:39:37.906000</td>\n",
       "      <td>53.026</td>\n",
       "      <td>53.360</td>\n",
       "      <td>0</td>\n",
       "      <td>0</td>\n",
       "    </tr>\n",
       "    <tr>\n",
       "      <th>3</th>\n",
       "      <td>1</td>\n",
       "      <td>W_Completeren aanvraag-SCHEDULE</td>\n",
       "      <td>2011-10-01 07:39:38.875000</td>\n",
       "      <td>0.969</td>\n",
       "      <td>54.329</td>\n",
       "      <td>0</td>\n",
       "      <td>0</td>\n",
       "    </tr>\n",
       "    <tr>\n",
       "      <th>4</th>\n",
       "      <td>1</td>\n",
       "      <td>W_Completeren aanvraag-START</td>\n",
       "      <td>2011-10-01 18:36:46.437000</td>\n",
       "      <td>39427.562</td>\n",
       "      <td>39481.891</td>\n",
       "      <td>0</td>\n",
       "      <td>0</td>\n",
       "    </tr>\n",
       "  </tbody>\n",
       "</table>\n",
       "</div>"
      ],
      "text/plain": [
       "   CaseID                AnomalousActivity  AnomalousCompleteTimestamp  \\\n",
       "0       1             A_SUBMITTED-COMPLETE  2011-10-01 07:38:44.546000   \n",
       "1       1       A_PARTLYSUBMITTED-COMPLETE  2011-10-01 07:38:44.880000   \n",
       "2       1           A_PREACCEPTED-COMPLETE  2011-10-01 07:39:37.906000   \n",
       "3       1  W_Completeren aanvraag-SCHEDULE  2011-10-01 07:39:38.875000   \n",
       "4       1     W_Completeren aanvraag-START  2011-10-01 18:36:46.437000   \n",
       "\n",
       "   AnomalousDuration  AnomalousCumDuration  ActivityLabel  TimeLabel  \n",
       "0              0.000                 0.000              0          0  \n",
       "1              0.334                 0.334              0          0  \n",
       "2             53.026                53.360              0          0  \n",
       "3              0.969                54.329              0          0  \n",
       "4          39427.562             39481.891              0          0  "
      ]
     },
     "execution_count": 13,
     "metadata": {},
     "output_type": "execute_result"
    }
   ],
   "source": [
    "anomalous_df.head()"
   ]
  },
  {
   "cell_type": "markdown",
   "metadata": {},
   "source": [
    "# Build model"
   ]
  },
  {
   "cell_type": "markdown",
   "metadata": {},
   "source": [
    "## Define model"
   ]
  },
  {
   "cell_type": "code",
   "execution_count": 14,
   "metadata": {
    "collapsed": true
   },
   "outputs": [],
   "source": [
    "if args.model_class == 'AE':\n",
    "    model = AE(input_train.shape, args.layer1, args.layer2)\n",
    "\n",
    "if args.model_class == 'AE_tanh':\n",
    "    model = AE_tanh(input_train.shape, args.layer1, args.layer2)\n",
    "\n",
    "if args.cuda:\n",
    "    model.cuda()"
   ]
  },
  {
   "cell_type": "code",
   "execution_count": 15,
   "metadata": {
    "collapsed": false
   },
   "outputs": [
    {
     "data": {
      "text/plain": [
       "AE (\n",
       "  (fc1): Linear (6475 -> 1000)\n",
       "  (fc2): Linear (1000 -> 100)\n",
       "  (fc3): Linear (100 -> 1000)\n",
       "  (fc4): Linear (1000 -> 6475)\n",
       "  (dout): Dropout (p = 0.5)\n",
       "  (tanh): Tanh ()\n",
       ")"
      ]
     },
     "execution_count": 15,
     "metadata": {},
     "output_type": "execute_result"
    }
   ],
   "source": [
    "model"
   ]
  },
  {
   "cell_type": "markdown",
   "metadata": {},
   "source": [
    "## Define loss"
   ]
  },
  {
   "cell_type": "code",
   "execution_count": 16,
   "metadata": {
    "collapsed": true
   },
   "outputs": [],
   "source": [
    "def loss_function(recon_x, x, pad_index):\n",
    "    MSE = F.mse_loss(recon_x*pad_index, x*pad_index, size_average=False) \n",
    "    #BCE = F.binary_cross_entropy(recon_x, x, weight=pad_index, size_average=False)\n",
    "    return MSE"
   ]
  },
  {
   "cell_type": "markdown",
   "metadata": {},
   "source": [
    "## Define optimizer"
   ]
  },
  {
   "cell_type": "code",
   "execution_count": 17,
   "metadata": {
    "collapsed": true
   },
   "outputs": [],
   "source": [
    "optimizer = optim.Adam(model.parameters(), lr=args.lr, betas=args.betas)"
   ]
  },
  {
   "cell_type": "code",
   "execution_count": 18,
   "metadata": {
    "collapsed": true
   },
   "outputs": [],
   "source": [
    "#Adjust learning rate per epoch: http://pytorch.org/docs/master/optim.html?highlight=adam#how-to-adjust-learning-rate\n",
    "\n",
    "# Method 1:\n",
    "\n",
    "#lambda1 = lambda epoch: epoch // args.lr_step\n",
    "lambda1 = lambda epoch: args.lr_decay ** epoch\n",
    "scheduler = torch.optim.lr_scheduler.LambdaLR(optimizer, lr_lambda=[lambda1])\n",
    "\n",
    "# Method 2:\n",
    "#scheduler = torch.optim.lr_scheduler.ReduceLROnPlateau(optimizer, 'min', patience=10)"
   ]
  },
  {
   "cell_type": "markdown",
   "metadata": {},
   "source": [
    "# Utils"
   ]
  },
  {
   "cell_type": "code",
   "execution_count": 19,
   "metadata": {
    "collapsed": true
   },
   "outputs": [],
   "source": [
    "def save_model(model, epoch, score):\n",
    "    model_file = os.path.join(args.output_dir, 'model_{}_epoch{}_score{:.4f}.pth'.format(args.model_class, epoch, score))\n",
    "    torch.save(model.state_dict(), model_file)"
   ]
  },
  {
   "cell_type": "code",
   "execution_count": 20,
   "metadata": {
    "collapsed": true
   },
   "outputs": [],
   "source": [
    "def load_model(model, model_name):\n",
    "    model_file = os.path.join(args.output_dir, model_name)\n",
    "    assert os.path.isfile(model_file), 'Error: no model found!'\n",
    "    model_state = torch.load(model_file)\n",
    "    model.load_state_dict(model_state)"
   ]
  },
  {
   "cell_type": "code",
   "execution_count": 21,
   "metadata": {
    "collapsed": true
   },
   "outputs": [],
   "source": [
    "def val(model, input_val, pad_index_val):\n",
    "    model.eval()\n",
    "    input_val = Variable(torch.Tensor(input_val).float())\n",
    "    pad_index_val = Variable(torch.Tensor(pad_index_val).float())\n",
    "    \n",
    "    if args.cuda:\n",
    "        input_val = input_val.cuda()\n",
    "        pad_index_val = pad_index_val.cuda()\n",
    "    \n",
    "    recon_val = model(input_val)    \n",
    "    loss = loss_function(recon_val, input_val, pad_index_val)\n",
    "    return loss.data[0]/len(input_test.data)"
   ]
  },
  {
   "cell_type": "markdown",
   "metadata": {},
   "source": [
    "# Train"
   ]
  },
  {
   "cell_type": "code",
   "execution_count": null,
   "metadata": {
    "collapsed": true
   },
   "outputs": [],
   "source": [
    "def train(epoch, model, optimizer):\n",
    "    model.train()\n",
    "    train_loss = 0\n",
    "    for batch_idx, (batch_data, batch_index) in enumerate(zip(input_trainLoader, pad_index_trainLoader)):\n",
    "        \n",
    "        batch_data = Variable(batch_data.float())\n",
    "        batch_index = Variable(batch_index.float())\n",
    "\n",
    "        if args.cuda:\n",
    "            batch_data = batch_data.cuda()\n",
    "            batch_index = batch_index.cuda()\n",
    "            \n",
    "        optimizer.zero_grad()\n",
    "        \n",
    "        recon_data = model(batch_data)\n",
    "        \n",
    "        loss = loss_function(recon_data, batch_data, batch_index)\n",
    "        \n",
    "        loss.backward()\n",
    "        train_loss += loss.data[0]\n",
    "        optimizer.step()\n",
    "        \n",
    "    return train_loss / len(input_trainLoader.dataset)"
   ]
  },
  {
   "cell_type": "code",
   "execution_count": null,
   "metadata": {
    "collapsed": false
   },
   "outputs": [
    {
     "name": "stdout",
     "output_type": "stream",
     "text": [
      "====> Epoch 1 | Train time: 203095.1681 ms| End time: 227012.2917 ms | Train loss: 34.1429 | Val score: 17.6282\n",
      "====> Epoch 2 | Train time: 204716.6481 ms| End time: 207756.9470 ms | Train loss: 19.8636 | Val score: 15.3731\n",
      "====> Epoch 3 | Train time: 176400.3716 ms| End time: 179392.8118 ms | Train loss: 17.3619 | Val score: 15.1027\n",
      "====> Epoch 4 | Train time: 177772.6290 ms| End time: 180632.8175 ms | Train loss: 15.9621 | Val score: 13.8450\n",
      "====> Epoch 5 | Train time: 181182.3559 ms| End time: 184063.0310 ms | Train loss: 15.2767 | Val score: 13.0990\n",
      "====> Epoch 6 | Train time: 183995.8346 ms| End time: 186830.3680 ms | Train loss: 14.4920 | Val score: 12.6560\n",
      "====> Epoch 7 | Train time: 176310.0057 ms| End time: 179117.7330 ms | Train loss: 13.8231 | Val score: 12.3630\n",
      "====> Epoch 8 | Train time: 176136.7850 ms| End time: 178998.7137 ms | Train loss: 13.4456 | Val score: 12.0820\n",
      "====> Epoch 9 | Train time: 176321.2810 ms| End time: 179212.5740 ms | Train loss: 12.9902 | Val score: 12.1974\n",
      "====> Epoch 10 | Train time: 178186.1312 ms| End time: 181018.9147 ms | Train loss: 12.5011 | Val score: 11.7675\n",
      "====> Epoch 11 | Train time: 189670.3153 ms| End time: 192521.7478 ms | Train loss: 12.1772 | Val score: 11.6372\n",
      "====> Epoch 12 | Train time: 181633.6973 ms| End time: 184521.8306 ms | Train loss: 11.8608 | Val score: 11.3641\n",
      "====> Epoch 13 | Train time: 173529.0654 ms| End time: 176427.5932 ms | Train loss: 11.5986 | Val score: 10.8700\n",
      "====> Epoch 14 | Train time: 181591.3410 ms| End time: 184431.0465 ms | Train loss: 11.4378 | Val score: 10.9119\n",
      "====> Epoch 15 | Train time: 179228.4691 ms| End time: 182042.9127 ms | Train loss: 11.1912 | Val score: 10.8208\n",
      "====> Epoch 16 | Train time: 177298.6169 ms| End time: 180141.5703 ms | Train loss: 11.0433 | Val score: 10.6532\n",
      "====> Epoch 17 | Train time: 174241.2832 ms| End time: 177111.2268 ms | Train loss: 10.8819 | Val score: 10.7401\n",
      "====> Epoch 18 | Train time: 181395.3192 ms| End time: 184260.9637 ms | Train loss: 10.7262 | Val score: 10.6060\n",
      "====> Epoch 19 | Train time: 180634.9466 ms| End time: 183470.7601 ms | Train loss: 10.6182 | Val score: 10.3486\n",
      "====> Epoch 20 | Train time: 195019.9692 ms| End time: 198437.6960 ms | Train loss: 10.5833 | Val score: 10.3214\n",
      "====> Epoch 21 | Train time: 186115.6774 ms| End time: 188968.6623 ms | Train loss: 10.4072 | Val score: 10.1329\n",
      "====> Epoch 22 | Train time: 181627.0108 ms| End time: 184508.0364 ms | Train loss: 10.3968 | Val score: 10.1328\n",
      "====> Epoch 23 | Train time: 175411.3894 ms| End time: 178312.6822 ms | Train loss: 10.2360 | Val score: 10.1518\n",
      "====> Epoch 24 | Train time: 186685.4005 ms| End time: 189505.7566 ms | Train loss: 10.1340 | Val score: 10.1066\n",
      "====> Epoch 25 | Train time: 179978.6456 ms| End time: 182825.8083 ms | Train loss: 10.1163 | Val score: 9.9721\n",
      "====> Epoch 26 | Train time: 176572.0861 ms| End time: 179435.8513 ms | Train loss: 10.0573 | Val score: 9.9450\n",
      "====> Epoch 27 | Train time: 178839.8268 ms| End time: 181718.7519 ms | Train loss: 9.9863 | Val score: 9.9587\n",
      "====> Epoch 28 | Train time: 179566.0262 ms| End time: 182413.4471 ms | Train loss: 9.9524 | Val score: 9.9128\n",
      "====> Epoch 29 | Train time: 180590.8825 ms| End time: 183508.1997 ms | Train loss: 9.8784 | Val score: 9.8831\n",
      "====> Epoch 30 | Train time: 179254.3182 ms| End time: 182154.0396 ms | Train loss: 9.8471 | Val score: 9.8872\n",
      "====> Epoch 31 | Train time: 180629.9939 ms| End time: 183536.0448 ms | Train loss: 9.8518 | Val score: 9.8757\n",
      "====> Epoch 32 | Train time: 182240.3157 ms| End time: 185090.6723 ms | Train loss: 9.8257 | Val score: 9.8546\n"
     ]
    }
   ],
   "source": [
    "if args.train:\n",
    "    for epoch in range(1, args.epochs + 1):\n",
    "        init = time.time()\n",
    "        \n",
    "        #method 1 scheduler\n",
    "        scheduler.step()\n",
    "        \n",
    "        train_loss = train(epoch, model, optimizer)\n",
    "        end_train = time.time()\n",
    "        val_score = val(model, input_val, pad_index_val)\n",
    "        \n",
    "        #if epoch == 1:\n",
    "        #    current_best = val_score\n",
    "        #    save_model(model, epoch, val_score)\n",
    "        \n",
    "        #else:\n",
    "        #    if val_score < current_best:\n",
    "        #        current_best = val_score\n",
    "        #        save_model(model, epoch, val_score)\n",
    "        \n",
    "        #method 2 scheduler\n",
    "        #scheduler.step()\n",
    "        \n",
    "        end = time.time()\n",
    "        print('====> Epoch {} | Train time: {:.4f} ms| End time: {:.4f} ms | Train loss: {:.4f} | Val score: {:.4f}'.\n",
    "              format(epoch, (end_train-init)*1000, (end-init)*1000, train_loss, val_score))\n",
    "else:\n",
    "    load_model(model, args.model_name)"
   ]
  },
  {
   "cell_type": "markdown",
   "metadata": {},
   "source": [
    "# Predict"
   ]
  },
  {
   "cell_type": "code",
   "execution_count": null,
   "metadata": {
    "collapsed": false
   },
   "outputs": [],
   "source": [
    "if args.test:\n",
    "    input_test = Variable(torch.Tensor(input_test).float())\n",
    "    if args.cuda:\n",
    "        input_test = input_test.cuda()\n",
    "    \n",
    "    print('Predicting...')\n",
    "    recon_test = model(input_test)\n",
    "    \n",
    "    print('Separating prediction ...')\n",
    "    predicted_time, predicted_activity = getPrediction(recon_test, pad_index_test)\n",
    "    \n",
    "    print('Done!')"
   ]
  },
  {
   "cell_type": "markdown",
   "metadata": {},
   "source": [
    "# Evaluate"
   ]
  },
  {
   "cell_type": "markdown",
   "metadata": {},
   "source": [
    "## Time"
   ]
  },
  {
   "cell_type": "code",
   "execution_count": null,
   "metadata": {
    "collapsed": false
   },
   "outputs": [],
   "source": [
    "#Fix predicted time\n",
    "time_df = pd.DataFrame({'CaseID': caseid_test,\n",
    "                        'PredictedTime': predicted_time})\n",
    "\n",
    "groupByCase = time_df.groupby(['CaseID'])\n",
    "fixed_time_df = pd.DataFrame(columns=list(time_df))\n",
    "\n",
    "for case, group in groupByCase:\n",
    "    group.iloc[0, 1] = -mean_value/std_value\n",
    "    fixed_time_df = fixed_time_df.append(group)"
   ]
  },
  {
   "cell_type": "code",
   "execution_count": null,
   "metadata": {
    "collapsed": false
   },
   "outputs": [],
   "source": [
    "fixed_time_df.head()"
   ]
  },
  {
   "cell_type": "code",
   "execution_count": null,
   "metadata": {
    "collapsed": true
   },
   "outputs": [],
   "source": [
    "fixed_predicted_time = fixed_time_df['PredictedTime']"
   ]
  },
  {
   "cell_type": "code",
   "execution_count": null,
   "metadata": {
    "collapsed": true
   },
   "outputs": [],
   "source": [
    "error = np.abs(true_time - fixed_predicted_time)\n",
    "error_time_df = pd.DataFrame({'Error': error,\n",
    "                              'TimeLabel': time_label_test})"
   ]
  },
  {
   "cell_type": "code",
   "execution_count": null,
   "metadata": {
    "collapsed": false
   },
   "outputs": [],
   "source": [
    "precision, recall, th = precision_recall_curve(error_time_df.TimeLabel, error_time_df.Error, pos_label=1)\n",
    "plt.figure(figsize=(20, 5))\n",
    "plt.plot(recall, precision, 'b', label='Precision-Recall curve')\n",
    "plt.title('Recall vs Precision')\n",
    "plt.xlabel('Recall')\n",
    "plt.ylabel('Precision')\n",
    "plt.show()"
   ]
  },
  {
   "cell_type": "code",
   "execution_count": null,
   "metadata": {
    "collapsed": false
   },
   "outputs": [],
   "source": [
    "time_threshold = np.mean(error_time_df['Error'])\n",
    "print('Threshold of Time: {}'.format(time_threshold))"
   ]
  },
  {
   "cell_type": "code",
   "execution_count": null,
   "metadata": {
    "collapsed": false
   },
   "outputs": [],
   "source": [
    "plotReconstructionError(error_time_df, variable='Time')"
   ]
  },
  {
   "cell_type": "code",
   "execution_count": null,
   "metadata": {
    "collapsed": false
   },
   "outputs": [],
   "source": [
    "plotConfusionMaxtrix(error_time_df, threshold=time_threshold, variable='Time')"
   ]
  },
  {
   "cell_type": "code",
   "execution_count": null,
   "metadata": {
    "collapsed": false
   },
   "outputs": [],
   "source": [
    "evalScore(error_time_df, threshold=time_threshold, variable='Time')"
   ]
  },
  {
   "cell_type": "code",
   "execution_count": null,
   "metadata": {
    "collapsed": false
   },
   "outputs": [],
   "source": [
    "fpr, tpr, thresholds = roc_curve(error_time_df.TimeLabel, error_time_df.Error, pos_label=1)\n",
    "roc_auc = auc(fpr, tpr)\n",
    "\n",
    "plt.title('Receiver Operating Characteristic')\n",
    "plt.plot(fpr, tpr, label='AUC = %0.4f'% roc_auc)\n",
    "plt.legend(loc='lower right')\n",
    "plt.plot([0,1],[0,1],'r--')\n",
    "plt.xlim([-0.001, 1])\n",
    "plt.ylim([0, 1.001])\n",
    "plt.ylabel('True Positive Rate')\n",
    "plt.xlabel('False Positive Rate')\n",
    "plt.show();"
   ]
  },
  {
   "cell_type": "code",
   "execution_count": null,
   "metadata": {
    "collapsed": true
   },
   "outputs": [],
   "source": [
    "#get submission\n",
    "if args.scaler == 'standardization':\n",
    "    inverse_scaled_time = [x*std_value+mean_value for x in fixed_predicted_time]\n",
    "else:\n",
    "    inverse_scaled_time = [x*(max_value-min_value)+min_value for x in fixed_predicted_time]\n",
    "    \n",
    "predicted_time_label_test = [1 if e > time_threshold else 0 for e in error_time_df.Error.values]\n",
    "\n",
    "submission_time = pd.DataFrame({'AnomalousDuration': anomalous_df_test['AnomalousDuration'].copy(),\n",
    "                                'Activity': normal_df_test['Activity'].copy(),\n",
    "                                'AnomalousCumDuration': anomalous_df_test['AnomalousCumDuration'].copy(),\n",
    "                                'PredictedCumDuration': inverse_scaled_time,\n",
    "                                'TimeLabel': time_label_test,\n",
    "                                'PredictedTimeLabel': predicted_time_label_test})"
   ]
  },
  {
   "cell_type": "code",
   "execution_count": null,
   "metadata": {
    "collapsed": false
   },
   "outputs": [],
   "source": [
    "submission_time.head()"
   ]
  },
  {
   "cell_type": "code",
   "execution_count": null,
   "metadata": {
    "collapsed": false
   },
   "outputs": [],
   "source": [
    "groupByActivity = submission_time.groupby(['Activity'])\n",
    "\n",
    "for act, group in groupByActivity:\n",
    "    plotDurationofPredictedTimeLabel(act, group, statistics_storage, False)"
   ]
  },
  {
   "cell_type": "code",
   "execution_count": null,
   "metadata": {
    "collapsed": false
   },
   "outputs": [],
   "source": [
    "submission_time.head()"
   ]
  },
  {
   "cell_type": "code",
   "execution_count": null,
   "metadata": {
    "collapsed": false
   },
   "outputs": [],
   "source": [
    "act_list = [i for i in submission_time['Activity'].unique()]\n",
    "false_positive_df = submission_time[(submission_time['PredictedTimeLabel']== 1)&(submission_time['TimeLabel']== 0)]\n",
    "false_negative_df = submission_time[(submission_time['PredictedTimeLabel']== 0)&(submission_time['TimeLabel']== 1)]\n",
    "\n",
    "for act in act_list:\n",
    "    plotFalseDuration(false_positive_df, false_negative_df, act, statistics_storage)"
   ]
  },
  {
   "cell_type": "markdown",
   "metadata": {},
   "source": [
    "## Activity"
   ]
  },
  {
   "cell_type": "code",
   "execution_count": null,
   "metadata": {
    "collapsed": true
   },
   "outputs": [],
   "source": [
    "error = np.mean(np.power(true_act - predicted_activity, 2), axis = 1)\n",
    "error_activity_df = pd.DataFrame({'Error': error,\n",
    "                                  'ActivityLabel': activity_label_test})"
   ]
  },
  {
   "cell_type": "code",
   "execution_count": null,
   "metadata": {
    "collapsed": false
   },
   "outputs": [],
   "source": [
    "error_activity_df.head()"
   ]
  },
  {
   "cell_type": "code",
   "execution_count": null,
   "metadata": {
    "collapsed": false
   },
   "outputs": [],
   "source": [
    "precision, recall, th = precision_recall_curve(error_activity_df.ActivityLabel, error_activity_df.Error, pos_label=1)\n",
    "plt.figure(figsize=(20, 5))\n",
    "plt.plot(recall, precision, 'b', label='Precision-Recall curve')\n",
    "plt.title('Recall vs Precision')\n",
    "plt.xlabel('Recall')\n",
    "plt.ylabel('Precision')\n",
    "plt.show()"
   ]
  },
  {
   "cell_type": "code",
   "execution_count": null,
   "metadata": {
    "collapsed": false
   },
   "outputs": [],
   "source": [
    "activity_threshold = np.mean(error_activity_df['Error'])\n",
    "print('Threshold of Activity: {}'.format(activity_threshold))"
   ]
  },
  {
   "cell_type": "code",
   "execution_count": null,
   "metadata": {
    "collapsed": false
   },
   "outputs": [],
   "source": [
    "plotConfusionMaxtrix(error_activity_df, activity_threshold, variable='Activity')"
   ]
  },
  {
   "cell_type": "code",
   "execution_count": null,
   "metadata": {
    "collapsed": false
   },
   "outputs": [],
   "source": [
    "plotReconstructionError(error_activity_df)"
   ]
  },
  {
   "cell_type": "code",
   "execution_count": null,
   "metadata": {
    "collapsed": false
   },
   "outputs": [],
   "source": [
    "evalScore(error_activity_df, activity_threshold, variable='Activity')"
   ]
  },
  {
   "cell_type": "code",
   "execution_count": null,
   "metadata": {
    "collapsed": false
   },
   "outputs": [],
   "source": [
    "fpr, tpr, thresholds = roc_curve(error_activity_df.ActivityLabel, error_activity_df.Error, pos_label=1)\n",
    "roc_auc = auc(fpr, tpr)\n",
    "\n",
    "plt.title('Receiver Operating Characteristic')\n",
    "plt.plot(fpr, tpr, label='AUC = %0.4f'% roc_auc)\n",
    "plt.legend(loc='lower right')\n",
    "plt.plot([0,1],[0,1],'r--')\n",
    "plt.xlim([-0.001, 1])\n",
    "plt.ylim([0, 1.001])\n",
    "plt.ylabel('True Positive Rate')\n",
    "plt.xlabel('False Positive Rate')\n",
    "plt.show();"
   ]
  },
  {
   "cell_type": "code",
   "execution_count": null,
   "metadata": {
    "collapsed": true
   },
   "outputs": [],
   "source": [
    "# evaluate based on classification\n",
    "predicted_act_df = pd.DataFrame(data=predicted_activity, columns=list(true_act))\n",
    "predicted_act_label = predicted_act_df.idxmax(axis=1)\n",
    "true_act_label = true_act.idxmax(axis=1)\n",
    "predicted_time_label = [0 if a==b else 1 for a, b in zip(true_act_label,predicted_act_label)]"
   ]
  },
  {
   "cell_type": "code",
   "execution_count": null,
   "metadata": {
    "collapsed": false
   },
   "outputs": [],
   "source": [
    "#plot confusion matrix\n",
    "LABELS = ['Normal', 'Anomaly']\n",
    "matrix = confusion_matrix(error_activity_df.ActivityLabel.astype('uint8'), predicted_time_label)\n",
    "plt.figure(figsize=(7, 7))\n",
    "sns.heatmap(matrix, xticklabels=LABELS, yticklabels=LABELS, annot=True, fmt=\"d\");\n",
    "plt.title('Confusion matrix of Activity')\n",
    "plt.ylabel('True class')\n",
    "plt.xlabel('Predicted class')\n",
    "plt.show()"
   ]
  },
  {
   "cell_type": "code",
   "execution_count": null,
   "metadata": {
    "collapsed": false
   },
   "outputs": [],
   "source": [
    "score = precision_recall_fscore_support(error_activity_df.ActivityLabel.astype('uint8'), predicted_time_label, average='weighted')\n",
    "    \n",
    "print('-------Evaluation of Activity-------')\n",
    "print('\\n')\n",
    "print('--Weighted Evaluation--')\n",
    "print('Evaluation')\n",
    "print('Precision: {:.2f}'.format(score[0]))\n",
    "print('Recall: {:.2f}'.format(score[1]))\n",
    "print('Fscore: {:.2f}'.format(score[2]))\n",
    "print('\\n')\n",
    "score_1 = precision_recall_fscore_support(error_activity_df.ActivityLabel.astype('uint8'), predicted_time_label)\n",
    "print('--Evaluation for each class--')\n",
    "print('Normal')\n",
    "print('Precision: {:.2f}'.format(score_1[0][0]))\n",
    "print('Recall: {:.2f}'.format(score_1[1][0]))\n",
    "print('Fscore: {:.2f}'.format(score_1[2][0]))\n",
    "print('\\n')\n",
    "print('Anomaly')\n",
    "print('Precision: {:.2f}'.format(score_1[0][1]))\n",
    "print('Recall: {:.2f}'.format(score_1[1][1]))\n",
    "print('Fscore: {:.2f}'.format(score_1[2][1]))"
   ]
  },
  {
   "cell_type": "code",
   "execution_count": null,
   "metadata": {
    "collapsed": true
   },
   "outputs": [],
   "source": []
  }
 ],
 "metadata": {
  "kernelspec": {
   "display_name": "Python 3",
   "language": "python",
   "name": "python3"
  },
  "language_info": {
   "codemirror_mode": {
    "name": "ipython",
    "version": 3
   },
   "file_extension": ".py",
   "mimetype": "text/x-python",
   "name": "python",
   "nbconvert_exporter": "python",
   "pygments_lexer": "ipython3",
   "version": "3.5.4"
  },
  "toc": {
   "colors": {
    "hover_highlight": "#DAA520",
    "running_highlight": "#FF0000",
    "selected_highlight": "#FFD700"
   },
   "moveMenuLeft": true,
   "nav_menu": {
    "height": "210px",
    "width": "252px"
   },
   "navigate_menu": true,
   "number_sections": true,
   "sideBar": true,
   "threshold": 4,
   "toc_cell": false,
   "toc_section_display": "block",
   "toc_window_display": false
  }
 },
 "nbformat": 4,
 "nbformat_minor": 2
}
