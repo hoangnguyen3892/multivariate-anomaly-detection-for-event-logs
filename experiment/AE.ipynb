{
 "cells": [
  {
   "cell_type": "code",
   "execution_count": 1,
   "metadata": {
    "collapsed": true,
    "deletable": true,
    "editable": true
   },
   "outputs": [],
   "source": [
    "import importlib\n",
    "import argparse\n",
    "import os, sys\n",
    "import argparse\n",
    "import pandas as pd\n",
    "import numpy as np\n",
    "import pickle\n",
    "import time"
   ]
  },
  {
   "cell_type": "code",
   "execution_count": 2,
   "metadata": {
    "collapsed": true,
    "deletable": true,
    "editable": true
   },
   "outputs": [],
   "source": [
    "import matplotlib.pyplot as plt\n",
    "import seaborn as sns\n",
    "from sklearn.metrics import confusion_matrix, precision_recall_fscore_support, roc_curve, auc, precision_recall_curve\n",
    "\n",
    "\n",
    "%matplotlib inline"
   ]
  },
  {
   "cell_type": "code",
   "execution_count": 3,
   "metadata": {
    "collapsed": false,
    "deletable": true,
    "editable": true
   },
   "outputs": [],
   "source": [
    "import torch\n",
    "import torch.utils.data\n",
    "import torch.nn.functional as F\n",
    "import torch.nn as nn\n",
    "import torch.optim as optim\n",
    "import torch.optim.lr_scheduler\n",
    "from torch.autograd import Variable\n",
    "from torchvision import transforms"
   ]
  },
  {
   "cell_type": "code",
   "execution_count": 4,
   "metadata": {
    "collapsed": true,
    "deletable": true,
    "editable": true
   },
   "outputs": [],
   "source": [
    "sys.path.insert(0, './../utils/')\n",
    "from utils import *\n",
    "from models import *"
   ]
  },
  {
   "cell_type": "code",
   "execution_count": 5,
   "metadata": {
    "collapsed": true,
    "deletable": true,
    "editable": true
   },
   "outputs": [],
   "source": [
    "#Define parser\n",
    "#name = 'bpi_2012'\n",
    "name = 'bpi_2013'\n",
    "#name = 'Road_Traffic_Fine_Management_Process'  \n",
    "\n",
    "parser = {\n",
    "    'train': True,\n",
    "    'test': True,\n",
    "    'model_class': 'AE',\n",
    "    'model_name': '',\n",
    "    'data_dir': '../data/',\n",
    "    'data_file': name + '.csv',\n",
    "    'anomaly_pct': 0.1,\n",
    "    'input_dir': '../input/{}/'.format(name), \n",
    "    'batch_size' : 16,\n",
    "    'epochs' : 50,\n",
    "    'no_cuda' : False,\n",
    "    'seed' : 7,\n",
    "    'layer1': 1000,\n",
    "    'layer2': 100,\n",
    "    'lr': 0.002,\n",
    "    'betas': (0.9, 0.999),   \n",
    "    'lr_decay': 0.90,\n",
    "}\n",
    "\n",
    "args = argparse.Namespace(**parser)\n",
    "args.output_dir = './output/{0}_{1}_{2}/'.format(name, args.anomaly_pct, args.model_class)"
   ]
  },
  {
   "cell_type": "code",
   "execution_count": 6,
   "metadata": {
    "collapsed": true,
    "deletable": true,
    "editable": true
   },
   "outputs": [],
   "source": [
    "if not os.path.isdir(args.output_dir):\n",
    "    os.makedirs(args.output_dir)"
   ]
  },
  {
   "cell_type": "code",
   "execution_count": 7,
   "metadata": {
    "collapsed": true,
    "deletable": true,
    "editable": true
   },
   "outputs": [],
   "source": [
    "args.cuda = not args.no_cuda and torch.cuda.is_available()\n",
    "kwargs = {'num_workers': 2, 'pin_memory': True} if args.cuda else {}"
   ]
  },
  {
   "cell_type": "code",
   "execution_count": 8,
   "metadata": {
    "collapsed": true,
    "deletable": true,
    "editable": true
   },
   "outputs": [],
   "source": [
    "torch.manual_seed(args.seed)\n",
    "if args.cuda:\n",
    "    torch.cuda.manual_seed(args.seed)"
   ]
  },
  {
   "cell_type": "code",
   "execution_count": 9,
   "metadata": {
    "collapsed": true,
    "deletable": true,
    "editable": true
   },
   "outputs": [],
   "source": [
    "preprocessed_data_name = os.path.join(args.input_dir, 'preprocessed_data_{}.pkl'.format(args.anomaly_pct))\n",
    "with open(preprocessed_data_name, 'rb') as f:\n",
    "    input_train = pickle.load(f)\n",
    "    input_val = pickle.load(f)\n",
    "    input_test = pickle.load(f)\n",
    "    pad_index_train = pickle.load(f)\n",
    "    pad_index_val = pickle.load(f)\n",
    "    pad_index_test = pickle.load(f)\n",
    "    activity_label_train = pickle.load(f)\n",
    "    activity_label_val = pickle.load(f)\n",
    "    activity_label_test = pickle.load(f)\n",
    "    time_label_train = pickle.load(f)\n",
    "    time_label_val = pickle.load(f)\n",
    "    time_label_test = pickle.load(f)\n",
    "    train_case_num = pickle.load(f)\n",
    "    val_case_num = pickle.load(f)\n",
    "    test_case_num = pickle.load(f)\n",
    "    train_row_num = pickle.load(f)\n",
    "    val_row_num = pickle.load(f)\n",
    "    test_row_num = pickle.load(f)\n",
    "    min_value = pickle.load(f)\n",
    "    max_value = pickle.load(f)\n",
    "    mean_value = pickle.load(f)\n",
    "    std_value = pickle.load(f)\n",
    "    cols = pickle.load(f)\n",
    "    statistics_storage = pickle.load(f)"
   ]
  },
  {
   "cell_type": "markdown",
   "metadata": {
    "deletable": true,
    "editable": true
   },
   "source": [
    "# Load data"
   ]
  },
  {
   "cell_type": "code",
   "execution_count": 10,
   "metadata": {
    "collapsed": true,
    "deletable": true,
    "editable": true
   },
   "outputs": [],
   "source": [
    "#train\n",
    "input_trainLoader = torch.utils.data.DataLoader(input_train, batch_size=args.batch_size, shuffle=False, num_workers=2)\n",
    "pad_index_trainLoader = torch.utils.data.DataLoader(pad_index_train, batch_size=args.batch_size, shuffle=False, num_workers=2)"
   ]
  },
  {
   "cell_type": "code",
   "execution_count": 11,
   "metadata": {
    "collapsed": true,
    "deletable": true,
    "editable": true
   },
   "outputs": [],
   "source": [
    "#test\n",
    "df_name = os.path.join(args.input_dir, 'df_{}.csv'.format(args.anomaly_pct))\n",
    "df = pd.read_csv(df_name)\n",
    "\n",
    "anomalous_df_name = os.path.join(args.input_dir, 'anomolous_df_{}.csv'.format(args.anomaly_pct))\n",
    "anomalous_df = pd.read_csv(anomalous_df_name)"
   ]
  },
  {
   "cell_type": "code",
   "execution_count": 12,
   "metadata": {
    "collapsed": false,
    "deletable": true,
    "editable": true
   },
   "outputs": [
    {
     "data": {
      "text/html": [
       "<div>\n",
       "<style>\n",
       "    .dataframe thead tr:only-child th {\n",
       "        text-align: right;\n",
       "    }\n",
       "\n",
       "    .dataframe thead th {\n",
       "        text-align: left;\n",
       "    }\n",
       "\n",
       "    .dataframe tbody tr th {\n",
       "        vertical-align: top;\n",
       "    }\n",
       "</style>\n",
       "<table border=\"1\" class=\"dataframe\">\n",
       "  <thead>\n",
       "    <tr style=\"text-align: right;\">\n",
       "      <th></th>\n",
       "      <th>CaseID</th>\n",
       "      <th>Activity</th>\n",
       "      <th>CompleteTimestamp</th>\n",
       "      <th>Duration</th>\n",
       "      <th>CumDuration</th>\n",
       "    </tr>\n",
       "  </thead>\n",
       "  <tbody>\n",
       "    <tr>\n",
       "      <th>0</th>\n",
       "      <td>1</td>\n",
       "      <td>Queued-Awaiting Assignment</td>\n",
       "      <td>2006-01-11 23:49:42</td>\n",
       "      <td>0.0</td>\n",
       "      <td>0.0</td>\n",
       "    </tr>\n",
       "    <tr>\n",
       "      <th>1</th>\n",
       "      <td>1</td>\n",
       "      <td>Accepted-In Progress</td>\n",
       "      <td>2012-03-15 19:53:52</td>\n",
       "      <td>194817850.0</td>\n",
       "      <td>194817850.0</td>\n",
       "    </tr>\n",
       "    <tr>\n",
       "      <th>2</th>\n",
       "      <td>1</td>\n",
       "      <td>Accepted-Assigned</td>\n",
       "      <td>2012-03-15 19:56:17</td>\n",
       "      <td>145.0</td>\n",
       "      <td>194817995.0</td>\n",
       "    </tr>\n",
       "    <tr>\n",
       "      <th>3</th>\n",
       "      <td>1</td>\n",
       "      <td>Accepted-In Progress</td>\n",
       "      <td>2012-03-15 20:09:05</td>\n",
       "      <td>768.0</td>\n",
       "      <td>194818763.0</td>\n",
       "    </tr>\n",
       "    <tr>\n",
       "      <th>4</th>\n",
       "      <td>1</td>\n",
       "      <td>Completed-Closed</td>\n",
       "      <td>2012-03-15 20:11:33</td>\n",
       "      <td>148.0</td>\n",
       "      <td>194818911.0</td>\n",
       "    </tr>\n",
       "  </tbody>\n",
       "</table>\n",
       "</div>"
      ],
      "text/plain": [
       "   CaseID                    Activity    CompleteTimestamp     Duration  \\\n",
       "0       1  Queued-Awaiting Assignment  2006-01-11 23:49:42          0.0   \n",
       "1       1        Accepted-In Progress  2012-03-15 19:53:52  194817850.0   \n",
       "2       1           Accepted-Assigned  2012-03-15 19:56:17        145.0   \n",
       "3       1        Accepted-In Progress  2012-03-15 20:09:05        768.0   \n",
       "4       1            Completed-Closed  2012-03-15 20:11:33        148.0   \n",
       "\n",
       "   CumDuration  \n",
       "0          0.0  \n",
       "1  194817850.0  \n",
       "2  194817995.0  \n",
       "3  194818763.0  \n",
       "4  194818911.0  "
      ]
     },
     "execution_count": 12,
     "metadata": {},
     "output_type": "execute_result"
    }
   ],
   "source": [
    "df.head()"
   ]
  },
  {
   "cell_type": "code",
   "execution_count": 13,
   "metadata": {
    "collapsed": false,
    "deletable": true,
    "editable": true
   },
   "outputs": [
    {
     "data": {
      "text/html": [
       "<div>\n",
       "<style>\n",
       "    .dataframe thead tr:only-child th {\n",
       "        text-align: right;\n",
       "    }\n",
       "\n",
       "    .dataframe thead th {\n",
       "        text-align: left;\n",
       "    }\n",
       "\n",
       "    .dataframe tbody tr th {\n",
       "        vertical-align: top;\n",
       "    }\n",
       "</style>\n",
       "<table border=\"1\" class=\"dataframe\">\n",
       "  <thead>\n",
       "    <tr style=\"text-align: right;\">\n",
       "      <th></th>\n",
       "      <th>CaseID</th>\n",
       "      <th>AnomalousActivity</th>\n",
       "      <th>AnomalousCompleteTimestamp</th>\n",
       "      <th>AnomalousDuration</th>\n",
       "      <th>AnomalousCumDuration</th>\n",
       "      <th>ActivityLabel</th>\n",
       "      <th>TimeLabel</th>\n",
       "    </tr>\n",
       "  </thead>\n",
       "  <tbody>\n",
       "    <tr>\n",
       "      <th>0</th>\n",
       "      <td>1</td>\n",
       "      <td>Queued-Awaiting Assignment</td>\n",
       "      <td>2006-01-11 23:49:42.000000</td>\n",
       "      <td>0.0</td>\n",
       "      <td>0.0</td>\n",
       "      <td>0</td>\n",
       "      <td>0</td>\n",
       "    </tr>\n",
       "    <tr>\n",
       "      <th>1</th>\n",
       "      <td>1</td>\n",
       "      <td>Accepted-In Progress</td>\n",
       "      <td>2012-03-15 19:53:52.000000</td>\n",
       "      <td>194817850.0</td>\n",
       "      <td>194817850.0</td>\n",
       "      <td>0</td>\n",
       "      <td>0</td>\n",
       "    </tr>\n",
       "    <tr>\n",
       "      <th>2</th>\n",
       "      <td>1</td>\n",
       "      <td>Accepted-In Progress</td>\n",
       "      <td>2012-03-15 19:56:17.000000</td>\n",
       "      <td>145.0</td>\n",
       "      <td>194817995.0</td>\n",
       "      <td>1</td>\n",
       "      <td>0</td>\n",
       "    </tr>\n",
       "    <tr>\n",
       "      <th>3</th>\n",
       "      <td>1</td>\n",
       "      <td>Accepted-Assigned</td>\n",
       "      <td>2012-03-15 20:09:05.000000</td>\n",
       "      <td>768.0</td>\n",
       "      <td>194818763.0</td>\n",
       "      <td>1</td>\n",
       "      <td>0</td>\n",
       "    </tr>\n",
       "    <tr>\n",
       "      <th>4</th>\n",
       "      <td>1</td>\n",
       "      <td>Completed-Closed</td>\n",
       "      <td>2012-03-15 20:11:33.000000</td>\n",
       "      <td>148.0</td>\n",
       "      <td>194818911.0</td>\n",
       "      <td>0</td>\n",
       "      <td>0</td>\n",
       "    </tr>\n",
       "  </tbody>\n",
       "</table>\n",
       "</div>"
      ],
      "text/plain": [
       "   CaseID           AnomalousActivity  AnomalousCompleteTimestamp  \\\n",
       "0       1  Queued-Awaiting Assignment  2006-01-11 23:49:42.000000   \n",
       "1       1        Accepted-In Progress  2012-03-15 19:53:52.000000   \n",
       "2       1        Accepted-In Progress  2012-03-15 19:56:17.000000   \n",
       "3       1           Accepted-Assigned  2012-03-15 20:09:05.000000   \n",
       "4       1            Completed-Closed  2012-03-15 20:11:33.000000   \n",
       "\n",
       "   AnomalousDuration  AnomalousCumDuration  ActivityLabel  TimeLabel  \n",
       "0                0.0                   0.0              0          0  \n",
       "1        194817850.0           194817850.0              0          0  \n",
       "2              145.0           194817995.0              1          0  \n",
       "3              768.0           194818763.0              1          0  \n",
       "4              148.0           194818911.0              0          0  "
      ]
     },
     "execution_count": 13,
     "metadata": {},
     "output_type": "execute_result"
    }
   ],
   "source": [
    "anomalous_df.head()"
   ]
  },
  {
   "cell_type": "code",
   "execution_count": 14,
   "metadata": {
    "collapsed": false,
    "deletable": true,
    "editable": true
   },
   "outputs": [],
   "source": [
    "true_activity_test = df['Activity'][-test_row_num:]\n",
    "true_cumduration_test = df['CumDuration'][-test_row_num:]"
   ]
  },
  {
   "cell_type": "code",
   "execution_count": 15,
   "metadata": {
    "collapsed": true,
    "deletable": true,
    "editable": true
   },
   "outputs": [],
   "source": [
    "anomalous_activity_test = anomalous_df['AnomalousActivity'][-test_row_num:]\n",
    "anomalous_cumduration_test = anomalous_df['AnomalousCumDuration'][-test_row_num:]"
   ]
  },
  {
   "cell_type": "code",
   "execution_count": 16,
   "metadata": {
    "collapsed": true,
    "deletable": true,
    "editable": true
   },
   "outputs": [],
   "source": [
    "caseid_test = df['CaseID'][-test_row_num:]"
   ]
  },
  {
   "cell_type": "markdown",
   "metadata": {
    "deletable": true,
    "editable": true
   },
   "source": [
    "# Build model"
   ]
  },
  {
   "cell_type": "markdown",
   "metadata": {
    "deletable": true,
    "editable": true
   },
   "source": [
    "## Define model"
   ]
  },
  {
   "cell_type": "code",
   "execution_count": 17,
   "metadata": {
    "collapsed": false,
    "deletable": true,
    "editable": true
   },
   "outputs": [],
   "source": [
    "if args.model_class == 'AE':\n",
    "    model = AE(input_train.shape, args.layer1, args.layer2)\n",
    "\n",
    "if args.cuda:\n",
    "    model.cuda()"
   ]
  },
  {
   "cell_type": "code",
   "execution_count": 18,
   "metadata": {
    "collapsed": false,
    "deletable": true,
    "editable": true
   },
   "outputs": [
    {
     "data": {
      "text/plain": [
       "<bound method Module.parameters of AE (\n",
       "  (fc1): Linear (280 -> 1000)\n",
       "  (fc2): Linear (1000 -> 100)\n",
       "  (fc3): Linear (100 -> 1000)\n",
       "  (fc4): Linear (1000 -> 280)\n",
       "  (sigmoid): Sigmoid ()\n",
       ")>"
      ]
     },
     "execution_count": 18,
     "metadata": {},
     "output_type": "execute_result"
    }
   ],
   "source": [
    "model.parameters"
   ]
  },
  {
   "cell_type": "markdown",
   "metadata": {
    "deletable": true,
    "editable": true
   },
   "source": [
    "## Define loss"
   ]
  },
  {
   "cell_type": "code",
   "execution_count": 19,
   "metadata": {
    "collapsed": true,
    "deletable": true,
    "editable": true
   },
   "outputs": [],
   "source": [
    "def loss_function(recon_x, x, pad_index):\n",
    "    MSE = F.mse_loss(recon_x, x, size_average=False) \n",
    "    #BCE = F.binary_cross_entropy(recon_x, x, weight=pad_index, size_average=False)\n",
    "    return MSE"
   ]
  },
  {
   "cell_type": "markdown",
   "metadata": {
    "deletable": true,
    "editable": true
   },
   "source": [
    "## Define optimizer"
   ]
  },
  {
   "cell_type": "code",
   "execution_count": 20,
   "metadata": {
    "collapsed": true,
    "deletable": true,
    "editable": true
   },
   "outputs": [],
   "source": [
    "optimizer = optim.Adam(model.parameters(), lr=args.lr, betas=args.betas)"
   ]
  },
  {
   "cell_type": "code",
   "execution_count": 21,
   "metadata": {
    "collapsed": true,
    "deletable": true,
    "editable": true
   },
   "outputs": [],
   "source": [
    "#Adjust learning rate per epoch: http://pytorch.org/docs/master/optim.html?highlight=adam#torch.optim.Adam\n",
    "\n",
    "# Method 1:\n",
    "lambda1 = lambda epoch: args.lr_decay ** epoch\n",
    "scheduler = torch.optim.lr_scheduler.LambdaLR(optimizer, lr_lambda=[lambda1])\n",
    "\n",
    "# Method 2:\n",
    "#scheduler = torch.optim.lr_scheduler.ReduceLROnPlateau(optimizer, 'min', patience=10)"
   ]
  },
  {
   "cell_type": "markdown",
   "metadata": {
    "deletable": true,
    "editable": true
   },
   "source": [
    "# Utils"
   ]
  },
  {
   "cell_type": "code",
   "execution_count": 22,
   "metadata": {
    "collapsed": true,
    "deletable": true,
    "editable": true
   },
   "outputs": [],
   "source": [
    "def save_model(model, epoch, score):\n",
    "    model_file = os.path.join(args.output_dir, 'model_{}_epoch{}_score{:.4f}.pth'.format(args.model_class, epoch, score))\n",
    "    torch.save(model.state_dict(), model_file)"
   ]
  },
  {
   "cell_type": "code",
   "execution_count": 23,
   "metadata": {
    "collapsed": true,
    "deletable": true,
    "editable": true
   },
   "outputs": [],
   "source": [
    "def load_model(model, model_name):\n",
    "    model_file = os.path.join(args.output_dir, model_name)\n",
    "    assert os.path.isfile(model_file), 'Error: no model found!'\n",
    "    model_state = torch.load(model_file)\n",
    "    model.load_state_dict(model_state)"
   ]
  },
  {
   "cell_type": "code",
   "execution_count": 24,
   "metadata": {
    "collapsed": false,
    "deletable": true,
    "editable": true
   },
   "outputs": [],
   "source": [
    "def val(model, input_val, pad_index_val):\n",
    "    model.eval()\n",
    "    input_val = Variable(torch.Tensor(input_val).float())\n",
    "    pad_index_val = Variable(torch.Tensor(pad_index_val).float())\n",
    "    \n",
    "    if args.cuda:\n",
    "        input_val = input_val.cuda()\n",
    "        pad_index_val = pad_index_val.cuda()\n",
    "    \n",
    "    recon_val = model(input_val)    \n",
    "    loss = loss_function(recon_val, input_val, pad_index_val)\n",
    "    return loss.data[0]/len(input_test.data)"
   ]
  },
  {
   "cell_type": "markdown",
   "metadata": {
    "deletable": true,
    "editable": true
   },
   "source": [
    "# Train"
   ]
  },
  {
   "cell_type": "code",
   "execution_count": 25,
   "metadata": {
    "collapsed": false,
    "deletable": true,
    "editable": true
   },
   "outputs": [],
   "source": [
    "def train(epoch, model, optimizer):\n",
    "    model.train()\n",
    "    train_loss = 0\n",
    "    for batch_idx, (batch_data, batch_index) in enumerate(zip(input_trainLoader, pad_index_trainLoader)):\n",
    "        \n",
    "        batch_data = Variable(batch_data.float())\n",
    "        batch_index = Variable(batch_index.float())\n",
    "\n",
    "        if args.cuda:\n",
    "            batch_data = batch_data.cuda()\n",
    "            batch_index = batch_index.cuda()\n",
    "            \n",
    "        optimizer.zero_grad()\n",
    "        \n",
    "        recon_data = model(batch_data)\n",
    "        \n",
    "        loss = loss_function(recon_data, batch_data, batch_index)\n",
    "        \n",
    "        loss.backward()\n",
    "        train_loss += loss.data[0]\n",
    "        optimizer.step()\n",
    "        \n",
    "    return train_loss / len(input_trainLoader.dataset)"
   ]
  },
  {
   "cell_type": "code",
   "execution_count": 26,
   "metadata": {
    "collapsed": false,
    "deletable": true,
    "editable": true
   },
   "outputs": [
    {
     "name": "stdout",
     "output_type": "stream",
     "text": [
      "====> Epoch 1 | Train time: 1633.0965 ms| End time: 1677.7608 ms | Train loss: 5.5276 | Val score: 1.8849\n",
      "====> Epoch 2 | Train time: 1985.5144 ms| End time: 2008.8773 ms | Train loss: 2.5545 | Val score: 1.5640\n",
      "====> Epoch 3 | Train time: 1759.3076 ms| End time: 1799.8548 ms | Train loss: 2.1641 | Val score: 1.3498\n",
      "====> Epoch 4 | Train time: 1518.3156 ms| End time: 1539.2683 ms | Train loss: 1.8115 | Val score: 1.2211\n",
      "====> Epoch 5 | Train time: 1856.5304 ms| End time: 1899.8070 ms | Train loss: 1.6136 | Val score: 1.1313\n",
      "====> Epoch 6 | Train time: 2208.4937 ms| End time: 2249.3820 ms | Train loss: 1.4684 | Val score: 1.0852\n",
      "====> Epoch 7 | Train time: 2029.5129 ms| End time: 2071.2259 ms | Train loss: 1.3306 | Val score: 1.0043\n",
      "====> Epoch 8 | Train time: 2066.2251 ms| End time: 2106.1251 ms | Train loss: 1.1753 | Val score: 0.9295\n",
      "====> Epoch 9 | Train time: 2116.5223 ms| End time: 2156.2178 ms | Train loss: 1.0395 | Val score: 0.8668\n",
      "====> Epoch 10 | Train time: 1538.6245 ms| End time: 1581.1865 ms | Train loss: 0.9481 | Val score: 0.8304\n",
      "====> Epoch 11 | Train time: 1675.8494 ms| End time: 1719.4197 ms | Train loss: 0.8727 | Val score: 0.7842\n",
      "====> Epoch 12 | Train time: 1602.9470 ms| End time: 1643.0321 ms | Train loss: 0.7639 | Val score: 0.6728\n",
      "====> Epoch 13 | Train time: 1442.6360 ms| End time: 1481.8664 ms | Train loss: 0.6723 | Val score: 0.6483\n",
      "====> Epoch 14 | Train time: 2061.2199 ms| End time: 2099.1592 ms | Train loss: 0.5703 | Val score: 0.5504\n",
      "====> Epoch 15 | Train time: 1922.3678 ms| End time: 1962.1203 ms | Train loss: 0.5193 | Val score: 0.5373\n",
      "====> Epoch 16 | Train time: 1898.3471 ms| End time: 1929.0757 ms | Train loss: 0.4910 | Val score: 0.5281\n",
      "====> Epoch 17 | Train time: 1402.9746 ms| End time: 1426.5666 ms | Train loss: 0.4688 | Val score: 0.5204\n",
      "====> Epoch 18 | Train time: 1959.3844 ms| End time: 2025.1112 ms | Train loss: 0.4498 | Val score: 0.5151\n",
      "====> Epoch 19 | Train time: 1715.2634 ms| End time: 1737.1893 ms | Train loss: 0.4344 | Val score: 0.5102\n",
      "====> Epoch 20 | Train time: 2138.0327 ms| End time: 2177.0427 ms | Train loss: 0.4216 | Val score: 0.5072\n",
      "====> Epoch 21 | Train time: 1429.0087 ms| End time: 1462.1654 ms | Train loss: 0.4102 | Val score: 0.5049\n",
      "====> Epoch 22 | Train time: 2134.3169 ms| End time: 2177.0952 ms | Train loss: 0.4001 | Val score: 0.5032\n",
      "====> Epoch 23 | Train time: 1973.9974 ms| End time: 2014.3809 ms | Train loss: 0.3909 | Val score: 0.5013\n",
      "====> Epoch 24 | Train time: 2120.6548 ms| End time: 2160.1884 ms | Train loss: 0.3829 | Val score: 0.4997\n",
      "====> Epoch 25 | Train time: 1938.4825 ms| End time: 1961.7922 ms | Train loss: 0.3760 | Val score: 0.4983\n",
      "====> Epoch 26 | Train time: 2532.3164 ms| End time: 2579.5214 ms | Train loss: 0.3700 | Val score: 0.4972\n",
      "====> Epoch 27 | Train time: 1815.7570 ms| End time: 1839.8511 ms | Train loss: 0.3649 | Val score: 0.4963\n",
      "====> Epoch 28 | Train time: 2023.9553 ms| End time: 2071.6457 ms | Train loss: 0.3603 | Val score: 0.4956\n",
      "====> Epoch 29 | Train time: 1940.9580 ms| End time: 1967.8657 ms | Train loss: 0.3564 | Val score: 0.4949\n",
      "====> Epoch 30 | Train time: 1810.1172 ms| End time: 1850.0111 ms | Train loss: 0.3528 | Val score: 0.4942\n",
      "====> Epoch 31 | Train time: 2105.8166 ms| End time: 2127.0659 ms | Train loss: 0.3496 | Val score: 0.4937\n",
      "====> Epoch 32 | Train time: 2034.8055 ms| End time: 2079.0598 ms | Train loss: 0.3468 | Val score: 0.4932\n",
      "====> Epoch 33 | Train time: 1928.5250 ms| End time: 1975.5998 ms | Train loss: 0.3442 | Val score: 0.4928\n",
      "====> Epoch 34 | Train time: 1971.2274 ms| End time: 2023.8161 ms | Train loss: 0.3419 | Val score: 0.4925\n",
      "====> Epoch 35 | Train time: 1853.7936 ms| End time: 1895.0531 ms | Train loss: 0.3398 | Val score: 0.4922\n",
      "====> Epoch 36 | Train time: 1866.6232 ms| End time: 1906.5468 ms | Train loss: 0.3380 | Val score: 0.4919\n",
      "====> Epoch 37 | Train time: 1827.7705 ms| End time: 1867.6193 ms | Train loss: 0.3363 | Val score: 0.4917\n",
      "====> Epoch 38 | Train time: 1819.2458 ms| End time: 1861.4047 ms | Train loss: 0.3348 | Val score: 0.4915\n",
      "====> Epoch 39 | Train time: 1673.9283 ms| End time: 1724.3369 ms | Train loss: 0.3335 | Val score: 0.4913\n",
      "====> Epoch 40 | Train time: 1859.1845 ms| End time: 1911.5779 ms | Train loss: 0.3323 | Val score: 0.4911\n",
      "====> Epoch 41 | Train time: 1824.7132 ms| End time: 1866.6945 ms | Train loss: 0.3312 | Val score: 0.4910\n",
      "====> Epoch 42 | Train time: 1794.7142 ms| End time: 1816.4306 ms | Train loss: 0.3302 | Val score: 0.4909\n",
      "====> Epoch 43 | Train time: 1560.9872 ms| End time: 1623.1225 ms | Train loss: 0.3293 | Val score: 0.4908\n",
      "====> Epoch 44 | Train time: 2004.0975 ms| End time: 2046.8581 ms | Train loss: 0.3285 | Val score: 0.4907\n",
      "====> Epoch 45 | Train time: 1762.7223 ms| End time: 1784.3170 ms | Train loss: 0.3278 | Val score: 0.4906\n",
      "====> Epoch 46 | Train time: 2120.1398 ms| End time: 2161.2806 ms | Train loss: 0.3272 | Val score: 0.4905\n",
      "====> Epoch 47 | Train time: 1989.4149 ms| End time: 2028.7762 ms | Train loss: 0.3266 | Val score: 0.4904\n",
      "====> Epoch 48 | Train time: 1875.2036 ms| End time: 1917.5925 ms | Train loss: 0.3261 | Val score: 0.4904\n",
      "====> Epoch 49 | Train time: 2012.6352 ms| End time: 2036.2532 ms | Train loss: 0.3256 | Val score: 0.4903\n",
      "====> Epoch 50 | Train time: 2025.5020 ms| End time: 2066.5989 ms | Train loss: 0.3251 | Val score: 0.4903\n"
     ]
    }
   ],
   "source": [
    "if args.train:\n",
    "    for epoch in range(1, args.epochs + 1):\n",
    "        init = time.time()\n",
    "        \n",
    "        #method 1 scheduler\n",
    "        scheduler.step()\n",
    "        \n",
    "        train_loss = train(epoch, model, optimizer)\n",
    "        end_train = time.time()\n",
    "        val_score = val(model, input_val, pad_index_val)\n",
    "        \n",
    "        #if epoch == 1:\n",
    "        #    current_best = val_score\n",
    "        #    save_model(model, epoch, val_score)\n",
    "        \n",
    "        #else:\n",
    "        #    if val_score < current_best:\n",
    "        #        current_best = val_score\n",
    "        #        save_model(model, epoch, val_score)\n",
    "        \n",
    "        #method 2 scheduler\n",
    "        #scheduler.step()\n",
    "        \n",
    "        end = time.time()\n",
    "        print('====> Epoch {} | Train time: {:.4f} ms| End time: {:.4f} ms | Train loss: {:.4f} | Val score: {:.4f}'.\n",
    "              format(epoch, (end_train-init)*1000, (end-init)*1000, train_loss, val_score))\n",
    "else:\n",
    "    load_model(model, args.model_name)"
   ]
  },
  {
   "cell_type": "markdown",
   "metadata": {
    "deletable": true,
    "editable": true
   },
   "source": [
    "# Predict"
   ]
  },
  {
   "cell_type": "code",
   "execution_count": 27,
   "metadata": {
    "collapsed": false,
    "deletable": true,
    "editable": true
   },
   "outputs": [
    {
     "name": "stdout",
     "output_type": "stream",
     "text": [
      "Predicting...\n",
      "Separating error for time and activity...\n",
      "Done!\n"
     ]
    }
   ],
   "source": [
    "if args.test:\n",
    "    input_test = Variable(torch.Tensor(input_test).float())\n",
    "    if args.cuda:\n",
    "        input_test = input_test.cuda()\n",
    "    \n",
    "    print('Predicting...')\n",
    "    recon_test = model(input_test)\n",
    "    \n",
    "    print('Separating error for time and activity...')\n",
    "    predicted_time, predicted_activity, true_time, true_activity = getError(recon_test, input_test, pad_index_test)\n",
    "    \n",
    "    print('Done!')"
   ]
  },
  {
   "cell_type": "markdown",
   "metadata": {
    "deletable": true,
    "editable": true
   },
   "source": [
    "# Evaluate"
   ]
  },
  {
   "cell_type": "code",
   "execution_count": 28,
   "metadata": {
    "collapsed": true,
    "deletable": true,
    "editable": true
   },
   "outputs": [],
   "source": [
    "def plotConfusionMaxtrix(error_df, threshold, variable='Activity'):\n",
    "    LABELS = ['Normal', 'Anomaly']\n",
    "    y_pred = [1 if e > threshold else 0 for e in error_df.Error.values]\n",
    "    \n",
    "    if variable == 'Activity':\n",
    "        matrix = confusion_matrix(error_df.ActivityLabel.astype('uint8'), y_pred)\n",
    "    else:\n",
    "        matrix = confusion_matrix(error_df.TimeLabel.astype('uint8'), y_pred)\n",
    "        \n",
    "    plt.figure(figsize=(7, 7))\n",
    "    sns.heatmap(matrix, xticklabels=LABELS, yticklabels=LABELS, annot=True, fmt=\"d\");\n",
    "    plt.title('Confusion matrix of {}'.format(variable))\n",
    "    plt.ylabel('True class')\n",
    "    plt.xlabel('Predicted class')\n",
    "    plt.show()"
   ]
  },
  {
   "cell_type": "code",
   "execution_count": 29,
   "metadata": {
    "collapsed": true,
    "deletable": true,
    "editable": true
   },
   "outputs": [],
   "source": [
    "def plotReconstructionError(error_df, variable='Activity'):\n",
    "    if variable == 'Activity':\n",
    "        normal_error_df = error_df[(error_df['ActivityLabel']== 0)]['Error']\n",
    "        anomaly_error_df = error_df[(error_df['ActivityLabel']== 1)]['Error']\n",
    "    else:\n",
    "        normal_error_df = error_df[(error_df['TimeLabel']== 0)]['Error']\n",
    "        anomaly_error_df = error_df[(error_df['TimeLabel']== 1)]['Error']\n",
    "\n",
    "    normal_error_df.hist()\n",
    "    plt.title('Reconstruction error of Normal cases')\n",
    "    plt.show()\n",
    "    \n",
    "    anomaly_error_df.hist()\n",
    "    plt.title('Reconstruction error of Anomaly cases')\n",
    "    plt.show()"
   ]
  },
  {
   "cell_type": "code",
   "execution_count": 30,
   "metadata": {
    "collapsed": true,
    "deletable": true,
    "editable": true
   },
   "outputs": [],
   "source": [
    "def evalScore(error_df, threshold, variable='Activity'):\n",
    "    y_pred = [1 if e > threshold else 0 for e in error_df.Error.values]\n",
    "    \n",
    "    if variable=='Activity':\n",
    "        y_true = error_df.ActivityLabel.astype('uint8')\n",
    "    else:\n",
    "        y_true = error_df.TimeLabel.astype('uint8')\n",
    "    \n",
    "    score = precision_recall_fscore_support(y_true, y_pred, average='weighted')\n",
    "    \n",
    "    print('-------Evaluation of {}-------'.format(variable))\n",
    "    print('\\n')\n",
    "    print('--Weighted Evaluation--')\n",
    "    print('Evaluation of {}'.format(variable))\n",
    "    print('Precision: {:.2f}'.format(score[0]))\n",
    "    print('Recall: {:.2f}'.format(score[1]))\n",
    "    print('Fscore: {:.2f}'.format(score[2]))\n",
    "    print('\\n')\n",
    "    score_1 = precision_recall_fscore_support(y_true, y_pred)\n",
    "    print('--Evaluation for each class--')\n",
    "    print('Normal')\n",
    "    print('Precision: {:.2f}'.format(score_1[0][0]))\n",
    "    print('Recall: {:.2f}'.format(score_1[1][0]))\n",
    "    print('Fscore: {:.2f}'.format(score_1[2][0]))\n",
    "    print('\\n')\n",
    "    print('Anomaly')\n",
    "    print('Precision: {:.2f}'.format(score_1[0][1]))\n",
    "    print('Recall: {:.2f}'.format(score_1[1][1]))\n",
    "    print('Fscore: {:.2f}'.format(score_1[2][1]))\n",
    "    #print('Support: {:.2f}'.format(score[3]))"
   ]
  },
  {
   "cell_type": "code",
   "execution_count": 55,
   "metadata": {
    "collapsed": true,
    "deletable": true,
    "editable": true
   },
   "outputs": [],
   "source": [
    "def plotDuration(predicted_normal_df, predicted_anomaly_df, activity, statistics_storage):\n",
    "    selected_normal_df = predicted_normal_df[predicted_normal_df['Activity']==activity]['CumDuration']\n",
    "    selected_anomaly_df = predicted_anomaly_df[predicted_anomaly_df['Activity']==activity]['CumDuration']\n",
    "    \n",
    "    plt.figure(figsize=(15, 5))\n",
    "    \n",
    "    plt.subplot(121)\n",
    "    selected_normal_df.hist()\n",
    "    plt.axvline(statistics_storage[activity]['mean'], color='w', linestyle='dashed', linewidth=2)\n",
    "    plt.axvline(statistics_storage[activity]['mean']+statistics_storage[activity]['std'], color='r', linestyle='dashed', linewidth=2)\n",
    "    plt.title('Normal detection: ' + activity)\n",
    "     \n",
    "    plt.subplot(122)\n",
    "    selected_anomaly_df.hist()\n",
    "    plt.axvline(statistics_storage[activity]['mean'], color='w', linestyle='dashed', linewidth=2)\n",
    "    plt.axvline(statistics_storage[activity]['mean']+statistics_storage[activity]['std'], color='r', linestyle='dashed', linewidth=2)\n",
    "    plt.title('Anomaly detection: ' + activity)\n",
    "    \n",
    "    plt.show()"
   ]
  },
  {
   "cell_type": "code",
   "execution_count": 32,
   "metadata": {
    "collapsed": true,
    "deletable": true,
    "editable": true
   },
   "outputs": [],
   "source": [
    "def plotFalseDuration(false_positive_df, false_negative_df, activity, statistics_storage):\n",
    "    selected_fp_df = false_positive_df[false_positive_df['Activity']==activity]['CumDuration']\n",
    "    selected_fn_df = false_negative_df[false_negative_df['Activity']==activity]['CumDuration']\n",
    "    \n",
    "    #false positive\n",
    "    plt.figure(figsize=(15, 5))\n",
    "    plt.subplot(121)\n",
    "    selected_fp_df.hist()\n",
    "    plt.axvline(statistics_storage[activity]['mean'], color='w', linestyle='dashed', linewidth=2)\n",
    "    plt.axvline(statistics_storage[activity]['mean']+statistics_storage[activity]['std'], color='r', linestyle='dashed', linewidth=2)\n",
    "    plt.title('False Positive: ' + activity)\n",
    "    \n",
    "    #false negative\n",
    "    plt.subplot(122)\n",
    "    selected_fn_df.hist()\n",
    "    plt.axvline(statistics_storage[activity]['mean'], color='w', linestyle='dashed', linewidth=2)\n",
    "    plt.axvline(statistics_storage[activity]['mean']+statistics_storage[activity]['std'], color='r', linestyle='dashed', linewidth=2)\n",
    "    plt.title('False Negative: ' + activity)\n",
    "    \n",
    "    plt.show()"
   ]
  },
  {
   "cell_type": "markdown",
   "metadata": {
    "deletable": true,
    "editable": true
   },
   "source": [
    "## Time"
   ]
  },
  {
   "cell_type": "code",
   "execution_count": 33,
   "metadata": {
    "collapsed": false,
    "deletable": true,
    "editable": true
   },
   "outputs": [
    {
     "name": "stderr",
     "output_type": "stream",
     "text": [
      "/home/hoang/miniconda2/envs/pydata/lib/python3.5/site-packages/pandas/core/indexing.py:517: SettingWithCopyWarning: \n",
      "A value is trying to be set on a copy of a slice from a DataFrame.\n",
      "Try using .loc[row_indexer,col_indexer] = value instead\n",
      "\n",
      "See the caveats in the documentation: http://pandas.pydata.org/pandas-docs/stable/indexing.html#indexing-view-versus-copy\n",
      "  self.obj[item] = s\n"
     ]
    }
   ],
   "source": [
    "#Fix predicted time\n",
    "time_df = pd.DataFrame({'CaseID': caseid_test,\n",
    "                        'PredictedTime': predicted_time})\n",
    "groupByCase = time_df.groupby(['CaseID'])\n",
    "fixed_time_df = pd.DataFrame(columns=list(time_df))\n",
    "\n",
    "for case, group in groupByCase:\n",
    "    group.iloc[0, 1] = 0\n",
    "    fixed_time_df = fixed_time_df.append(group)"
   ]
  },
  {
   "cell_type": "code",
   "execution_count": 34,
   "metadata": {
    "collapsed": true,
    "deletable": true,
    "editable": true
   },
   "outputs": [],
   "source": [
    "fixed_predicted_time = fixed_time_df['PredictedTime']"
   ]
  },
  {
   "cell_type": "code",
   "execution_count": 35,
   "metadata": {
    "collapsed": false,
    "deletable": true,
    "editable": true
   },
   "outputs": [
    {
     "data": {
      "text/html": [
       "<div>\n",
       "<style>\n",
       "    .dataframe thead tr:only-child th {\n",
       "        text-align: right;\n",
       "    }\n",
       "\n",
       "    .dataframe thead th {\n",
       "        text-align: left;\n",
       "    }\n",
       "\n",
       "    .dataframe tbody tr th {\n",
       "        vertical-align: top;\n",
       "    }\n",
       "</style>\n",
       "<table border=\"1\" class=\"dataframe\">\n",
       "  <thead>\n",
       "    <tr style=\"text-align: right;\">\n",
       "      <th></th>\n",
       "      <th>CaseID</th>\n",
       "      <th>PredictedTime</th>\n",
       "    </tr>\n",
       "  </thead>\n",
       "  <tbody>\n",
       "    <tr>\n",
       "      <th>5589</th>\n",
       "      <td>1190</td>\n",
       "      <td>0.000000</td>\n",
       "    </tr>\n",
       "    <tr>\n",
       "      <th>5590</th>\n",
       "      <td>1190</td>\n",
       "      <td>0.055440</td>\n",
       "    </tr>\n",
       "    <tr>\n",
       "      <th>5591</th>\n",
       "      <td>1191</td>\n",
       "      <td>0.000000</td>\n",
       "    </tr>\n",
       "    <tr>\n",
       "      <th>5592</th>\n",
       "      <td>1191</td>\n",
       "      <td>0.055798</td>\n",
       "    </tr>\n",
       "    <tr>\n",
       "      <th>5593</th>\n",
       "      <td>1192</td>\n",
       "      <td>0.000000</td>\n",
       "    </tr>\n",
       "  </tbody>\n",
       "</table>\n",
       "</div>"
      ],
      "text/plain": [
       "     CaseID  PredictedTime\n",
       "5589   1190       0.000000\n",
       "5590   1190       0.055440\n",
       "5591   1191       0.000000\n",
       "5592   1191       0.055798\n",
       "5593   1192       0.000000"
      ]
     },
     "execution_count": 35,
     "metadata": {},
     "output_type": "execute_result"
    }
   ],
   "source": [
    "fixed_time_df.head()"
   ]
  },
  {
   "cell_type": "code",
   "execution_count": 36,
   "metadata": {
    "collapsed": false,
    "deletable": true,
    "editable": true
   },
   "outputs": [],
   "source": [
    "error = np.abs(true_time - fixed_predicted_time)\n",
    "error_time_df = pd.DataFrame({'Error': error,\n",
    "                              'TimeLabel': time_label_test})"
   ]
  },
  {
   "cell_type": "code",
   "execution_count": 37,
   "metadata": {
    "collapsed": false,
    "deletable": true,
    "editable": true
   },
   "outputs": [
    {
     "data": {
      "image/png": "[encoded data removed]",
      "text/plain": [
       "<matplotlib.figure.Figure at 0x7fe605e7df60>"
      ]
     },
     "metadata": {},
     "output_type": "display_data"
    }
   ],
   "source": [
    "precision, recall, th = precision_recall_curve(error_time_df.TimeLabel, error_time_df.Error, pos_label=1)\n",
    "plt.figure(figsize=(20, 5))\n",
    "plt.plot(recall, precision, 'b', label='Precision-Recall curve')\n",
    "plt.title('Recall vs Precision')\n",
    "plt.xlabel('Recall')\n",
    "plt.ylabel('Precision')\n",
    "plt.show()"
   ]
  },
  {
   "cell_type": "code",
   "execution_count": 38,
   "metadata": {
    "collapsed": false,
    "deletable": true,
    "editable": true
   },
   "outputs": [
    {
     "name": "stdout",
     "output_type": "stream",
     "text": [
      "Threshold of Time: 0.029815925129226577\n"
     ]
    }
   ],
   "source": [
    "time_threshold = np.mean(error_time_df['Error'])\n",
    "print('Threshold of Time: {}'.format(time_threshold))"
   ]
  },
  {
   "cell_type": "code",
   "execution_count": 39,
   "metadata": {
    "collapsed": false,
    "deletable": true,
    "editable": true
   },
   "outputs": [
    {
     "data": {
      "image/png": "[encoded data removed]",
      "text/plain": [
       "<matplotlib.figure.Figure at 0x7fe605e7da20>"
      ]
     },
     "metadata": {},
     "output_type": "display_data"
    },
    {
     "data": {
      "image/png": "[encoded data removed]",
      "text/plain": [
       "<matplotlib.figure.Figure at 0x7fe601e489e8>"
      ]
     },
     "metadata": {},
     "output_type": "display_data"
    }
   ],
   "source": [
    "plotReconstructionError(error_time_df, variable='Time')"
   ]
  },
  {
   "cell_type": "code",
   "execution_count": 40,
   "metadata": {
    "collapsed": false,
    "deletable": true,
    "editable": true
   },
   "outputs": [
    {
     "data": {
      "image/png": "[encoded data removed]",
      "text/plain": [
       "<matplotlib.figure.Figure at 0x7fe601de27b8>"
      ]
     },
     "metadata": {},
     "output_type": "display_data"
    }
   ],
   "source": [
    "plotConfusionMaxtrix(error_time_df, threshold=time_threshold, variable='Time')"
   ]
  },
  {
   "cell_type": "code",
   "execution_count": 41,
   "metadata": {
    "collapsed": false,
    "deletable": true,
    "editable": true
   },
   "outputs": [
    {
     "name": "stdout",
     "output_type": "stream",
     "text": [
      "-------Evaluation of Time-------\n",
      "\n",
      "\n",
      "--Weighted Evaluation--\n",
      "Evaluation of Time\n",
      "Precision: 0.84\n",
      "Recall: 0.57\n",
      "Fscore: 0.66\n",
      "\n",
      "\n",
      "--Evaluation for each class--\n",
      "Normal\n",
      "Precision: 0.91\n",
      "Recall: 0.59\n",
      "Fscore: 0.71\n",
      "\n",
      "\n",
      "Anomaly\n",
      "Precision: 0.10\n",
      "Recall: 0.43\n",
      "Fscore: 0.16\n"
     ]
    }
   ],
   "source": [
    "evalScore(error_time_df, threshold=time_threshold, variable='Time')"
   ]
  },
  {
   "cell_type": "code",
   "execution_count": 42,
   "metadata": {
    "collapsed": false,
    "deletable": true,
    "editable": true
   },
   "outputs": [
    {
     "data": {
      "image/png": "[encoded data removed]",
      "text/plain": [
       "<matplotlib.figure.Figure at 0x7fe601de2978>"
      ]
     },
     "metadata": {},
     "output_type": "display_data"
    }
   ],
   "source": [
    "fpr, tpr, thresholds = roc_curve(error_time_df.TimeLabel, error_time_df.Error, pos_label=1)\n",
    "roc_auc = auc(fpr, tpr)\n",
    "\n",
    "plt.title('Receiver Operating Characteristic')\n",
    "plt.plot(fpr, tpr, label='AUC = %0.4f'% roc_auc)\n",
    "plt.legend(loc='lower right')\n",
    "plt.plot([0,1],[0,1],'r--')\n",
    "plt.xlim([-0.001, 1])\n",
    "plt.ylim([0, 1.001])\n",
    "plt.ylabel('True Positive Rate')\n",
    "plt.xlabel('False Positive Rate')\n",
    "plt.show();"
   ]
  },
  {
   "cell_type": "code",
   "execution_count": 43,
   "metadata": {
    "collapsed": false,
    "deletable": true,
    "editable": true
   },
   "outputs": [],
   "source": [
    "#get submission\n",
    "inverse_normalized_time = [x*(max_value-min_value)+min_value for x in fixed_predicted_time]\n",
    "predicted_time_label_test = [1 if e > time_threshold else 0 for e in error_time_df.Error.values]\n",
    "\n",
    "submission_time = pd.DataFrame({'CumDuration': true_cumduration_test,\n",
    "                                'AnomalousCumDuration': anomalous_cumduration_test,\n",
    "                                'PredictedCumDuration': inverse_normalized_time,\n",
    "                                'TimeLabel': time_label_test,\n",
    "                                'PredictedTimeLabel': predicted_time_label_test,\n",
    "                                'Activity': true_activity_test})"
   ]
  },
  {
   "cell_type": "code",
   "execution_count": 44,
   "metadata": {
    "collapsed": false,
    "deletable": true,
    "editable": true
   },
   "outputs": [
    {
     "data": {
      "text/html": [
       "<div>\n",
       "<style>\n",
       "    .dataframe thead tr:only-child th {\n",
       "        text-align: right;\n",
       "    }\n",
       "\n",
       "    .dataframe thead th {\n",
       "        text-align: left;\n",
       "    }\n",
       "\n",
       "    .dataframe tbody tr th {\n",
       "        vertical-align: top;\n",
       "    }\n",
       "</style>\n",
       "<table border=\"1\" class=\"dataframe\">\n",
       "  <thead>\n",
       "    <tr style=\"text-align: right;\">\n",
       "      <th></th>\n",
       "      <th>Activity</th>\n",
       "      <th>AnomalousCumDuration</th>\n",
       "      <th>CumDuration</th>\n",
       "      <th>PredictedCumDuration</th>\n",
       "      <th>PredictedTimeLabel</th>\n",
       "      <th>TimeLabel</th>\n",
       "    </tr>\n",
       "  </thead>\n",
       "  <tbody>\n",
       "    <tr>\n",
       "      <th>5589</th>\n",
       "      <td>Accepted-In Progress</td>\n",
       "      <td>0.0</td>\n",
       "      <td>0.0</td>\n",
       "      <td>0.000000e+00</td>\n",
       "      <td>0</td>\n",
       "      <td>0</td>\n",
       "    </tr>\n",
       "    <tr>\n",
       "      <th>5590</th>\n",
       "      <td>Completed-Closed</td>\n",
       "      <td>3021109.0</td>\n",
       "      <td>3021109.0</td>\n",
       "      <td>1.080084e+07</td>\n",
       "      <td>1</td>\n",
       "      <td>0</td>\n",
       "    </tr>\n",
       "    <tr>\n",
       "      <th>5591</th>\n",
       "      <td>Accepted-In Progress</td>\n",
       "      <td>0.0</td>\n",
       "      <td>0.0</td>\n",
       "      <td>0.000000e+00</td>\n",
       "      <td>0</td>\n",
       "      <td>0</td>\n",
       "    </tr>\n",
       "    <tr>\n",
       "      <th>5592</th>\n",
       "      <td>Completed-Closed</td>\n",
       "      <td>4212961.0</td>\n",
       "      <td>4212961.0</td>\n",
       "      <td>1.087053e+07</td>\n",
       "      <td>1</td>\n",
       "      <td>0</td>\n",
       "    </tr>\n",
       "    <tr>\n",
       "      <th>5593</th>\n",
       "      <td>Accepted-In Progress</td>\n",
       "      <td>0.0</td>\n",
       "      <td>0.0</td>\n",
       "      <td>0.000000e+00</td>\n",
       "      <td>0</td>\n",
       "      <td>0</td>\n",
       "    </tr>\n",
       "  </tbody>\n",
       "</table>\n",
       "</div>"
      ],
      "text/plain": [
       "                  Activity  AnomalousCumDuration  CumDuration  \\\n",
       "5589  Accepted-In Progress                   0.0          0.0   \n",
       "5590      Completed-Closed             3021109.0    3021109.0   \n",
       "5591  Accepted-In Progress                   0.0          0.0   \n",
       "5592      Completed-Closed             4212961.0    4212961.0   \n",
       "5593  Accepted-In Progress                   0.0          0.0   \n",
       "\n",
       "      PredictedCumDuration  PredictedTimeLabel TimeLabel  \n",
       "5589          0.000000e+00                   0         0  \n",
       "5590          1.080084e+07                   1         0  \n",
       "5591          0.000000e+00                   0         0  \n",
       "5592          1.087053e+07                   1         0  \n",
       "5593          0.000000e+00                   0         0  "
      ]
     },
     "execution_count": 44,
     "metadata": {},
     "output_type": "execute_result"
    }
   ],
   "source": [
    "submission_time.head()"
   ]
  },
  {
   "cell_type": "code",
   "execution_count": 56,
   "metadata": {
    "collapsed": false,
    "deletable": true,
    "editable": true
   },
   "outputs": [
    {
     "data": {
      "image/png": "[encoded data removed]",
      "text/plain": [
       "<matplotlib.figure.Figure at 0x7fe600451ba8>"
      ]
     },
     "metadata": {},
     "output_type": "display_data"
    },
    {
     "data": {
      "image/png": "[encoded data removed]",
      "text/plain": [
       "<matplotlib.figure.Figure at 0x7fe601fe1940>"
      ]
     },
     "metadata": {},
     "output_type": "display_data"
    },
    {
     "data": {
      "image/png": "[encoded data removed]",
      "text/plain": [
       "<matplotlib.figure.Figure at 0x7fe600342128>"
      ]
     },
     "metadata": {},
     "output_type": "display_data"
    },
    {
     "data": {
      "image/png": "[encoded data removed]",
      "text/plain": [
       "<matplotlib.figure.Figure at 0x7fe6001c6400>"
      ]
     },
     "metadata": {},
     "output_type": "display_data"
    },
    {
     "data": {
      "image/png": "[encoded data removed]",
      "text/plain": [
       "<matplotlib.figure.Figure at 0x7fe6002f0390>"
      ]
     },
     "metadata": {},
     "output_type": "display_data"
    }
   ],
   "source": [
    "predicted_normal_df = submission_time[(submission_time['PredictedTimeLabel']== 0)]\n",
    "predicted_anomaly_df = submission_time[(submission_time['PredictedTimeLabel']== 1)]\n",
    "\n",
    "act_list = submission_time['Activity'].unique()\n",
    "\n",
    "for act in act_list:\n",
    "    plotDuration(predicted_normal_df, predicted_anomaly_df, act, statistics_storage)"
   ]
  },
  {
   "cell_type": "code",
   "execution_count": 46,
   "metadata": {
    "collapsed": false,
    "deletable": true,
    "editable": true
   },
   "outputs": [
    {
     "data": {
      "image/png": "[encoded data removed]",
      "text/plain": [
       "<matplotlib.figure.Figure at 0x7fe600275e48>"
      ]
     },
     "metadata": {},
     "output_type": "display_data"
    },
    {
     "data": {
      "image/png": "[encoded data removed]",
      "text/plain": [
       "<matplotlib.figure.Figure at 0x7fe601ebc9b0>"
      ]
     },
     "metadata": {},
     "output_type": "display_data"
    },
    {
     "data": {
      "image/png": "[encoded data removed]",
      "text/plain": [
       "<matplotlib.figure.Figure at 0x7fe601d53240>"
      ]
     },
     "metadata": {},
     "output_type": "display_data"
    },
    {
     "data": {
      "image/png": "[encoded data removed]",
      "text/plain": [
       "<matplotlib.figure.Figure at 0x7fe601d553c8>"
      ]
     },
     "metadata": {},
     "output_type": "display_data"
    },
    {
     "data": {
      "image/png": "[encoded data removed]",
      "text/plain": [
       "<matplotlib.figure.Figure at 0x7fe6004d5f60>"
      ]
     },
     "metadata": {},
     "output_type": "display_data"
    }
   ],
   "source": [
    "false_positive_df = submission_time[(submission_time['PredictedTimeLabel']== 1)&(submission_time['TimeLabel']== 0)]\n",
    "false_negative_df = submission_time[(submission_time['PredictedTimeLabel']== 0)&(submission_time['TimeLabel']== 1)]\n",
    "\n",
    "for act in act_list:\n",
    "    plotFalseDuration(false_positive_df, false_negative_df, act, statistics_storage)"
   ]
  },
  {
   "cell_type": "markdown",
   "metadata": {
    "deletable": true,
    "editable": true
   },
   "source": [
    "## Activity"
   ]
  },
  {
   "cell_type": "code",
   "execution_count": 47,
   "metadata": {
    "collapsed": true,
    "deletable": true,
    "editable": true
   },
   "outputs": [],
   "source": [
    "error = np.mean(np.power(true_activity - predicted_activity, 2), axis = 1)\n",
    "error_activity_df = pd.DataFrame({'Error': error,\n",
    "                                  'ActivityLabel': activity_label_test})"
   ]
  },
  {
   "cell_type": "code",
   "execution_count": 48,
   "metadata": {
    "collapsed": false,
    "deletable": true,
    "editable": true
   },
   "outputs": [
    {
     "data": {
      "text/html": [
       "<div>\n",
       "<style>\n",
       "    .dataframe thead tr:only-child th {\n",
       "        text-align: right;\n",
       "    }\n",
       "\n",
       "    .dataframe thead th {\n",
       "        text-align: left;\n",
       "    }\n",
       "\n",
       "    .dataframe tbody tr th {\n",
       "        vertical-align: top;\n",
       "    }\n",
       "</style>\n",
       "<table border=\"1\" class=\"dataframe\">\n",
       "  <thead>\n",
       "    <tr style=\"text-align: right;\">\n",
       "      <th></th>\n",
       "      <th>ActivityLabel</th>\n",
       "      <th>Error</th>\n",
       "    </tr>\n",
       "  </thead>\n",
       "  <tbody>\n",
       "    <tr>\n",
       "      <th>5589</th>\n",
       "      <td>0</td>\n",
       "      <td>0.078944</td>\n",
       "    </tr>\n",
       "    <tr>\n",
       "      <th>5590</th>\n",
       "      <td>0</td>\n",
       "      <td>0.079082</td>\n",
       "    </tr>\n",
       "    <tr>\n",
       "      <th>5591</th>\n",
       "      <td>0</td>\n",
       "      <td>0.078944</td>\n",
       "    </tr>\n",
       "    <tr>\n",
       "      <th>5592</th>\n",
       "      <td>0</td>\n",
       "      <td>0.079083</td>\n",
       "    </tr>\n",
       "    <tr>\n",
       "      <th>5593</th>\n",
       "      <td>0</td>\n",
       "      <td>0.078944</td>\n",
       "    </tr>\n",
       "  </tbody>\n",
       "</table>\n",
       "</div>"
      ],
      "text/plain": [
       "      ActivityLabel     Error\n",
       "5589              0  0.078944\n",
       "5590              0  0.079082\n",
       "5591              0  0.078944\n",
       "5592              0  0.079083\n",
       "5593              0  0.078944"
      ]
     },
     "execution_count": 48,
     "metadata": {},
     "output_type": "execute_result"
    }
   ],
   "source": [
    "error_activity_df.head()"
   ]
  },
  {
   "cell_type": "code",
   "execution_count": 49,
   "metadata": {
    "collapsed": false,
    "deletable": true,
    "editable": true
   },
   "outputs": [
    {
     "data": {
      "image/png": "[encoded data removed]",
      "text/plain": [
       "<matplotlib.figure.Figure at 0x7fe6002fac18>"
      ]
     },
     "metadata": {},
     "output_type": "display_data"
    }
   ],
   "source": [
    "precision, recall, th = precision_recall_curve(error_activity_df.ActivityLabel, error_activity_df.Error, pos_label=1)\n",
    "plt.figure(figsize=(20, 5))\n",
    "plt.plot(recall, precision, 'b', label='Precision-Recall curve')\n",
    "plt.title('Recall vs Precision')\n",
    "plt.xlabel('Recall')\n",
    "plt.ylabel('Precision')\n",
    "plt.show()"
   ]
  },
  {
   "cell_type": "code",
   "execution_count": 50,
   "metadata": {
    "collapsed": false,
    "deletable": true,
    "editable": true
   },
   "outputs": [
    {
     "name": "stdout",
     "output_type": "stream",
     "text": [
      "Threshold of Activity: 0.08477730957334259\n"
     ]
    }
   ],
   "source": [
    "activity_threshold = np.mean(error_activity_df['Error'])\n",
    "print('Threshold of Activity: {}'.format(activity_threshold))"
   ]
  },
  {
   "cell_type": "code",
   "execution_count": 51,
   "metadata": {
    "collapsed": false,
    "deletable": true,
    "editable": true
   },
   "outputs": [
    {
     "data": {
      "image/png": "[encoded data removed]",
      "text/plain": [
       "<matplotlib.figure.Figure at 0x7fe60023ac18>"
      ]
     },
     "metadata": {},
     "output_type": "display_data"
    }
   ],
   "source": [
    "plotConfusionMaxtrix(error_activity_df, activity_threshold, variable='Activity')"
   ]
  },
  {
   "cell_type": "code",
   "execution_count": 52,
   "metadata": {
    "collapsed": false,
    "deletable": true,
    "editable": true
   },
   "outputs": [
    {
     "data": {
      "image/png": "[encoded data removed]",
      "text/plain": [
       "<matplotlib.figure.Figure at 0x7fe601e9c2b0>"
      ]
     },
     "metadata": {},
     "output_type": "display_data"
    },
    {
     "data": {
      "image/png": "[encoded data removed]",
      "text/plain": [
       "<matplotlib.figure.Figure at 0x7fe6004e32e8>"
      ]
     },
     "metadata": {},
     "output_type": "display_data"
    }
   ],
   "source": [
    "plotReconstructionError(error_activity_df)"
   ]
  },
  {
   "cell_type": "code",
   "execution_count": 53,
   "metadata": {
    "collapsed": false,
    "deletable": true,
    "editable": true
   },
   "outputs": [
    {
     "name": "stdout",
     "output_type": "stream",
     "text": [
      "-------Evaluation of Activity-------\n",
      "\n",
      "\n",
      "--Weighted Evaluation--\n",
      "Evaluation of Activity\n",
      "Precision: 0.91\n",
      "Recall: 0.91\n",
      "Fscore: 0.91\n",
      "\n",
      "\n",
      "--Evaluation for each class--\n",
      "Normal\n",
      "Precision: 0.94\n",
      "Recall: 0.97\n",
      "Fscore: 0.95\n",
      "\n",
      "\n",
      "Anomaly\n",
      "Precision: 0.64\n",
      "Recall: 0.49\n",
      "Fscore: 0.56\n"
     ]
    }
   ],
   "source": [
    "evalScore(error_activity_df, 0.12, variable='Activity')"
   ]
  },
  {
   "cell_type": "code",
   "execution_count": 54,
   "metadata": {
    "collapsed": false,
    "deletable": true,
    "editable": true
   },
   "outputs": [
    {
     "data": {
      "image/png": "[encoded data removed]",
      "text/plain": [
       "<matplotlib.figure.Figure at 0x7fe601d6ada0>"
      ]
     },
     "metadata": {},
     "output_type": "display_data"
    }
   ],
   "source": [
    "fpr, tpr, thresholds = roc_curve(error_activity_df.ActivityLabel, error_activity_df.Error, pos_label=1)\n",
    "roc_auc = auc(fpr, tpr)\n",
    "\n",
    "plt.title('Receiver Operating Characteristic')\n",
    "plt.plot(fpr, tpr, label='AUC = %0.4f'% roc_auc)\n",
    "plt.legend(loc='lower right')\n",
    "plt.plot([0,1],[0,1],'r--')\n",
    "plt.xlim([-0.001, 1])\n",
    "plt.ylim([0, 1.001])\n",
    "plt.ylabel('True Positive Rate')\n",
    "plt.xlabel('False Positive Rate')\n",
    "plt.show();"
   ]
  },
  {
   "cell_type": "code",
   "execution_count": null,
   "metadata": {
    "collapsed": true,
    "deletable": true,
    "editable": true
   },
   "outputs": [],
   "source": []
  },
  {
   "cell_type": "code",
   "execution_count": null,
   "metadata": {
    "collapsed": true,
    "deletable": true,
    "editable": true
   },
   "outputs": [],
   "source": []
  },
  {
   "cell_type": "code",
   "execution_count": null,
   "metadata": {
    "collapsed": true,
    "deletable": true,
    "editable": true
   },
   "outputs": [],
   "source": []
  }
 ],
 "metadata": {
  "kernelspec": {
   "display_name": "Python 3",
   "language": "python",
   "name": "python3"
  },
  "language_info": {
   "codemirror_mode": {
    "name": "ipython",
    "version": 3
   },
   "file_extension": ".py",
   "mimetype": "text/x-python",
   "name": "python",
   "nbconvert_exporter": "python",
   "pygments_lexer": "ipython3",
   "version": "3.5.2"
  },
  "toc": {
   "colors": {
    "hover_highlight": "#DAA520",
    "running_highlight": "#FF0000",
    "selected_highlight": "#FFD700"
   },
   "moveMenuLeft": true,
   "nav_menu": {
    "height": "210px",
    "width": "252px"
   },
   "navigate_menu": true,
   "number_sections": true,
   "sideBar": true,
   "threshold": 4,
   "toc_cell": false,
   "toc_section_display": "block",
   "toc_window_display": false
  }
 },
 "nbformat": 4,
 "nbformat_minor": 2
}
